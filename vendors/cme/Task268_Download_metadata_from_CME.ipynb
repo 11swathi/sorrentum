{
 "cells": [
  {
   "cell_type": "markdown",
   "metadata": {},
   "source": [
    "# Imports"
   ]
  },
  {
   "cell_type": "code",
   "execution_count": null,
   "metadata": {},
   "outputs": [],
   "source": [
    "%load_ext autoreload\n",
    "%autoreload 2\n",
    "\n",
    "import time\n",
    "\n",
    "import numpy as np\n",
    "import pandas as pd\n",
    "import pickle\n",
    "\n",
    "from tqdm.autonotebook import tqdm\n",
    "\n",
    "# import oil.utils.Task268_download_metadata_from_CME as t268"
   ]
  },
  {
   "cell_type": "code",
   "execution_count": null,
   "metadata": {},
   "outputs": [],
   "source": [
    "import logging\n",
    "\n",
    "_log = logging.getLogger()\n",
    "_log.setLevel(logging.INFO)"
   ]
  },
  {
   "cell_type": "code",
   "execution_count": null,
   "metadata": {},
   "outputs": [],
   "source": [
    "# import oil.utils.helpers as helpers\n",
    "# helpers.init_logger(logging.INFO)"
   ]
  },
  {
   "cell_type": "code",
   "execution_count": null,
   "metadata": {},
   "outputs": [],
   "source": [
    "from pylab import rcParams\n",
    "rcParams['figure.figsize'] = (20, 5)"
   ]
  },
  {
   "cell_type": "code",
   "execution_count": null,
   "metadata": {},
   "outputs": [],
   "source": [
    "# import infra.helpers.telegram_notify.telegram_notify as tg\n",
    "\n",
    "# tgn = tg.TelegramNotify()"
   ]
  },
  {
   "cell_type": "code",
   "execution_count": null,
   "metadata": {},
   "outputs": [],
   "source": [
    "def get_squash_cols(df):\n",
    "    squash_cols = []\n",
    "    for col_name in df.columns:\n",
    "        if isinstance(col_name, int):\n",
    "            if col_name > 0:\n",
    "                squash_cols.append(col_name)\n",
    "    return squash_cols\n",
    "\n",
    "\n",
    "def squash_cols(df, cols):\n",
    "    if cols == [1]:\n",
    "        squashed_series = df[1]\n",
    "    else:\n",
    "        squashed_series = df[cols].fillna('').apply(\" \".join, axis=1)\n",
    "    return squashed_series\n",
    "\n",
    "\n",
    "def add_links_as_rows(df):\n",
    "    link_df = df[['link_1']].dropna()\n",
    "    link_df.columns = [1]\n",
    "    series = pd.concat([df, link_df.rename('{} Link'.format)])[[1]]\n",
    "    return series\n",
    "\n",
    "\n",
    "def get_row(df, idx):\n",
    "    df = df.copy()\n",
    "    df[1] = squash_cols(df, get_squash_cols(df))\n",
    "    df = df[[1, 'link_1']]\n",
    "    tr_df = add_links_as_rows(df).T\n",
    "    tr_df.index = [idx]\n",
    "    return tr_df\n",
    "\n",
    "\n",
    "def rename_duplicate_cols(df):\n",
    "    df = df.copy()\n",
    "    dupe_mask = df.columns.duplicated(keep='first')\n",
    "    duped_col_names = [\n",
    "        f\"{col_name}_{i}\" for i, col_name in enumerate(df.columns[dupe_mask])\n",
    "    ]\n",
    "    new_index = np.array(df.columns)\n",
    "    new_index[dupe_mask] = duped_col_names\n",
    "    df.columns = new_index\n",
    "    return df"
   ]
  },
  {
   "cell_type": "markdown",
   "metadata": {},
   "source": [
    "# Read csv"
   ]
  },
  {
   "cell_type": "code",
   "execution_count": null,
   "metadata": {},
   "outputs": [],
   "source": [
    "pse = pd.read_csv('/data/prices/product_slate_export_20190904.csv')"
   ]
  },
  {
   "cell_type": "code",
   "execution_count": null,
   "metadata": {},
   "outputs": [],
   "source": [
    "pse.head()"
   ]
  },
  {
   "cell_type": "code",
   "execution_count": null,
   "metadata": {},
   "outputs": [],
   "source": [
    "pse.shape"
   ]
  },
  {
   "cell_type": "markdown",
   "metadata": {},
   "source": [
    "# Extract HTMLs"
   ]
  },
  {
   "cell_type": "code",
   "execution_count": null,
   "metadata": {},
   "outputs": [],
   "source": [
    "name_link = pse[['Product Name', 'product_link']].copy()"
   ]
  },
  {
   "cell_type": "code",
   "execution_count": null,
   "metadata": {},
   "outputs": [],
   "source": [
    "name_link = name_link.rename(columns={\n",
    "    'Product Name': 'product_name'\n",
    "}).set_index('product_name')"
   ]
  },
  {
   "cell_type": "code",
   "execution_count": null,
   "metadata": {},
   "outputs": [],
   "source": [
    "name_link.head()"
   ]
  },
  {
   "cell_type": "code",
   "execution_count": null,
   "metadata": {},
   "outputs": [],
   "source": [
    "name_link.shape"
   ]
  },
  {
   "cell_type": "code",
   "execution_count": null,
   "metadata": {},
   "outputs": [],
   "source": [
    "np.unique(name_link.index).shape"
   ]
  },
  {
   "cell_type": "markdown",
   "metadata": {},
   "source": [
    "# Load"
   ]
  },
  {
   "cell_type": "code",
   "execution_count": null,
   "metadata": {},
   "outputs": [],
   "source": [
    "product_names_htmls = {}\n",
    "for name, link in tqdm(name_link.iterrows(), total=len(name_link)):\n",
    "    time.sleep(1)\n",
    "    product_names_htmls[name] = t268.load_html_to_df(link[0])"
   ]
  },
  {
   "cell_type": "code",
   "execution_count": null,
   "metadata": {},
   "outputs": [],
   "source": [
    "# tgn.notify('Loaded htmls')"
   ]
  },
  {
   "cell_type": "code",
   "execution_count": null,
   "metadata": {},
   "outputs": [],
   "source": [
    "product_names_htmls['Eurodollar Futures']"
   ]
  },
  {
   "cell_type": "markdown",
   "metadata": {},
   "source": [
    "# Dump"
   ]
  },
  {
   "cell_type": "code",
   "execution_count": null,
   "metadata": {},
   "outputs": [],
   "source": [
    "with open('/data/prices/Task268_contract_specs_20190904.pkl', 'wb') as fout:\n",
    "    pickle.dump(product_names_htmls, fout)"
   ]
  },
  {
   "cell_type": "markdown",
   "metadata": {},
   "source": [
    "# Add contract specs as rows"
   ]
  },
  {
   "cell_type": "markdown",
   "metadata": {},
   "source": [
    "## Read the data"
   ]
  },
  {
   "cell_type": "code",
   "execution_count": null,
   "metadata": {},
   "outputs": [],
   "source": [
    "pse = pd.read_csv('/data/prices/product_slate_export_20190904.csv')"
   ]
  },
  {
   "cell_type": "code",
   "execution_count": null,
   "metadata": {},
   "outputs": [],
   "source": [
    "with open('/data/prices/Task268_contract_specs_20190904.pkl', 'rb') as fin:\n",
    "    product_names_htmls = pickle.load(fin)"
   ]
  },
  {
   "cell_type": "code",
   "execution_count": null,
   "metadata": {},
   "outputs": [],
   "source": [
    "pse.head()"
   ]
  },
  {
   "cell_type": "code",
   "execution_count": null,
   "metadata": {},
   "outputs": [],
   "source": [
    "product_names_htmls['Eurodollar Futures']"
   ]
  },
  {
   "cell_type": "markdown",
   "metadata": {},
   "source": [
    "## Investigate the data"
   ]
  },
  {
   "cell_type": "code",
   "execution_count": null,
   "metadata": {},
   "outputs": [],
   "source": [
    "pd.Series([\n",
    "    contract_spec.shape[0] if contract_spec is not None else None\n",
    "    for contract_spec in product_names_htmls.values()\n",
    "]).value_counts()"
   ]
  },
  {
   "cell_type": "code",
   "execution_count": null,
   "metadata": {},
   "outputs": [],
   "source": [
    "pd.Series([\n",
    "    contract_spec.shape[1] if contract_spec is not None else None\n",
    "    for contract_spec in product_names_htmls.values()\n",
    "]).value_counts()"
   ]
  },
  {
   "cell_type": "code",
   "execution_count": null,
   "metadata": {},
   "outputs": [],
   "source": [
    "for contract_spec in product_names_htmls.values():\n",
    "    if contract_spec is not None:\n",
    "        if contract_spec.shape[1] > 3:\n",
    "            display(contract_spec)"
   ]
  },
  {
   "cell_type": "code",
   "execution_count": null,
   "metadata": {},
   "outputs": [],
   "source": [
    "for contract_spec in product_names_htmls.values():\n",
    "    if contract_spec is not None:\n",
    "        if contract_spec.shape[1] == 5:\n",
    "            display(contract_spec)"
   ]
  },
  {
   "cell_type": "code",
   "execution_count": null,
   "metadata": {},
   "outputs": [],
   "source": [
    "sum([\n",
    "    'link_1' in contract_spec.columns if contract_spec is not None else True\n",
    "    for contract_spec in product_names_htmls.values()\n",
    "])"
   ]
  },
  {
   "cell_type": "code",
   "execution_count": null,
   "metadata": {},
   "outputs": [],
   "source": [
    "len(product_names_htmls)"
   ]
  },
  {
   "cell_type": "markdown",
   "metadata": {},
   "source": [
    "## Add contract specs"
   ]
  },
  {
   "cell_type": "code",
   "execution_count": null,
   "metadata": {},
   "outputs": [],
   "source": [
    "product_names_htmls = {\n",
    "    product_name: html.set_index(0) if html is not None else None\n",
    "    for product_name, html in product_names_htmls.items()\n",
    "}"
   ]
  },
  {
   "cell_type": "code",
   "execution_count": null,
   "metadata": {},
   "outputs": [],
   "source": [
    "product_names_htmls['Eurodollar Futures']"
   ]
  },
  {
   "cell_type": "code",
   "execution_count": null,
   "metadata": {},
   "outputs": [],
   "source": [
    "html_rows = [\n",
    "    get_row(html, product_name) if html is not None else pd.DataFrame(\n",
    "        index=[product_name])\n",
    "    for product_name, html in product_names_htmls.items()\n",
    "]"
   ]
  },
  {
   "cell_type": "code",
   "execution_count": null,
   "metadata": {},
   "outputs": [],
   "source": [
    "html_rows[0]"
   ]
  },
  {
   "cell_type": "code",
   "execution_count": null,
   "metadata": {},
   "outputs": [],
   "source": [
    "html_rows = [\n",
    "    get_row(html, product_name) if html is not None else pd.DataFrame(\n",
    "        index=[product_name])\n",
    "    for product_name, html in product_names_htmls.items()\n",
    "]"
   ]
  },
  {
   "cell_type": "code",
   "execution_count": null,
   "metadata": {},
   "outputs": [],
   "source": [
    "html_rows[8]"
   ]
  },
  {
   "cell_type": "code",
   "execution_count": null,
   "metadata": {},
   "outputs": [],
   "source": [
    "rename_duplicate_cols(html_rows[8])"
   ]
  },
  {
   "cell_type": "code",
   "execution_count": null,
   "metadata": {},
   "outputs": [],
   "source": [
    "html_rows = [rename_duplicate_cols(html) for html in html_rows]"
   ]
  },
  {
   "cell_type": "code",
   "execution_count": null,
   "metadata": {},
   "outputs": [],
   "source": [
    "html_rows_df = pd.concat(html_rows, sort=False)"
   ]
  },
  {
   "cell_type": "code",
   "execution_count": null,
   "metadata": {},
   "outputs": [],
   "source": [
    "html_rows_df.head()"
   ]
  },
  {
   "cell_type": "code",
   "execution_count": null,
   "metadata": {},
   "outputs": [],
   "source": [
    "pse_with_specs = pse.merge(html_rows_df,\n",
    "                           left_on='Product Name',\n",
    "                           right_index=True)"
   ]
  },
  {
   "cell_type": "code",
   "execution_count": null,
   "metadata": {},
   "outputs": [],
   "source": [
    "pse_with_specs.to_csv(\n",
    "    '/data/prices/product_slate_export_with_contract_specs_20190905.csv', index=0)"
   ]
  },
  {
   "cell_type": "code",
   "execution_count": null,
   "metadata": {},
   "outputs": [],
   "source": []
  }
 ],
 "metadata": {
  "jupytext": {
   "text_representation": {
    "extension": ".py",
    "format_name": "percent",
    "format_version": "1.2",
    "jupytext_version": "1.2.3"
   }
  },
  "kernelspec": {
   "display_name": "Python 3",
   "language": "python",
   "name": "python3"
  },
  "language_info": {
   "codemirror_mode": {
    "name": "ipython",
    "version": 3
   },
   "file_extension": ".py",
   "mimetype": "text/x-python",
   "name": "python",
   "nbconvert_exporter": "python",
   "pygments_lexer": "ipython3"
  },
  "notify_time": "30",
  "toc": {
   "base_numbering": 1.0,
   "nav_menu": {},
   "number_sections": true,
   "sideBar": true,
   "skip_h1_title": false,
   "title_cell": "Table of Contents",
   "title_sidebar": "Contents",
   "toc_cell": false,
   "toc_position": {
    "height": "calc(100% - 180px)",
    "left": "10px",
    "top": "150px",
    "width": "199.968px"
   },
   "toc_section_display": true,
   "toc_window_display": true
  },
  "varInspector": {
   "cols": {
    "lenName": 16.0,
    "lenType": 16.0,
    "lenVar": 40.0
   },
   "kernels_config": {
    "python": {
     "delete_cmd_postfix": "",
     "delete_cmd_prefix": "del ",
     "library": "var_list.py",
     "varRefreshCmd": "print(var_dic_list())"
    },
    "r": {
     "delete_cmd_postfix": ") ",
     "delete_cmd_prefix": "rm(",
     "library": "var_list.r",
     "varRefreshCmd": "cat(var_dic_list()) "
    }
   },
   "types_to_exclude": [
    "module",
    "function",
    "builtin_function_or_method",
    "instance",
    "_Feature"
   ],
   "window_display": false
  }
 },
 "nbformat": 4,
 "nbformat_minor": 2
}
