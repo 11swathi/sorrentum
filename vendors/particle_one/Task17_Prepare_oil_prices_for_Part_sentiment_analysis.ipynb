{
 "cells": [
  {
   "cell_type": "markdown",
   "metadata": {},
   "source": [
    "## Import"
   ]
  },
  {
   "cell_type": "code",
   "execution_count": null,
   "metadata": {},
   "outputs": [],
   "source": []
  },
  {
   "cell_type": "code",
   "execution_count": null,
   "metadata": {},
   "outputs": [],
   "source": [
    "%load_ext autoreload\n",
    "%autoreload 2\n",
    "import logging\n",
    "\n",
    "import seaborn as sns\n",
    "\n",
    "import core.config as cfg\n",
    "import core.finance as fin\n",
    "import helpers.dbg as dbg\n",
    "import helpers.env as env\n",
    "import helpers.printing as pri\n",
    "import vendors.kibot.utils as kut"
   ]
  },
  {
   "cell_type": "code",
   "execution_count": null,
   "metadata": {},
   "outputs": [],
   "source": [
    "print(env.get_system_signature())\n",
    "\n",
    "pri.config_notebook()\n",
    "\n",
    "# TODO(gp): Changing level during the notebook execution doesn't work. Fix it.\n",
    "# dbg.init_logger(verb=logging.DEBUG)\n",
    "dbg.init_logger(verb=logging.INFO)\n",
    "# dbg.test_logger()\n",
    "\n",
    "_LOG = logging.getLogger(__name__)"
   ]
  },
  {
   "cell_type": "markdown",
   "metadata": {},
   "source": [
    "# Metadata"
   ]
  },
  {
   "cell_type": "code",
   "execution_count": null,
   "metadata": {},
   "outputs": [],
   "source": [
    "df1 = kut.read_metadata1()\n",
    "df1.head(3)"
   ]
  },
  {
   "cell_type": "code",
   "execution_count": null,
   "metadata": {},
   "outputs": [],
   "source": [
    "df2 = kut.read_metadata2()\n",
    "df2.head(3)"
   ]
  },
  {
   "cell_type": "code",
   "execution_count": null,
   "metadata": {},
   "outputs": [],
   "source": [
    "df3 = kut.read_metadata3()\n",
    "df3.head(3)"
   ]
  },
  {
   "cell_type": "code",
   "execution_count": null,
   "metadata": {},
   "outputs": [],
   "source": [
    "df4 = kut.read_metadata4()\n",
    "print(df4.head(3))\n",
    "\n",
    "print(df4[\"Exchange\"].unique())"
   ]
  },
  {
   "cell_type": "markdown",
   "metadata": {},
   "source": [
    "## Explore metadata"
   ]
  },
  {
   "cell_type": "code",
   "execution_count": null,
   "metadata": {},
   "outputs": [],
   "source": [
    "mask = [\"GAS\" in d or \"OIL\" in d for d in df4[\"Description\"]]\n",
    "print(sum(mask))\n",
    "print(df4[mask].drop([\"SymbolBase\", \"Size(MB)\"], axis=1))"
   ]
  },
  {
   "cell_type": "markdown",
   "metadata": {},
   "source": [
    "# Read data"
   ]
  },
  {
   "cell_type": "code",
   "execution_count": null,
   "metadata": {},
   "outputs": [],
   "source": [
    "config = cfg.Config.from_env()\n",
    "\n",
    "if config is None:\n",
    "    config = cfg.Config()\n",
    "    config_tmp = config.add_subconfig(\"read_data\")\n",
    "    # config_tmp[\"nrows\"] = 100000\n",
    "    config_tmp[\"nrows\"] = None\n",
    "    #\n",
    "    config[\"zscore_com\"] = 28\n",
    "\n",
    "print(config)"
   ]
  },
  {
   "cell_type": "markdown",
   "metadata": {},
   "source": [
    "# Prices"
   ]
  },
  {
   "cell_type": "markdown",
   "metadata": {},
   "source": [
    "## Read daily prices"
   ]
  },
  {
   "cell_type": "code",
   "execution_count": null,
   "metadata": {},
   "outputs": [],
   "source": [
    "symbols = \"CL NG RB BZ\".split()\n",
    "file_name = (\n",
    "    \"s3://alphamatic/kibot/All_Futures_Continuous_Contracts_daily/%s.csv.gz\"\n",
    ")\n",
    "\n",
    "daily_price_dict_df = kut.read_multiple_symbol_data(\n",
    "    symbols, file_name, nrows=config[\"read_data\"][\"nrows\"]\n",
    ")\n",
    "\n",
    "daily_price_dict_df[\"CL\"].tail(2)"
   ]
  },
  {
   "cell_type": "code",
   "execution_count": null,
   "metadata": {},
   "outputs": [],
   "source": [
    "col_name = \"close\"\n",
    "mode = \"pct_change\"\n",
    "daily_rets = kut.compute_ret_0_from_multiple_daily_prices(\n",
    "    daily_price_dict_df, col_name, mode\n",
    ")\n",
    "\n",
    "daily_rets.head(3)"
   ]
  },
  {
   "cell_type": "code",
   "execution_count": null,
   "metadata": {},
   "outputs": [],
   "source": [
    "daily_rets = daily_rets[\"2008-01-01\":]\n",
    "daily_rets.fillna(0.0).cumsum().plot()"
   ]
  },
  {
   "cell_type": "code",
   "execution_count": null,
   "metadata": {},
   "outputs": [],
   "source": [
    "daily_zrets = fin.zscore(\n",
    "    daily_rets, com=config[\"zscore_com\"], demean=False, standardize=True, delay=1\n",
    ")\n",
    "daily_zrets.columns = [c.replace(\"ret_\", \"zret_\") for c in daily_zrets.columns]\n",
    "daily_zrets.dropna().head(3)"
   ]
  },
  {
   "cell_type": "code",
   "execution_count": null,
   "metadata": {},
   "outputs": [],
   "source": [
    "daily_zrets = daily_zrets[\"2008-01-01\":]\n",
    "\n",
    "daily_zrets.fillna(0.0).cumsum().plot()"
   ]
  },
  {
   "cell_type": "code",
   "execution_count": null,
   "metadata": {},
   "outputs": [],
   "source": [
    "annot = True\n",
    "stocks_corr = daily_zrets.corr()\n",
    "\n",
    "sns.clustermap(stocks_corr, annot=annot)"
   ]
  },
  {
   "cell_type": "code",
   "execution_count": null,
   "metadata": {},
   "outputs": [],
   "source": [
    "print(daily_zrets.head(2))\n",
    "daily_rets.to_csv(\"oil_daily_zrets.csv\")"
   ]
  },
  {
   "cell_type": "markdown",
   "metadata": {},
   "source": [
    "## Read 1 min prices"
   ]
  },
  {
   "cell_type": "code",
   "execution_count": null,
   "metadata": {},
   "outputs": [],
   "source": [
    "symbols = \"CL NG RB BZ\".split()\n",
    "file_name = (\n",
    "    \"s3://alphamatic/kibot/All_Futures_Continuous_Contracts_1min/%s.csv.gz\"\n",
    ")\n",
    "min_price_dict_df = kut.read_multiple_symbol_data(\n",
    "    symbols, file_name, nrows=config[\"read_data\"][\"nrows\"]\n",
    ")\n",
    "\n",
    "min_price_dict_df[\"CL\"].tail(2)"
   ]
  },
  {
   "cell_type": "code",
   "execution_count": null,
   "metadata": {},
   "outputs": [],
   "source": [
    "min_price_dict_df.keys()"
   ]
  },
  {
   "cell_type": "code",
   "execution_count": null,
   "metadata": {},
   "outputs": [],
   "source": [
    "mode = \"pct_change\"\n",
    "min_rets = kut.compute_ret_0_from_multiple_1min_prices(min_price_dict_df, mode)\n",
    "\n",
    "min_rets.head(3)"
   ]
  },
  {
   "cell_type": "code",
   "execution_count": null,
   "metadata": {},
   "outputs": [],
   "source": [
    "min_rets.fillna(0.0).resample(\"1D\").sum().cumsum().plot()"
   ]
  },
  {
   "cell_type": "code",
   "execution_count": null,
   "metadata": {},
   "outputs": [],
   "source": [
    "min_zrets = fin.zscore(\n",
    "    min_rets, com=config[\"zscore_com\"], demean=False, standardize=True, delay=1\n",
    ")\n",
    "min_zrets.columns = [c.replace(\"ret_\", \"zret_\") for c in min_zrets.columns]\n",
    "min_zrets.dropna().head(3)"
   ]
  },
  {
   "cell_type": "code",
   "execution_count": null,
   "metadata": {},
   "outputs": [],
   "source": [
    "min_zrets = min_rets[\"2008-01-01\":]\n",
    "\n",
    "min_zrets.fillna(0.0).resample(\"1d\").sum().cumsum().plot()"
   ]
  },
  {
   "cell_type": "code",
   "execution_count": null,
   "metadata": {},
   "outputs": [],
   "source": [
    "annot = True\n",
    "stocks_corr = min_rets.corr()\n",
    "\n",
    "sns.clustermap(stocks_corr, annot=annot)"
   ]
  },
  {
   "cell_type": "code",
   "execution_count": null,
   "metadata": {},
   "outputs": [],
   "source": [
    "print(min_zrets.head(2))\n",
    "min_zrets.to_csv(\"oil_1min_zrets.csv\")"
   ]
  }
 ],
 "metadata": {
  "jupytext": {
   "formats": "ipynb,py:percent"
  },
  "kernelspec": {
   "display_name": "Python 3",
   "language": "python",
   "name": "python3"
  },
  "language_info": {
   "codemirror_mode": {
    "name": "ipython",
    "version": 3
   },
   "file_extension": ".py",
   "mimetype": "text/x-python",
   "name": "python",
   "nbconvert_exporter": "python",
   "pygments_lexer": "ipython3"
  },
  "toc": {
   "base_numbering": 1,
   "nav_menu": {},
   "number_sections": true,
   "sideBar": true,
   "skip_h1_title": false,
   "title_cell": "Table of Contents",
   "title_sidebar": "Contents",
   "toc_cell": false,
   "toc_position": {},
   "toc_section_display": true,
   "toc_window_display": true
  }
 },
 "nbformat": 4,
 "nbformat_minor": 2
}
