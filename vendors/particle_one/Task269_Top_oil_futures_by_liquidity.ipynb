{
 "cells": [
  {
   "cell_type": "markdown",
   "metadata": {},
   "source": [
    "## Import"
   ]
  },
  {
   "cell_type": "code",
   "execution_count": null,
   "metadata": {},
   "outputs": [],
   "source": [
    "%load_ext autoreload\n",
    "%autoreload 2\n",
    "import datetime\n",
    "import logging\n",
    "import os\n",
    "import platform\n",
    "\n",
    "import numpy as np\n",
    "import pandas as pd\n",
    "import seaborn as sns\n",
    "import scipy\n",
    "import matplotlib\n",
    "import matplotlib.pyplot as plt\n",
    "import sklearn\n",
    "\n",
    "import helpers.config as cfg\n",
    "import helpers.dbg as dbg\n",
    "import helpers.printing as printing\n",
    "import core.explore as exp\n",
    "import core.finance as fin\n",
    "\n",
    "import vendors.kibot.utils as kut"
   ]
  },
  {
   "cell_type": "code",
   "execution_count": null,
   "metadata": {},
   "outputs": [],
   "source": [
    "print(cfg.get_system_signature())\n",
    "\n",
    "printing.config_notebook()\n",
    "\n",
    "# TODO(gp): Changing level during the notebook execution doesn't work. Fix it.\n",
    "#dbg.init_logger(verb=logging.DEBUG)\n",
    "dbg.init_logger(verb=logging.INFO)\n",
    "#dbg.test_logger()\n",
    "\n",
    "_LOG = logging.getLogger(__name__)"
   ]
  },
  {
   "cell_type": "markdown",
   "metadata": {},
   "source": [
    "# Metadata"
   ]
  },
  {
   "cell_type": "code",
   "execution_count": null,
   "metadata": {},
   "outputs": [],
   "source": [
    "df1 = kut.read_metadata1()\n",
    "df1.head(3)"
   ]
  },
  {
   "cell_type": "code",
   "execution_count": null,
   "metadata": {},
   "outputs": [],
   "source": [
    "df2 = kut.read_metadata2()\n",
    "df2.head(3)"
   ]
  },
  {
   "cell_type": "code",
   "execution_count": null,
   "metadata": {},
   "outputs": [],
   "source": [
    "df3 = kut.read_metadata3()\n",
    "df3.head(3)"
   ]
  },
  {
   "cell_type": "code",
   "execution_count": null,
   "metadata": {},
   "outputs": [],
   "source": [
    "df4 = kut.read_metadata4()\n",
    "print(df4.head(3))\n",
    "\n",
    "print(df4[\"Exchange\"].unique())"
   ]
  },
  {
   "cell_type": "markdown",
   "metadata": {},
   "source": [
    "## Explore metadata"
   ]
  },
  {
   "cell_type": "code",
   "execution_count": null,
   "metadata": {},
   "outputs": [],
   "source": [
    "mask = [\"GAS\" in d or \"OIL\" in d for d in df4[\"Description\"]]\n",
    "print(sum(mask))\n",
    "print(df4[mask].drop([\"SymbolBase\", \"Size(MB)\"], axis=1))"
   ]
  },
  {
   "cell_type": "code",
   "execution_count": null,
   "metadata": {},
   "outputs": [],
   "source": [
    "df4[mask]['Symbol'].values"
   ]
  },
  {
   "cell_type": "markdown",
   "metadata": {},
   "source": [
    "# Read data"
   ]
  },
  {
   "cell_type": "code",
   "execution_count": null,
   "metadata": {},
   "outputs": [],
   "source": [
    "import collections\n",
    "\n",
    "config = collections.OrderedDict()\n",
    "\n",
    "if \"__CONFIG__\" in os.environ:\n",
    "    config = os.environ[\"__CONFIG__\"]\n",
    "    print(\"__CONFIG__=\", config)\n",
    "    config = eval(config)\n",
    "else:\n",
    "    #config[\"nrows\"] = 100000\n",
    "    config[\"nrows\"] = None\n",
    "    #\n",
    "    config[\"zscore_com\"] = 28\n",
    "\n",
    "print(cfg.config_to_string(config))"
   ]
  },
  {
   "cell_type": "markdown",
   "metadata": {},
   "source": [
    "# Prices"
   ]
  },
  {
   "cell_type": "markdown",
   "metadata": {},
   "source": [
    "## Read daily prices"
   ]
  },
  {
   "cell_type": "code",
   "execution_count": null,
   "metadata": {},
   "outputs": [],
   "source": [
    "all_symbols = [\n",
    "    futures.replace('.csv.gz', '') for futures in os.listdir(\n",
    "        '/data/kibot/All_Futures_Continuous_Contracts_daily')\n",
    "]"
   ]
  },
  {
   "cell_type": "code",
   "execution_count": null,
   "metadata": {},
   "outputs": [],
   "source": [
    "symbols = df4[mask]['Symbol'].values\n",
    "symbols"
   ]
  },
  {
   "cell_type": "code",
   "execution_count": null,
   "metadata": {},
   "outputs": [],
   "source": [
    "file_name = \"/data/kibot/All_Futures_Continuous_Contracts_daily/%s.csv.gz\"\n",
    "\n",
    "daily_price_dict_df = kut.read_multiple_symbol_data(symbols, file_name, nrows=config[\"nrows\"])\n",
    "\n",
    "daily_price_dict_df[\"CL\"].tail(2)"
   ]
  },
  {
   "cell_type": "markdown",
   "metadata": {},
   "source": [
    "# Top futures by volume"
   ]
  },
  {
   "cell_type": "markdown",
   "metadata": {},
   "source": [
    "## Sum volume"
   ]
  },
  {
   "cell_type": "code",
   "execution_count": null,
   "metadata": {},
   "outputs": [],
   "source": [
    "daily_volume_sum_dict = {\n",
    "    symbol: daily_prices_symbol['vol'].sum()\n",
    "    for symbol, daily_prices_symbol in daily_price_dict_df.items()\n",
    "}"
   ]
  },
  {
   "cell_type": "code",
   "execution_count": null,
   "metadata": {},
   "outputs": [],
   "source": [
    "daily_volume_sum_df = pd.DataFrame.from_dict(daily_volume_sum_dict, orient='index', columns=['sum_vol'])\n",
    "daily_volume_sum_df.index.name = 'symbol'"
   ]
  },
  {
   "cell_type": "code",
   "execution_count": null,
   "metadata": {},
   "outputs": [],
   "source": [
    "daily_volume_sum_df.sort_values('sum_vol', ascending=False)"
   ]
  },
  {
   "cell_type": "markdown",
   "metadata": {},
   "source": [
    "## Mean volume"
   ]
  },
  {
   "cell_type": "code",
   "execution_count": null,
   "metadata": {},
   "outputs": [],
   "source": [
    "daily_volume_mean_dict = {\n",
    "    symbol: daily_prices_symbol['vol'].mean()\n",
    "    for symbol, daily_prices_symbol in daily_price_dict_df.items()\n",
    "}"
   ]
  },
  {
   "cell_type": "code",
   "execution_count": null,
   "metadata": {},
   "outputs": [],
   "source": [
    "daily_volume_mean_df = pd.DataFrame.from_dict(daily_volume_mean_dict, orient='index', columns=['mean_vol'])\n",
    "daily_volume_mean_df.index.name = 'symbol'"
   ]
  },
  {
   "cell_type": "code",
   "execution_count": null,
   "metadata": {},
   "outputs": [],
   "source": [
    "daily_volume_mean_df.sort_values('mean_vol', ascending=False)"
   ]
  },
  {
   "cell_type": "code",
   "execution_count": null,
   "metadata": {},
   "outputs": [],
   "source": []
  }
 ],
 "metadata": {
  "jupytext": {
   "text_representation": {
    "extension": ".py",
    "format_name": "percent",
    "format_version": "1.2",
    "jupytext_version": "1.2.1"
   }
  },
  "kernelspec": {
   "display_name": "Python 3",
   "language": "python",
   "name": "python3"
  },
  "language_info": {
   "codemirror_mode": {
    "name": "ipython",
    "version": 3
   },
   "file_extension": ".py",
   "mimetype": "text/x-python",
   "name": "python",
   "nbconvert_exporter": "python",
   "pygments_lexer": "ipython3"
  },
  "toc": {
   "base_numbering": 1,
   "nav_menu": {},
   "number_sections": true,
   "sideBar": true,
   "skip_h1_title": false,
   "title_cell": "Table of Contents",
   "title_sidebar": "Contents",
   "toc_cell": false,
   "toc_position": {
    "height": "calc(100% - 180px)",
    "left": "10px",
    "top": "150px",
    "width": "394.038px"
   },
   "toc_section_display": true,
   "toc_window_display": true
  }
 },
 "nbformat": 4,
 "nbformat_minor": 2
}
