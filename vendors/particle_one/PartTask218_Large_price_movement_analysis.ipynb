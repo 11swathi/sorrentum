{
 "cells": [
  {
   "cell_type": "markdown",
   "metadata": {},
   "source": [
    "# Imports"
   ]
  },
  {
   "cell_type": "code",
   "execution_count": null,
   "metadata": {},
   "outputs": [],
   "source": [
    "%load_ext autoreload\n",
    "%autoreload 2\n",
    "\n",
    "import numpy as np\n",
    "import pandas as pd\n",
    "import seaborn as sns\n",
    "from matplotlib import pyplot as plt"
   ]
  },
  {
   "cell_type": "code",
   "execution_count": null,
   "metadata": {},
   "outputs": [],
   "source": [
    "from pylab import rcParams\n",
    "from tqdm.autonotebook import tqdm\n",
    "\n",
    "import core.signal_processing as sp\n",
    "import vendors.kibot.utils as kut\n",
    "\n",
    "# import vendors.particle_one.PartTask269_liquidity_analysis_utils as lau\n",
    "\n",
    "sns.set()\n",
    "\n",
    "rcParams[\"figure.figsize\"] = (20, 5)"
   ]
  },
  {
   "cell_type": "code",
   "execution_count": null,
   "metadata": {},
   "outputs": [],
   "source": [
    "TAU = 2"
   ]
  },
  {
   "cell_type": "code",
   "execution_count": null,
   "metadata": {},
   "outputs": [],
   "source": [
    "def get_zscored_prices_diff(price_dict_df, symbol, tau=TAU):\n",
    "    prices_symbol = price_dict_df[symbol]\n",
    "    prices_diff = prices_symbol[\"close\"] - prices_symbol[\"open\"]\n",
    "    zscored_prices_diff = sp.rolling_zscore(prices_diff, tau)\n",
    "    zscored_prices_diff.head()\n",
    "    abs_zscored_prices_diff = zscored_prices_diff.abs()\n",
    "    return abs_zscored_prices_diff\n",
    "\n",
    "\n",
    "def get_top_movements_by_group(\n",
    "    price_dict_df, commodity_symbols_kibot, group, n_movements=100\n",
    "):\n",
    "    zscored_diffs = []\n",
    "    for symbol in commodity_symbols_kibot[group]:\n",
    "        zscored_diff = get_zscored_prices_diff(price_dict_df, symbol)\n",
    "        zscored_diffs.append(zscored_diff)\n",
    "    zscored_diffs = pd.concat(zscored_diffs, axis=1)\n",
    "    mean_zscored_diffs = zscored_diffs.mean(axis=1, skipna=True)\n",
    "    return mean_zscored_diffs.sort_values(ascending=False).head(n_movements)\n",
    "\n",
    "\n",
    "def get_top_movements_for_symbol(price_dict_df, symbol, tau=TAU, n_movements=100):\n",
    "    zscored_diffs = get_zscored_prices_diff(price_dict_df, symbol, tau=tau)\n",
    "    return zscored_diffs.sort_values(ascending=False).head(n_movements)"
   ]
  },
  {
   "cell_type": "markdown",
   "metadata": {},
   "source": [
    "# Load CME metadata"
   ]
  },
  {
   "cell_type": "code",
   "execution_count": null,
   "metadata": {},
   "outputs": [],
   "source": [
    "# Change this to library code from #269 once it is merged into master"
   ]
  },
  {
   "cell_type": "code",
   "execution_count": null,
   "metadata": {},
   "outputs": [],
   "source": [
    "_PRODUCT_SPECS_PATH = (\n",
    "    \"/data/prices/product_slate_export_with_contract_specs_20190905.csv\"\n",
    ")\n",
    "product_list = pd.read_csv(_PRODUCT_SPECS_PATH)"
   ]
  },
  {
   "cell_type": "code",
   "execution_count": null,
   "metadata": {},
   "outputs": [],
   "source": [
    "product_list.head()"
   ]
  },
  {
   "cell_type": "code",
   "execution_count": null,
   "metadata": {},
   "outputs": [],
   "source": [
    "product_list[\"Product Group\"].value_counts()"
   ]
  },
  {
   "cell_type": "code",
   "execution_count": null,
   "metadata": {},
   "outputs": [],
   "source": [
    "product_list.set_index(\"Product Group\", inplace=True)"
   ]
  },
  {
   "cell_type": "code",
   "execution_count": null,
   "metadata": {},
   "outputs": [],
   "source": [
    "commodity_groups = [\"Energy\", \"Agriculture\", \"Metals\"]"
   ]
  },
  {
   "cell_type": "code",
   "execution_count": null,
   "metadata": {},
   "outputs": [],
   "source": [
    "commodity_symbols = {\n",
    "    group: product_list.loc[group][\"Globex\"].values for group in commodity_groups\n",
    "}"
   ]
  },
  {
   "cell_type": "code",
   "execution_count": null,
   "metadata": {},
   "outputs": [],
   "source": [
    "commodity_symbols"
   ]
  },
  {
   "cell_type": "markdown",
   "metadata": {},
   "source": [
    "# Daily price movements"
   ]
  },
  {
   "cell_type": "markdown",
   "metadata": {},
   "source": [
    "## Load kibot commodity daily prices"
   ]
  },
  {
   "cell_type": "code",
   "execution_count": null,
   "metadata": {},
   "outputs": [],
   "source": [
    "daily_metadata = kut.read_metadata2()\n",
    "daily_metadata.head(3)"
   ]
  },
  {
   "cell_type": "code",
   "execution_count": null,
   "metadata": {},
   "outputs": [],
   "source": [
    "len(daily_metadata[\"Symbol\"])"
   ]
  },
  {
   "cell_type": "code",
   "execution_count": null,
   "metadata": {},
   "outputs": [],
   "source": [
    "daily_metadata[\"Symbol\"].nunique()"
   ]
  },
  {
   "cell_type": "code",
   "execution_count": null,
   "metadata": {},
   "outputs": [],
   "source": [
    "len(commodity_symbols[\"Energy\"])"
   ]
  },
  {
   "cell_type": "code",
   "execution_count": null,
   "metadata": {},
   "outputs": [],
   "source": [
    "energy_symbols_kibot = np.intersect1d(\n",
    "    daily_metadata[\"Symbol\"].values, commodity_symbols[\"Energy\"]\n",
    ")\n",
    "energy_symbols_kibot"
   ]
  },
  {
   "cell_type": "code",
   "execution_count": null,
   "metadata": {},
   "outputs": [],
   "source": [
    "len(energy_symbols_kibot)"
   ]
  },
  {
   "cell_type": "code",
   "execution_count": null,
   "metadata": {},
   "outputs": [],
   "source": [
    "commodity_symbols_kibot = {\n",
    "    group: np.intersect1d(\n",
    "        daily_metadata[\"Symbol\"].values, commodity_symbols[group]\n",
    "    )\n",
    "    for group in commodity_symbols.keys()\n",
    "}"
   ]
  },
  {
   "cell_type": "code",
   "execution_count": null,
   "metadata": {},
   "outputs": [],
   "source": [
    "commodity_symbols_kibot"
   ]
  },
  {
   "cell_type": "code",
   "execution_count": null,
   "metadata": {},
   "outputs": [],
   "source": [
    "{\n",
    "    group: len(commodity_symbols_kibot[group])\n",
    "    for group in commodity_symbols_kibot.keys()\n",
    "}"
   ]
  },
  {
   "cell_type": "code",
   "execution_count": null,
   "metadata": {},
   "outputs": [],
   "source": [
    "comm_list = []\n",
    "for comm_group in commodity_symbols_kibot.values():\n",
    "    comm_list.extend(list(comm_group))\n",
    "comm_list[:5]"
   ]
  },
  {
   "cell_type": "code",
   "execution_count": null,
   "metadata": {},
   "outputs": [],
   "source": [
    "file_name = \"/data/kibot/All_Futures_Continuous_Contracts_daily/%s.csv.gz\"\n",
    "\n",
    "daily_price_dict_df = kut.read_multiple_symbol_data(\n",
    "    comm_list, file_name, nrows=None\n",
    ")\n",
    "\n",
    "daily_price_dict_df[\"CL\"].tail(2)"
   ]
  },
  {
   "cell_type": "markdown",
   "metadata": {},
   "source": [
    "## Largest movements for a specific symbol"
   ]
  },
  {
   "cell_type": "code",
   "execution_count": null,
   "metadata": {},
   "outputs": [],
   "source": [
    "# There is a get_top_movements_for_symbol() function that\n",
    "# implements this code and the code below. I am not using it\n",
    "# in this chapter to provide a clearer view of the algorithm."
   ]
  },
  {
   "cell_type": "code",
   "execution_count": null,
   "metadata": {},
   "outputs": [],
   "source": [
    "symbol = \"CL\""
   ]
  },
  {
   "cell_type": "code",
   "execution_count": null,
   "metadata": {},
   "outputs": [],
   "source": [
    "cl_prices = daily_price_dict_df[symbol]"
   ]
  },
  {
   "cell_type": "code",
   "execution_count": null,
   "metadata": {},
   "outputs": [],
   "source": [
    "cl_prices_diff = cl_prices[\"close\"] - cl_prices[\"open\"]"
   ]
  },
  {
   "cell_type": "code",
   "execution_count": null,
   "metadata": {},
   "outputs": [],
   "source": [
    "zscored_cl_prices_diff = sp.rolling_zscore(cl_prices_diff, TAU)\n",
    "zscored_cl_prices_diff.head()"
   ]
  },
  {
   "cell_type": "code",
   "execution_count": null,
   "metadata": {},
   "outputs": [],
   "source": [
    "abs_zscored_cl_prices_diff = zscored_cl_prices_diff.abs()"
   ]
  },
  {
   "cell_type": "code",
   "execution_count": null,
   "metadata": {},
   "outputs": [],
   "source": [
    "abs_zscored_cl_prices_diff.max()"
   ]
  },
  {
   "cell_type": "code",
   "execution_count": null,
   "metadata": {},
   "outputs": [],
   "source": [
    "top_100_movements_cl = abs_zscored_cl_prices_diff.sort_values(\n",
    "    ascending=False\n",
    ").head(100)"
   ]
  },
  {
   "cell_type": "code",
   "execution_count": null,
   "metadata": {},
   "outputs": [],
   "source": [
    "top_100_movements_cl.plot(kind=\"bar\")\n",
    "ax = plt.gca()\n",
    "xlabels = [item.get_text()[:10] for item in ax.get_xticklabels()]\n",
    "ax.set_xticklabels(xlabels)\n",
    "plt.title(\n",
    "    f\"Largest price movements in a single day (in z-score space) for {symbol} symbol\"\n",
    ")\n",
    "plt.show()"
   ]
  },
  {
   "cell_type": "code",
   "execution_count": null,
   "metadata": {},
   "outputs": [],
   "source": [
    "top_100_movements_cl.index.year.value_counts(sort=False).plot(kind=\"bar\")\n",
    "plt.title(\"How many of the top-100 price movements occured during each year\")\n",
    "plt.show()"
   ]
  },
  {
   "cell_type": "markdown",
   "metadata": {},
   "source": [
    "## Largest movement for energy group"
   ]
  },
  {
   "cell_type": "code",
   "execution_count": null,
   "metadata": {},
   "outputs": [],
   "source": [
    "group = \"Energy\""
   ]
  },
  {
   "cell_type": "code",
   "execution_count": null,
   "metadata": {},
   "outputs": [],
   "source": [
    "commodity_symbols_kibot[group]"
   ]
  },
  {
   "cell_type": "code",
   "execution_count": null,
   "metadata": {},
   "outputs": [],
   "source": [
    "zscored_diffs = []\n",
    "for symbol in commodity_symbols_kibot[group]:\n",
    "    zscored_diff = get_zscored_prices_diff(daily_price_dict_df, symbol)\n",
    "    zscored_diffs.append(zscored_diff)"
   ]
  },
  {
   "cell_type": "code",
   "execution_count": null,
   "metadata": {},
   "outputs": [],
   "source": [
    "zscored_diffs = pd.concat(zscored_diffs, axis=1)\n",
    "zscored_diffs.head()"
   ]
  },
  {
   "cell_type": "code",
   "execution_count": null,
   "metadata": {},
   "outputs": [],
   "source": [
    "mean_zscored_diffs = zscored_diffs.mean(axis=1, skipna=True)"
   ]
  },
  {
   "cell_type": "code",
   "execution_count": null,
   "metadata": {},
   "outputs": [],
   "source": [
    "mean_zscored_diffs.head()"
   ]
  },
  {
   "cell_type": "code",
   "execution_count": null,
   "metadata": {},
   "outputs": [],
   "source": [
    "mean_zscored_diffs.tail()"
   ]
  },
  {
   "cell_type": "code",
   "execution_count": null,
   "metadata": {},
   "outputs": [],
   "source": [
    "mean_zscored_diffs.sort_values(ascending=False).head(100)"
   ]
  },
  {
   "cell_type": "markdown",
   "metadata": {},
   "source": [
    "## Largest movements for each group"
   ]
  },
  {
   "cell_type": "code",
   "execution_count": null,
   "metadata": {},
   "outputs": [],
   "source": [
    "top_100_movements_by_group = {\n",
    "    group: get_top_movements_by_group(\n",
    "        daily_price_dict_df, commodity_symbols_kibot, group\n",
    "    )\n",
    "    for group in commodity_symbols_kibot.keys()\n",
    "}"
   ]
  },
  {
   "cell_type": "code",
   "execution_count": null,
   "metadata": {},
   "outputs": [],
   "source": [
    "top_100_movements_by_group.keys()"
   ]
  },
  {
   "cell_type": "code",
   "execution_count": null,
   "metadata": {},
   "outputs": [],
   "source": [
    "top_100_movements_by_group[\"Energy\"].head()"
   ]
  },
  {
   "cell_type": "code",
   "execution_count": null,
   "metadata": {},
   "outputs": [],
   "source": [
    "top_100_movements_by_group[\"Agriculture\"].head()"
   ]
  },
  {
   "cell_type": "code",
   "execution_count": null,
   "metadata": {},
   "outputs": [],
   "source": [
    "top_100_movements_by_group[\"Metals\"].head()"
   ]
  },
  {
   "cell_type": "markdown",
   "metadata": {},
   "source": [
    "# 5-minute price movements"
   ]
  },
  {
   "cell_type": "markdown",
   "metadata": {},
   "source": [
    "## Load 1-minute prices"
   ]
  },
  {
   "cell_type": "code",
   "execution_count": null,
   "metadata": {},
   "outputs": [],
   "source": [
    "minutely_metadata = kut.read_metadata1()"
   ]
  },
  {
   "cell_type": "code",
   "execution_count": null,
   "metadata": {},
   "outputs": [],
   "source": [
    "minutely_metadata.head()"
   ]
  },
  {
   "cell_type": "code",
   "execution_count": null,
   "metadata": {},
   "outputs": [],
   "source": [
    "np.array_equal(\n",
    "    minutely_metadata[\"Symbol\"].values, minutely_metadata[\"Symbol\"].values\n",
    ")"
   ]
  },
  {
   "cell_type": "code",
   "execution_count": null,
   "metadata": {},
   "outputs": [],
   "source": [
    "file_name = \"/data/kibot/All_Futures_Continuous_Contracts_1min/%s.csv.gz\"\n",
    "\n",
    "minutely_price_dict_df = kut.read_multiple_symbol_data(\n",
    "    comm_list, file_name, nrows=None\n",
    ")\n",
    "\n",
    "minutely_price_dict_df[\"CL\"].tail(2)"
   ]
  },
  {
   "cell_type": "code",
   "execution_count": null,
   "metadata": {},
   "outputs": [],
   "source": [
    "minutely_price_dict_df[\"CL\"].head()"
   ]
  },
  {
   "cell_type": "code",
   "execution_count": null,
   "metadata": {},
   "outputs": [],
   "source": [
    "five_min_price_dict_df = {\n",
    "    symbol: minutely_price_dict_df[symbol].resample(\"5Min\").sum()\n",
    "    for symbol in minutely_price_dict_df.keys()\n",
    "}"
   ]
  },
  {
   "cell_type": "code",
   "execution_count": null,
   "metadata": {},
   "outputs": [],
   "source": [
    "top_100_movements_cl_5_min[\"CL\"].head()"
   ]
  },
  {
   "cell_type": "markdown",
   "metadata": {},
   "source": [
    "## Top movements for a symbol"
   ]
  },
  {
   "cell_type": "code",
   "execution_count": null,
   "metadata": {},
   "outputs": [],
   "source": [
    "symbol = \"CL\""
   ]
  },
  {
   "cell_type": "code",
   "execution_count": null,
   "metadata": {},
   "outputs": [],
   "source": [
    "top_100_movements_cl_5_min = get_top_movements_for_symbol(\n",
    "    five_min_price_dict_df, symbol\n",
    ")"
   ]
  },
  {
   "cell_type": "code",
   "execution_count": null,
   "metadata": {},
   "outputs": [],
   "source": [
    "top_100_movements_cl_5_min.plot(kind=\"bar\")\n",
    "plt.title(\n",
    "    f\"Largest price movements in in a 5 min interval (in z-score space) for {symbol} symbol\"\n",
    ")\n",
    "plt.show()"
   ]
  },
  {
   "cell_type": "code",
   "execution_count": null,
   "metadata": {},
   "outputs": [],
   "source": [
    "print(f\"Top 100 of the price movements for {symbol} occur at the following time:\")\n",
    "print(pd.Series(top_100_movements_cl_5_min.index).dt.time.value_counts())"
   ]
  },
  {
   "cell_type": "markdown",
   "metadata": {},
   "source": [
    "## Largest movements for energy group"
   ]
  },
  {
   "cell_type": "code",
   "execution_count": null,
   "metadata": {},
   "outputs": [],
   "source": [
    "group = \"Energy\""
   ]
  },
  {
   "cell_type": "code",
   "execution_count": null,
   "metadata": {},
   "outputs": [],
   "source": [
    "commodity_symbols_kibot[group]"
   ]
  },
  {
   "cell_type": "code",
   "execution_count": null,
   "metadata": {},
   "outputs": [],
   "source": [
    "get_top_movements_by_group(five_min_price_dict_df, commodity_symbols_kibot, group)"
   ]
  },
  {
   "cell_type": "markdown",
   "metadata": {},
   "source": [
    "## Largest movements for each group"
   ]
  },
  {
   "cell_type": "code",
   "execution_count": null,
   "metadata": {},
   "outputs": [],
   "source": [
    "top_100_5_min_movements_by_group = {\n",
    "    group: get_top_movements_by_group(\n",
    "        five_min_price_dict_df, commodity_symbols_kibot, group\n",
    "    )\n",
    "    for group in tqdm(commodity_symbols_kibot.keys())\n",
    "}"
   ]
  },
  {
   "cell_type": "code",
   "execution_count": null,
   "metadata": {},
   "outputs": [],
   "source": [
    "{\n",
    "    group: head_prices_group.head()\n",
    "    for group, head_prices_group in top_100_5_min_movements_by_group.items()\n",
    "}"
   ]
  },
  {
   "cell_type": "code",
   "execution_count": null,
   "metadata": {},
   "outputs": [],
   "source": []
  }
 ],
 "metadata": {
  "jupytext": {
   "text_representation": {
    "extension": ".py",
    "format_name": "percent",
    "format_version": "1.2",
    "jupytext_version": "1.2.4"
   }
  },
  "kernelspec": {
   "display_name": "Python [conda env:.conda-p1_develop] *",
   "language": "python",
   "name": "conda-env-.conda-p1_develop-py"
  },
  "language_info": {
   "codemirror_mode": {
    "name": "ipython",
    "version": 3
   },
   "file_extension": ".py",
   "mimetype": "text/x-python",
   "name": "python",
   "nbconvert_exporter": "python",
   "pygments_lexer": "ipython3"
  },
  "toc": {
   "base_numbering": 1,
   "nav_menu": {},
   "number_sections": true,
   "sideBar": true,
   "skip_h1_title": false,
   "title_cell": "Table of Contents",
   "title_sidebar": "Contents",
   "toc_cell": false,
   "toc_position": {
    "height": "calc(100% - 180px)",
    "left": "10px",
    "top": "150px",
    "width": "394.038px"
   },
   "toc_section_display": true,
   "toc_window_display": true
  }
 },
 "nbformat": 4,
 "nbformat_minor": 2
}
