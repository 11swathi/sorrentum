{
 "cells": [
  {
   "cell_type": "markdown",
   "metadata": {},
   "source": [
    "## Import"
   ]
  },
  {
   "cell_type": "code",
   "execution_count": null,
   "metadata": {},
   "outputs": [],
   "source": [
    "%load_ext autoreload\n",
    "%autoreload 2\n",
    "# import datetime\n",
    "import logging\n",
    "\n",
    "import matplotlib.pyplot as plt\n",
    "import pandas as pd\n",
    "import seaborn as sns\n",
    "\n",
    "import core.explore as exp\n",
    "import core.features_analyzer as ana\n",
    "import core.finance as fin\n",
    "import helpers.config as cfg\n",
    "import helpers.dbg as dbg\n",
    "import helpers.env as env\n",
    "import helpers.printing as pri\n",
    "import vendors.particle_one.utils as put"
   ]
  },
  {
   "cell_type": "code",
   "execution_count": null,
   "metadata": {},
   "outputs": [],
   "source": [
    "print(env.get_system_signature())\n",
    "\n",
    "pri.config_notebook()\n",
    "\n",
    "# TODO(gp): Changing level during the notebook execution doesn't work. Fix it.\n",
    "# dbg.init_logger(verb=logging.DEBUG)\n",
    "dbg.init_logger(verb=logging.INFO)\n",
    "# dbg.test_logger()\n",
    "\n",
    "_LOG = logging.getLogger(__name__)"
   ]
  },
  {
   "cell_type": "markdown",
   "metadata": {},
   "source": [
    "# Config"
   ]
  },
  {
   "cell_type": "code",
   "execution_count": null,
   "metadata": {},
   "outputs": [],
   "source": [
    "config = {\n",
    "    \"feature_file_name\": \"/Users/saggese/GoogleDrive/alphamatic/Particle/Tech/twitter_dataset_sentiment_07.05.19.csv\",\n",
    "    #\n",
    "    \"feat_zscore_com\": 28,\n",
    "    #\n",
    "}\n",
    "\n",
    "if True:\n",
    "    config.update(\n",
    "        {\n",
    "            \"agg_interval\": \"1T\",\n",
    "            # \"agg_interval\": \"5T\",\n",
    "            \"agg_function\": \"mean\",\n",
    "            #\n",
    "            \"rets_file_name\": \"/Users/saggese/src/lemonade/vendors/particle_one/oil_1min_zrets.csv\",\n",
    "        }\n",
    "    )\n",
    "else:\n",
    "    config.update(\n",
    "        {\n",
    "            # TODO(gp): weekday\n",
    "            \"agg_interval\": \"1B\",\n",
    "            \"agg_function\": \"mean\",\n",
    "            #\n",
    "            \"rets_file_name\": \"/Users/saggese/src/lemonade/vendors/particle_one/oil_daily_zrets.csv\",\n",
    "        }\n",
    "    )\n",
    "\n",
    "_LOG.info(\"config=\\n%s\", cfg.config_to_string(config))"
   ]
  },
  {
   "cell_type": "markdown",
   "metadata": {},
   "source": [
    "# Read data"
   ]
  },
  {
   "cell_type": "code",
   "execution_count": null,
   "metadata": {},
   "outputs": [],
   "source": [
    "feat_data = put.read_data_from_config(config)\n",
    "\n",
    "_LOG.info(\"feat_data=\\n%s\", feat_data.head(3))"
   ]
  },
  {
   "cell_type": "markdown",
   "metadata": {},
   "source": [
    "## Plot time distribution"
   ]
  },
  {
   "cell_type": "code",
   "execution_count": null,
   "metadata": {},
   "outputs": [],
   "source": [
    "mode = \"time_of_the_day\"\n",
    "exp.plot_time_distributions(feat_data.index, mode)\n",
    "plt.show()\n",
    "exp.plot_time_distributions(feat_data.index, mode, density=False)"
   ]
  },
  {
   "cell_type": "code",
   "execution_count": null,
   "metadata": {},
   "outputs": [],
   "source": [
    "mode = \"minute_of_the_hour\"\n",
    "exp.plot_time_distributions(feat_data.index, mode)"
   ]
  },
  {
   "cell_type": "code",
   "execution_count": null,
   "metadata": {},
   "outputs": [],
   "source": [
    "mode = \"weekday\"\n",
    "exp.plot_time_distributions(feat_data.index, mode)"
   ]
  },
  {
   "cell_type": "code",
   "execution_count": null,
   "metadata": {},
   "outputs": [],
   "source": [
    "# mode = \"day_of_the_month\"\n",
    "mode = \"month_of_the_year\"\n",
    "exp.plot_time_distributions(feat_data.index, mode)"
   ]
  },
  {
   "cell_type": "code",
   "execution_count": null,
   "metadata": {},
   "outputs": [],
   "source": [
    "# mode = \"day_of_the_month\"\n",
    "mode = \"year\"\n",
    "exp.plot_time_distributions(feat_data.index, mode, density=False)"
   ]
  },
  {
   "cell_type": "markdown",
   "metadata": {},
   "source": [
    "## Plot distribution."
   ]
  },
  {
   "cell_type": "code",
   "execution_count": null,
   "metadata": {},
   "outputs": [],
   "source": [
    "put.plot_raw_data_pdf(feat_data, put.get_raw_features())"
   ]
  },
  {
   "cell_type": "code",
   "execution_count": null,
   "metadata": {},
   "outputs": [],
   "source": [
    "exp.plot_heatmap(feat_data.corr(), \"heatmap\", annot=True, vmin=-1, vmax=1.0)"
   ]
  },
  {
   "cell_type": "markdown",
   "metadata": {},
   "source": [
    "## Compute features"
   ]
  },
  {
   "cell_type": "code",
   "execution_count": null,
   "metadata": {},
   "outputs": [],
   "source": [
    "# Resample to 1 minute\n",
    "# - sum()\n",
    "# - mean()\n",
    "\n",
    "# Build signal\n",
    "# - test each component by itself\n",
    "# - test difference of each component D+ - D-\n",
    "# - test (S+ - S-) - (D+ - D-) + (I+ - I-)"
   ]
  },
  {
   "cell_type": "code",
   "execution_count": null,
   "metadata": {},
   "outputs": [],
   "source": [
    "feat_data, new_features = put.compute_features_from_config(config, feat_data)\n",
    "\n",
    "all_features = put.get_raw_features() + new_features\n",
    "_LOG.info(\"all_features=%s\", all_features)\n",
    "_LOG.info(\"feat_data=\\n%s\", feat_data.head(3))"
   ]
  },
  {
   "cell_type": "code",
   "execution_count": null,
   "metadata": {},
   "outputs": [],
   "source": [
    "feat_names = \"demand inventory supply\".split()\n",
    "exp.plot_heatmap(\n",
    "    feat_data[feat_names].corr(), \"heatmap\", annot=True, vmin=-1, vmax=1.0\n",
    ")"
   ]
  },
  {
   "cell_type": "code",
   "execution_count": null,
   "metadata": {},
   "outputs": [],
   "source": [
    "# Count majority1 and majority2."
   ]
  },
  {
   "cell_type": "markdown",
   "metadata": {},
   "source": [
    "## Sample"
   ]
  },
  {
   "cell_type": "code",
   "execution_count": null,
   "metadata": {},
   "outputs": [],
   "source": [
    "feat_data_sampled = put.sample_features_from_config(config, feat_data)\n",
    "\n",
    "feat_data_sampled.head(2)"
   ]
  },
  {
   "cell_type": "code",
   "execution_count": null,
   "metadata": {},
   "outputs": [],
   "source": [
    "# feat_names = put.get_raw_features() + \"demand inventory supply\".split()\n",
    "feat_names = \"demand inventory supply\".split()\n",
    "put.plot_raw_data_pdf(feat_data_sampled, feat_names)"
   ]
  },
  {
   "cell_type": "code",
   "execution_count": null,
   "metadata": {},
   "outputs": [],
   "source": [
    "feat_data_sampled[[\"demand\"]].resample(\"1D\").sum().plot()\n",
    "plt.show()\n",
    "\n",
    "fin.zscore(\n",
    "    feat_data_sampled[\"demand\"],\n",
    "    com=config[\"feat_zscore_com\"],\n",
    "    demean=True,\n",
    "    standardize=True,\n",
    "    delay=1,\n",
    ").resample(\"1D\").sum().plot()"
   ]
  },
  {
   "cell_type": "markdown",
   "metadata": {},
   "source": [
    "# Read returns"
   ]
  },
  {
   "cell_type": "code",
   "execution_count": null,
   "metadata": {},
   "outputs": [],
   "source": [
    "_LOG.info(\"Reading csv '%s'\", config[\"rets_file_name\"])\n",
    "rets = pd.read_csv(config[\"rets_file_name\"], index_col=0, parse_dates=True)\n",
    "\n",
    "exp.display_df(rets)"
   ]
  },
  {
   "cell_type": "code",
   "execution_count": null,
   "metadata": {},
   "outputs": [],
   "source": [
    "exp.plot_non_na_cols(rets.resample(\"1D\").sum())"
   ]
  },
  {
   "cell_type": "code",
   "execution_count": null,
   "metadata": {},
   "outputs": [],
   "source": [
    "# Resample to 1min.\n",
    "_LOG.info(\"## Before resampling\")\n",
    "exp.report_zero_null_stats(rets)"
   ]
  },
  {
   "cell_type": "code",
   "execution_count": null,
   "metadata": {},
   "outputs": [],
   "source": [
    "rets = fin.resample_1min(rets)\n",
    "\n",
    "_LOG.info(\"## After resampling\")\n",
    "exp.report_zero_null_stats(rets_tmp)\n",
    "\n",
    "rets.fillna(0.0, inplace=True)"
   ]
  },
  {
   "cell_type": "code",
   "execution_count": null,
   "metadata": {},
   "outputs": [],
   "source": [
    "rets.resample(\"1B\").sum().cumsum().plot()"
   ]
  },
  {
   "cell_type": "code",
   "execution_count": null,
   "metadata": {},
   "outputs": [],
   "source": [
    "annot = True\n",
    "stocks_corr = rets.corr()\n",
    "\n",
    "sns.clustermap(stocks_corr, annot=annot)"
   ]
  },
  {
   "cell_type": "markdown",
   "metadata": {},
   "source": [
    "# Analysis"
   ]
  },
  {
   "cell_type": "code",
   "execution_count": null,
   "metadata": {},
   "outputs": [],
   "source": [
    "display(rets.dropna().head(3))\n",
    "display(feat_data_sampled.dropna().head(3))"
   ]
  },
  {
   "cell_type": "code",
   "execution_count": null,
   "metadata": {},
   "outputs": [],
   "source": [
    "all_df = pd.concat([rets, feat_data_sampled], axis=1, sort=True)\n",
    "\n",
    "if config[\"feat_zscore_com\"] is not None:\n",
    "    _LOG.info(\"z-scoring\")\n",
    "    cols = [c for c in all_df.columns if not c.endswith(\"_ret_0\")]\n",
    "    _LOG.info(\"cols=%s\", cols)\n",
    "    all_df[cols] = fin.zscore(\n",
    "        all_df[cols],\n",
    "        com=config[\"feat_zscore_com\"],\n",
    "        demean=True,\n",
    "        standardize=True,\n",
    "        delay=1,\n",
    "    )\n",
    "\n",
    "all_df.dropna().tail()"
   ]
  },
  {
   "cell_type": "code",
   "execution_count": null,
   "metadata": {},
   "outputs": [],
   "source": [
    "y_var = \"CL_ret_0\"\n",
    "# y_var = \"NG_ret_0\"\n",
    "x_vars = \"demand inventory supply\".split()\n",
    "# use_intercept = True\n",
    "use_intercept = False\n",
    "nan_mode = \"drop\"\n",
    "# x_shifts = [0]\n",
    "x_shifts = [-5, -3, -2, -1, 0, 1, 2, 3, 5]\n",
    "# x_shifts = [-5, -3, -2, -1, 0]\n",
    "res_df = ana.analyze_features(\n",
    "    all_df, y_var, x_vars, use_intercept, nan_mode=nan_mode, x_shifts=x_shifts\n",
    ")\n",
    "display(res_df)"
   ]
  },
  {
   "cell_type": "code",
   "execution_count": null,
   "metadata": {},
   "outputs": [],
   "source": [
    "ar = ana.Reporter(res_df)\n",
    "ar.plot()"
   ]
  },
  {
   "cell_type": "code",
   "execution_count": null,
   "metadata": {},
   "outputs": [],
   "source": [
    "if False:\n",
    "    y_var = \"CL_ret_0\"\n",
    "    y_var = \"NG_ret_0\"\n",
    "    x_vars = \"demand\"\n",
    "    # use_intercept = True\n",
    "    use_intercept = False\n",
    "    nan_mode = \"drop\"\n",
    "    x_shift = 1\n",
    "    report_stats = True\n",
    "    res_df = ana._analyze_feature(\n",
    "        all_df, y_var, x_var, use_intercept, nan_mode, x_shift, report_stats\n",
    "    )\n",
    "    display(res_df)"
   ]
  }
 ],
 "metadata": {
  "jupytext": {
   "formats": "ipynb,py:percent"
  },
  "kernelspec": {
   "display_name": "Python [conda env:develop] *",
   "language": "python",
   "name": "conda-env-develop-py"
  },
  "language_info": {
   "codemirror_mode": {
    "name": "ipython",
    "version": 3
   },
   "file_extension": ".py",
   "mimetype": "text/x-python",
   "name": "python",
   "nbconvert_exporter": "python",
   "pygments_lexer": "ipython3"
  },
  "toc": {
   "base_numbering": 1,
   "nav_menu": {},
   "number_sections": true,
   "sideBar": true,
   "skip_h1_title": false,
   "title_cell": "Table of Contents",
   "title_sidebar": "Contents",
   "toc_cell": false,
   "toc_position": {},
   "toc_section_display": true,
   "toc_window_display": true
  }
 },
 "nbformat": 4,
 "nbformat_minor": 2
}
