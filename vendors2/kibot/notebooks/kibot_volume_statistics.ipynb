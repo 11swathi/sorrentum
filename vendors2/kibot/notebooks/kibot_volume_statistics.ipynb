{
 "cells": [
  {
   "cell_type": "markdown",
   "metadata": {},
   "source": [
    "# Imports\n",
    "\n",
    "Importing all required modules."
   ]
  },
  {
   "cell_type": "code",
   "execution_count": null,
   "metadata": {},
   "outputs": [],
   "source": [
    "%load_ext autoreload\n",
    "%autoreload 2\n",
    "\n",
    "import os\n",
    "import datetime as dt\n",
    "from typing import Dict\n",
    "\n",
    "import pandas as pd\n",
    "\n",
    "import vendors2.kibot.data.load as kdl\n",
    "import vendors2.kibot.data.types as types\n",
    "import vendors2.kibot.data.load.file_path_generator as fpgen\n",
    "import helpers.s3 as hs3"
   ]
  },
  {
   "cell_type": "markdown",
   "metadata": {},
   "source": [
    "Define helper functions to calculate the report."
   ]
  },
  {
   "cell_type": "code",
   "execution_count": null,
   "metadata": {},
   "outputs": [],
   "source": [
    "def slice_price_data(\n",
    "        price_df_dict: Dict[str, pd.DataFrame], last_years: int\n",
    ") -> Dict[str, pd.DataFrame]:\n",
    "    \"\"\"\n",
    "    Slice DataFrames for each symbol to contain records only for the last_years years.\n",
    "\n",
    "    :param price_df_dict: {symbol: prices_for_symbol_df}\n",
    "    :param last_years: Number of years data is averaged to.\n",
    "    :return: {symbol: prices_for_symbol_df} sliced.\n",
    "    \"\"\"\n",
    "    now = dt.datetime.now()\n",
    "    # TODO(vr): check if dateutils.relativedate is better?\n",
    "    before = now - dt.timedelta(days=last_years * 365)\n",
    "    sliced_price_df_dict = {\n",
    "        symbol: prices.loc[before:now]\n",
    "        for symbol, prices in price_df_dict.items()\n",
    "    }\n",
    "    return sliced_price_df_dict\n",
    "\n",
    "\n",
    "def get_start_date(\n",
    "        price_df_dict: Dict[str, pd.DataFrame]\n",
    ") -> pd.DataFrame:\n",
    "    \"\"\"\n",
    "    Extract start dates for each time series.\n",
    "\n",
    "    :param price_df_dict: {symbol: prices_for_symbol_df}\n",
    "    :return: pd.DataFrame indexed by symbol\n",
    "    \"\"\"\n",
    "    start_date_dict = {\n",
    "       symbol: prices.index[0].strftime('%Y-%m-%d')\n",
    "       for symbol, prices in price_df_dict.items()\n",
    "   }\n",
    "    start_date_df = pd.DataFrame.from_dict(\n",
    "        start_date_dict, orient=\"index\", columns=[\"start_date\"]\n",
    "    )\n",
    "    return start_date_df\n",
    "\n",
    "\n",
    "def get_price_data(\n",
    "    price_df_dict: Dict[str, pd.DataFrame], price_col: str, agg_func: str, last_years: int\n",
    ") -> pd.DataFrame:\n",
    "    \"\"\"\n",
    "    Get grouped prices for each symbol.\n",
    "\n",
    "    :param price_df_dict: {symbol: prices_for_symbol_df}\n",
    "    :param price_col: The name of the price column\n",
    "    :param agg_func: The name of the aggregation function that needs to\n",
    "        be applied to the prices for each symbol\n",
    "    :param last_years: Number of years data is averaged to.\n",
    "    :return: pd.DataFrame indexed by symbol\n",
    "    \"\"\"\n",
    "    price_dict = {\n",
    "        symbol: getattr(prices[price_col], agg_func)()\n",
    "        for symbol, prices in price_df_dict.items()\n",
    "    }\n",
    "    price_df = pd.DataFrame.from_dict(\n",
    "        price_dict, orient=\"index\", columns=[f\"{agg_func}_{last_years}y_{price_col}\"]\n",
    "    )\n",
    "    price_df.index.name = \"symbol\"\n",
    "    return price_df"
   ]
  },
  {
   "cell_type": "markdown",
   "metadata": {},
   "source": [
    "Define main method to generate the report for a dataset."
   ]
  },
  {
   "cell_type": "code",
   "execution_count": null,
   "metadata": {},
   "outputs": [],
   "source": [
    "def generate_report(contract_type: types.ContractType, frequency: types.Frequency) -> pd.DataFrame:\n",
    "    \"\"\"\n",
    "    Generate a report for a dataset.\n",
    "\n",
    "    :param frequency: `D` or `T` for daily or minutely data respectively\n",
    "    :param contract_type: `continuous` or `expiry`\n",
    "    :return: a dataframe with the report\n",
    "    \"\"\"\n",
    "    dataset_aws_path = fpgen.FilePathGenerator().generate_file_path(\n",
    "        frequency, contract_type, \"ROOT\", ext=types.Extension.CSV\n",
    "    )\n",
    "    dataset_aws_directory = os.path.dirname(dataset_aws_path)\n",
    "    # Get a list of payloads (symbols) in format XYZ.csv.gz.\n",
    "    payloads = hs3.listdir(dataset_aws_directory, mode=\"non-recursive\")\n",
    "    # Get only first n-rows.\n",
    "    n_rows = 100\n",
    "    # Get only symbols list.\n",
    "    symbols = tuple(payload.replace(\".csv.gz\", \"\") for payload in payloads[:n_rows])\n",
    "    # Read dataframes.\n",
    "    kibot_data_loader = kdl.KibotDataLoader()\n",
    "    price_df_dict = kibot_data_loader.read_data(frequency, contract_type, symbols)\n",
    "    # Get avg. vol for the last 1 year\n",
    "    price_1y_df_dict = slice_price_data(price_df_dict, last_years=1)\n",
    "    mean_1y_vol = get_price_data(price_1y_df_dict, \"vol\", \"mean\", last_years=1)\n",
    "    # Get avg. vol for the last 3 years\n",
    "    price_3y_df_dict = slice_price_data(price_df_dict, last_years=3)\n",
    "    mean_3y_vol = get_price_data(price_3y_df_dict, \"vol\", \"mean\", last_years=3)\n",
    "    # Get avg. vol for the last 5 years\n",
    "    price_5y_df_dict = slice_price_data(price_df_dict, last_years=5)\n",
    "    mean_5y_vol = get_price_data(price_5y_df_dict, \"vol\", \"mean\", last_years=5)\n",
    "    # Get start date for each symbol.\n",
    "    start_date_df = get_start_date(price_df_dict)\n",
    "    # Get report for dataset.\n",
    "    report = pd.concat([start_date_df, mean_1y_vol, mean_3y_vol, mean_5y_vol], axis=1, join='inner')\n",
    "    report.index.name = \"symbol\"\n",
    "    report.fillna(0, inplace=True)\n",
    "    return report\n"
   ]
  },
  {
   "cell_type": "markdown",
   "metadata": {},
   "source": [
    "Report for all_futures_contracts_1min"
   ]
  },
  {
   "cell_type": "code",
   "execution_count": null,
   "metadata": {},
   "outputs": [],
   "source": [
    "dataset_report = generate_report(types.ContractType.Expiry, types.Frequency.Minutely)\n",
    "dataset_report"
   ]
  },
  {
   "cell_type": "markdown",
   "metadata": {},
   "source": [
    "Report for all_futures_contracts_daily"
   ]
  },
  {
   "cell_type": "code",
   "execution_count": null,
   "metadata": {},
   "outputs": [],
   "source": [
    "dataset_report = generate_report(types.ContractType.Expiry, types.Frequency.Daily)\n",
    "dataset_report"
   ]
  },
  {
   "cell_type": "markdown",
   "metadata": {},
   "source": [
    "Report for futures_continuous_contracts_1min"
   ]
  },
  {
   "cell_type": "code",
   "execution_count": null,
   "metadata": {},
   "outputs": [],
   "source": [
    "dataset_report = generate_report(types.ContractType.Continuous, types.Frequency.Minutely)\n",
    "dataset_report"
   ]
  },
  {
   "cell_type": "markdown",
   "metadata": {},
   "source": [
    "Report for futures_continuous_contracts_daily"
   ]
  },
  {
   "cell_type": "code",
   "execution_count": null,
   "metadata": {},
   "outputs": [],
   "source": [
    "dataset_report = generate_report(types.ContractType.Continuous, types.Frequency.Daily)\n",
    "dataset_report"
   ]
  }
 ],
 "metadata": {
  "kernelspec": {
   "display_name": "Python 3",
   "language": "python",
   "name": "python3"
  },
  "language_info": {
   "codemirror_mode": {
    "name": "ipython",
    "version": 2
   },
   "file_extension": ".py",
   "mimetype": "text/x-python",
   "name": "python",
   "nbconvert_exporter": "python",
   "pygments_lexer": "ipython2"
  }
 },
 "nbformat": 4,
 "nbformat_minor": 0
}
