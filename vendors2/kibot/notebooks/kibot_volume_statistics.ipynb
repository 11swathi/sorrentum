{
 "cells": [
  {
   "cell_type": "markdown",
   "metadata": {},
   "source": [
    "\n",
    "# Imports\n",
    "\n",
    "Importing all required modules."
   ]
  },
  {
   "cell_type": "code",
   "execution_count": null,
   "metadata": {},
   "outputs": [],
   "source": [
    "%load_ext autoreload\n",
    "%autoreload 2\n",
    "\n",
    "import datetime as dt\n",
    "import os\n",
    "\n",
    "import pandas as pd\n",
    "\n",
    "import helpers.s3 as hs3\n",
    "import vendors2.kibot.data.load as kdl\n",
    "import vendors2.kibot.data.load.file_path_generator as fpgen\n",
    "import vendors2.kibot.data.types as types\n",
    "\n",
    "# This will be changed later when Exchange will be developed.\n",
    "EXCHANGE = \"TestExchange\""
   ]
  },
  {
   "cell_type": "markdown",
   "metadata": {},
   "source": [
    "Define helper functions to calculate the report."
   ]
  },
  {
   "cell_type": "code",
   "execution_count": null,
   "metadata": {},
   "outputs": [],
   "source": [
    "def slice_price_data(\n",
    "    prices: pd.DataFrame, last_years: int\n",
    ") -> pd.DataFrame:\n",
    "    \"\"\"Slice DataFrames for each symbol to contain records only for the\n",
    "    last_years years.\n",
    "\n",
    "    :param prices: price for symbol dataframe.\n",
    "    :param last_years: Number of years data is averaged to.\n",
    "    :return: dataframe sliced.\n",
    "    \"\"\"\n",
    "    now = dt.datetime.now()\n",
    "    # TODO(vr): check if dateutils.relativedate is better?\n",
    "    before = now - dt.timedelta(days=last_years * 365)\n",
    "    return prices.loc[before:now]\n",
    "\n",
    "\n",
    "def get_start_date(prices_df: pd.DataFrame) -> str:\n",
    "    \"\"\"Extract start dates for each time series.\n",
    "\n",
    "    :param prices_df: dataframe with prices\n",
    "    :return: start date as string\n",
    "    \"\"\"\n",
    "    start_date = prices_df.index[0].strftime(\"%Y-%m-%d\")\n",
    "    return start_date\n",
    "\n",
    "\n",
    "def get_price_data(\n",
    "    prices_df: pd.DataFrame,\n",
    "    price_col: str,\n",
    "    agg_func: str,\n",
    ") -> float:\n",
    "    \"\"\"Get grouped prices for each symbol.\n",
    "\n",
    "    :param prices_df: dataframe with prices\n",
    "    :param price_col: The name of the price column\n",
    "    :param agg_func: The name of the aggregation function that needs to\n",
    "        be applied to the prices for each symbol\n",
    "    :return:\n",
    "    \"\"\"\n",
    "    val = getattr(prices_df[price_col], agg_func)()\n",
    "    return val"
   ]
  },
  {
   "cell_type": "markdown",
   "metadata": {},
   "source": [
    "Define main method to generate the report for a dataset."
   ]
  },
  {
   "cell_type": "code",
   "execution_count": null,
   "metadata": {},
   "outputs": [],
   "source": [
    "def generate_report(\n",
    "    exchange: str,\n",
    "    asset_class: types.AssetClass,\n",
    "    contract_type: types.ContractType,\n",
    "    frequency: types.Frequency\n",
    ") -> pd.DataFrame:\n",
    "    \"\"\"Generate a report for a dataset.\n",
    "\n",
    "    :param exchange:\n",
    "    :param frequency: `D` or `T` for daily or minutely data respectively\n",
    "    :param asset_class:\n",
    "    :param contract_type: `continuous` or `expiry`\n",
    "    :return: a dataframe with the report\n",
    "    \"\"\"\n",
    "    dataset_aws_path = fpgen.FilePathGenerator().generate_file_path( \"\",\n",
    "        frequency, asset_class, contract_type, ext=types.Extension.CSV\n",
    "    )\n",
    "    dataset_aws_directory = os.path.dirname(dataset_aws_path)\n",
    "    # Get a list of payloads (symbols) in format XYZ.csv.gz.\n",
    "    payloads = hs3.listdir(dataset_aws_directory, mode=\"non-recursive\")\n",
    "    # Get only first n-rows.\n",
    "    n_rows = 10\n",
    "    # Get only symbols list.\n",
    "    symbols = tuple(\n",
    "        payload.replace(\".csv.gz\", \"\") for payload in payloads[:n_rows]\n",
    "    )\n",
    "    # Read dataframes.\n",
    "    kibot_data_loader = kdl.S3KibotDataLoader()\n",
    "    report_data = []\n",
    "    for symbol in symbols:\n",
    "        df = kibot_data_loader.read_data(exchange, symbol, asset_class, frequency, contract_type)\n",
    "        # Get avg. vol for the last 1 year\n",
    "        price_1y_df = slice_price_data(df, last_years=1)\n",
    "        mean_1y_vol = get_price_data(price_1y_df, \"vol\", \"mean\")\n",
    "        # Get avg. vol for the last 3 years\n",
    "        price_3y_df = slice_price_data(df, last_years=3)\n",
    "        mean_3y_vol = get_price_data(price_3y_df, \"vol\", \"mean\")\n",
    "        # Get avg. vol for the last 5 years\n",
    "        price_5y_df = slice_price_data(df, last_years=5)\n",
    "        mean_5y_vol = get_price_data(price_5y_df, \"vol\", \"mean\")\n",
    "        # Get start date for each symbol.\n",
    "        start_date = get_start_date(df)\n",
    "        report_data.append((symbol, start_date, mean_1y_vol, mean_3y_vol, mean_5y_vol))\n",
    "    report = pd.DataFrame.from_records(\n",
    "        report_data,\n",
    "        index=\"symbol\",\n",
    "        columns=[\"symbol\", \"start_date\", \"mean_1y_vol\", \"mean_3y_vol\", \"mean_5y_vol\"]\n",
    "    )\n",
    "    report.fillna(0, inplace=True)\n",
    "    return report"
   ]
  },
  {
   "cell_type": "markdown",
   "metadata": {},
   "source": [
    "Report for all_futures_contracts_1min"
   ]
  },
  {
   "cell_type": "code",
   "execution_count": null,
   "metadata": {},
   "outputs": [],
   "source": [
    "dataset_report = generate_report(\n",
    "    EXCHANGE,\n",
    "    types.AssetClass.Futures,\n",
    "    types.ContractType.Expiry,\n",
    "    types.Frequency.Minutely\n",
    ")\n",
    "dataset_report"
   ]
  },
  {
   "cell_type": "markdown",
   "metadata": {},
   "source": [
    "Report for all_futures_contracts_daily"
   ]
  },
  {
   "cell_type": "code",
   "execution_count": null,
   "metadata": {},
   "outputs": [],
   "source": [
    "dataset_report = generate_report(\n",
    "    EXCHANGE,\n",
    "    types.AssetClass.Futures,\n",
    "    types.ContractType.Expiry,\n",
    "    types.Frequency.Daily\n",
    ")\n",
    "dataset_report"
   ]
  },
  {
   "cell_type": "markdown",
   "metadata": {},
   "source": [
    "Report for all_futures_continuous_contracts_1min"
   ]
  },
  {
   "cell_type": "code",
   "execution_count": null,
   "metadata": {},
   "outputs": [],
   "source": [
    "dataset_report = generate_report(\n",
    "    EXCHANGE,\n",
    "    types.AssetClass.Futures,\n",
    "    types.ContractType.Continuous,\n",
    "    types.Frequency.Minutely\n",
    ")\n",
    "dataset_report"
   ]
  },
  {
   "cell_type": "markdown",
   "metadata": {},
   "source": [
    "Report for all_futures_continuous_contracts_daily"
   ]
  },
  {
   "cell_type": "code",
   "execution_count": null,
   "metadata": {},
   "outputs": [],
   "source": [
    "dataset_report = generate_report(\n",
    "    EXCHANGE,\n",
    "    types.AssetClass.Futures,\n",
    "    types.ContractType.Continuous,\n",
    "    types.Frequency.Daily\n",
    ")\n",
    "dataset_report"
   ]
  }
 ],
 "metadata": {
  "jupytext": {
   "text_representation": {
    "extension": ".py",
    "format_name": "percent",
    "format_version": "1.3",
    "jupytext_version": "1.5.2"
   }
  },
  "kernelspec": {
   "display_name": "Python 3",
   "language": "python",
   "name": "python3"
  },
  "language_info": {
   "codemirror_mode": {
    "name": "ipython",
    "version": 3
   },
   "file_extension": ".py",
   "mimetype": "text/x-python",
   "name": "python",
   "nbconvert_exporter": "python",
   "pygments_lexer": "ipython3"
  },
  "toc": {
   "base_numbering": 1,
   "nav_menu": {},
   "number_sections": true,
   "sideBar": true,
   "skip_h1_title": false,
   "title_cell": "Table of Contents",
   "title_sidebar": "Contents",
   "toc_cell": false,
   "toc_position": {},
   "toc_section_display": true,
   "toc_window_display": false
  }
 },
 "nbformat": 4,
 "nbformat_minor": 1
}
