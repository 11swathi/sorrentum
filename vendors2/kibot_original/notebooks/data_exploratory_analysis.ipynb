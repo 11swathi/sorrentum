{
 "cells": [
  {
   "cell_type": "markdown",
   "metadata": {},
   "source": [
    "# Description\n",
    "- This notebook shows how to use the Kibot API"
   ]
  },
  {
   "cell_type": "markdown",
   "metadata": {},
   "source": [
    "## Import"
   ]
  },
  {
   "cell_type": "code",
   "execution_count": null,
   "metadata": {},
   "outputs": [],
   "source": [
    "%load_ext autoreload\n",
    "%autoreload 2\n",
    "import logging\n",
    "\n",
    "import pandas as pd\n",
    "import seaborn as sns\n",
    "\n",
    "import core.config as cfg\n",
    "import core.explore as exp\n",
    "import core.finance as fin\n",
    "import helpers.dbg as dbg\n",
    "import helpers.env as env\n",
    "import helpers.printing as pri\n",
    "import vendors2.kibot.utils as kut"
   ]
  },
  {
   "cell_type": "code",
   "execution_count": null,
   "metadata": {},
   "outputs": [],
   "source": [
    "print(env.get_system_signature())\n",
    "\n",
    "pri.config_notebook()\n",
    "\n",
    "# dbg.init_logger(verbosity=logging.DEBUG)\n",
    "dbg.init_logger(verbosity=logging.INFO)\n",
    "# dbg.test_logger()\n",
    "\n",
    "_LOG = logging.getLogger(__name__)"
   ]
  },
  {
   "cell_type": "markdown",
   "metadata": {},
   "source": [
    "# Metadata"
   ]
  },
  {
   "cell_type": "markdown",
   "metadata": {},
   "source": [
    "## Read metadata"
   ]
  },
  {
   "cell_type": "code",
   "execution_count": null,
   "metadata": {},
   "outputs": [],
   "source": [
    "kmd = kut.KibotMetadata()\n",
    "metadata = kmd.get_metadata()\n",
    "metadata"
   ]
  },
  {
   "cell_type": "code",
   "execution_count": null,
   "metadata": {},
   "outputs": [],
   "source": [
    "metadata.sort_index()"
   ]
  },
  {
   "cell_type": "markdown",
   "metadata": {},
   "source": [
    "## Read misc metadata"
   ]
  },
  {
   "cell_type": "code",
   "execution_count": null,
   "metadata": {},
   "outputs": [],
   "source": [
    "df1 = kut.read_1min_contract_metadata()\n",
    "df1.head(3)"
   ]
  },
  {
   "cell_type": "code",
   "execution_count": null,
   "metadata": {},
   "outputs": [],
   "source": [
    "df2 = kut.read_daily_contract_metadata()\n",
    "df2.head(3)"
   ]
  },
  {
   "cell_type": "code",
   "execution_count": null,
   "metadata": {},
   "outputs": [],
   "source": [
    "df3 = kut.read_tickbidask_contract_metadata()\n",
    "df3.head(3)"
   ]
  },
  {
   "cell_type": "code",
   "execution_count": null,
   "metadata": {},
   "outputs": [],
   "source": [
    "df4 = kut.read_continuous_contract_metadata()\n",
    "print(df4.head(3))\n",
    "\n",
    "print(df4[\"Exchange\"].unique())"
   ]
  },
  {
   "cell_type": "code",
   "execution_count": null,
   "metadata": {},
   "outputs": [],
   "source": [
    "df4.dropna(how=\"all\")"
   ]
  },
  {
   "cell_type": "markdown",
   "metadata": {},
   "source": [
    "## Explore metadata"
   ]
  },
  {
   "cell_type": "code",
   "execution_count": null,
   "metadata": {},
   "outputs": [],
   "source": [
    "mask = [\"GAS\" in d or \"OIL\" in d for d in df4[\"Description\"].values]\n",
    "print(sum(mask))\n",
    "print(df4[mask].drop([\"SymbolBase\", \"Size(MB)\"], axis=1))"
   ]
  },
  {
   "cell_type": "markdown",
   "metadata": {},
   "source": [
    "# Price data"
   ]
  },
  {
   "cell_type": "markdown",
   "metadata": {},
   "source": [
    "## Read continuous daily prices for single futures"
   ]
  },
  {
   "cell_type": "code",
   "execution_count": null,
   "metadata": {},
   "outputs": [],
   "source": [
    "s = \"CL\"\n",
    "# nrows = None\n",
    "nrows = 10000\n",
    "df = kut.read_data(\"D\", \"continuous\", s, nrows=nrows)\n",
    "df.head(3)"
   ]
  },
  {
   "cell_type": "markdown",
   "metadata": {},
   "source": [
    "## Read continuous 1-min prices for single futures"
   ]
  },
  {
   "cell_type": "code",
   "execution_count": null,
   "metadata": {},
   "outputs": [],
   "source": [
    "s = \"CL\"\n",
    "# nrows = None\n",
    "nrows = 10000\n",
    "df = kut.read_data(\"T\", \"continuous\", s, nrows=nrows)\n",
    "df.head(3)"
   ]
  },
  {
   "cell_type": "code",
   "execution_count": null,
   "metadata": {},
   "outputs": [],
   "source": [
    "## Read continuous 1-min prices for multiple futures"
   ]
  },
  {
   "cell_type": "markdown",
   "metadata": {},
   "source": [
    "## Read continuous daily prices for multiple futures"
   ]
  },
  {
   "cell_type": "code",
   "execution_count": null,
   "metadata": {},
   "outputs": [],
   "source": [
    "symbols = tuple(\"CL NG RB BZ\".split())\n",
    "nrows = 10000\n",
    "\n",
    "daily_price_dict_df = kut.read_data(\"D\", \"continuous\", symbols, nrows=nrows)\n",
    "\n",
    "daily_price_dict_df[\"CL\"].head(3)"
   ]
  },
  {
   "cell_type": "markdown",
   "metadata": {},
   "source": [
    "## Read continuous 1-min prices for multiple futures"
   ]
  },
  {
   "cell_type": "code",
   "execution_count": null,
   "metadata": {},
   "outputs": [],
   "source": [
    "symbols = tuple(\"CL NG RB BZ\".split())\n",
    "nrows = 10000\n",
    "\n",
    "daily_price_dict_df = kut.read_data(\"D\", \"continuous\", symbols, nrows=nrows)\n",
    "\n",
    "daily_price_dict_df[\"CL\"].head(3)"
   ]
  },
  {
   "cell_type": "markdown",
   "metadata": {},
   "source": [
    "## Read data through config API"
   ]
  },
  {
   "cell_type": "code",
   "execution_count": null,
   "metadata": {},
   "outputs": [],
   "source": [
    "config = cfg.Config.from_env()\n",
    "\n",
    "if config is None:\n",
    "    config = cfg.Config()\n",
    "    config_tmp = config.add_subconfig(\"read_data\")\n",
    "    # Use the data from S3.\n",
    "    file_name = hs3.get_path() + \"/kibot/All_Futures_Contracts_1min/ES.csv.gz\"\n",
    "    config_tmp[\"file_name\"] = file_name\n",
    "    config_tmp[\"nrows\"] = 100000\n",
    "\n",
    "_LOG.info(config)"
   ]
  },
  {
   "cell_type": "code",
   "execution_count": null,
   "metadata": {},
   "outputs": [],
   "source": [
    "def read_data_from_config(config):\n",
    "    _LOG.info(\"Reading data ...\")\n",
    "    config.check_params([\"file_name\"])\n",
    "    return kut._read_data(config[\"file_name\"], config.get(\"nrows\", None))\n",
    "\n",
    "\n",
    "df = read_data_from_config(config[\"read_data\"])\n",
    "\n",
    "_LOG.info(\"df.shape=%s\", df.shape)\n",
    "_LOG.info(\"datetimes=[%s, %s]\", df.index[0], df.index[-1])\n",
    "_LOG.info(\"df=\\n%s\", df.head(3))"
   ]
  },
  {
   "cell_type": "markdown",
   "metadata": {},
   "source": [
    "## Read raw data directly from S3"
   ]
  },
  {
   "cell_type": "code",
   "execution_count": null,
   "metadata": {},
   "outputs": [],
   "source": [
    "s = \"CL\"\n",
    "file_name = (\n",
    "    hs3.get_path() + \"/kibot/All_Futures_Continuous_Contracts_1min/%s.csv.gz\" % s\n",
    ")\n",
    "nrows = 10000\n",
    "\n",
    "df = pd.read_csv(file_name, header=None, parse_dates=[0], nrows=nrows)\n",
    "# df.columns = \"datetime open high low close vol\".split()\n",
    "df.head(3)"
   ]
  },
  {
   "cell_type": "markdown",
   "metadata": {},
   "source": [
    "# Return computation"
   ]
  },
  {
   "cell_type": "markdown",
   "metadata": {},
   "source": [
    "## 1-min for single futures"
   ]
  },
  {
   "cell_type": "code",
   "execution_count": null,
   "metadata": {},
   "outputs": [],
   "source": [
    "# TODO(gp)"
   ]
  },
  {
   "cell_type": "markdown",
   "metadata": {},
   "source": [
    "## 1-min for multiple futures"
   ]
  },
  {
   "cell_type": "code",
   "execution_count": null,
   "metadata": {},
   "outputs": [],
   "source": [
    "# Read multiple futures.\n",
    "symbols = tuple(\"CL NG RB BZ\".split())\n",
    "nrows = 100000\n",
    "min_price_dict_df = kut.read_data(\n",
    "    \"T\", \"continuous\", symbols, ext=\"csv\", nrows=nrows\n",
    ")\n",
    "_LOG.info(\"keys=%s\", min_price_dict_df.keys())\n",
    "min_price_dict_df[\"CL\"].tail(3)"
   ]
  },
  {
   "cell_type": "markdown",
   "metadata": {},
   "source": [
    "### Compute returns ret_0"
   ]
  },
  {
   "cell_type": "code",
   "execution_count": null,
   "metadata": {},
   "outputs": [],
   "source": [
    "def compute_ret_0_from_multiple_1min_prices(price_dict_df, mode):\n",
    "    dbg.dassert_isinstance(price_dict_df, dict)\n",
    "    rets = []\n",
    "    for s, price_df in price_dict_df.items():\n",
    "        _LOG.debug(\"Processing s=%s\", s)\n",
    "        rets_tmp = fin.compute_ret_0(price_df[\"open\"], mode)\n",
    "        rets_tmp = pd.DataFrame(rets_tmp)\n",
    "        rets_tmp.columns = [\"%s_ret_0\" % s]\n",
    "        rets.append(rets_tmp)\n",
    "    rets = pd.concat(rets, sort=True, axis=1)\n",
    "    return rets\n",
    "\n",
    "\n",
    "mode = \"pct_change\"\n",
    "min_rets = compute_ret_0_from_multiple_1min_prices(min_price_dict_df, mode)\n",
    "\n",
    "\n",
    "\n",
    "min_rets.head(3)"
   ]
  },
  {
   "cell_type": "code",
   "execution_count": null,
   "metadata": {},
   "outputs": [],
   "source": [
    "min_rets.fillna(0.0).resample(\"1D\").sum().cumsum().plot()"
   ]
  },
  {
   "cell_type": "markdown",
   "metadata": {},
   "source": [
    "### Resample to 1min"
   ]
  },
  {
   "cell_type": "code",
   "execution_count": null,
   "metadata": {},
   "outputs": [],
   "source": [
    "# Resample to 1min.\n",
    "_LOG.info(\"## Before resampling\")\n",
    "exp.report_zero_nan_inf_stats(min_rets)"
   ]
  },
  {
   "cell_type": "code",
   "execution_count": null,
   "metadata": {},
   "outputs": [],
   "source": [
    "exp.plot_non_na_cols(min_rets.resample(\"1D\").sum())"
   ]
  },
  {
   "cell_type": "code",
   "execution_count": null,
   "metadata": {},
   "outputs": [],
   "source": [
    "min_rets = fin.resample_1min(min_rets, skip_weekends=False)\n",
    "\n",
    "_LOG.info(\"## After resampling\")\n",
    "exp.report_zero_nan_inf_stats(min_rets)\n",
    "\n",
    "min_rets.fillna(0.0, inplace=True)"
   ]
  },
  {
   "cell_type": "markdown",
   "metadata": {},
   "source": [
    "### z-scoring"
   ]
  },
  {
   "cell_type": "code",
   "execution_count": null,
   "metadata": {},
   "outputs": [],
   "source": [
    "zscore_com = 28\n",
    "min_zrets = fin.zscore(\n",
    "    min_rets, com=zscore_com, demean=False, standardize=True, delay=1\n",
    ")\n",
    "min_zrets.columns = [c.replace(\"ret_\", \"zret_\") for c in min_zrets.columns]\n",
    "min_zrets.dropna().head(3)"
   ]
  },
  {
   "cell_type": "code",
   "execution_count": null,
   "metadata": {},
   "outputs": [],
   "source": [
    "min_zrets.fillna(0.0).resample(\"1D\").sum().cumsum().plot()"
   ]
  },
  {
   "cell_type": "code",
   "execution_count": null,
   "metadata": {},
   "outputs": [],
   "source": [
    "annot = True\n",
    "stocks_corr = min_rets.dropna().corr()\n",
    "\n",
    "sns.clustermap(stocks_corr, annot=annot)"
   ]
  },
  {
   "cell_type": "markdown",
   "metadata": {},
   "source": [
    "## Daily for single futures"
   ]
  },
  {
   "cell_type": "markdown",
   "metadata": {},
   "source": [
    "## Daily for multiple futures"
   ]
  }
 ],
 "metadata": {
  "jupytext": {
   "formats": "ipynb,py:percent"
  },
  "kernelspec": {
   "display_name": "Python [conda env:.conda-develop] *",
   "language": "python",
   "name": "conda-env-.conda-develop-py"
  },
  "language_info": {
   "codemirror_mode": {
    "name": "ipython",
    "version": 3
   },
   "file_extension": ".py",
   "mimetype": "text/x-python",
   "name": "python",
   "nbconvert_exporter": "python",
   "pygments_lexer": "ipython3"
  },
  "toc": {
   "base_numbering": 1,
   "nav_menu": {},
   "number_sections": true,
   "sideBar": true,
   "skip_h1_title": false,
   "title_cell": "Table of Contents",
   "title_sidebar": "Contents",
   "toc_cell": false,
   "toc_position": {},
   "toc_section_display": true,
   "toc_window_display": false
  }
 },
 "nbformat": 4,
 "nbformat_minor": 2
}
