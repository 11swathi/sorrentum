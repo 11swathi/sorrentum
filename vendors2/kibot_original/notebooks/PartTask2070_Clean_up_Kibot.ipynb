{
 "cells": [
  {
   "cell_type": "markdown",
   "metadata": {},
   "source": [
    "## Description"
   ]
  },
  {
   "cell_type": "markdown",
   "metadata": {},
   "source": [
    "Exploratory notebook for sanity-checking Kibot metadata"
   ]
  },
  {
   "cell_type": "markdown",
   "metadata": {},
   "source": [
    "## Imports"
   ]
  },
  {
   "cell_type": "code",
   "execution_count": null,
   "metadata": {},
   "outputs": [],
   "source": [
    "%load_ext autoreload\n",
    "%autoreload 2\n",
    "\n",
    "import logging\n",
    "import os\n",
    "\n",
    "import pandas as pd\n",
    "import pprint\n",
    "\n",
    "import core.finance as fin\n",
    "import core.statistics as stats\n",
    "import helpers.dbg as dbg\n",
    "import helpers.env as env\n",
    "import helpers.printing as prnt\n",
    "import vendors2.kibot.utils as kut"
   ]
  },
  {
   "cell_type": "code",
   "execution_count": null,
   "metadata": {},
   "outputs": [],
   "source": [
    "dbg.init_logger(verbosity=logging.INFO)\n",
    "\n",
    "_LOG = logging.getLogger(__name__)\n",
    "\n",
    "_LOG.info(\"%s\", env.get_system_signature()[0])\n",
    "\n",
    "prnt.config_notebook()"
   ]
  },
  {
   "cell_type": "markdown",
   "metadata": {},
   "source": [
    "## Load Kibot"
   ]
  },
  {
   "cell_type": "markdown",
   "metadata": {},
   "source": [
    "### Continuous contract metadata"
   ]
  },
  {
   "cell_type": "code",
   "execution_count": null,
   "metadata": {},
   "outputs": [],
   "source": [
    "# Load with the standalone function.\n",
    "continuous_contract_metadata = kut.read_continuous_contract_metadata()"
   ]
  },
  {
   "cell_type": "code",
   "execution_count": null,
   "metadata": {},
   "outputs": [],
   "source": [
    "# Look at the data.\n",
    "#\n",
    "# There are problems:\n",
    "#   - The last row is all NaNs\n",
    "#   - The index is float instead of int (b/c the last row has a NaN value)\n",
    "#   - The `StartDate` column is not a datetime column\n",
    "#   - (harder) The Symbols (seems \"SymbolBase\" always equals \"Symbol\")\n",
    "#     does not always match the CME GLOBEX symbol even when the \"Exchange\"\n",
    "#     description includes \"GLOBEX\"\n",
    "continuous_contract_metadata"
   ]
  },
  {
   "cell_type": "code",
   "execution_count": null,
   "metadata": {},
   "outputs": [],
   "source": [
    "# Same exercise but with the class\n",
    "km = kut.KibotMetadata()"
   ]
  },
  {
   "cell_type": "code",
   "execution_count": null,
   "metadata": {},
   "outputs": [],
   "source": [
    "km_metadata = km.get_metadata()"
   ]
  },
  {
   "cell_type": "code",
   "execution_count": null,
   "metadata": {},
   "outputs": [],
   "source": [
    "# Potential data issues:\n",
    "#   - km_metadata[\"Description\"].str.contains(\"CONTINUOUS\").value_counts()\n",
    "#     shows 250 contracts with the name \"CONTINUOUS\" in the them, yet the\n",
    "#     standalone function returns 87. Why?\n",
    "#  \n",
    "#   - \"StartDate\" is not a datetime column\n",
    "#   - \"min_contract\" and \"max_contract\" should also be datetime columns\n",
    "#   - \"num_contracts\" and \"num_expiries\" should be \"int\"\n",
    "km_metadata"
   ]
  },
  {
   "cell_type": "code",
   "execution_count": null,
   "metadata": {},
   "outputs": [],
   "source": []
  }
 ],
 "metadata": {
  "jupytext": {
   "text_representation": {
    "extension": ".py",
    "format_name": "percent",
    "format_version": "1.3",
    "jupytext_version": "1.4.1"
   }
  },
  "kernelspec": {
   "display_name": "Python [conda env:.conda-develop] *",
   "language": "python",
   "name": "conda-env-.conda-develop-py"
  },
  "language_info": {
   "codemirror_mode": {
    "name": "ipython",
    "version": 3
   },
   "file_extension": ".py",
   "mimetype": "text/x-python",
   "name": "python",
   "nbconvert_exporter": "python",
   "pygments_lexer": "ipython3"
  }
 },
 "nbformat": 4,
 "nbformat_minor": 4
}
