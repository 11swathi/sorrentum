{
 "cells": [
  {
   "cell_type": "code",
   "execution_count": null,
   "metadata": {},
   "outputs": [],
   "source": [
    "%load_ext autoreload\n",
    "%autoreload 2"
   ]
  },
  {
   "cell_type": "code",
   "execution_count": null,
   "metadata": {},
   "outputs": [],
   "source": [
    "import os\n",
    "import platform"
   ]
  },
  {
   "cell_type": "code",
   "execution_count": null,
   "metadata": {},
   "outputs": [],
   "source": [
    "import boto3"
   ]
  },
  {
   "cell_type": "code",
   "execution_count": null,
   "metadata": {},
   "outputs": [],
   "source": [
    "import bs4\n",
    "import matplotlib\n",
    "\n",
    "# TODO(gp): Create conda package.\n",
    "import numpy as np\n",
    "import pandas as pd\n",
    "import scipy\n",
    "import seaborn as sns\n",
    "import sklearn"
   ]
  },
  {
   "cell_type": "code",
   "execution_count": null,
   "metadata": {},
   "outputs": [],
   "source": [
    "import helpers.io_ as io_\n",
    "import helpers.printing as print_\n",
    "import helpers.s3 as hs3\n",
    "\n",
    "print(\"python=\", platform.python_version())\n",
    "\n",
    "print(\"numpy=\", np.__version__)\n",
    "print(\"pandas=\", pd.__version__)\n",
    "print(\"seaborn=\", sns.__version__)\n",
    "print(\"scipy=\", scipy.__version__)\n",
    "print(\"matplotlib=\", matplotlib.__version__)\n",
    "print(\"sklearn=\", sklearn.__version__)\n",
    "\n",
    "\n",
    "print_.config_notebook()\n",
    "\n",
    "\n",
    "s3_resource = boto3.resource(\"s3\")"
   ]
  },
  {
   "cell_type": "markdown",
   "metadata": {},
   "source": [
    "Below is the list of all products you have ordered so far:\n",
    "\n",
    "1. All Futures Continuous Contracts tick on 3/21/2019       Download...\n",
    "2. All Futures Continuous Contracts 1min on 3/21/2019       Download...\n",
    "3. All Futures Continuous Contracts daily on 3/21/2019       Download...\n",
    "4. All Futures Contracts 1min on 7/20/2018       Download...\n",
    "5. All Futures Contracts daily on 7/20/2018       Download..."
   ]
  },
  {
   "cell_type": "markdown",
   "metadata": {},
   "source": [
    "# Get list of links to download."
   ]
  },
  {
   "cell_type": "code",
   "execution_count": null,
   "metadata": {},
   "outputs": [],
   "source": [
    "if False:\n",
    "    #!wget http://www.kibot.com/downloadtext.aspx?product=1,All_Futures_Contracts_daily -O All_Futures_Contracts_daily.txt\n",
    "    pass"
   ]
  },
  {
   "cell_type": "code",
   "execution_count": null,
   "metadata": {},
   "outputs": [],
   "source": [
    "# wget 'http://api.kibot.com/?action=download&link=v8v5vuv9vdv43kvmv9vnvuvdvbpkkrvupkvavs3kvzvtvuvtvbvsvnkrvtv4v8v2vjvtvnvuvsv23kk1krvnpkvcvrvdv13k3m363zkcknkrv9v4vuvsvbvlv8v13kv2v8v9v1pkkrvnvuv8vbvuv2v8vuvs3kkckikckikcktktk1krv2v9vbvsv5vu3kkckrv8vuvuv8v5vmvcvsv4vu3kkckrvbvsv7vtv1v8vbvnvsvnvnv9vdv43kk1krvtvnvsvb3kv8vrvsv43pv5vdvcv5v8vnvukjv4vsvukrvav8vnvnv6vdvbv23kvsvzvsk4vsvbvsv7vaaiamal7n7r7n7v' --compression=gzip -qO- | gzip >test.csv.gz"
   ]
  },
  {
   "cell_type": "code",
   "execution_count": null,
   "metadata": {},
   "outputs": [],
   "source": [
    "# Need to save from the browser because of auth issues.\n",
    "# tag = \"All_Futures_Contracts_1min\"\n",
    "tag = \"All_Futures_Contracts_Daily\"\n",
    "# All_Futures_Continuous_Contracts_1min.html\n",
    "# All_Futures_Continuous_Contracts_daily.html\n",
    "# All_Futures_Continuous_Contracts_tick.html\n",
    "\n",
    "filename = tag + \".html\"\n",
    "html = io_.from_file(filename)"
   ]
  },
  {
   "cell_type": "code",
   "execution_count": null,
   "metadata": {},
   "outputs": [],
   "source": [
    "soup = bs4.BeautifulSoup(html, \"html.parser\")\n",
    "\n",
    "tables = soup.findAll(\"table\")\n",
    "print(len(tables))\n",
    "\n",
    "for table in tables:\n",
    "    if table.findParent(\"table\") is None:\n",
    "        # print(str(table[:10])))\n",
    "        # print(table)\n",
    "        # from IPython.core.display import display, HTML\n",
    "        # display(HTML(str(table)))\n",
    "        if table.get(\"class\", \"\") == [\"ms-classic4-main\"]:\n",
    "            print(\"Found\")\n",
    "            df = pd.read_html(str(table))[0]\n",
    "            df.columns = df.iloc[0]\n",
    "            df = df.iloc[1:]\n",
    "            cols = [\n",
    "                np.where(tag.has_attr(\"href\"), tag.get(\"href\"), \"no link\")\n",
    "                for tag in table.find_all(\"a\")\n",
    "            ]\n",
    "            df[\"Link\"] = [str(c) for c in cols]"
   ]
  },
  {
   "cell_type": "code",
   "execution_count": null,
   "metadata": {},
   "outputs": [],
   "source": [
    "df.head()"
   ]
  },
  {
   "cell_type": "code",
   "execution_count": null,
   "metadata": {},
   "outputs": [],
   "source": [
    "df.to_csv(tag + \".csv\")"
   ]
  },
  {
   "cell_type": "code",
   "execution_count": null,
   "metadata": {},
   "outputs": [],
   "source": [
    "df.iloc[0][\"links\"]\n",
    "\n",
    "file_name = os.path.join(\n",
    "    hs3.get_path(), \"kibot/All_Futures_Contracts_daily/JY.csv.gz\"\n",
    ")"
   ]
  },
  {
   "cell_type": "markdown",
   "metadata": {},
   "source": [
    "# Download"
   ]
  },
  {
   "cell_type": "code",
   "execution_count": null,
   "metadata": {},
   "outputs": [],
   "source": [
    "assert 0"
   ]
  }
 ],
 "metadata": {
  "jupytext": {
   "formats": "ipynb,py:percent"
  },
  "kernelspec": {
   "display_name": "Python [conda env:develop] *",
   "language": "python",
   "name": "conda-env-develop-py"
  },
  "language_info": {
   "codemirror_mode": {
    "name": "ipython",
    "version": 3
   },
   "file_extension": ".py",
   "mimetype": "text/x-python",
   "name": "python",
   "nbconvert_exporter": "python",
   "pygments_lexer": "ipython3"
  },
  "toc": {
   "base_numbering": 1,
   "nav_menu": {},
   "number_sections": true,
   "sideBar": true,
   "skip_h1_title": false,
   "title_cell": "Table of Contents",
   "title_sidebar": "Contents",
   "toc_cell": false,
   "toc_position": {},
   "toc_section_display": true,
   "toc_window_display": false
  }
 },
 "nbformat": 4,
 "nbformat_minor": 2
}
