{
 "cells": [
  {
   "cell_type": "code",
   "execution_count": null,
   "id": "b7b1fc4b",
   "metadata": {},
   "outputs": [],
   "source": [
    "import ccxt\n",
    "import time"
   ]
  },
  {
   "cell_type": "code",
   "execution_count": null,
   "id": "4bb10d93",
   "metadata": {},
   "outputs": [],
   "source": [
    "exchange = ccxt.binance({\n",
    "    'enableRateLimit': True,\n",
    "})"
   ]
  },
  {
   "cell_type": "code",
   "execution_count": null,
   "id": "89bb69d9",
   "metadata": {},
   "outputs": [],
   "source": [
    "markets = exchange.load_markets()\n",
    "symbol = 'BTC/USDT'\n",
    "timeframe = '1m'\n",
    "since = exchange.parse8601('2019-01-01T00:00:00Z')"
   ]
  },
  {
   "cell_type": "code",
   "execution_count": null,
   "id": "30878403",
   "metadata": {},
   "outputs": [],
   "source": [
    "previous_length = 0\n",
    "all_candles = []\n",
    "limit = 1000\n",
    "duration = exchange.parse_timeframe(timeframe) * 1000\n",
    "now = exchange.milliseconds()"
   ]
  },
  {
   "cell_type": "code",
   "execution_count": null,
   "id": "427333fd",
   "metadata": {},
   "outputs": [],
   "source": [
    "%%time\n",
    "while since < now:\n",
    "    try:\n",
    "        print('---------------------------------------------------------------')\n",
    "        print('Fetching ohlcvs since', exchange.iso8601(since))\n",
    "        candles = exchange.fetch_ohlcv(symbol, timeframe, since, limit)\n",
    "        print('Fetched', len(candles), 'candles')\n",
    "        print('From', exchange.iso8601(candles[0][0]), 'to', exchange.iso8601(candles[-1][0]))\n",
    "        since = candles[-1][0] + duration\n",
    "        all_candles += candles\n",
    "        total_length = len(all_candles)\n",
    "        print('Fetched', total_length, 'candles in total')\n",
    "    except ccxt.NetworkError as e:\n",
    "        print(e)  # retry on next iteration\n",
    "    except ccxt.ExchangeError as e:\n",
    "        print(e)\n",
    "        break"
   ]
  },
  {
   "cell_type": "code",
   "execution_count": null,
   "id": "72617254",
   "metadata": {},
   "outputs": [],
   "source": [
    "len(all_candles)"
   ]
  },
  {
   "cell_type": "code",
   "execution_count": null,
   "id": "22b9b77e",
   "metadata": {},
   "outputs": [],
   "source": [
    "all_candles[3005]"
   ]
  },
  {
   "cell_type": "code",
   "execution_count": null,
   "id": "2033370a",
   "metadata": {},
   "outputs": [],
   "source": [
    "exchange.iso8601(all_candles[3005][0])"
   ]
  },
  {
   "cell_type": "code",
   "execution_count": null,
   "id": "4ebab071",
   "metadata": {},
   "outputs": [],
   "source": [
    "exchange.iso8601(all_candles[3006][0])"
   ]
  },
  {
   "cell_type": "code",
   "execution_count": null,
   "id": "1d487756",
   "metadata": {},
   "outputs": [],
   "source": []
  },
  {
   "cell_type": "code",
   "execution_count": null,
   "id": "14a159df",
   "metadata": {},
   "outputs": [],
   "source": [
    "ohlcv = exchange.fetch_ohlcv(symbol, timeframe)"
   ]
  },
  {
   "cell_type": "code",
   "execution_count": null,
   "id": "4f1107a7",
   "metadata": {},
   "outputs": [],
   "source": [
    "ohlcv[10]"
   ]
  },
  {
   "cell_type": "code",
   "execution_count": null,
   "id": "304e82bf",
   "metadata": {},
   "outputs": [],
   "source": []
  },
  {
   "cell_type": "code",
   "execution_count": null,
   "id": "9b8e1e1e",
   "metadata": {},
   "outputs": [],
   "source": []
  },
  {
   "cell_type": "code",
   "execution_count": null,
   "id": "5fc5d1d1",
   "metadata": {},
   "outputs": [],
   "source": []
  },
  {
   "cell_type": "code",
   "execution_count": null,
   "id": "0ac0788d",
   "metadata": {},
   "outputs": [],
   "source": []
  },
  {
   "cell_type": "code",
   "execution_count": null,
   "id": "5547e711",
   "metadata": {},
   "outputs": [],
   "source": []
  },
  {
   "cell_type": "code",
   "execution_count": null,
   "id": "7a5bbc8d",
   "metadata": {},
   "outputs": [],
   "source": []
  },
  {
   "cell_type": "code",
   "execution_count": null,
   "id": "8c353ac1",
   "metadata": {},
   "outputs": [],
   "source": [
    "trades = exchange.fetch_trades(symbol, since)\n",
    "# https://github.com/ccxt/ccxt/blob/master/examples/py/binance-fetch-all-trades.py"
   ]
  },
  {
   "cell_type": "code",
   "execution_count": null,
   "id": "d295f3bb",
   "metadata": {},
   "outputs": [],
   "source": []
  },
  {
   "cell_type": "code",
   "execution_count": null,
   "id": "01566ca0",
   "metadata": {},
   "outputs": [],
   "source": [
    "print(ccxt.exchanges)"
   ]
  },
  {
   "cell_type": "code",
   "execution_count": null,
   "id": "6b7c7a77",
   "metadata": {},
   "outputs": [],
   "source": [
    "exchange = ccxt.binance()\n",
    "binance1 = ccxt.binance ({ 'id': 'binance1' })"
   ]
  },
  {
   "cell_type": "code",
   "execution_count": null,
   "id": "86c75fca",
   "metadata": {},
   "outputs": [],
   "source": [
    "getattr(ccxt, 'binance')()"
   ]
  },
  {
   "cell_type": "code",
   "execution_count": null,
   "id": "48f7f20f",
   "metadata": {},
   "outputs": [],
   "source": [
    "binance1"
   ]
  },
  {
   "cell_type": "code",
   "execution_count": null,
   "id": "33860e13",
   "metadata": {},
   "outputs": [],
   "source": [
    "exchange_id = 'binance'\n",
    "exchange_class = getattr(ccxt, exchange_id)"
   ]
  },
  {
   "cell_type": "code",
   "execution_count": null,
   "id": "26f7163f",
   "metadata": {},
   "outputs": [],
   "source": [
    "exchange_class"
   ]
  },
  {
   "cell_type": "code",
   "execution_count": null,
   "id": "e04eef6e",
   "metadata": {},
   "outputs": [],
   "source": [
    "exchange = exchange_class({\n",
    "    'apiKey': 'YOUR_API_KEY',\n",
    "    'secret': 'YOUR_SECRET',\n",
    "})"
   ]
  },
  {
   "cell_type": "code",
   "execution_count": null,
   "id": "ef8498e7",
   "metadata": {},
   "outputs": [],
   "source": [
    "getattr(exchange, 'apiKey')"
   ]
  },
  {
   "cell_type": "code",
   "execution_count": null,
   "id": "9d683d63",
   "metadata": {},
   "outputs": [],
   "source": [
    "config = {\n",
    "    'rateLimit': 10000,  # unified exchange property\n",
    "    'headers': {\n",
    "        'YOUR_CUSTOM_HTTP_HEADER': 'YOUR_CUSTOM_VALUE',\n",
    "    },\n",
    "    'options': {\n",
    "        'adjustForTimeDifference': True,  # exchange-specific option\n",
    "    }\n",
    "}"
   ]
  },
  {
   "cell_type": "code",
   "execution_count": null,
   "id": "aa0db516",
   "metadata": {},
   "outputs": [],
   "source": [
    "exchange = ccxt.binance(config)\n",
    "exchange.set_sandbox_mode(True)"
   ]
  },
  {
   "cell_type": "code",
   "execution_count": null,
   "id": "c94a676d",
   "metadata": {},
   "outputs": [],
   "source": [
    "exchange.currencies"
   ]
  },
  {
   "cell_type": "code",
   "execution_count": null,
   "id": "f914abc7",
   "metadata": {},
   "outputs": [],
   "source": [
    "binance = ccxt.binance()"
   ]
  },
  {
   "cell_type": "code",
   "execution_count": null,
   "id": "1b042723",
   "metadata": {},
   "outputs": [],
   "source": [
    "binance.enableRateLimit"
   ]
  },
  {
   "cell_type": "code",
   "execution_count": null,
   "id": "53b528b8",
   "metadata": {},
   "outputs": [],
   "source": [
    "binance.fetchOrderBook('BTC/USDT')"
   ]
  },
  {
   "cell_type": "code",
   "execution_count": null,
   "id": "e2c1be9e",
   "metadata": {},
   "outputs": [],
   "source": [
    "markets = binance.load_markets()"
   ]
  },
  {
   "cell_type": "code",
   "execution_count": null,
   "id": "2d3cbcf0",
   "metadata": {},
   "outputs": [],
   "source": [
    "list(markets.keys())[:3]"
   ]
  },
  {
   "cell_type": "code",
   "execution_count": null,
   "id": "5ec6c1c2",
   "metadata": {},
   "outputs": [],
   "source": [
    "symbol = 'BTC/USDT'\n",
    "amount = 1.2345678  # amount in base currency BTC\n",
    "price = 87654.321  # price in quote currency USDT"
   ]
  },
  {
   "cell_type": "code",
   "execution_count": null,
   "id": "92e18da3",
   "metadata": {},
   "outputs": [],
   "source": [
    "formatted_amount = binance.amount_to_precision(symbol, amount)\n",
    "formatted_price = binance.price_to_precision(symbol, price)\n",
    "print(formatted_amount, formatted_price)"
   ]
  },
  {
   "cell_type": "code",
   "execution_count": null,
   "id": "1f295fa2",
   "metadata": {},
   "outputs": [],
   "source": [
    "etheur1 = markets['ETH/EUR']  "
   ]
  },
  {
   "cell_type": "code",
   "execution_count": null,
   "id": "2946f055",
   "metadata": {},
   "outputs": [],
   "source": [
    "etheur1"
   ]
  },
  {
   "cell_type": "code",
   "execution_count": null,
   "id": "a121e662",
   "metadata": {},
   "outputs": [],
   "source": [
    "etheurId = binance.market_id('ETH/EUR')"
   ]
  },
  {
   "cell_type": "code",
   "execution_count": null,
   "id": "232c51a1",
   "metadata": {},
   "outputs": [],
   "source": [
    "etheurId"
   ]
  },
  {
   "cell_type": "code",
   "execution_count": null,
   "id": "12e00c6e",
   "metadata": {},
   "outputs": [],
   "source": [
    "symbols = binance.symbols  \n",
    "len(symbols)\n",
    "symbols[:3]"
   ]
  },
  {
   "cell_type": "code",
   "execution_count": null,
   "id": "1d464b59",
   "metadata": {},
   "outputs": [],
   "source": [
    "binance.has['fetchOrders']"
   ]
  },
  {
   "cell_type": "code",
   "execution_count": null,
   "id": "55438992",
   "metadata": {},
   "outputs": [],
   "source": [
    "len(binance.markets)"
   ]
  },
  {
   "cell_type": "code",
   "execution_count": null,
   "id": "96dd650f",
   "metadata": {},
   "outputs": [],
   "source": []
  }
 ],
 "metadata": {
  "kernelspec": {
   "display_name": "Python 3 (ipykernel)",
   "language": "python",
   "name": "python3"
  },
  "language_info": {
   "codemirror_mode": {
    "name": "ipython",
    "version": 3
   },
   "file_extension": ".py",
   "mimetype": "text/x-python",
   "name": "python",
   "nbconvert_exporter": "python",
   "pygments_lexer": "ipython3"
  }
 },
 "nbformat": 4,
 "nbformat_minor": 5
}
