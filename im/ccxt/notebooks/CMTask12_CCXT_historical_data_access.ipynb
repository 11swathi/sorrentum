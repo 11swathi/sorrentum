{
 "cells": [
  {
   "cell_type": "code",
   "execution_count": null,
   "id": "a052ac6d",
   "metadata": {},
   "outputs": [],
   "source": [
    "%load_ext autoreload\n",
    "%autoreload 2\n",
    "%matplotlib inline\n",
    "\n",
    "import logging\n",
    "import json\n",
    "\n",
    "import helpers.dbg as dbg\n",
    "import helpers.env as henv\n",
    "import helpers.io_ as io_\n",
    "import helpers.printing as hprint\n",
    "from typing import Any\n",
    "\n",
    "import ccxt"
   ]
  },
  {
   "cell_type": "code",
   "execution_count": null,
   "id": "a7a791e8",
   "metadata": {},
   "outputs": [],
   "source": [
    "dbg.init_logger(verbosity=logging.INFO)\n",
    "\n",
    "_LOG = logging.getLogger(__name__)\n",
    "\n",
    "_LOG.info(\"%s\", henv.get_system_signature()[0])\n",
    "\n",
    "hprint.config_notebook()"
   ]
  },
  {
   "cell_type": "code",
   "execution_count": null,
   "id": "d554bd16",
   "metadata": {},
   "outputs": [],
   "source": [
    "ALL_EXCHANGES = [\"binance\",\n",
    "\"coinbase\",\n",
    "\"kraken\",\n",
    "\"huobi\",\n",
    "\"ftx\",\n",
    "\"kucoin\",\n",
    "\"bitfinex\",\n",
    "\"gateio\",\n",
    "# \"binanceus\" # no API access for these three exchanges.\n",
    "# \"bithumb\"\n",
    "# \"bitstamp\"\n",
    "                ]"
   ]
  },
  {
   "cell_type": "markdown",
   "id": "0b6b59fb",
   "metadata": {},
   "source": [
    "## Functions"
   ]
  },
  {
   "cell_type": "code",
   "execution_count": null,
   "id": "741ca54e",
   "metadata": {},
   "outputs": [],
   "source": [
    "def log_into_exchange(exchange_id: str):\n",
    "    \"\"\"\n",
    "    Log into exchange via ccxt.\n",
    "    \"\"\"\n",
    "    credentials = io_.from_json(\"API_keys.json\")\n",
    "    dbg.dassert_in(exchange_id, credentials, msg=\"%s exchange ID not correct.\")\n",
    "    credentials = credentials[exchange_id]\n",
    "    credentials[\"rateLimit\"] = True\n",
    "    exchange_class = getattr(ccxt, exchange_id)\n",
    "    exchange = exchange_class(credentials)\n",
    "    dbg.dassert(exchange.checkRequiredCredentials(), msg=\"Required credentials not passed.\")\n",
    "    return exchange\n",
    "\n",
    "def describe_exchange_data(exchange_id: str):\n",
    "    \"\"\"\n",
    "    \"\"\"\n",
    "    exchange = log_into_exchange(exchange_id)\n",
    "    print(\"%s:\" % exchange_id)\n",
    "    print (\"Has fetchOHLCV: %s\" % exchange.has[\"fetchOHLCV\"])\n",
    "    print (\"Has fetchTrades: %s\" % exchange.has[\"fetchTrades\"])\n",
    "    print(\"Available timeframes:\")\n",
    "    print (exchange.timeframes)\n",
    "    print(\"Available currency pairs:\")\n",
    "    print(exchange.load_markets().keys())\n",
    "    print(\"=\"*50)\n",
    "    return None\n",
    "\n",
    "def download_ohlcv_data(exchange_id,\n",
    "                            start_date,\n",
    "                            end_date,\n",
    "                            curr_symbol,\n",
    "                            timeframe=\"1m\",\n",
    "                            ratelimit=1000):\n",
    "    \"\"\"\n",
    "    Download historical data for given time period and currency.\n",
    "    \"\"\"\n",
    "    exchange = log_into_exchange(exchange_id, mode=\"boss\")\n",
    "    dbg.dassert_in(timeframe, exchange.timeframes)\n",
    "    dbg.dassert(exchange.has[\"fetchOHLCV\"])\n",
    "    dbg.dassert_in(curr_symbol, exchange.load_markets().keys())\n",
    "    start_date = exchange.parse8601(start_date)\n",
    "    end_date = exchange.parse8601(end_date)\n",
    "    print(end_date)\n",
    "    duration = exchange.parse_timeframe(timeframe) * ratelimit\n",
    "    all_candles = []\n",
    "    for t in range(start_date, end_date+duration, duration*ratelimit):\n",
    "        print (t)\n",
    "        candles = exchange.fetch_ohlcv(curr_symbol, timeframe, t, ratelimit)\n",
    "        print('Fetched', len(candles), 'candles')\n",
    "        if candles:\n",
    "            print('From', exchange.iso8601(candles[0][0]), 'to', exchange.iso8601(candles[-1][0]))\n",
    "        all_candles += candles\n",
    "        total_length = len(all_candles)\n",
    "        print('Fetched', total_length, 'candles in total')\n",
    "    return all_candles"
   ]
  },
  {
   "cell_type": "markdown",
   "id": "fe978b72",
   "metadata": {},
   "source": [
    "## Check availability of historical data for exchanges"
   ]
  },
  {
   "cell_type": "code",
   "execution_count": null,
   "id": "a9adfd03",
   "metadata": {},
   "outputs": [],
   "source": [
    "for e in ALL_EXCHANGES:\n",
    "    describe_exchange_data(e)"
   ]
  },
  {
   "cell_type": "markdown",
   "id": "1cffb1db",
   "metadata": {},
   "source": [
    "### Checking data availability at coinbase"
   ]
  },
  {
   "cell_type": "code",
   "execution_count": null,
   "id": "45683553",
   "metadata": {},
   "outputs": [],
   "source": [
    "coinbase = log_into_exchange(\"coinbase\")"
   ]
  },
  {
   "cell_type": "code",
   "execution_count": null,
   "id": "7f0c4052",
   "metadata": {},
   "outputs": [],
   "source": [
    "coinbase.has"
   ]
  },
  {
   "cell_type": "markdown",
   "id": "1253c230",
   "metadata": {},
   "source": [
    "`coinbase` exchange does not provide any kind of historical data (neither on OHLCV nor on trading orders), and it seems that its API allows only for trading."
   ]
  },
  {
   "cell_type": "markdown",
   "id": "71887d4b",
   "metadata": {},
   "source": [
    "## Loading OHLCV data"
   ]
  },
  {
   "cell_type": "code",
   "execution_count": null,
   "id": "069f101d",
   "metadata": {},
   "outputs": [],
   "source": []
  }
 ],
 "metadata": {
  "jupytext": {
   "formats": "ipynb,auto:percent",
   "text_representation": {
    "extension": ".py",
    "format_name": "percent",
    "format_version": "1.3",
    "jupytext_version": "1.11.4"
   }
  },
  "kernelspec": {
   "display_name": "Python 3 (ipykernel)",
   "language": "python",
   "name": "python3"
  },
  "language_info": {
   "codemirror_mode": {
    "name": "ipython",
    "version": 3
   },
   "file_extension": ".py",
   "mimetype": "text/x-python",
   "name": "python",
   "nbconvert_exporter": "python",
   "pygments_lexer": "ipython3"
  },
  "toc": {
   "base_numbering": 1,
   "nav_menu": {},
   "number_sections": true,
   "sideBar": true,
   "skip_h1_title": false,
   "title_cell": "Table of Contents",
   "title_sidebar": "Contents",
   "toc_cell": false,
   "toc_position": {},
   "toc_section_display": true,
   "toc_window_display": false
  }
 },
 "nbformat": 4,
 "nbformat_minor": 5
}
