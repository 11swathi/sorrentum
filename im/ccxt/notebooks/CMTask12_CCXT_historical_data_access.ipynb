{
 "cells": [
  {
   "cell_type": "code",
   "execution_count": null,
   "id": "afd343b5",
   "metadata": {},
   "outputs": [],
   "source": [
    "!pip install ccxt"
   ]
  },
  {
   "cell_type": "code",
   "execution_count": null,
   "id": "a052ac6d",
   "metadata": {},
   "outputs": [],
   "source": [
    "%load_ext autoreload\n",
    "%autoreload 2\n",
    "%matplotlib inline\n",
    "\n",
    "import logging\n",
    "import json\n",
    "\n",
    "import helpers.dbg as dbg\n",
    "import helpers.env as henv\n",
    "import helpers.io_ as io_\n",
    "import helpers.printing as hprint\n",
    "from typing import Any\n",
    "\n",
    "import ccxt"
   ]
  },
  {
   "cell_type": "code",
   "execution_count": null,
   "id": "a7a791e8",
   "metadata": {},
   "outputs": [],
   "source": [
    "dbg.init_logger(verbosity=logging.INFO)\n",
    "\n",
    "_LOG = logging.getLogger(__name__)\n",
    "\n",
    "_LOG.info(\"%s\", henv.get_system_signature()[0])\n",
    "\n",
    "hprint.config_notebook()"
   ]
  },
  {
   "cell_type": "code",
   "execution_count": null,
   "id": "d554bd16",
   "metadata": {},
   "outputs": [],
   "source": [
    "ALL_EXCHANGES = [\"binance\",\n",
    "\"coinbase\",\n",
    "\"kraken\",\n",
    "\"huobi\",\n",
    "\"ftx\",\n",
    "\"kucoin\",\n",
    "\"bitfinex\",\n",
    "\"gateio\",\n",
    "# \"binanceus\" # no API for these three exchanges.\n",
    "# \"bithumb\"\n",
    "# \"bitstamp\"\n",
    "                ]"
   ]
  },
  {
   "cell_type": "markdown",
   "id": "0b6b59fb",
   "metadata": {},
   "source": [
    "## Functions"
   ]
  },
  {
   "cell_type": "code",
   "execution_count": null,
   "id": "741ca54e",
   "metadata": {},
   "outputs": [],
   "source": [
    "def log_into_exchange(exchange_id: str,\n",
    "                     mode: str):\n",
    "    credentials = io_.from_json(\"API_keys.json\")\n",
    "    dbg.dassert_in(exchange_id, credentials, msg=\"%s exchange ID not correct.\")\n",
    "    credentials = credentials[exchange_id]\n",
    "    exchange_class = getattr(ccxt, exchange_id)\n",
    "    exchange = exchange_class(credentials)\n",
    "    if mode == \"sandbox\":\n",
    "        exchange.set_sandbox_mode(True)\n",
    "    return exchange"
   ]
  },
  {
   "cell_type": "markdown",
   "id": "41423ba6",
   "metadata": {},
   "source": [
    "## Log into Binance exchange"
   ]
  },
  {
   "cell_type": "markdown",
   "id": "084daf45",
   "metadata": {},
   "source": [
    "Ideally 1 min last price (traded), bid / ask, traded volume\n",
    "mid-price (avg btw bid and ask) is better than last price"
   ]
  },
  {
   "cell_type": "code",
   "execution_count": null,
   "id": "d87ff8cb",
   "metadata": {},
   "outputs": [],
   "source": [
    "binance = log_into_exchange(\"binance\", \"sandbox\")"
   ]
  }
 ],
 "metadata": {
  "jupytext": {
   "text_representation": {
    "extension": ".py",
    "format_name": "percent",
    "format_version": "1.3",
    "jupytext_version": "1.11.4"
   }
  },
  "kernelspec": {
   "display_name": "Python 3 (ipykernel)",
   "language": "python",
   "name": "python3"
  },
  "language_info": {
   "codemirror_mode": {
    "name": "ipython",
    "version": 3
   },
   "file_extension": ".py",
   "mimetype": "text/x-python",
   "name": "python",
   "nbconvert_exporter": "python",
   "pygments_lexer": "ipython3"
  },
  "toc": {
   "base_numbering": 1,
   "nav_menu": {},
   "number_sections": true,
   "sideBar": true,
   "skip_h1_title": false,
   "title_cell": "Table of Contents",
   "title_sidebar": "Contents",
   "toc_cell": false,
   "toc_position": {},
   "toc_section_display": true,
   "toc_window_display": false
  }
 },
 "nbformat": 4,
 "nbformat_minor": 5
}
