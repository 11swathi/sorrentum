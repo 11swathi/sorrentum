{
 "cells": [
  {
   "cell_type": "markdown",
   "id": "ac69e766",
   "metadata": {},
   "source": [
    "# Imports"
   ]
  },
  {
   "cell_type": "code",
   "execution_count": null,
   "id": "317dcabb",
   "metadata": {},
   "outputs": [],
   "source": [
    "%load_ext autoreload\n",
    "%autoreload 2\n",
    "\n",
    "import ib_insync\n",
    "print(ib_insync.__all__)\n",
    "\n",
    "import helpers.dbg as dbg\n",
    "import helpers.printing as pri\n",
    "import core.explore as exp\n",
    "import im.ib.data.extract.gateway.utils as ibutils"
   ]
  },
  {
   "cell_type": "markdown",
   "id": "f32b1da1",
   "metadata": {},
   "source": [
    "# Connect"
   ]
  },
  {
   "cell_type": "code",
   "execution_count": null,
   "id": "84c0fd9c",
   "metadata": {},
   "outputs": [],
   "source": [
    "ib = ibutils.ib_connect(client_id=32, is_notebook=True)"
   ]
  },
  {
   "cell_type": "markdown",
   "id": "88e8cf1e",
   "metadata": {},
   "source": [
    "# Basic"
   ]
  },
  {
   "cell_type": "code",
   "execution_count": null,
   "id": "1ae5d25c",
   "metadata": {},
   "outputs": [],
   "source": [
    "#print(pri.obj_to_str(ib, attr_mode=\"dir\", callable_mode=\"all\"))"
   ]
  },
  {
   "cell_type": "code",
   "execution_count": null,
   "id": "dece3b39",
   "metadata": {},
   "outputs": [],
   "source": [
    "ib.positions()"
   ]
  },
  {
   "cell_type": "code",
   "execution_count": null,
   "id": "3a912233",
   "metadata": {},
   "outputs": [],
   "source": [
    "[v for v in ib.accountValues() if v.tag == 'NetLiquidationByCurrency' and v.currency == 'BASE']"
   ]
  },
  {
   "cell_type": "markdown",
   "id": "b77f8fbb",
   "metadata": {},
   "source": [
    "## Equity"
   ]
  },
  {
   "cell_type": "code",
   "execution_count": null,
   "id": "4457cdbb",
   "metadata": {},
   "outputs": [],
   "source": [
    "# INTC\n",
    "contract = ib_insync.Contract(conId=270639)\n",
    "eq_contract = ibutils.to_contract_details(ib, contract)"
   ]
  },
  {
   "cell_type": "code",
   "execution_count": null,
   "id": "4f4ae0d2",
   "metadata": {},
   "outputs": [],
   "source": [
    "contract = ib_insync.Stock('AMD', 'SMART', 'USD')\n",
    "eq_contract = ibutils.to_contract_details(ib, contract)"
   ]
  },
  {
   "cell_type": "code",
   "execution_count": null,
   "id": "393e91f6",
   "metadata": {},
   "outputs": [],
   "source": [
    "contract = ib_insync.Stock('INTC', 'SMART', 'USD', primaryExchange='NASDAQ')\n",
    "eq_contract = ibutils.to_contract_details(ib, contract)"
   ]
  },
  {
   "cell_type": "markdown",
   "id": "cde01385",
   "metadata": {},
   "source": [
    "## Forex"
   ]
  },
  {
   "cell_type": "code",
   "execution_count": null,
   "id": "6c5e1c7a",
   "metadata": {},
   "outputs": [],
   "source": [
    "contract = ib_insync.Forex('EURUSD')\n",
    "forex_contract = ibutils.to_contract_details(ib, contract)"
   ]
  },
  {
   "cell_type": "code",
   "execution_count": null,
   "id": "b8fcb23b",
   "metadata": {},
   "outputs": [],
   "source": [
    "print(pri.diff_strings(eq_contract, forex_contract))"
   ]
  },
  {
   "cell_type": "markdown",
   "id": "88a2202d",
   "metadata": {},
   "source": [
    "## CFD (contract for difference)"
   ]
  },
  {
   "cell_type": "code",
   "execution_count": null,
   "id": "559f4d4f",
   "metadata": {},
   "outputs": [],
   "source": [
    "contract = ib_insync.CFD('IBUS30')\n",
    "cfd_contract = ibutils.to_contract_details(ib, contract)"
   ]
  },
  {
   "cell_type": "code",
   "execution_count": null,
   "id": "da898ab4",
   "metadata": {},
   "outputs": [],
   "source": [
    "print(pri.diff_strings(eq_contract, cfd_contract))"
   ]
  },
  {
   "cell_type": "markdown",
   "id": "19598d15",
   "metadata": {},
   "source": [
    "## Futures"
   ]
  },
  {
   "cell_type": "code",
   "execution_count": null,
   "id": "f5a99978",
   "metadata": {},
   "outputs": [],
   "source": [
    "contract = ib_insync.Future('ES', '202109', 'GLOBEX')\n",
    "fut_contract = ibutils.to_contract_details(ib, contract)"
   ]
  },
  {
   "cell_type": "code",
   "execution_count": null,
   "id": "36ee0fec",
   "metadata": {},
   "outputs": [],
   "source": [
    "print(pri.diff_strings(eq_contract, fut_contract, \"eq\", \"fut\"))"
   ]
  },
  {
   "cell_type": "markdown",
   "id": "7144dfc2",
   "metadata": {},
   "source": [
    "## Continuous Futures"
   ]
  },
  {
   "cell_type": "code",
   "execution_count": null,
   "id": "eb1e02c7",
   "metadata": {},
   "outputs": [],
   "source": [
    "#contract = ib_insync.ContFuture('ES', '202109', 'GLOBEX')\n",
    "#fut_contract = ibutils.to_contract_details(ib, contract)"
   ]
  },
  {
   "cell_type": "markdown",
   "id": "f640438a",
   "metadata": {},
   "source": [
    "## Option"
   ]
  },
  {
   "cell_type": "code",
   "execution_count": null,
   "id": "c7f0ab5c",
   "metadata": {},
   "outputs": [],
   "source": [
    "contract = ib_insync.Option('SPY', '202107', 240, 'C', 'SMART')\n",
    "opt_contract = ibutils.to_contract_details(ib, contract)"
   ]
  },
  {
   "cell_type": "markdown",
   "id": "22c0de0f",
   "metadata": {},
   "source": [
    "## Bond"
   ]
  },
  {
   "cell_type": "code",
   "execution_count": null,
   "id": "f32e3720",
   "metadata": {},
   "outputs": [],
   "source": [
    "contract = Bond(secIdType='ISIN', secId='US03076KAA60')\n",
    "bond_contract = ibutils.to_contract_details(ib, contract)"
   ]
  },
  {
   "cell_type": "markdown",
   "id": "be3175c1",
   "metadata": {},
   "source": [
    "# Contract details"
   ]
  },
  {
   "cell_type": "markdown",
   "id": "de6c56a1",
   "metadata": {},
   "source": [
    "## Equities"
   ]
  },
  {
   "cell_type": "code",
   "execution_count": null,
   "id": "9cd48831",
   "metadata": {},
   "outputs": [],
   "source": [
    "# Look for Stocks matching AMD.\n",
    "asset = ib_insync.Stock(\"AMD\")\n",
    "cds = ib.reqContractDetails(asset)\n",
    "print(\"num contracts=\", len(cds))\n",
    "print(cds[0])"
   ]
  },
  {
   "cell_type": "code",
   "execution_count": null,
   "id": "e701dd2c",
   "metadata": {},
   "outputs": [],
   "source": [
    "contracts = [cd.contract for cd in cds]\n",
    "print(contracts[0])\n",
    "\n",
    "ib_insync.util.df(contracts)"
   ]
  },
  {
   "cell_type": "code",
   "execution_count": null,
   "id": "f8c64913",
   "metadata": {},
   "outputs": [],
   "source": [
    "# Show that there is a single AMD in US.\n",
    "asset = ib_insync.Stock(\"AMD\", \"SMART\", \"USD\")\n",
    "print(\"asset=\", asset)\n",
    "cds = ib.reqContractDetails(asset)\n",
    "print(\"num contracts=\", len(cds))\n",
    "dbg.dassert_eq(len(cds), 1)\n",
    "print(cds[0])"
   ]
  },
  {
   "cell_type": "code",
   "execution_count": null,
   "id": "4ef9ee26",
   "metadata": {},
   "outputs": [],
   "source": [
    "ib.qualifyContracts(asset)"
   ]
  },
  {
   "cell_type": "code",
   "execution_count": null,
   "id": "6605614e",
   "metadata": {},
   "outputs": [],
   "source": [
    "# Request stocks that match a pattern.\n",
    "matches = ib.reqMatchingSymbols(\"intc\")\n",
    "contracts = [m.contract for m in matches]\n",
    "ib_insync.util.df(contracts)"
   ]
  },
  {
   "cell_type": "markdown",
   "id": "a4d7a935",
   "metadata": {},
   "source": [
    "## Futures"
   ]
  },
  {
   "cell_type": "code",
   "execution_count": null,
   "id": "a2f305de",
   "metadata": {},
   "outputs": [],
   "source": [
    "# Look for ES.\n",
    "\n",
    "asset = ib_insync.Future(\"ES\", includeExpired=True)\n",
    "ibutils.get_contract_details(ib, asset)"
   ]
  },
  {
   "cell_type": "code",
   "execution_count": null,
   "id": "a5802cdc",
   "metadata": {},
   "outputs": [],
   "source": [
    "cds = ib.reqContractDetails(asset)\n",
    "\n",
    "contracts = [cd.contract for cd in cds]\n",
    "\n",
    "ib_insync.util.df(contracts)"
   ]
  },
  {
   "cell_type": "markdown",
   "id": "4fcee63e",
   "metadata": {},
   "source": [
    "## Cont futures"
   ]
  },
  {
   "cell_type": "code",
   "execution_count": null,
   "id": "b8e87d45",
   "metadata": {},
   "outputs": [],
   "source": [
    "asset = ib_insync.ContFuture(\"ES\", \"Globex\", \"USD\")\n",
    "ibutils.get_contract_details(ib, asset)"
   ]
  },
  {
   "cell_type": "code",
   "execution_count": null,
   "id": "0950dfbe",
   "metadata": {},
   "outputs": [],
   "source": [
    "ibutils.get_end_timestamp(ib, contract, 'TRADES', useRTH=True)"
   ]
  },
  {
   "cell_type": "markdown",
   "id": "cff284a7",
   "metadata": {},
   "source": [
    "# Option chain"
   ]
  },
  {
   "cell_type": "code",
   "execution_count": null,
   "id": "9d707ea3",
   "metadata": {},
   "outputs": [],
   "source": [
    "# Options on SPX next 3 "
   ]
  },
  {
   "cell_type": "code",
   "execution_count": null,
   "id": "13899fac",
   "metadata": {},
   "outputs": [],
   "source": [
    "spx = ib_insync.Index('SPX', 'CBOE')\n",
    "print(\"type=%s %s\" % (type(spx), spx))\n",
    "\n",
    "ib.qualifyContracts(spx)"
   ]
  },
  {
   "cell_type": "code",
   "execution_count": null,
   "id": "90b8d85d",
   "metadata": {},
   "outputs": [],
   "source": [
    "# Use delayed data.\n",
    "ib.reqMarketDataType(4)\n",
    "tickers = ib.reqTickers(spx)\n",
    "assert len(tickers) == 1\n",
    "ticker = tickers[0]\n",
    "\n",
    "print(pri.type_obj_to_str(ticker))"
   ]
  },
  {
   "cell_type": "code",
   "execution_count": null,
   "id": "90ff8296",
   "metadata": {},
   "outputs": [],
   "source": [
    "spx_value = ticker.marketPrice()\n",
    "spx_value"
   ]
  },
  {
   "cell_type": "code",
   "execution_count": null,
   "id": "a0a7b68d",
   "metadata": {},
   "outputs": [],
   "source": [
    "# TODO: finish"
   ]
  },
  {
   "cell_type": "markdown",
   "id": "86f3b7e0",
   "metadata": {},
   "source": [
    "# Historical data"
   ]
  },
  {
   "cell_type": "code",
   "execution_count": null,
   "id": "1c96076b",
   "metadata": {},
   "outputs": [],
   "source": [
    "# 1 = Live\n",
    "# 2 = Frozen\n",
    "# 3 = Delayed\n",
    "# 4 = Delayed frozen\n",
    "ib.reqMarketDataType(4)\n",
    "\n",
    "if False:\n",
    "    contract = ib_insync.Stock('TSLA', 'SMART', 'USD')\n",
    "    whatToShow = 'TRADES'\n",
    "elif False:\n",
    "    contract = ib_insync.Future('ES', '202109', 'GLOBEX')\n",
    "    whatToShow = 'TRADES'\n",
    "elif False:\n",
    "    contract = ib_insync.ContFuture(\"ES\", \"GLOBEX\", \"USD\")\n",
    "    whatToShow = 'TRADES'\n",
    "else:\n",
    "    contract = ib_insync.Forex('EURUSD')\n",
    "    whatToShow = 'MIDPOINT'\n",
    "\n",
    "if False:\n",
    "    durationStr = '1 Y'\n",
    "    barSizeSetting = '1 day'\n",
    "    #barSizeSetting='1 hour'\n",
    "else:\n",
    "    durationStr = '1 D'\n",
    "    barSizeSetting = '1 hour'\n",
    "\n",
    "print(\"contract=\", contract)\n",
    "print(\"whatToShow=\", whatToShow)\n",
    "print(\"durationStr=\", durationStr)\n",
    "print(\"barSizeSetting=\", barSizeSetting)\n",
    "\n",
    "# Get the datetime of earliest available historical data for the contract.\n",
    "ts = ib.reqHeadTimeStamp(contract, whatToShow=whatToShow, useRTH=True)\n",
    "print(\"ts=\", ts)\n",
    "bars = ib.reqHistoricalData(\n",
    "    contract,\n",
    "    endDateTime='',\n",
    "    durationStr=durationStr,\n",
    "    barSizeSetting=barSizeSetting,\n",
    "    whatToShow=whatToShow,\n",
    "    useRTH=True,\n",
    "    formatDate=1)\n",
    "print(\"len(bars)=\", len(bars))\n",
    "print(ib_insync.util.df(bars))"
   ]
  },
  {
   "cell_type": "code",
   "execution_count": null,
   "id": "9c7ebbc4",
   "metadata": {},
   "outputs": [],
   "source": [
    "#icontract = ib_insync.Stock('TSLA', 'SMART', 'USD')\n",
    "contract = ib_insync.Forex('EURUSD')\n",
    "\n",
    "# Get the datetime of earliest available historical data for the contract.\n",
    "ib.reqHeadTimeStamp(contract, whatToShow='TRADES', useRTH=True)"
   ]
  },
  {
   "cell_type": "code",
   "execution_count": null,
   "id": "2b743005",
   "metadata": {},
   "outputs": [],
   "source": [
    "print(contract)\n",
    "ib.reqMarketDataType(4)\n",
    "bars = ib.reqHistoricalData(\n",
    "    contract,\n",
    "    endDateTime='20200101 01:01:01',\n",
    "    durationStr='60 D',\n",
    "    barSizeSetting='1 hour',\n",
    "    whatToShow='TRADES',\n",
    "    useRTH=True,\n",
    "    formatDate=1)"
   ]
  },
  {
   "cell_type": "code",
   "execution_count": null,
   "id": "0b1aa190",
   "metadata": {},
   "outputs": [],
   "source": [
    "print(bars[0])\n",
    "df = util.df(bars)\n",
    "\n",
    "display(df.head())\n",
    "display(df.tail())"
   ]
  },
  {
   "cell_type": "markdown",
   "id": "b9d802ef",
   "metadata": {},
   "source": [
    "## Historical data with RT updates"
   ]
  },
  {
   "cell_type": "code",
   "execution_count": null,
   "id": "a3d2a7b1",
   "metadata": {},
   "outputs": [],
   "source": [
    "ib.reqMarketDataType(1)\n",
    "contract = ib_insync.Forex('EURUSD')\n",
    "\n",
    "bars = ib.reqHistoricalData(\n",
    "        contract,\n",
    "        endDateTime='',\n",
    "        durationStr='900 S',\n",
    "        barSizeSetting='10 secs',\n",
    "        whatToShow='MIDPOINT',\n",
    "        useRTH=True,\n",
    "        formatDate=1,\n",
    "        keepUpToDate=True)\n",
    "\n",
    "print(bars[-1])"
   ]
  },
  {
   "cell_type": "code",
   "execution_count": null,
   "id": "b291a301",
   "metadata": {},
   "outputs": [],
   "source": [
    "from IPython.display import display, clear_output\n",
    "import matplotlib.pyplot as plt\n",
    "\n",
    "def onBarUpdate(bars, hasNewBar):\n",
    "    plt.close()\n",
    "    plot = ib_insync.util.barplot(bars)\n",
    "    clear_output(wait=True)\n",
    "    display(plot)\n",
    "\n",
    "bars.updateEvent += onBarUpdate\n",
    "\n",
    "ib.sleep(10)\n",
    "ib.cancelHistoricalData(bars)"
   ]
  },
  {
   "cell_type": "markdown",
   "id": "e1ae4a6c",
   "metadata": {},
   "source": [
    "## Realtime bars"
   ]
  },
  {
   "cell_type": "code",
   "execution_count": null,
   "id": "6e9ad5db",
   "metadata": {},
   "outputs": [],
   "source": [
    "def onBarUpdate(bars, hasNewBar):\n",
    "    print(bars[-1])"
   ]
  },
  {
   "cell_type": "code",
   "execution_count": null,
   "id": "e71ec495",
   "metadata": {},
   "outputs": [],
   "source": [
    "bars = ib.reqRealTimeBars(contract, 5, 'MIDPOINT', False)\n",
    "bars.updateEvent += onBarUpdate"
   ]
  },
  {
   "cell_type": "code",
   "execution_count": null,
   "id": "2c98f32e",
   "metadata": {},
   "outputs": [],
   "source": [
    "ib.sleep(10)\n",
    "ib.cancelRealTimeBars(bars)"
   ]
  },
  {
   "cell_type": "markdown",
   "id": "613297f8",
   "metadata": {},
   "source": [
    "# Tick data"
   ]
  },
  {
   "cell_type": "markdown",
   "id": "7da0aeb8",
   "metadata": {},
   "source": [
    "## Streaming tick data"
   ]
  },
  {
   "cell_type": "code",
   "execution_count": null,
   "id": "59f9445e",
   "metadata": {},
   "outputs": [],
   "source": [
    "contracts = ('EURUSD', 'USDJPY', 'GBPUSD', 'USDCHF', 'USDCAD', 'AUDUSD')\n",
    "contracts = [ib_insync.Forex(p) for p in contracts]\n",
    "ib.qualifyContracts(*contracts)"
   ]
  },
  {
   "cell_type": "code",
   "execution_count": null,
   "id": "2f099610",
   "metadata": {},
   "outputs": [],
   "source": [
    "# reqMktData: subscribe to tick data or request a snapshot.\n",
    "# https://interactivebrokers.github.io/tws-api/md_request.html\n",
    "\n",
    "for contract in contracts:\n",
    "    # https://ib-insync.readthedocs.io/api.html#ib_insync.ib.IB.reqMktData\n",
    "    genericTickList = ''\n",
    "    # Subscribe a stream of real time.\n",
    "    snapshot = False\n",
    "    # Request NBBO snapshot.\n",
    "    regulatory_snapshot = False\n",
    "    ib.reqMktData(contract, genericTickList, snapshot, regulatory_snapshot)"
   ]
  },
  {
   "cell_type": "code",
   "execution_count": null,
   "id": "d110b060",
   "metadata": {},
   "outputs": [],
   "source": [
    "eurusd = contracts[1]\n",
    "ticker = ib.ticker(eurusd)\n",
    "print(ticker)\n",
    "print(ticker.midpoint())"
   ]
  },
  {
   "cell_type": "code",
   "execution_count": null,
   "id": "aa225350",
   "metadata": {},
   "outputs": [],
   "source": [
    "#ticker.marketPrice()\n",
    "ticker.midpoint()"
   ]
  },
  {
   "cell_type": "code",
   "execution_count": null,
   "id": "4a4deaca",
   "metadata": {},
   "outputs": [],
   "source": [
    "from IPython.display import display, clear_output\n",
    "import pandas as pd\n",
    "\n",
    "df = pd.DataFrame(\n",
    "    index=[c.pair() for c in contracts],\n",
    "    columns=['bidSize', 'bid', 'ask', 'askSize', 'high', 'low', 'close'])\n",
    "\n",
    "def onPendingTickers(tickers):\n",
    "    for t in tickers:\n",
    "        df.loc[t.contract.pair()] = (\n",
    "            t.bidSize, t.bid, t.ask, t.askSize, t.high, t.low, t.close)\n",
    "        clear_output(wait=True)\n",
    "    display(df)        \n",
    "\n",
    "ib.pendingTickersEvent += onPendingTickers\n",
    "ib.sleep(10)\n",
    "ib.pendingTickersEvent -= onPendingTickers\n",
    "print(\"DONE\")"
   ]
  },
  {
   "cell_type": "code",
   "execution_count": null,
   "id": "f454fb49",
   "metadata": {},
   "outputs": [],
   "source": [
    "# Stop the update.\n",
    "for contract in contracts:\n",
    "    ib.cancelMktData(contract)"
   ]
  },
  {
   "cell_type": "markdown",
   "id": "9d0eb995",
   "metadata": {},
   "source": [
    "## Tick by tick data"
   ]
  },
  {
   "cell_type": "code",
   "execution_count": null,
   "id": "3a20ca06",
   "metadata": {},
   "outputs": [],
   "source": [
    "# re\n",
    "# https://interactivebrokers.github.io/tws-api/tick_data.html"
   ]
  },
  {
   "cell_type": "code",
   "execution_count": null,
   "id": "9e4d83f3",
   "metadata": {},
   "outputs": [],
   "source": [
    "ticker = ib.reqTickByTickData(eurusd, 'BidAsk')\n",
    "ib.sleep(2)\n",
    "print(ticker)"
   ]
  },
  {
   "cell_type": "code",
   "execution_count": null,
   "id": "ad520219",
   "metadata": {},
   "outputs": [],
   "source": [
    "ticker = ib.reqTickByTickData(eurusd, 'BidAsk')\n",
    "ib.sleep(2)\n",
    "print(ticker)"
   ]
  },
  {
   "cell_type": "code",
   "execution_count": null,
   "id": "34ee6566",
   "metadata": {},
   "outputs": [],
   "source": [
    "ib.cancelTickByTickData(ticker.contract, 'BidAsk')"
   ]
  },
  {
   "cell_type": "markdown",
   "id": "d5cc33df",
   "metadata": {},
   "source": [
    "## Historical tick data"
   ]
  },
  {
   "cell_type": "code",
   "execution_count": null,
   "id": "c7ad8199",
   "metadata": {},
   "outputs": [],
   "source": [
    "# reqHistoricalTicks(contract, startDateTime, endDateTime,\n",
    "#    numberOfTicks, whatToShow, useRth, ignoreSize=False, miscOptions=[]\n",
    "# Request historical ticks. The time resolution of the ticks is one second.\n",
    "# This method is blocking.\n",
    "# https://interactivebrokers.github.io/tws-api/historical_time_and_sales.html"
   ]
  },
  {
   "cell_type": "code",
   "execution_count": null,
   "id": "ded46a56",
   "metadata": {},
   "outputs": [],
   "source": [
    "import datetime\n",
    "\n",
    "start = ''\n",
    "end = datetime.datetime.now()\n",
    "print(start, end)\n",
    "number_of_ticks = 1000\n",
    "what_to_show = \"BID_ASK\"\n",
    "useRTH = False\n",
    "ticks = ib.reqHistoricalTicks(eurusd, start, end, number_of_ticks, what_to_show, useRTH)\n",
    "\n",
    "print(len(ticks))\n",
    "df = ib_insync.util.df(ticks)\n",
    "df.drop(columns=\"tickAttribBidAsk\", inplace=True)\n",
    "#df.index = [t.time for t in ticks]\n",
    "\n",
    "df.head(5)"
   ]
  },
  {
   "cell_type": "code",
   "execution_count": null,
   "id": "c3d3998f",
   "metadata": {},
   "outputs": [],
   "source": [
    "print(str(ticks)[:1000])\n",
    "print(ticks[0].time, ticks[-1].time)"
   ]
  },
  {
   "cell_type": "markdown",
   "id": "19c6e65a",
   "metadata": {},
   "source": [
    "# Market depth (order book)"
   ]
  },
  {
   "cell_type": "markdown",
   "id": "cfac8f49",
   "metadata": {},
   "source": [
    "## Get exchange info"
   ]
  },
  {
   "cell_type": "code",
   "execution_count": null,
   "id": "ba711691",
   "metadata": {},
   "outputs": [],
   "source": [
    "l = ib.reqMktDepthExchanges()\n",
    "print(\"num exchanges with market depth=\", len(l))\n",
    "print(\"\\n\".join(map(str, l[:5])))"
   ]
  },
  {
   "cell_type": "code",
   "execution_count": null,
   "id": "773c669f",
   "metadata": {},
   "outputs": [],
   "source": [
    "df = ib_insync.util.df(l)\n",
    "display(df.head(5))\n",
    "print(\"secType=\", df[\"secType\"].unique())\n",
    "df.sort_values(\"secType\")\n",
    "print(len(df))\n",
    "\n",
    "df_fut = df[df[\"secType\"] == \"FUT\"].sort_values(\"exchange\")\n",
    "print(len(df_fut))\n",
    "display(df_fut)"
   ]
  },
  {
   "cell_type": "markdown",
   "id": "416ab794",
   "metadata": {},
   "source": [
    "## Get the book"
   ]
  },
  {
   "cell_type": "code",
   "execution_count": null,
   "id": "d90cbfd3",
   "metadata": {},
   "outputs": [],
   "source": [
    "contract = ib_insync.Forex('EURUSD')\n",
    "ib.qualifyContracts(contract)\n",
    "ticker = ib.reqMktDepth(contract)"
   ]
  },
  {
   "cell_type": "code",
   "execution_count": null,
   "id": "9e77cb58",
   "metadata": {},
   "outputs": [],
   "source": [
    "ticker"
   ]
  },
  {
   "cell_type": "code",
   "execution_count": null,
   "id": "e1976a1e",
   "metadata": {},
   "outputs": [],
   "source": [
    "from IPython.display import display, clear_output\n",
    "import pandas as pd\n",
    "\n",
    "df = pd.DataFrame(index=range(5),\n",
    "        columns='bidSize bidPrice askPrice askSize'.split())\n",
    "\n",
    "def onTickerUpdate(ticker):\n",
    "    bids = ticker.domBids\n",
    "    for i in range(5):\n",
    "        df.iloc[i, 0] = bids[i].size if i < len(bids) else 0\n",
    "        df.iloc[i, 1] = bids[i].price if i < len(bids) else 0\n",
    "    asks = ticker.domAsks\n",
    "    for i in range(5):\n",
    "        df.iloc[i, 2] = asks[i].price if i < len(asks) else 0\n",
    "        df.iloc[i, 3] = asks[i].size if i < len(asks) else 0\n",
    "    clear_output(wait=True)\n",
    "    display(df)\n",
    "\n",
    "ticker.updateEvent += onTickerUpdate\n",
    "\n",
    "ib_insync.IB.sleep(15);"
   ]
  },
  {
   "cell_type": "code",
   "execution_count": null,
   "id": "a546f79b",
   "metadata": {},
   "outputs": [],
   "source": [
    "ib.cancelMktDepth(contract)"
   ]
  },
  {
   "cell_type": "code",
   "execution_count": null,
   "id": "c3ac5624",
   "metadata": {},
   "outputs": [],
   "source": [
    "assert 0"
   ]
  },
  {
   "cell_type": "markdown",
   "id": "dd51cd96",
   "metadata": {},
   "source": [
    "# Ordering"
   ]
  },
  {
   "cell_type": "markdown",
   "id": "75e43154",
   "metadata": {},
   "source": [
    "## Account info"
   ]
  },
  {
   "cell_type": "code",
   "execution_count": null,
   "id": "043466d9",
   "metadata": {},
   "outputs": [],
   "source": [
    "# List of positions for a given account.\n",
    "print(\"positions=\\n\\t\", \"\\n\\t\".join(map(str, ib.positions())))\n",
    "\n",
    "## List of all orders in current session.\n",
    "print(\"orders=\", ib.orders())\n",
    "\n",
    "## List of trades in current session.\n",
    "print(\"trades=\", ib.trades())"
   ]
  },
  {
   "cell_type": "markdown",
   "id": "b1cb03ec",
   "metadata": {},
   "source": [
    "## Order"
   ]
  },
  {
   "cell_type": "code",
   "execution_count": null,
   "id": "ef6db24c",
   "metadata": {},
   "outputs": [],
   "source": [
    "if True:\n",
    "    contract = ib_insync.Forex(\"EURUSD\")\n",
    "    ib.qualifyContracts(contract)\n",
    "    print(\"contract=\", contract)\n",
    "    #\n",
    "    total_quantity = 2000\n",
    "    #total_quantity = 3900\n",
    "    limit_price = 1.1\n",
    "else:\n",
    "    contract = ib_insync.Future('ES', '202109', 'GLOBEX')\n",
    "    ib.qualifyContracts(contract)\n",
    "    print(\"contract=\", contract)\n",
    "    #\n",
    "    total_quantity = 2000\n",
    "    limit_price = 1.1"
   ]
  },
  {
   "cell_type": "code",
   "execution_count": null,
   "id": "1a4dcf04",
   "metadata": {},
   "outputs": [],
   "source": []
  },
  {
   "cell_type": "code",
   "execution_count": null,
   "id": "1dce75cc",
   "metadata": {},
   "outputs": [],
   "source": [
    "%%time\n",
    "total_quantity = 3900\n",
    "#limit_price = 1.1\n",
    "limit_price = 100\n",
    "order = ib_insync.LimitOrder(\"BUY\", total_quantity, limit_price)\n",
    "print(\"order=\", order)"
   ]
  },
  {
   "cell_type": "code",
   "execution_count": null,
   "id": "1ed3925c",
   "metadata": {},
   "outputs": [],
   "source": [
    "def print_trade(trade):\n",
    "    #print(\"trade=\", trade)\n",
    "    print(\"trade.contract=\", trade.contract)\n",
    "    print(\"trade.order=\", trade.order)\n",
    "    print(\"trade.orderStatus=\", trade.orderStatus)\n",
    "    print(\"log=\\n\\t%s\" % \"\\n\\t\".join(map(str, trade.log)))"
   ]
  },
  {
   "cell_type": "code",
   "execution_count": null,
   "id": "2cf7ff90",
   "metadata": {},
   "outputs": [],
   "source": [
    "trade = ib.placeOrder(contract, order)"
   ]
  },
  {
   "cell_type": "code",
   "execution_count": null,
   "id": "f43ea822",
   "metadata": {},
   "outputs": [],
   "source": [
    "print_trade(trade)"
   ]
  },
  {
   "cell_type": "code",
   "execution_count": null,
   "id": "6461a275",
   "metadata": {},
   "outputs": [],
   "source": [
    "# The trade is in the trades.\n",
    "ib.trades()"
   ]
  },
  {
   "cell_type": "code",
   "execution_count": null,
   "id": "1f3bacf6",
   "metadata": {},
   "outputs": [],
   "source": [
    "ib.orders()"
   ]
  },
  {
   "cell_type": "markdown",
   "id": "4f433be1",
   "metadata": {},
   "source": [
    "## Order can't be filled."
   ]
  },
  {
   "cell_type": "code",
   "execution_count": null,
   "id": "4a897d3a",
   "metadata": {},
   "outputs": [],
   "source": [
    "total_quantity = 2000\n",
    "limit_price = 1.1\n",
    "order = ib_insync.LimitOrder(\"SELL\", total_quantity, limit_price)\n",
    "print(\"order=\", order)"
   ]
  },
  {
   "cell_type": "code",
   "execution_count": null,
   "id": "373e2ca8",
   "metadata": {},
   "outputs": [],
   "source": [
    "# Create a buy order with an irrealistic limit price (too low).\n",
    "print(\"contract=\", contract)\n",
    "total_quantity = 2000\n",
    "price = 0.05\n",
    "order = ib_insync.LimitOrder(\"BUY\", total_quantity, price)\n",
    "# placeOrder is not blocking.\n",
    "trade = ib.placeOrder(contract, order)\n",
    "\n",
    "print_trade(trade)"
   ]
  },
  {
   "cell_type": "code",
   "execution_count": null,
   "id": "550dde9a",
   "metadata": {},
   "outputs": [],
   "source": [
    "#print(ib.openTrades())\n",
    "print(trade.orderStatus.status)"
   ]
  },
  {
   "cell_type": "code",
   "execution_count": null,
   "id": "e2fad912",
   "metadata": {},
   "outputs": [],
   "source": [
    "print(trade.orderStatus.status)\n",
    "ib.cancelOrder(order)\n",
    "print(trade.orderStatus.status)"
   ]
  },
  {
   "cell_type": "code",
   "execution_count": null,
   "id": "6345d54d",
   "metadata": {},
   "outputs": [],
   "source": [
    "trade.log"
   ]
  },
  {
   "cell_type": "code",
   "execution_count": null,
   "id": "b999d29f",
   "metadata": {},
   "outputs": [],
   "source": [
    "%%time\n",
    "order = ib_insync.MarketOrder(\"BUY\", 100)\n",
    "\n",
    "trade = ib.placeOrder(contract, order)\n",
    "while not trade.isDone():\n",
    "    print(\"status=\", trade.orderStatus.status)\n",
    "    ib.waitOnUpdate()"
   ]
  },
  {
   "cell_type": "code",
   "execution_count": null,
   "id": "2e5d34f3",
   "metadata": {},
   "outputs": [],
   "source": [
    "ib.positions()"
   ]
  },
  {
   "cell_type": "code",
   "execution_count": null,
   "id": "194b6d0b",
   "metadata": {},
   "outputs": [],
   "source": [
    "tot_commission = sum(fill.commissionReport.commission for fill in ib.fills())\n",
    "print(tot_commission)"
   ]
  },
  {
   "cell_type": "code",
   "execution_count": null,
   "id": "16470e2a",
   "metadata": {},
   "outputs": [],
   "source": [
    "# See commission and margin impact without sending order.\n",
    "order = ib_insync.MarketOrder('SELL', 20000)\n",
    "order_state = ib.whatIfOrder(contract, order)\n",
    "print(type(order_state))\n",
    "print(order_state)\n",
    "\n",
    "#str(order_state)"
   ]
  },
  {
   "cell_type": "code",
   "execution_count": null,
   "id": "11903f3d",
   "metadata": {},
   "outputs": [],
   "source": [
    "order_state.dict()"
   ]
  },
  {
   "cell_type": "markdown",
   "id": "b3f3e00d",
   "metadata": {},
   "source": [
    "# News articles"
   ]
  },
  {
   "cell_type": "code",
   "execution_count": null,
   "id": "c02d0f9f",
   "metadata": {},
   "outputs": [],
   "source": [
    "newsProviders = ib.reqNewsProviders()\n",
    "print(\"newsProviders=\", newsProviders)\n",
    "codes = '+'.join(np.code for np in newsProviders)\n",
    "\n",
    "#\n",
    "contract = ib_insync.Stock('AMD', 'SMART', 'USD')\n",
    "#contract = ib_insync.Future('ES')\n",
    "ib.qualifyContracts(contract)\n",
    "\n",
    "# reqHistoricalNews(conId, providerCodes, startDateTime, endDateTime, totalResults, historicalNewsOptions=None)\n",
    "startDateTime = ''\n",
    "endDateTime = ''\n",
    "totalResults = 10\n",
    "headlines = ib.reqHistoricalNews(contract.conId, codes, startDateTime, endDateTime, totalResults)\n",
    "\n",
    "print(\"\\nlen(headlines)=\", len(headlines))\n",
    "latest = headlines[0]\n",
    "print(\"\\nheadline=\", latest)\n",
    "\n",
    "# Retrieve the article.\n",
    "article = ib.reqNewsArticle(latest.providerCode, latest.articleId)\n",
    "print(\"\\narticle=\", article)"
   ]
  },
  {
   "cell_type": "markdown",
   "id": "d9ad9571",
   "metadata": {},
   "source": [
    "# Scanner"
   ]
  },
  {
   "cell_type": "code",
   "execution_count": null,
   "id": "0d8da343",
   "metadata": {},
   "outputs": [],
   "source": [
    "# TODO"
   ]
  },
  {
   "cell_type": "markdown",
   "id": "3cb795f9",
   "metadata": {},
   "source": [
    "# Code recipes"
   ]
  },
  {
   "cell_type": "markdown",
   "id": "e36b859c",
   "metadata": {},
   "source": [
    "## Fetching consecutive data"
   ]
  },
  {
   "cell_type": "code",
   "execution_count": null,
   "id": "b07bc37c",
   "metadata": {},
   "outputs": [],
   "source": [
    "# 1 = Live\n",
    "# 2 = Frozen\n",
    "# 3 = Delayed\n",
    "# 4 = Delayed frozen\n",
    "ib.reqMarketDataType(4)\n",
    "\n",
    "if False:\n",
    "    durationStr = '1 Y'\n",
    "    barSizeSetting = '1 day'\n",
    "    #barSizeSetting='1 hour'\n",
    "else:\n",
    "    durationStr = '1 D'\n",
    "    barSizeSetting = '1 hour'\n",
    "\n",
    "if False:\n",
    "    contract = ib_insync.Stock('TSLA', 'SMART', 'USD')\n",
    "    whatToShow = 'TRADES'\n",
    "elif True:\n",
    "    contract = ib_insync.Future('ES', '202109', 'GLOBEX')\n",
    "    whatToShow = 'TRADES'\n",
    "else:\n",
    "    contract = ib_insync.Forex('EURUSD')\n",
    "    whatToShow = 'MIDPOINT'\n",
    "    \n",
    "print(\"contract=\", contract)\n",
    "print(\"whatToShow=\", whatToShow)\n",
    "print(\"durationStr=\", durationStr)\n",
    "print(\"barSizeSetting=\", barSizeSetting)\n",
    "\n",
    "# Get the datetime of earliest available historical data for the contract.\n",
    "ts = ib.reqHeadTimeStamp(contract, whatToShow=whatToShow, useRTH=True)\n",
    "print(\"ts=\", ts)\n",
    "bars = ib.reqHistoricalData(\n",
    "    contract,\n",
    "    endDateTime='',\n",
    "    durationStr=durationStr,\n",
    "    barSizeSetting=barSizeSetting,\n",
    "    whatToShow=whatToShow,\n",
    "    useRTH=True,\n",
    "    formatDate=1)\n",
    "print(\"len(bars)=\", len(bars))"
   ]
  },
  {
   "cell_type": "code",
   "execution_count": null,
   "id": "65e823d9",
   "metadata": {},
   "outputs": [],
   "source": [
    "#contract = Stock('TSLA', 'SMART', 'USD')\n",
    "contract = ib_insync.Forex(\"EURUSD\")\n",
    "whatToShow = 'MIDPOINT'\n",
    "ts = ib.reqHeadTimeStamp(contract, whatToShow=whatToShow, useRTH=True)\n",
    "print(ts)\n",
    "#assert 0\n",
    "\n",
    "num_iter = 0\n",
    "max_iter = 5\n",
    "dt = ''\n",
    "barsList = []\n",
    "while True:\n",
    "    bars = ib.reqHistoricalData(\n",
    "        contract,\n",
    "        endDateTime=dt,\n",
    "        durationStr='10 D',\n",
    "        barSizeSetting='1 min',\n",
    "        whatToShow='MIDPOINT',\n",
    "        useRTH=False,\n",
    "        formatDate=1)\n",
    "    if not bars:\n",
    "        break\n",
    "    barsList.append(bars)\n",
    "    dt = bars[0].date\n",
    "    print(dt, len(bars))\n",
    "    num_iter += 1\n",
    "    if num_iter > max_iter:\n",
    "        break\n",
    "\n",
    "# save to CSV file\n",
    "allBars = [b for bars in reversed(barsList) for b in bars]\n",
    "df = util.df(allBars)\n",
    "#df.to_csv(contract.symbol + '.csv')"
   ]
  }
 ],
 "metadata": {
  "jupytext": {
   "text_representation": {
    "extension": ".py",
    "format_name": "percent",
    "format_version": "1.3",
    "jupytext_version": "1.4.2"
   }
  },
  "kernelspec": {
   "display_name": "Python 3",
   "language": "python",
   "name": "python3"
  },
  "language_info": {
   "codemirror_mode": {
    "name": "ipython",
    "version": 3
   },
   "file_extension": ".py",
   "mimetype": "text/x-python",
   "name": "python",
   "nbconvert_exporter": "python",
   "pygments_lexer": "ipython3"
  },
  "toc": {
   "base_numbering": 1,
   "nav_menu": {},
   "number_sections": true,
   "sideBar": true,
   "skip_h1_title": false,
   "title_cell": "Table of Contents",
   "title_sidebar": "Contents",
   "toc_cell": false,
   "toc_position": {
    "height": "calc(100% - 180px)",
    "left": "10px",
    "top": "150px",
    "width": "218.188px"
   },
   "toc_section_display": true,
   "toc_window_display": true
  }
 },
 "nbformat": 4,
 "nbformat_minor": 5
}
