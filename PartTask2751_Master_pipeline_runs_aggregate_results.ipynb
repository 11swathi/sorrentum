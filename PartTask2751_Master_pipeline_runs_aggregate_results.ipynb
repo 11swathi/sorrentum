{
 "cells": [
  {
   "cell_type": "markdown",
   "metadata": {},
   "source": [
    "# Description"
   ]
  },
  {
   "cell_type": "markdown",
   "metadata": {},
   "source": [
    "- Evaluate multiple runs from DAG modeling pipelines\n",
    "- Calculate top-level stats and adjust for multiple hypothesis testing"
   ]
  },
  {
   "cell_type": "markdown",
   "metadata": {},
   "source": [
    "# Imports"
   ]
  },
  {
   "cell_type": "code",
   "execution_count": null,
   "metadata": {},
   "outputs": [],
   "source": [
    "%load_ext autoreload\n",
    "%autoreload 2\n",
    "\n",
    "\n",
    "import pandas as pd\n",
    "\n",
    "import automl.notebooks.utils as amlnut\n",
    "import core.config as cfg\n",
    "import core.config_builders as cfgb\n",
    "import core.plotting as plot\n",
    "import core.statistics as stats\n",
    "import core.timeseries_study as tss"
   ]
  },
  {
   "cell_type": "markdown",
   "metadata": {},
   "source": [
    "# Load config"
   ]
  },
  {
   "cell_type": "code",
   "execution_count": null,
   "metadata": {},
   "outputs": [],
   "source": [
    "eval_config = cfgb.get_config_from_env()"
   ]
  },
  {
   "cell_type": "code",
   "execution_count": null,
   "metadata": {},
   "outputs": [],
   "source": [
    "# if eval_config is None:\n",
    "if True:\n",
    "    eval_config = cfgb.get_config_from_nested_dict(\n",
    "        {\n",
    "            \"results_directory\": \"/data/automl/experiments/basf/RH_1\",\n",
    "            \"metrics\": {\n",
    "                \"perf_\": stats.compute_annualized_sharpe_ratio,\n",
    "                \"ttest_\": stats.ttest_1samp,\n",
    "                \"moments_\": stats.compute_moments,\n",
    "            },\n",
    "            \"perform_global_adj\": {\"pval_col\": \"ttest_pval\",},\n",
    "            \"global_adj_pval_threshold\": 0.2,\n",
    "            \"perform_family_adj\": {\"pval_col\": \"ttest_pval\", \"tag_col\": \"tag\",},\n",
    "            \"perform_family_selection\": {\n",
    "                \"tag_col\": \"tag\",\n",
    "                \"sr_col\": \"perf_ann_sharpe\",\n",
    "                \"adj_pval_threshold\": 0.2,\n",
    "                \"ann_sharpe_threshold\": 0.7,\n",
    "                \"num\": 10,\n",
    "            },\n",
    "            \"tags\": (\n",
    "                \"rh1\",\n",
    "                \"rh2\",\n",
    "                \"rh3\",\n",
    "                \"rh4\",\n",
    "                \"rh5\",\n",
    "                \"rh6\",\n",
    "                \"rh7\",\n",
    "                \"rh8\",\n",
    "                \"rh9\",\n",
    "                \"rh10\",\n",
    "                \"rh11\",  # Selected (Propylene)\n",
    "                \"rh12\",\n",
    "                \"rh13\",  # Selected (Butadiene)\n",
    "                \"rh14\",\n",
    "                \"rh15\",  # Selected (Butadiene)\n",
    "                \"butadiene\",\n",
    "            ),\n",
    "            \"pipeline_stages_to_plot\": {\n",
    "                \"sig/load_data\",\n",
    "                \"sig/dropna\",\n",
    "                \"rets/clip\",\n",
    "                \"model/ml\",\n",
    "            },\n",
    "        }\n",
    "    )"
   ]
  },
  {
   "cell_type": "code",
   "execution_count": null,
   "metadata": {},
   "outputs": [],
   "source": [
    "eval_config"
   ]
  },
  {
   "cell_type": "markdown",
   "metadata": {},
   "source": [
    "# Load pipeline run configs"
   ]
  },
  {
   "cell_type": "code",
   "execution_count": null,
   "metadata": {},
   "outputs": [],
   "source": [
    "# Load configs before loading (larger) result_bundles.\n",
    "config_dict = amlnut.load_files(eval_config[\"results_directory\"], \"config.pkl\")"
   ]
  },
  {
   "cell_type": "code",
   "execution_count": null,
   "metadata": {},
   "outputs": [],
   "source": [
    "# Create config dataframe.\n",
    "configs = cfg.convert_to_dataframe(config_dict.values())"
   ]
  },
  {
   "cell_type": "code",
   "execution_count": null,
   "metadata": {},
   "outputs": [],
   "source": [
    "configs.head(3)"
   ]
  },
  {
   "cell_type": "code",
   "execution_count": null,
   "metadata": {},
   "outputs": [],
   "source": [
    "# Create dataframe of config diffs.\n",
    "diffs = cfg.diff_configs(config_dict.values())\n",
    "config_diffs = cfg.convert_to_dataframe(diffs).dropna(how=\"all\", axis=1)"
   ]
  },
  {
   "cell_type": "code",
   "execution_count": null,
   "metadata": {},
   "outputs": [],
   "source": [
    "config_diffs.head(3)"
   ]
  },
  {
   "cell_type": "markdown",
   "metadata": {},
   "source": [
    "# Load pipeline result bundles"
   ]
  },
  {
   "cell_type": "code",
   "execution_count": null,
   "metadata": {},
   "outputs": [],
   "source": [
    "result_bundles = amlnut.load_files(\n",
    "    eval_config[\"results_directory\"], \"result_bundle.pkl\"\n",
    ")"
   ]
  },
  {
   "cell_type": "code",
   "execution_count": null,
   "metadata": {},
   "outputs": [],
   "source": [
    "len(result_bundles)"
   ]
  },
  {
   "cell_type": "markdown",
   "metadata": {},
   "source": [
    "# Calculate metrics and performance statistics"
   ]
  },
  {
   "cell_type": "code",
   "execution_count": null,
   "metadata": {},
   "outputs": [],
   "source": [
    "pnls = amlnut.compute_pnl_v2(result_bundles)"
   ]
  },
  {
   "cell_type": "code",
   "execution_count": null,
   "metadata": {},
   "outputs": [],
   "source": [
    "# TODO: Add a progress bar.\n",
    "pnl_stats = tss.map_dict_to_dataframe(\n",
    "    pnls, eval_config[\"metrics\"].to_dict()\n",
    ").transpose()"
   ]
  },
  {
   "cell_type": "code",
   "execution_count": null,
   "metadata": {},
   "outputs": [],
   "source": [
    "pnl_stats.head(3)"
   ]
  },
  {
   "cell_type": "markdown",
   "metadata": {},
   "source": [
    "## Global adjustment"
   ]
  },
  {
   "cell_type": "code",
   "execution_count": null,
   "metadata": {},
   "outputs": [],
   "source": [
    "pnl_stats_with_adj = amlnut.perform_global_adj(\n",
    "    pnl_stats, **eval_config[\"perform_global_adj\"].to_dict()\n",
    ")"
   ]
  },
  {
   "cell_type": "code",
   "execution_count": null,
   "metadata": {},
   "outputs": [],
   "source": [
    "pnl_stats_with_adj"
   ]
  },
  {
   "cell_type": "code",
   "execution_count": null,
   "metadata": {},
   "outputs": [],
   "source": [
    "results_df = pd.concat([pnl_stats_with_adj, config_diffs], axis=1)"
   ]
  },
  {
   "cell_type": "code",
   "execution_count": null,
   "metadata": {},
   "outputs": [],
   "source": [
    "results_df.head()"
   ]
  },
  {
   "cell_type": "code",
   "execution_count": null,
   "metadata": {},
   "outputs": [],
   "source": [
    "plot.multipletests_plot(\n",
    "    results_df[\"global_adj_pval\"].dropna(),\n",
    "    threshold=eval_config[\"global_adj_pval_threshold\"],\n",
    ")"
   ]
  },
  {
   "cell_type": "markdown",
   "metadata": {},
   "source": [
    "## Family-wise adjustment"
   ]
  },
  {
   "cell_type": "code",
   "execution_count": null,
   "metadata": {},
   "outputs": [],
   "source": [
    "results_df = amlnut.perform_family_adj(\n",
    "    results_df, **eval_config[\"perform_family_adj\"].to_dict()\n",
    ")"
   ]
  },
  {
   "cell_type": "code",
   "execution_count": null,
   "metadata": {},
   "outputs": [],
   "source": [
    "results_df.columns"
   ]
  },
  {
   "cell_type": "code",
   "execution_count": null,
   "metadata": {},
   "outputs": [],
   "source": [
    "results_df.head(3)"
   ]
  },
  {
   "cell_type": "code",
   "execution_count": null,
   "metadata": {},
   "outputs": [],
   "source": [
    "#For some reasons there is no _adj_pval for 'butadiene'. Might need tfixing\n",
    "adj_cols = []\n",
    "for tag in eval_config[\"tags\"][:-1]:\n",
    "    adj_cols.append(tag + \"_adj_pval\")"
   ]
  },
  {
   "cell_type": "code",
   "execution_count": null,
   "metadata": {},
   "outputs": [],
   "source": [
    "plot.multipletests_plot(\n",
    "    results_df[adj_cols],\n",
    "    threshold=eval_config[\"global_adj_pval_threshold\"],\n",
    "    num_cols=3\n",
    ")"
   ]
  },
  {
   "cell_type": "markdown",
   "metadata": {},
   "source": [
    "## Plot selected PnL"
   ]
  },
  {
   "cell_type": "code",
   "execution_count": null,
   "metadata": {},
   "outputs": [],
   "source": [
    "selected = amlnut.perform_family_selection(\n",
    "    results_df, pnls, **eval_config[\"perform_family_selection\"].to_dict()\n",
    ")"
   ]
  },
  {
   "cell_type": "code",
   "execution_count": null,
   "metadata": {},
   "outputs": [],
   "source": [
    "selected.keys()"
   ]
  },
  {
   "cell_type": "code",
   "execution_count": null,
   "metadata": {},
   "outputs": [],
   "source": [
    "# TODO(2752): Make these fancy.\n",
    "#\n",
    "# for tag in selected.keys():\n",
    "#    selected[tag].cumsum().plot()"
   ]
  }
 ],
 "metadata": {
  "jupytext": {
   "text_representation": {
    "extension": ".py",
    "format_name": "percent",
    "format_version": "1.3",
    "jupytext_version": "1.4.2"
   }
  },
  "kernelspec": {
   "display_name": "Python [conda env:.conda-p1_develop] *",
   "language": "python",
   "name": "conda-env-.conda-p1_develop-py"
  },
  "language_info": {
   "codemirror_mode": {
    "name": "ipython",
    "version": 3
   },
   "file_extension": ".py",
   "mimetype": "text/x-python",
   "name": "python",
   "nbconvert_exporter": "python",
   "pygments_lexer": "ipython3"
  }
 },
 "nbformat": 4,
 "nbformat_minor": 4
}
