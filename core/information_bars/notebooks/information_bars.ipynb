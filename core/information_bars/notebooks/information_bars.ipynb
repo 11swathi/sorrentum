{
 "cells": [
  {
   "cell_type": "markdown",
   "metadata": {},
   "source": [
    "# Imports\n",
    "\n",
    "Importing all required modules."
   ]
  },
  {
   "cell_type": "code",
   "execution_count": null,
   "metadata": {},
   "outputs": [],
   "source": [
    "%load_ext autoreload\n",
    "%autoreload 2\n",
    "%matplotlib inline\n",
    "\n",
    "import matplotlib.pyplot as plt\n",
    "import numpy as np\n",
    "import pandas as pd\n",
    "import scipy.stats as stats\n",
    "import seaborn as sns\n",
    "import statsmodels.api as sm\n",
    "\n",
    "import core.information_bars.bars as cib\n",
    "\n",
    "# TODO(vr): Use below when Tick data will be in PQ on S3\n",
    "# import vendors_amp.kibot.data.load as vkdl\n",
    "import vendors_amp.kibot.data.load.file_path_generator as vkdlf\n",
    "import vendors_amp.kibot.data.types as vkdt\n",
    "\n",
    "plt.style.use(\"seaborn-talk\")\n",
    "plt.style.use(\"bmh\")"
   ]
  },
  {
   "cell_type": "markdown",
   "metadata": {},
   "source": [
    "# Constants\n",
    "\n",
    "Defining constants to work with through this notebook."
   ]
  },
  {
   "cell_type": "code",
   "execution_count": null,
   "metadata": {},
   "outputs": [],
   "source": [
    "TICK_M = 100\n",
    "VOLUME_M = 100\n",
    "DOLLAR_VOLUME_M = 100\n",
    "PLOT_FIGURE_SIZE = (10, 7)"
   ]
  },
  {
   "cell_type": "markdown",
   "metadata": {},
   "source": [
    "# Download"
   ]
  },
  {
   "cell_type": "code",
   "execution_count": null,
   "metadata": {},
   "outputs": [],
   "source": [
    "# TODO(vr): Use below when Tick data will be in PQ on S3\n",
    "# downloader = vkdl.KibotDataLoader()\n",
    "# source_df = downloader.read_data(\n",
    "#     symbol='TT',\n",
    "#     asset_class=vkdt.AssetClass.Futures,\n",
    "#     frequency=vkdt.Frequency.Tick,\n",
    "#     contract_type=vkdt.ContractType.Continuous,\n",
    "#     nrows=1000\n",
    "# )\n",
    "# source_df\n",
    "\n",
    "path_generator = vkdlf.FilePathGenerator()\n",
    "remote_path = path_generator.generate_file_path(\n",
    "    symbol=\"TT\",\n",
    "    asset_class=vkdt.AssetClass.Futures,\n",
    "    frequency=vkdt.Frequency.Tick,\n",
    "    contract_type=vkdt.ContractType.Continuous,\n",
    "    ext=vkdt.Extension.CSV,\n",
    ")\n",
    "source_df = pd.read_csv(\n",
    "    remote_path,\n",
    "    header=0,\n",
    "    nrows=1000,\n",
    "    parse_dates=[[\"date\", \"time\"]],\n",
    "    names=[\"date\", \"time\", \"price\", \"volume\"],\n",
    ")\n",
    "source_df"
   ]
  },
  {
   "cell_type": "code",
   "execution_count": null,
   "metadata": {},
   "outputs": [],
   "source": [
    "df = source_df.copy()\n",
    "df.set_index(\"date_time\", inplace=True)"
   ]
  },
  {
   "cell_type": "markdown",
   "metadata": {},
   "source": [
    "# Bars"
   ]
  },
  {
   "cell_type": "markdown",
   "metadata": {},
   "source": [
    "## Tick Bars"
   ]
  },
  {
   "cell_type": "code",
   "execution_count": null,
   "metadata": {},
   "outputs": [],
   "source": [
    "tick_df = cib.get_tick_bars(source_df, threshold=TICK_M)\n",
    "tick_df.set_index(\"date_time\", inplace=True)\n",
    "n_ticks = tick_df.shape[0]\n",
    "volume_ratio = (tick_df.cum_buy_volume.sum() / n_ticks).round()\n",
    "dollar_ratio = (tick_df.cum_dollar_value.sum() / n_ticks).round()\n",
    "print(f\"num ticks: {n_ticks:,}\")\n",
    "print(f\"volume ratio: {volume_ratio}\")\n",
    "print(f\"dollar ratio: {dollar_ratio}\")\n",
    "tick_df"
   ]
  },
  {
   "cell_type": "markdown",
   "metadata": {},
   "source": [
    "## Volume Bars"
   ]
  },
  {
   "cell_type": "code",
   "execution_count": null,
   "metadata": {},
   "outputs": [],
   "source": [
    "v_bar_df = cib.get_volume_bars(source_df, threshold=VOLUME_M)\n",
    "v_bar_df.set_index(\"date_time\", inplace=True)\n",
    "v_bar_df"
   ]
  },
  {
   "cell_type": "markdown",
   "metadata": {},
   "source": [
    "## Dollar Bars"
   ]
  },
  {
   "cell_type": "code",
   "execution_count": null,
   "metadata": {},
   "outputs": [],
   "source": [
    "dv_bar_df = cib.get_dollar_bars(source_df, threshold=DOLLAR_VOLUME_M)\n",
    "dv_bar_df.set_index(\"date_time\", inplace=True)\n",
    "dv_bar_df"
   ]
  },
  {
   "cell_type": "markdown",
   "metadata": {},
   "source": [
    "# Analyzing the Bars"
   ]
  },
  {
   "cell_type": "markdown",
   "metadata": {},
   "source": [
    "## Count Quantity of Bars By Each Bar Type (Weekly)\n",
    "\n",
    "Compare series. Scale them so that we compare \"apples\" to \"apples\"."
   ]
  },
  {
   "cell_type": "code",
   "execution_count": null,
   "metadata": {},
   "outputs": [],
   "source": [
    "def count_bars(df, price_col=\"cum_dollar_value\"):\n",
    "    return df.resample(\"s\")[price_col].count()\n",
    "\n",
    "\n",
    "def scale(s):\n",
    "    return (s - s.min()) / (s.max() - s.min())"
   ]
  },
  {
   "cell_type": "code",
   "execution_count": null,
   "metadata": {},
   "outputs": [],
   "source": [
    "tc = scale(count_bars(tick_df))\n",
    "vc = scale(count_bars(v_bar_df))\n",
    "dc = scale(count_bars(dv_bar_df))\n",
    "dfc = scale(count_bars(df, price_col=\"price\"))"
   ]
  },
  {
   "cell_type": "code",
   "execution_count": null,
   "metadata": {},
   "outputs": [],
   "source": [
    "f, ax = plt.subplots(figsize=PLOT_FIGURE_SIZE)\n",
    "tc.plot(ax=ax, ls=\"-\", label=\"tick count\")\n",
    "vc.plot(ax=ax, ls=\"--\", label=\"volume count\")\n",
    "dc.plot(ax=ax, ls=\"-.\", label=\"dollar count\")\n",
    "ax.set_title(\"scaled bar counts\")\n",
    "ax.legend()"
   ]
  },
  {
   "cell_type": "markdown",
   "metadata": {},
   "source": [
    "## Which Bar Type Has Most Stable Counts?"
   ]
  },
  {
   "cell_type": "code",
   "execution_count": null,
   "metadata": {},
   "outputs": [],
   "source": [
    "bar_types = [\"tick\", \"volume\", \"dollar\", \"df\"]\n",
    "bar_std = [tc.std(), vc.std(), dc.std(), dfc.std()]\n",
    "counts = pd.Series(bar_std, index=bar_types)\n",
    "counts.sort_values()"
   ]
  },
  {
   "cell_type": "markdown",
   "metadata": {},
   "source": [
    "## Which Bar Type Has the Lowest Serial Correlation?"
   ]
  },
  {
   "cell_type": "code",
   "execution_count": null,
   "metadata": {},
   "outputs": [],
   "source": [
    "def returns(s):\n",
    "    arr = np.diff(np.log(s))\n",
    "    return pd.Series(arr, index=s.index[1:])"
   ]
  },
  {
   "cell_type": "code",
   "execution_count": null,
   "metadata": {},
   "outputs": [],
   "source": [
    "tr = returns(tick_df.cum_dollar_value)\n",
    "vr = returns(v_bar_df.cum_dollar_value)\n",
    "dr = returns(dv_bar_df.cum_dollar_value)\n",
    "df_ret = returns(df.price)\n",
    "\n",
    "bar_returns = [tr, vr, dr, df_ret]"
   ]
  },
  {
   "cell_type": "code",
   "execution_count": null,
   "metadata": {},
   "outputs": [],
   "source": [
    "def get_test_stats(bar_types, bar_returns, test_func, *args, **kwargs):\n",
    "\n",
    "    dct = {\n",
    "        bar_plot: (int(bar_ret.shape[0]), test_func(bar_ret, *args, **kwargs))\n",
    "        for bar_plot, bar_ret in zip(bar_types, bar_returns)\n",
    "    }\n",
    "\n",
    "    df = (\n",
    "        pd.DataFrame.from_dict(dct)\n",
    "        .rename(index={0: \"sample_size\", 1: f\"{test_func.__name__}_stat\"})\n",
    "        .T\n",
    "    )\n",
    "    return df\n",
    "\n",
    "\n",
    "autocorrs = get_test_stats(bar_types, bar_returns, pd.Series.autocorr)"
   ]
  },
  {
   "cell_type": "code",
   "execution_count": null,
   "metadata": {},
   "outputs": [],
   "source": [
    "autocorrs.sort_values(\"autocorr_stat\")"
   ]
  },
  {
   "cell_type": "code",
   "execution_count": null,
   "metadata": {},
   "outputs": [],
   "source": [
    "autocorrs.abs().sort_values(\"autocorr_stat\")"
   ]
  },
  {
   "cell_type": "code",
   "execution_count": null,
   "metadata": {},
   "outputs": [],
   "source": [
    "def plot_autocorr(bar_types, bar_returns):\n",
    "    _, axes = plt.subplots(len(bar_types), figsize=PLOT_FIGURE_SIZE)\n",
    "    min_lags = min(map(len, bar_returns))\n",
    "    for i, (bar_plot, typ) in enumerate(zip(bar_returns, bar_types)):\n",
    "        sm.graphics.tsa.plot_acf(\n",
    "            bar_plot,\n",
    "            lags=min_lags - 1,\n",
    "            ax=axes[i],\n",
    "            alpha=0.05,\n",
    "            unbiased=True,\n",
    "            fft=True,\n",
    "            zero=False,\n",
    "            title=f\"{typ} AutoCorr\",\n",
    "        )\n",
    "    plt.tight_layout()\n",
    "\n",
    "\n",
    "def plot_hist(bar_types, bar_returns):\n",
    "    _, axes = plt.subplots(len(bar_types), figsize=PLOT_FIGURE_SIZE)\n",
    "    for i, (bar_plot, typ) in enumerate(zip(bar_returns, bar_types)):\n",
    "        g = sns.distplot(bar_plot, ax=axes[i], kde=False, label=typ)\n",
    "        g.set(yscale=\"log\")\n",
    "        axes[i].legend()\n",
    "    plt.tight_layout()"
   ]
  },
  {
   "cell_type": "code",
   "execution_count": null,
   "metadata": {},
   "outputs": [],
   "source": [
    "plot_autocorr(bar_types, bar_returns)"
   ]
  },
  {
   "cell_type": "code",
   "execution_count": null,
   "metadata": {},
   "outputs": [],
   "source": [
    "plot_hist(bar_types, bar_returns)"
   ]
  },
  {
   "cell_type": "markdown",
   "metadata": {},
   "source": [
    "## Partition Bar Series into Monthly, Compute Variance of Returns, and Variance of Variance"
   ]
  },
  {
   "cell_type": "code",
   "execution_count": null,
   "metadata": {},
   "outputs": [],
   "source": [
    "def partition_monthly(s):\n",
    "    return s.resample(\"1M\").var()"
   ]
  },
  {
   "cell_type": "code",
   "execution_count": null,
   "metadata": {},
   "outputs": [],
   "source": [
    "tr_rs = partition_monthly(tr)\n",
    "vr_rs = partition_monthly(vr)\n",
    "dr_rs = partition_monthly(dr)\n",
    "df_ret_rs = partition_monthly(df_ret)\n",
    "monthly_vars = [tr_rs, vr_rs, dr_rs, df_ret_rs]"
   ]
  },
  {
   "cell_type": "code",
   "execution_count": null,
   "metadata": {},
   "outputs": [],
   "source": [
    "get_test_stats(bar_types, monthly_vars, np.var).sort_values(\"var_stat\")"
   ]
  },
  {
   "cell_type": "markdown",
   "metadata": {},
   "source": [
    "## Compute Jarque-Bera Test, Which Has The Lowest Test Statistic?"
   ]
  },
  {
   "cell_type": "code",
   "execution_count": null,
   "metadata": {},
   "outputs": [],
   "source": [
    "def jb(x, test=True):\n",
    "    np.random.seed(12345678)\n",
    "    if test:\n",
    "        return stats.jarque_bera(x)[0]\n",
    "    return stats.jarque_bera(x)[1]\n",
    "\n",
    "\n",
    "get_test_stats(bar_types, bar_returns, jb).sort_values(\"jb_stat\")"
   ]
  },
  {
   "cell_type": "markdown",
   "metadata": {},
   "source": [
    "## Compute Shapiro-Wilk Test\n",
    "\n",
    "Shapiro-Wilk test statistic > larger is better."
   ]
  },
  {
   "cell_type": "code",
   "execution_count": null,
   "metadata": {},
   "outputs": [],
   "source": [
    "def shapiro(x, test=True):\n",
    "    np.random.seed(12345678)\n",
    "    if test:\n",
    "        return stats.shapiro(x)[0]\n",
    "    return stats.shapiro(x)[1]\n",
    "\n",
    "\n",
    "get_test_stats(bar_types, bar_returns, shapiro).sort_values(\"shapiro_stat\")[::-1]"
   ]
  }
 ],
 "metadata": {
  "jupytext": {
   "formats": "ipynb,py:percent"
  },
  "kernelspec": {
   "display_name": "Python 3",
   "language": "python",
   "name": "python3"
  },
  "language_info": {
   "codemirror_mode": {
    "name": "ipython",
    "version": 3
   },
   "file_extension": ".py",
   "mimetype": "text/x-python",
   "name": "python",
   "nbconvert_exporter": "python",
   "pygments_lexer": "ipython3"
  }
 },
 "nbformat": 4,
 "nbformat_minor": 4
}
