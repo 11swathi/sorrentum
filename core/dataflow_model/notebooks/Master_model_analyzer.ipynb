{
 "cells": [
  {
   "cell_type": "markdown",
   "metadata": {},
   "source": [
    "# Description\n",
    "\n",
    "- Initialize with returns, predictions, target volatility, and oos start date\n",
    "- Evaluate portfolios generated from the predictions"
   ]
  },
  {
   "cell_type": "markdown",
   "metadata": {},
   "source": [
    "# Imports"
   ]
  },
  {
   "cell_type": "code",
   "execution_count": null,
   "metadata": {},
   "outputs": [],
   "source": [
    "%load_ext autoreload\n",
    "%autoreload 2\n",
    "\n",
    "import logging\n",
    "\n",
    "import numpy as np\n",
    "import pandas as pd\n",
    "\n",
    "import core.artificial_signal_generators as sig_gen\n",
    "import core.config as cconfig\n",
    "import core.dataflow_model.model_evaluator as modeval\n",
    "import core.dataflow_model.model_plotter as modplot\n",
    "import core.dataflow_model.utils as cdmu\n",
    "import core.statistics as stats\n",
    "import helpers.dbg as dbg\n",
    "import helpers.env as env\n",
    "import helpers.printing as prnt"
   ]
  },
  {
   "cell_type": "code",
   "execution_count": null,
   "metadata": {},
   "outputs": [],
   "source": [
    "dbg.init_logger(verbosity=logging.INFO)\n",
    "\n",
    "_LOG = logging.getLogger(__name__)\n",
    "\n",
    "# _LOG.info(\"%s\", env.get_system_signature()[0])\n",
    "\n",
    "# prnt.config_notebook()"
   ]
  },
  {
   "cell_type": "markdown",
   "metadata": {},
   "source": [
    "# Notebook config"
   ]
  },
  {
   "cell_type": "code",
   "execution_count": null,
   "metadata": {},
   "outputs": [],
   "source": [
    "eval_config = cconfig.get_config_from_nested_dict(\n",
    "    {\n",
    "        # \"exp_dir\": \"/app/experiment1\",\n",
    "        \"model_evaluator_kwargs\": {\n",
    "            \"returns_col\": \"ret_0_vol_adj_2\",\n",
    "            \"predictions_col\": \"ret_0_vol_adj_2_hat\",\n",
    "            \"oos_start\": \"2017-01-01\",\n",
    "        },\n",
    "        \"bh_adj_threshold\": 0.1,\n",
    "        \"resample_rule\": \"W\",\n",
    "        \"mode\": \"ins\",\n",
    "        \"target_volatility\": 0.1,\n",
    "    }\n",
    ")"
   ]
  },
  {
   "cell_type": "markdown",
   "metadata": {},
   "source": [
    "# Generate mock returns and predictions\n",
    "\n",
    "- This is a placeholder\n",
    "- In practice, the user should supply `rets` and `preds`"
   ]
  },
  {
   "cell_type": "code",
   "execution_count": null,
   "metadata": {},
   "outputs": [],
   "source": [
    "# Generate synthetic returns.\n",
    "mn_process = sig_gen.MultivariateNormalProcess()\n",
    "mn_process.set_cov_from_inv_wishart_draw(dim=32, seed=0)\n",
    "realization = mn_process.generate_sample(\n",
    "    {\"start\": \"2000-01-01\", \"end\": \"2010-01-01\", \"freq\": \"B\"}, seed=0\n",
    ")\n",
    "rets = realization.to_dict(orient=\"series\")"
   ]
  },
  {
   "cell_type": "code",
   "execution_count": null,
   "metadata": {},
   "outputs": [],
   "source": [
    "# Generate fake predictions.\n",
    "noise = sig_gen.MultivariateNormalProcess(\n",
    "    pd.Series(data=[0] * 32), pd.DataFrame(np.identity(32))\n",
    ")\n",
    "noise_draw = noise.generate_sample(\n",
    "    {\"start\": \"2000-01-01\", \"end\": \"2010-01-01\", \"freq\": \"B\"}, seed=0\n",
    ")\n",
    "pred_df = 0.01 * realization + 0.1 * noise_draw\n",
    "# Adjust so that all models have positive SR.\n",
    "pred_df = (\n",
    "    stats.compute_annualized_sharpe_ratio(pred_df.multiply(realization))\n",
    "    .apply(np.sign)\n",
    "    .multiply(pred_df)\n",
    ")"
   ]
  },
  {
   "cell_type": "code",
   "execution_count": null,
   "metadata": {},
   "outputs": [],
   "source": [
    "data_dict = {}\n",
    "for k in pred_df.columns:\n",
    "    data_dict[k] = pd.concat([rets[k].rename(\"returns\"), pred_df[k].rename(\"predictions\")], axis=1) "
   ]
  },
  {
   "cell_type": "markdown",
   "metadata": {},
   "source": [
    "# Initialize ModelEvaluator and ModelPlotter"
   ]
  },
  {
   "cell_type": "code",
   "execution_count": null,
   "metadata": {},
   "outputs": [],
   "source": [
    "if eval_config.get(\"exp_dir\", None) is None:\n",
    "    evaluator = modeval.ModelEvaluator(\n",
    "        data=data_dict,\n",
    "        target_col=\"returns\",\n",
    "        prediction_col=\"predictions\",\n",
    "        oos_start=eval_config[\"model_evaluator_kwargs\", \"oos_start\"],\n",
    "    )\n",
    "else:\n",
    "    rbs_dicts = cdmu.load_experiment_artifacts(\n",
    "        eval_config[\"exp_dir\"],\n",
    "        \"result_bundle.pkl\"\n",
    "    )\n",
    "    evaluator = modeval.build_model_evaluator_from_result_bundle_dicts(\n",
    "        rbs_dicts,\n",
    "        **eval_config[\"model_evaluator_kwargs\"].to_dict(),\n",
    "    )\n",
    "\n",
    "plotter = modplot.ModelPlotter(evaluator)"
   ]
  },
  {
   "cell_type": "code",
   "execution_count": null,
   "metadata": {},
   "outputs": [],
   "source": [
    "plotter.plot_multiple_tests_adjustment(\n",
    "    threshold=eval_config[\"bh_adj_threshold\"], mode=eval_config[\"mode\"]\n",
    ")"
   ]
  },
  {
   "cell_type": "code",
   "execution_count": null,
   "metadata": {},
   "outputs": [],
   "source": [
    "pnl_stats = evaluator.calculate_stats(mode=eval_config[\"mode\"], target_volatility=eval_config[\"target_volatility\"])\n",
    "pnl_stats.loc[[\"signal_quality\", \"correlation\"]]"
   ]
  },
  {
   "cell_type": "code",
   "execution_count": null,
   "metadata": {},
   "outputs": [],
   "source": [
    "plotter.plot_correlation_matrix(\n",
    "    series=\"pnl\",\n",
    "    resample_rule=eval_config[\"resample_rule\"],\n",
    "    mode=eval_config[\"mode\"],\n",
    ")"
   ]
  },
  {
   "cell_type": "code",
   "execution_count": null,
   "metadata": {},
   "outputs": [],
   "source": [
    "plotter.plot_correlation_matrix(\n",
    "    series=\"returns\",\n",
    "    resample_rule=eval_config[\"resample_rule\"],\n",
    "    mode=eval_config[\"mode\"],\n",
    ")"
   ]
  },
  {
   "cell_type": "code",
   "execution_count": null,
   "metadata": {},
   "outputs": [],
   "source": [
    "col_mask = pnl_stats.loc[\"signal_quality\"].loc[\"sr.adj_pval\"] < eval_config[\"bh_adj_threshold\"]\n",
    "selected = pnl_stats.loc[:, col_mask].columns.to_list()"
   ]
  },
  {
   "cell_type": "code",
   "execution_count": null,
   "metadata": {},
   "outputs": [],
   "source": [
    "plotter.plot_multiple_pnls(\n",
    "    keys=selected,\n",
    "    resample_rule=eval_config[\"resample_rule\"],\n",
    "    mode=eval_config[\"mode\"],\n",
    ")"
   ]
  },
  {
   "cell_type": "code",
   "execution_count": null,
   "metadata": {},
   "outputs": [],
   "source": [
    "evaluator.aggregate_models(\n",
    "    keys=selected,\n",
    "    mode=eval_config[\"mode\"],\n",
    "    target_volatility=eval_config[\"target_volatility\"],\n",
    ")[2].to_frame()"
   ]
  },
  {
   "cell_type": "code",
   "execution_count": null,
   "metadata": {},
   "outputs": [],
   "source": [
    "plotter.plot_sharpe_ratio_panel(keys=selected, mode=eval_config[\"mode\"])"
   ]
  },
  {
   "cell_type": "code",
   "execution_count": null,
   "metadata": {},
   "outputs": [],
   "source": [
    "plotter.plot_rets_signal_analysis(\n",
    "    keys=selected,\n",
    "    resample_rule=eval_config[\"resample_rule\"],\n",
    "    mode=eval_config[\"mode\"],\n",
    "    target_volatility=eval_config[\"target_volatility\"],\n",
    ")"
   ]
  },
  {
   "cell_type": "code",
   "execution_count": null,
   "metadata": {},
   "outputs": [],
   "source": [
    "plotter.plot_performance(\n",
    "    keys=selected,\n",
    "    resample_rule=eval_config[\"resample_rule\"],\n",
    "    mode=eval_config[\"mode\"],\n",
    "    target_volatility=eval_config[\"target_volatility\"],\n",
    ")"
   ]
  },
  {
   "cell_type": "code",
   "execution_count": null,
   "metadata": {},
   "outputs": [],
   "source": [
    "plotter.plot_rets_and_vol(\n",
    "    selected,\n",
    "    resample_rule=eval_config[\"resample_rule\"],\n",
    "    mode=eval_config[\"mode\"],\n",
    "    target_volatility=eval_config[\"target_volatility\"],\n",
    ")"
   ]
  },
  {
   "cell_type": "code",
   "execution_count": null,
   "metadata": {},
   "outputs": [],
   "source": [
    "plotter.plot_positions(\n",
    "    keys=selected,\n",
    "    mode=eval_config[\"mode\"],\n",
    "    target_volatility=eval_config[\"target_volatility\"],\n",
    ")"
   ]
  },
  {
   "cell_type": "code",
   "execution_count": null,
   "metadata": {},
   "outputs": [],
   "source": [
    "plotter.plot_returns_and_predictions(\n",
    "    keys=selected[:1],\n",
    "    resample_rule=eval_config[\"resample_rule\"],\n",
    "    mode=eval_config[\"mode\"],\n",
    ")"
   ]
  },
  {
   "cell_type": "code",
   "execution_count": null,
   "metadata": {},
   "outputs": [],
   "source": []
  }
 ],
 "metadata": {
  "jupytext": {
   "text_representation": {
    "extension": ".py",
    "format_name": "percent",
    "format_version": "1.3",
    "jupytext_version": "1.11.2"
   }
  },
  "kernelspec": {
   "display_name": "Python 3",
   "language": "python",
   "name": "python3"
  },
  "language_info": {
   "codemirror_mode": {
    "name": "ipython",
    "version": 3
   },
   "file_extension": ".py",
   "mimetype": "text/x-python",
   "name": "python",
   "nbconvert_exporter": "python",
   "pygments_lexer": "ipython3"
  },
  "toc": {
   "base_numbering": 1,
   "nav_menu": {},
   "number_sections": true,
   "sideBar": true,
   "skip_h1_title": false,
   "title_cell": "Table of Contents",
   "title_sidebar": "Contents",
   "toc_cell": false,
   "toc_position": {},
   "toc_section_display": true,
   "toc_window_display": false
  }
 },
 "nbformat": 4,
 "nbformat_minor": 4
}
