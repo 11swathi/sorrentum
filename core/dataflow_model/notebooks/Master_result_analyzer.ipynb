{
 "cells": [
  {
   "cell_type": "code",
   "execution_count": null,
   "id": "66c29a45",
   "metadata": {},
   "outputs": [],
   "source": [
    "%load_ext autoreload\n",
    "%autoreload 2\n",
    "\n",
    "import collections\n",
    "import logging\n",
    "import os\n",
    "import pathlib\n",
    "\n",
    "import numpy as np\n",
    "import pandas as pd\n",
    "\n",
    "import core.config as cconfig\n",
    "import core.dataflow as cdataf\n",
    "import core.finance as cfina\n",
    "import core.dataflow_model.model_evaluator as cmodel\n",
    "import core.dataflow_model.model_plotter as modplot\n",
    "import core.dataflow_model.utils as cdmu\n",
    "import core.plotting as plot\n",
    "import core.signal_processing as csigna\n",
    "import dataflow_lemonade.futures_returns.pipeline as dlfrp\n",
    "import helpers.dbg as dbg\n",
    "import helpers.env as henv\n",
    "import helpers.io_ as hio\n",
    "import helpers.pickle_ as hpickl\n",
    "import helpers.printing as hprint\n",
    "\n",
    "from typing import Any, Dict, Iterable, Optional\n",
    "\n",
    "from tqdm.auto import tqdm"
   ]
  },
  {
   "cell_type": "code",
   "execution_count": null,
   "id": "49bfa0c7",
   "metadata": {},
   "outputs": [],
   "source": [
    "dbg.init_logger(verbosity=logging.INFO)\n",
    "\n",
    "_LOG = logging.getLogger(__name__)\n",
    "\n",
    "# _LOG.info(\"%s\", henv.get_system_signature()[0])\n",
    "\n",
    "# hprint.config_notebook()"
   ]
  },
  {
   "cell_type": "code",
   "execution_count": null,
   "id": "cf0a87c2",
   "metadata": {},
   "outputs": [],
   "source": [
    "def get_config_diffs(\n",
    "    config_dict: collections.OrderedDict, tag_col: Optional[str] = None\n",
    ") -> pd.DataFrame:\n",
    "    \"\"\"\n",
    "    Create a dataframe of config diffs.\n",
    "\n",
    "    :param config_dict: dictionary of configs\n",
    "    :param tag_col: name of the tag col. If tags are the same for all configs\n",
    "        and `tag_col` is not None, add tags to config diffs dataframe\n",
    "    :return: config diffs dataframe\n",
    "    \"\"\"\n",
    "    diffs = cconfig.diff_configs(config_dict.values())\n",
    "    non_empty_diffs = [diff for diff in diffs if len(diff) > 1]\n",
    "    if non_empty_diffs:\n",
    "        config_diffs = cconfig.convert_to_dataframe(diffs).dropna(\n",
    "            how=\"all\", axis=1\n",
    "        )\n",
    "    else:\n",
    "        config_diffs = pd.DataFrame(index=range(len(diffs)))\n",
    "    # If tags are the same, still add them to `config_diffs`.\n",
    "    if tag_col is not None and tag_col not in config_diffs.columns:\n",
    "        tags = [config[tag_col] for config in config_dict.values()]\n",
    "        config_diffs[tag_col] = tags\n",
    "    return config_diffs"
   ]
  },
  {
   "cell_type": "code",
   "execution_count": null,
   "id": "b4fbad73",
   "metadata": {},
   "outputs": [],
   "source": [
    "notebook_config = cconfig.get_config_from_nested_dict({\n",
    "    \"exp_dir\": \"/app/experiment1\",\n",
    "    \"model_evaluator_kwargs\": {\n",
    "        \"returns_col\": \"ret_0_vol_adj_2\",\n",
    "        \"predictions_col\": \"ret_0_vol_adj_2_hat\",\n",
    "        \"target_volatility\": 0.1,\n",
    "        \"oos_start\": \"2017-01-01\",\n",
    "    },\n",
    "})"
   ]
  },
  {
   "cell_type": "markdown",
   "id": "d11f93e9",
   "metadata": {},
   "source": [
    "# Load results"
   ]
  },
  {
   "cell_type": "code",
   "execution_count": null,
   "id": "e3d679db",
   "metadata": {},
   "outputs": [],
   "source": [
    "rbs_dicts = cdmu.load_experiment_artifacts(\n",
    "    notebook_config[\"exp_dir\"],\n",
    "    \"result_bundle.pkl\"\n",
    ")"
   ]
  },
  {
   "cell_type": "code",
   "execution_count": null,
   "id": "a82fd9f2",
   "metadata": {},
   "outputs": [],
   "source": [
    "display(rbs_dicts[0][\"result_df\"].head(3))\n",
    "display(rbs_dicts[0][\"result_df\"].tail(3))"
   ]
  },
  {
   "cell_type": "code",
   "execution_count": null,
   "id": "8d3700ef",
   "metadata": {},
   "outputs": [],
   "source": [
    "evaluator = cmodel.build_model_evaluator_from_result_bundle_dicts(\n",
    "    rbs_dicts,\n",
    "    **notebook_config[\"model_evaluator_kwargs\"].to_dict(),\n",
    ")"
   ]
  },
  {
   "cell_type": "code",
   "execution_count": null,
   "id": "a1f467df",
   "metadata": {},
   "outputs": [],
   "source": [
    "evaluator.calculate_stats()"
   ]
  },
  {
   "cell_type": "code",
   "execution_count": null,
   "id": "5003c1ad",
   "metadata": {},
   "outputs": [],
   "source": [
    "evaluator.aggregate_models(mode=\"ins\", target_volatility=0.05)[2].to_frame()"
   ]
  },
  {
   "cell_type": "code",
   "execution_count": null,
   "id": "4b4d7bee",
   "metadata": {},
   "outputs": [],
   "source": [
    "evaluator.aggregate_models(mode=\"oos\")[2].to_frame()"
   ]
  },
  {
   "cell_type": "code",
   "execution_count": null,
   "id": "27a868e0",
   "metadata": {},
   "outputs": [],
   "source": [
    "evaluator.aggregate_models(mode=\"all_available\")[2].to_frame()"
   ]
  },
  {
   "cell_type": "code",
   "execution_count": null,
   "id": "2d07c7ab",
   "metadata": {},
   "outputs": [],
   "source": [
    "plotter = modplot.ModelPlotter(evaluator)"
   ]
  },
  {
   "cell_type": "code",
   "execution_count": null,
   "id": "fbd4671c",
   "metadata": {},
   "outputs": [],
   "source": [
    "plotter.plot_performance(resample_rule=\"B\")"
   ]
  },
  {
   "cell_type": "code",
   "execution_count": null,
   "id": "0ba6800c",
   "metadata": {},
   "outputs": [],
   "source": [
    "plotter.plot_performance(\n",
    "    mode=\"ins\",\n",
    "    target_volatility=0.05,\n",
    "    resample_rule=\"B\",\n",
    "    plot_cumulative_returns_kwargs={\"mode\": \"log\"},\n",
    ")"
   ]
  },
  {
   "cell_type": "code",
   "execution_count": null,
   "id": "f3c16576",
   "metadata": {},
   "outputs": [],
   "source": [
    "plotter.plot_sharpe_ratio_panel(frequencies=[\"B\", \"W\", \"M\"])"
   ]
  },
  {
   "cell_type": "code",
   "execution_count": null,
   "id": "1931a086",
   "metadata": {},
   "outputs": [],
   "source": [
    "plotter.plot_performance(\n",
    "    mode=\"all_available\",\n",
    "    target_volatility=0.05,\n",
    "    resample_rule=\"B\",\n",
    "    plot_cumulative_returns_kwargs={\"mode\": \"log\"},\n",
    ")"
   ]
  },
  {
   "cell_type": "code",
   "execution_count": null,
   "id": "6aff6537",
   "metadata": {},
   "outputs": [],
   "source": []
  }
 ],
 "metadata": {
  "jupytext": {
   "text_representation": {
    "extension": ".py",
    "format_name": "percent",
    "format_version": "1.3",
    "jupytext_version": "1.4.2"
   }
  },
  "kernelspec": {
   "display_name": "Python 3",
   "language": "python",
   "name": "python3"
  },
  "language_info": {
   "codemirror_mode": {
    "name": "ipython",
    "version": 3
   },
   "file_extension": ".py",
   "mimetype": "text/x-python",
   "name": "python",
   "nbconvert_exporter": "python",
   "pygments_lexer": "ipython3"
  },
  "toc": {
   "base_numbering": 1,
   "nav_menu": {},
   "number_sections": true,
   "sideBar": true,
   "skip_h1_title": false,
   "title_cell": "Table of Contents",
   "title_sidebar": "Contents",
   "toc_cell": false,
   "toc_position": {},
   "toc_section_display": true,
   "toc_window_display": false
  }
 },
 "nbformat": 4,
 "nbformat_minor": 5
}
