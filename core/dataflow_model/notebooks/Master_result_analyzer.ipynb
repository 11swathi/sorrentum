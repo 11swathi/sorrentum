{
 "cells": [
  {
   "cell_type": "code",
   "execution_count": null,
   "id": "8bb18935",
   "metadata": {},
   "outputs": [],
   "source": [
    "%load_ext autoreload\n",
    "%autoreload 2\n",
    "\n",
    "import collections\n",
    "import logging\n",
    "import os\n",
    "import pathlib\n",
    "\n",
    "import numpy as np\n",
    "import pandas as pd\n",
    "\n",
    "import core.config as cconfi\n",
    "import core.config_builders as ccbuild\n",
    "import core.finance as cfina\n",
    "import core.model_evaluator as cmodel\n",
    "import core.model_plotter as modplot\n",
    "import core.plotting as plot\n",
    "import core.signal_processing as csigna\n",
    "import dataflow_lemonade.futures_returns.pipeline as dlfrp\n",
    "import helpers.dbg as dbg\n",
    "import helpers.env as henv\n",
    "import helpers.io_ as hio\n",
    "import helpers.pickle_ as hpickl\n",
    "import helpers.printing as hprint\n",
    "\n",
    "from typing import Any, Dict, Iterable, Optional\n",
    "\n",
    "from tqdm.auto import tqdm"
   ]
  },
  {
   "cell_type": "code",
   "execution_count": null,
   "id": "548daa40",
   "metadata": {},
   "outputs": [],
   "source": [
    "dbg.init_logger(verbosity=logging.INFO)\n",
    "\n",
    "_LOG = logging.getLogger(__name__)\n",
    "\n",
    "_LOG.info(\"%s\", henv.get_system_signature()[0])\n",
    "\n",
    "hprint.config_notebook()"
   ]
  },
  {
   "cell_type": "code",
   "execution_count": null,
   "id": "fc2fd45a",
   "metadata": {},
   "outputs": [],
   "source": [
    "def load_files(\n",
    "    dst_dir: str, file_name: str, idxs: Optional[Iterable[int]] = None\n",
    ") -> Dict[int, Any]:\n",
    "    \"\"\"\n",
    "    Load according to `file_name` extension.\n",
    "\n",
    "    Assumes subdirectories withing `dst_dir` have the following structure:\n",
    "    > /dst_dir/{$RESULT_DIR_NAME}_%i/file_name\n",
    "    Here `%i` denotes an integer encoded in the subdirectory name.\n",
    "\n",
    "    The function returns the contents of the files, indexed by the integer\n",
    "    extracted from the subdirectory index name.\n",
    "\n",
    "    :param dst_dir: directory containing subdirectories of run results\n",
    "    :param file_name: the file name within each run results subdirectory to\n",
    "        load\n",
    "    :param idxs: specific indices to load; if `None`, loads all indices\n",
    "    \"\"\"\n",
    "    # Retrieve all subdirectories in `dst_dir`.\n",
    "    p = pathlib.Path(dst_dir)\n",
    "    subfolders = [f for f in p.iterdir() if f.is_dir()]\n",
    "    # Order experiment subfolders by number of experiment.\n",
    "    subfolders_num = {}\n",
    "    keys = []\n",
    "    for sf in subfolders:\n",
    "        key = int(sf.parts[-1].split(\"_\")[-1])\n",
    "        subfolders_num[key] = sf\n",
    "        keys.append(key)\n",
    "    # Ensure there are no duplicate integer keys (e.g., due to an inconsistent\n",
    "    # subdirectory naming scheme).\n",
    "    dbg.dassert_no_duplicates(\n",
    "        keys, \"Duplicate keys detected! Check subdirectory names.\"\n",
    "    )\n",
    "    # Specify indices of files to load.\n",
    "    if idxs is None:\n",
    "        iter_keys = sorted(keys)\n",
    "    else:\n",
    "        idxs_l = set(idxs)\n",
    "        dbg.dassert_is_subset(idxs_l, set(keys))\n",
    "        iter_keys = [key for key in sorted(keys) if key in idxs_l]\n",
    "    # Iterate over experiment subfolders.\n",
    "    results = collections.OrderedDict()\n",
    "    for key in tqdm(iter_keys):\n",
    "        subfolder = subfolders_num[key]\n",
    "        path_to_file = os.path.join(dst_dir, subfolder, file_name)\n",
    "        if not os.path.exists(path_to_file):\n",
    "            _LOG.warning(\"File `%s` does not exist.\", path_to_file)\n",
    "            continue\n",
    "        # Load pickle files.\n",
    "        if file_name.endswith(\".pkl\"):\n",
    "            res = hpickl.from_pickle(\n",
    "                path_to_file, log_level=logging.DEBUG, verbose=False\n",
    "            )\n",
    "        # Load json files.\n",
    "        elif file_name.endswith(\".json\"):\n",
    "            with open(path_to_file, \"r\") as file:\n",
    "                res = json.load(file)\n",
    "        # Load txt files.\n",
    "        elif file_name.endswith(\".txt\"):\n",
    "            res = hio.from_file(path_to_file)\n",
    "        else:\n",
    "            raise ValueError(f\"Unsupported file type='{file_name}'\")\n",
    "        results[key] = res\n",
    "    return results\n",
    "\n",
    "\n",
    "def get_config_diffs(\n",
    "    config_dict: collections.OrderedDict, tag_col: Optional[str] = None\n",
    ") -> pd.DataFrame:\n",
    "    \"\"\"\n",
    "    Create a dataframe of config diffs.\n",
    "\n",
    "    :param config_dict: dictionary of configs\n",
    "    :param tag_col: name of the tag col. If tags are the same for all configs\n",
    "        and `tag_col` is not None, add tags to config diffs dataframe\n",
    "    :return: config diffs dataframe\n",
    "    \"\"\"\n",
    "    diffs = cconfi.diff_configs(config_dict.values())\n",
    "    non_empty_diffs = [diff for diff in diffs if len(diff) > 1]\n",
    "    if non_empty_diffs:\n",
    "        config_diffs = cconfi.convert_to_dataframe(diffs).dropna(\n",
    "            how=\"all\", axis=1\n",
    "        )\n",
    "    else:\n",
    "        config_diffs = pd.DataFrame(index=range(len(diffs)))\n",
    "    # If tags are the same, still add them to `config_diffs`.\n",
    "    if tag_col is not None and tag_col not in config_diffs.columns:\n",
    "        tags = [config[tag_col] for config in config_dict.values()]\n",
    "        config_diffs[tag_col] = tags\n",
    "    return config_diffs"
   ]
  },
  {
   "cell_type": "markdown",
   "id": "5a0a7f6c",
   "metadata": {},
   "source": [
    "# Load ERH1 results"
   ]
  },
  {
   "cell_type": "code",
   "execution_count": null,
   "id": "78e40d6f",
   "metadata": {},
   "outputs": [],
   "source": [
    "exp_dir = \"/Users/paul/src/alphamatic/lemonade/experiments/erh1_experiments/run1\""
   ]
  },
  {
   "cell_type": "code",
   "execution_count": null,
   "id": "869e9df1",
   "metadata": {},
   "outputs": [],
   "source": [
    "rbs = load_files(exp_dir, \"result_bundle.pkl\")"
   ]
  },
  {
   "cell_type": "code",
   "execution_count": null,
   "id": "fead73a0",
   "metadata": {},
   "outputs": [],
   "source": [
    "rbs[0][\"result_df\"].head()"
   ]
  },
  {
   "cell_type": "code",
   "execution_count": null,
   "id": "2fd0eb21",
   "metadata": {},
   "outputs": [],
   "source": [
    "def get_rets_and_preds(rbs):\n",
    "    rets = {}\n",
    "    preds = {}\n",
    "    for key, rb in rbs.items():\n",
    "        df = rb[\"result_df\"]\n",
    "        rets[key] = df[\"vwap_ret_0_zscored_2\"]\n",
    "        preds[key] = df[\"vwap_ret_0_zscored_2_hat\"]\n",
    "    return rets, preds"
   ]
  },
  {
   "cell_type": "code",
   "execution_count": null,
   "id": "41b1a4c1",
   "metadata": {},
   "outputs": [],
   "source": [
    "rets, preds = get_rets_and_preds(rbs)"
   ]
  },
  {
   "cell_type": "code",
   "execution_count": null,
   "id": "7516884b",
   "metadata": {},
   "outputs": [],
   "source": [
    "evaluator = cmodel.ModelEvaluator(\n",
    "    returns=rets,\n",
    "    predictions=preds,\n",
    "    target_volatility=0.1,\n",
    "    oos_start=\"2017-12-30\",\n",
    ")\n",
    "plotter = modplot.ModelPlotter(evaluator)"
   ]
  },
  {
   "cell_type": "code",
   "execution_count": null,
   "id": "f87fb01d",
   "metadata": {},
   "outputs": [],
   "source": [
    "evaluator.calculate_stats()"
   ]
  },
  {
   "cell_type": "code",
   "execution_count": null,
   "id": "db8302c4",
   "metadata": {},
   "outputs": [],
   "source": [
    "evaluator.aggregate_models(mode=\"ins\", target_volatility=0.05)[2].to_frame()"
   ]
  },
  {
   "cell_type": "code",
   "execution_count": null,
   "id": "1b8d32c1",
   "metadata": {},
   "outputs": [],
   "source": [
    "evaluator.aggregate_models(mode=\"oos\")[2].to_frame()"
   ]
  },
  {
   "cell_type": "code",
   "execution_count": null,
   "id": "3f646a68",
   "metadata": {},
   "outputs": [],
   "source": [
    "evaluator.aggregate_models(mode=\"all_available\")[2].to_frame()"
   ]
  },
  {
   "cell_type": "code",
   "execution_count": null,
   "id": "0c0aa397",
   "metadata": {},
   "outputs": [],
   "source": [
    "plotter.plot_performance(resample_rule=\"B\")"
   ]
  },
  {
   "cell_type": "code",
   "execution_count": null,
   "id": "de86d420",
   "metadata": {},
   "outputs": [],
   "source": [
    "plotter.plot_performance(\n",
    "    mode=\"ins\",\n",
    "    target_volatility=0.05,\n",
    "    resample_rule=\"B\",\n",
    "    plot_cumulative_returns_kwargs={\"mode\": \"log\"},\n",
    ")"
   ]
  },
  {
   "cell_type": "code",
   "execution_count": null,
   "id": "4f4fe4b9",
   "metadata": {},
   "outputs": [],
   "source": [
    "plotter.plot_sharpe_ratio_panel(frequencies=[\"B\", \"W\", \"M\"])"
   ]
  },
  {
   "cell_type": "code",
   "execution_count": null,
   "id": "1628d622",
   "metadata": {},
   "outputs": [],
   "source": [
    "plotter.plot_performance(\n",
    "    mode=\"all_available\",\n",
    "    target_volatility=0.05,\n",
    "    resample_rule=\"B\",\n",
    "    plot_cumulative_returns_kwargs={\"mode\": \"log\"},\n",
    ")"
   ]
  },
  {
   "cell_type": "code",
   "execution_count": null,
   "id": "0b73fbcf",
   "metadata": {},
   "outputs": [],
   "source": [
    "pnl, pos, stats = evaluator.aggregate_models(mode=\"all_available\", target_volatility=0.05)"
   ]
  },
  {
   "cell_type": "markdown",
   "id": "ac2e9b70",
   "metadata": {},
   "source": [
    "# Calculate ES returns (as a proxy for SPY)"
   ]
  },
  {
   "cell_type": "code",
   "execution_count": null,
   "id": "16adb865",
   "metadata": {},
   "outputs": [],
   "source": [
    "rb = dlfrp.ReturnsBuilder()"
   ]
  },
  {
   "cell_type": "code",
   "execution_count": null,
   "id": "002d9c6a",
   "metadata": {},
   "outputs": [],
   "source": [
    "config = rb.get_config_template()"
   ]
  },
  {
   "cell_type": "code",
   "execution_count": null,
   "id": "3fadf64f",
   "metadata": {},
   "outputs": [],
   "source": [
    "config[\"rets/read_data\", \"source_node_kwargs\", \"symbol\"] = \"ES\""
   ]
  },
  {
   "cell_type": "code",
   "execution_count": null,
   "id": "b3f844ae",
   "metadata": {},
   "outputs": [],
   "source": [
    "config[\"rets/read_data\", \"source_node_kwargs\", \"end_date\"] = None"
   ]
  },
  {
   "cell_type": "code",
   "execution_count": null,
   "id": "a809eb83",
   "metadata": {},
   "outputs": [],
   "source": [
    "config"
   ]
  },
  {
   "cell_type": "code",
   "execution_count": null,
   "id": "533249fc",
   "metadata": {},
   "outputs": [],
   "source": [
    "dag = rb.get_dag(config, mode=\"loose\")"
   ]
  },
  {
   "cell_type": "code",
   "execution_count": null,
   "id": "2815aff5",
   "metadata": {},
   "outputs": [],
   "source": [
    "es_rets = dag.run_leq_node(\"rets/clip\", \"fit\")[\"df_out\"]"
   ]
  },
  {
   "cell_type": "code",
   "execution_count": null,
   "id": "db2fe8fa",
   "metadata": {},
   "outputs": [],
   "source": [
    "dag.dag.nodes"
   ]
  },
  {
   "cell_type": "code",
   "execution_count": null,
   "id": "e481c27d",
   "metadata": {},
   "outputs": [],
   "source": [
    "es_rets.head()"
   ]
  },
  {
   "cell_type": "code",
   "execution_count": null,
   "id": "db5a2fd1",
   "metadata": {},
   "outputs": [],
   "source": [
    "es_twap_rets = cfina.resample_time_bars(es_rets, \"B\", return_cols=[\"twap_ret_0\"])[\"twap_ret_0\"]"
   ]
  },
  {
   "cell_type": "code",
   "execution_count": null,
   "id": "1fff3a30",
   "metadata": {},
   "outputs": [],
   "source": [
    "es_twap_rets.head()"
   ]
  },
  {
   "cell_type": "code",
   "execution_count": null,
   "id": "ffa3d567",
   "metadata": {},
   "outputs": [],
   "source": [
    "es_twap = es_twap_rets.cumsum()"
   ]
  },
  {
   "cell_type": "code",
   "execution_count": null,
   "id": "14513b9b",
   "metadata": {},
   "outputs": [],
   "source": [
    "es_twap.plot()"
   ]
  },
  {
   "cell_type": "markdown",
   "id": "8d490054",
   "metadata": {},
   "source": [
    "# Calculate correlation of portfolio with ES"
   ]
  },
  {
   "cell_type": "code",
   "execution_count": null,
   "id": "523fecaf",
   "metadata": {},
   "outputs": [],
   "source": [
    "pnl_srs = pnl.resample(\"B\").sum(min_count=1)"
   ]
  },
  {
   "cell_type": "code",
   "execution_count": null,
   "id": "2c412a5f",
   "metadata": {},
   "outputs": [],
   "source": [
    "pnl_srs.head()"
   ]
  },
  {
   "cell_type": "code",
   "execution_count": null,
   "id": "e306cd7b",
   "metadata": {},
   "outputs": [],
   "source": [
    "{shift: es_twap_rets.corr(pnl_srs.shift(shift)) for shift in list(range(-7, 8, 1))}"
   ]
  },
  {
   "cell_type": "code",
   "execution_count": null,
   "id": "fa37e1c0",
   "metadata": {},
   "outputs": [],
   "source": [
    "pnl_srs.shift(-2)"
   ]
  },
  {
   "cell_type": "code",
   "execution_count": null,
   "id": "82752069",
   "metadata": {},
   "outputs": [],
   "source": [
    "pnl_srs.cumsum().plot()"
   ]
  },
  {
   "cell_type": "code",
   "execution_count": null,
   "id": "e31ff323",
   "metadata": {},
   "outputs": [],
   "source": [
    "es_twap_rets.corr(pnl_srs)"
   ]
  },
  {
   "cell_type": "code",
   "execution_count": null,
   "id": "e19d0e18",
   "metadata": {},
   "outputs": [],
   "source": [
    "plot.plot_rolling_correlation(\n",
    "    srs1=es_twap_rets,\n",
    "    srs2=pnl_srs.shift(0),\n",
    "    demean=False,\n",
    "    tau=365,\n",
    "    min_periods=90,\n",
    "    min_depth=2,\n",
    "    max_depth=3,\n",
    "    ylim=\"fixed\")"
   ]
  },
  {
   "cell_type": "code",
   "execution_count": null,
   "id": "2acc6b08",
   "metadata": {},
   "outputs": [],
   "source": [
    "plot.plot_rolling_correlation(\n",
    "    srs1=es_twap_rets,\n",
    "    srs2=pnl_srs.shift(0),\n",
    "    demean=False,\n",
    "    tau=365,\n",
    "    min_periods=90,\n",
    "    min_depth=2,\n",
    "    max_depth=3,\n",
    ")"
   ]
  },
  {
   "cell_type": "code",
   "execution_count": null,
   "id": "578afac5",
   "metadata": {},
   "outputs": [],
   "source": [
    "plot.plot_rolling_correlation(\n",
    "    srs1=es_twap_rets,\n",
    "    srs2=pnl_srs.shift(-2),\n",
    "    demean=False,\n",
    "    tau=365/4,\n",
    "    min_periods=90,\n",
    "    min_depth=2,\n",
    "    max_depth=3,\n",
    "    ylim=\"fixed\"\n",
    ")"
   ]
  },
  {
   "cell_type": "code",
   "execution_count": null,
   "id": "05782cff",
   "metadata": {},
   "outputs": [],
   "source": [
    "csigna.compute_rolling_corr(\n",
    "    es_twap_rets,\n",
    "    pnl_srs,\n",
    "    tau=10\n",
    ").dropna()"
   ]
  },
  {
   "cell_type": "markdown",
   "id": "e931ec2e",
   "metadata": {},
   "source": [
    "# Analyze portfolio exposure"
   ]
  },
  {
   "cell_type": "code",
   "execution_count": null,
   "id": "bda002b6",
   "metadata": {},
   "outputs": [],
   "source": [
    "pnl, pos, stats = evaluator.aggregate_models(mode=\"all_available\")"
   ]
  },
  {
   "cell_type": "code",
   "execution_count": null,
   "id": "43d97ee9",
   "metadata": {},
   "outputs": [],
   "source": [
    "pos.resample(\"B\").sum(min_count=1).plot()"
   ]
  },
  {
   "cell_type": "code",
   "execution_count": null,
   "id": "1720cde9",
   "metadata": {},
   "outputs": [],
   "source": [
    "preds_daily = {k: preds[k].resample(\"B\").sum(min_count=1) for k in preds.keys()}"
   ]
  },
  {
   "cell_type": "code",
   "execution_count": null,
   "id": "9689c766",
   "metadata": {},
   "outputs": [],
   "source": [
    "df = pd.DataFrame.from_dict(preds_daily)"
   ]
  },
  {
   "cell_type": "code",
   "execution_count": null,
   "id": "4e498637",
   "metadata": {},
   "outputs": [],
   "source": [
    "## Weights in proportion to signal strength, equally weighted across equities"
   ]
  },
  {
   "cell_type": "code",
   "execution_count": null,
   "id": "46a0004e",
   "metadata": {},
   "outputs": [],
   "source": [
    "df.mean(axis=1).max()"
   ]
  },
  {
   "cell_type": "code",
   "execution_count": null,
   "id": "b4c95d09",
   "metadata": {},
   "outputs": [],
   "source": [
    "df.mean(axis=1).abs().mean()"
   ]
  },
  {
   "cell_type": "code",
   "execution_count": null,
   "id": "6ecf99e1",
   "metadata": {},
   "outputs": [],
   "source": [
    "df.mean(axis=1).mean()"
   ]
  },
  {
   "cell_type": "code",
   "execution_count": null,
   "id": "0f20cd2b",
   "metadata": {},
   "outputs": [],
   "source": [
    "df.mean(axis=1).min()"
   ]
  },
  {
   "cell_type": "code",
   "execution_count": null,
   "id": "f32b2ec3",
   "metadata": {},
   "outputs": [],
   "source": [
    "df.mean(axis=1).abs().hist(bins=101)"
   ]
  },
  {
   "cell_type": "code",
   "execution_count": null,
   "id": "2bb53f37",
   "metadata": {},
   "outputs": [],
   "source": [
    "df.mean(axis=1).hist(bins=101)"
   ]
  },
  {
   "cell_type": "code",
   "execution_count": null,
   "id": "9593008f",
   "metadata": {},
   "outputs": [],
   "source": [
    "## Weight equally by equity, but ignore signal strength"
   ]
  },
  {
   "cell_type": "code",
   "execution_count": null,
   "id": "276c8721",
   "metadata": {},
   "outputs": [],
   "source": [
    "df_pos = (df > 0).astype(int)"
   ]
  },
  {
   "cell_type": "code",
   "execution_count": null,
   "id": "76eb1035",
   "metadata": {},
   "outputs": [],
   "source": [
    "df_neg = -1*(df < 0).astype(int)"
   ]
  },
  {
   "cell_type": "code",
   "execution_count": null,
   "id": "2e5514bf",
   "metadata": {},
   "outputs": [],
   "source": [
    "df_preds = df_pos + df_neg"
   ]
  },
  {
   "cell_type": "code",
   "execution_count": null,
   "id": "c0dcabdc",
   "metadata": {},
   "outputs": [],
   "source": [
    "df_preds.head()"
   ]
  },
  {
   "cell_type": "code",
   "execution_count": null,
   "id": "f63fc630",
   "metadata": {},
   "outputs": [],
   "source": [
    "signed_bets = df_preds.sum(axis=1)"
   ]
  },
  {
   "cell_type": "code",
   "execution_count": null,
   "id": "c6962ba3",
   "metadata": {},
   "outputs": [],
   "source": [
    "signed_bets.head()"
   ]
  },
  {
   "cell_type": "code",
   "execution_count": null,
   "id": "486d208f",
   "metadata": {},
   "outputs": [],
   "source": [
    "bets = df_preds.apply(abs).sum(axis=1)"
   ]
  },
  {
   "cell_type": "code",
   "execution_count": null,
   "id": "420057e9",
   "metadata": {},
   "outputs": [],
   "source": [
    "bets.head()"
   ]
  },
  {
   "cell_type": "code",
   "execution_count": null,
   "id": "76a6abad",
   "metadata": {},
   "outputs": [],
   "source": [
    "(signed_bets / bets).plot()"
   ]
  },
  {
   "cell_type": "code",
   "execution_count": null,
   "id": "f347216b",
   "metadata": {},
   "outputs": [],
   "source": [
    "(signed_bets / bets).hist(bins=10)"
   ]
  },
  {
   "cell_type": "code",
   "execution_count": null,
   "id": "502c6448",
   "metadata": {},
   "outputs": [],
   "source": []
  }
 ],
 "metadata": {
  "jupytext": {
   "text_representation": {
    "extension": ".py",
    "format_name": "percent",
    "format_version": "1.3",
    "jupytext_version": "1.4.2"
   }
  },
  "kernelspec": {
   "display_name": "Python [conda env:.conda-p1_develop] *",
   "language": "python",
   "name": "conda-env-.conda-p1_develop-py"
  },
  "language_info": {
   "codemirror_mode": {
    "name": "ipython",
    "version": 3
   },
   "file_extension": ".py",
   "mimetype": "text/x-python",
   "name": "python",
   "nbconvert_exporter": "python",
   "pygments_lexer": "ipython3"
  },
  "toc": {
   "base_numbering": 1,
   "nav_menu": {},
   "number_sections": true,
   "sideBar": true,
   "skip_h1_title": false,
   "title_cell": "Table of Contents",
   "title_sidebar": "Contents",
   "toc_cell": false,
   "toc_position": {},
   "toc_section_display": true,
   "toc_window_display": false
  }
 },
 "nbformat": 4,
 "nbformat_minor": 5
}
