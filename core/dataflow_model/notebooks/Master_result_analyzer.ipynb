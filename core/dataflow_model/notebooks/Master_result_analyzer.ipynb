{
 "cells": [
  {
   "cell_type": "code",
   "execution_count": null,
   "id": "bb667732",
   "metadata": {},
   "outputs": [],
   "source": [
    "%load_ext autoreload\n",
    "%autoreload 2\n",
    "\n",
    "import collections\n",
    "import logging\n",
    "import os\n",
    "import pathlib\n",
    "\n",
    "import numpy as np\n",
    "import pandas as pd\n",
    "\n",
    "import core.config as cconfig\n",
    "import core.finance as cfina\n",
    "import core.model_evaluator as cmodel\n",
    "import core.model_plotter as modplot\n",
    "import core.plotting as plot\n",
    "import core.signal_processing as csigna\n",
    "import dataflow_lem.futures_returns.pipeline as dlfrp\n",
    "import helpers.dbg as dbg\n",
    "import helpers.env as henv\n",
    "import helpers.io_ as hio\n",
    "import helpers.pickle_ as hpickl\n",
    "import helpers.printing as hprint\n",
    "\n",
    "from typing import Any, Dict, Iterable, Optional\n",
    "\n",
    "from tqdm.auto import tqdm"
   ]
  },
  {
   "cell_type": "code",
   "execution_count": null,
   "id": "9eb73374",
   "metadata": {},
   "outputs": [],
   "source": [
    "dbg.init_logger(verbosity=logging.INFO)\n",
    "\n",
    "_LOG = logging.getLogger(__name__)\n",
    "\n",
    "_LOG.info(\"%s\", henv.get_system_signature()[0])\n",
    "\n",
    "hprint.config_notebook()"
   ]
  },
  {
   "cell_type": "code",
   "execution_count": null,
   "id": "b25bc563",
   "metadata": {},
   "outputs": [],
   "source": [
    "def load_files(\n",
    "    dst_dir: str, file_name: str, idxs: Optional[Iterable[int]] = None\n",
    ") -> Dict[int, Any]:\n",
    "    \"\"\"\n",
    "    Load according to `file_name` extension.\n",
    "\n",
    "    Assumes subdirectories withing `dst_dir` have the following structure:\n",
    "    > /dst_dir/{$RESULT_DIR_NAME}_%i/file_name\n",
    "    Here `%i` denotes an integer encoded in the subdirectory name.\n",
    "\n",
    "    The function returns the contents of the files, indexed by the integer\n",
    "    extracted from the subdirectory index name.\n",
    "\n",
    "    :param dst_dir: directory containing subdirectories of run results\n",
    "    :param file_name: the file name within each run results subdirectory to\n",
    "        load\n",
    "    :param idxs: specific indices to load; if `None`, loads all indices\n",
    "    \"\"\"\n",
    "    # Retrieve all subdirectories in `dst_dir`.\n",
    "    p = pathlib.Path(dst_dir)\n",
    "    subfolders = [f for f in p.iterdir() if f.is_dir()]\n",
    "    # Order experiment subfolders by number of experiment.\n",
    "    subfolders_num = {}\n",
    "    keys = []\n",
    "    for sf in subfolders:\n",
    "        key = int(sf.parts[-1].split(\"_\")[-1])\n",
    "        subfolders_num[key] = sf\n",
    "        keys.append(key)\n",
    "    # Ensure there are no duplicate integer keys (e.g., due to an inconsistent\n",
    "    # subdirectory naming scheme).\n",
    "    dbg.dassert_no_duplicates(\n",
    "        keys, \"Duplicate keys detected! Check subdirectory names.\"\n",
    "    )\n",
    "    # Specify indices of files to load.\n",
    "    if idxs is None:\n",
    "        iter_keys = sorted(keys)\n",
    "    else:\n",
    "        idxs_l = set(idxs)\n",
    "        dbg.dassert_is_subset(idxs_l, set(keys))\n",
    "        iter_keys = [key for key in sorted(keys) if key in idxs_l]\n",
    "    # Iterate over experiment subfolders.\n",
    "    results = collections.OrderedDict()\n",
    "    for key in tqdm(iter_keys):\n",
    "        subfolder = subfolders_num[key]\n",
    "        path_to_file = os.path.join(dst_dir, subfolder, file_name)\n",
    "        if not os.path.exists(path_to_file):\n",
    "            _LOG.warning(\"File `%s` does not exist.\", path_to_file)\n",
    "            continue\n",
    "        # Load pickle files.\n",
    "        if file_name.endswith(\".pkl\"):\n",
    "            res = hpickl.from_pickle(\n",
    "                path_to_file, log_level=logging.DEBUG, verbose=False\n",
    "            )\n",
    "        # Load json files.\n",
    "        elif file_name.endswith(\".json\"):\n",
    "            with open(path_to_file, \"r\") as file:\n",
    "                res = json.load(file)\n",
    "        # Load txt files.\n",
    "        elif file_name.endswith(\".txt\"):\n",
    "            res = hio.from_file(path_to_file)\n",
    "        else:\n",
    "            raise ValueError(f\"Unsupported file type='{file_name}'\")\n",
    "        results[key] = res\n",
    "    return results\n",
    "\n",
    "\n",
    "def get_config_diffs(\n",
    "    config_dict: collections.OrderedDict, tag_col: Optional[str] = None\n",
    ") -> pd.DataFrame:\n",
    "    \"\"\"\n",
    "    Create a dataframe of config diffs.\n",
    "\n",
    "    :param config_dict: dictionary of configs\n",
    "    :param tag_col: name of the tag col. If tags are the same for all configs\n",
    "        and `tag_col` is not None, add tags to config diffs dataframe\n",
    "    :return: config diffs dataframe\n",
    "    \"\"\"\n",
    "    diffs = cconfig.diff_configs(config_dict.values())\n",
    "    non_empty_diffs = [diff for diff in diffs if len(diff) > 1]\n",
    "    if non_empty_diffs:\n",
    "        config_diffs = cconfig.convert_to_dataframe(diffs).dropna(\n",
    "            how=\"all\", axis=1\n",
    "        )\n",
    "    else:\n",
    "        config_diffs = pd.DataFrame(index=range(len(diffs)))\n",
    "    # If tags are the same, still add them to `config_diffs`.\n",
    "    if tag_col is not None and tag_col not in config_diffs.columns:\n",
    "        tags = [config[tag_col] for config in config_dict.values()]\n",
    "        config_diffs[tag_col] = tags\n",
    "    return config_diffs"
   ]
  },
  {
   "cell_type": "markdown",
   "id": "0c02e926",
   "metadata": {},
   "source": [
    "# Load ERH1 results"
   ]
  },
  {
   "cell_type": "code",
   "execution_count": null,
   "id": "b23cf78e",
   "metadata": {},
   "outputs": [],
   "source": [
    "exp_dir = \"/Users/paul/src/alphamatic/lem/experiments/erh1_experiments/run1\""
   ]
  },
  {
   "cell_type": "code",
   "execution_count": null,
   "id": "f17cad91",
   "metadata": {},
   "outputs": [],
   "source": [
    "rbs = load_files(exp_dir, \"result_bundle.pkl\")"
   ]
  },
  {
   "cell_type": "code",
   "execution_count": null,
   "id": "3daa547c",
   "metadata": {},
   "outputs": [],
   "source": [
    "rbs[0][\"result_df\"].head()"
   ]
  },
  {
   "cell_type": "code",
   "execution_count": null,
   "id": "5a027475",
   "metadata": {},
   "outputs": [],
   "source": [
    "def get_rets_and_preds(rbs):\n",
    "    rets = {}\n",
    "    preds = {}\n",
    "    for key, rb in rbs.items():\n",
    "        df = rb[\"result_df\"]\n",
    "        rets[key] = df[\"vwap_ret_0_zscored_2\"]\n",
    "        preds[key] = df[\"vwap_ret_0_zscored_2_hat\"]\n",
    "    return rets, preds"
   ]
  },
  {
   "cell_type": "code",
   "execution_count": null,
   "id": "15b14888",
   "metadata": {},
   "outputs": [],
   "source": [
    "rets, preds = get_rets_and_preds(rbs)"
   ]
  },
  {
   "cell_type": "code",
   "execution_count": null,
   "id": "5b9ed1f5",
   "metadata": {},
   "outputs": [],
   "source": [
    "evaluator = cmodel.ModelEvaluator(\n",
    "    returns=rets,\n",
    "    predictions=preds,\n",
    "    target_volatility=0.1,\n",
    "    oos_start=\"2017-12-30\",\n",
    ")\n",
    "plotter = modplot.ModelPlotter(evaluator)"
   ]
  },
  {
   "cell_type": "code",
   "execution_count": null,
   "id": "1337d11e",
   "metadata": {},
   "outputs": [],
   "source": [
    "evaluator.calculate_stats()"
   ]
  },
  {
   "cell_type": "code",
   "execution_count": null,
   "id": "f46fdbed",
   "metadata": {},
   "outputs": [],
   "source": [
    "evaluator.aggregate_models(mode=\"ins\", target_volatility=0.05)[2].to_frame()"
   ]
  },
  {
   "cell_type": "code",
   "execution_count": null,
   "id": "f5e191de",
   "metadata": {},
   "outputs": [],
   "source": [
    "evaluator.aggregate_models(mode=\"oos\")[2].to_frame()"
   ]
  },
  {
   "cell_type": "code",
   "execution_count": null,
   "id": "77df5021",
   "metadata": {},
   "outputs": [],
   "source": [
    "evaluator.aggregate_models(mode=\"all_available\")[2].to_frame()"
   ]
  },
  {
   "cell_type": "code",
   "execution_count": null,
   "id": "6e9f2212",
   "metadata": {},
   "outputs": [],
   "source": [
    "plotter.plot_performance(resample_rule=\"B\")"
   ]
  },
  {
   "cell_type": "code",
   "execution_count": null,
   "id": "00434181",
   "metadata": {},
   "outputs": [],
   "source": [
    "plotter.plot_performance(\n",
    "    mode=\"ins\",\n",
    "    target_volatility=0.05,\n",
    "    resample_rule=\"B\",\n",
    "    plot_cumulative_returns_kwargs={\"mode\": \"log\"},\n",
    ")"
   ]
  },
  {
   "cell_type": "code",
   "execution_count": null,
   "id": "3bb96604",
   "metadata": {},
   "outputs": [],
   "source": [
    "plotter.plot_sharpe_ratio_panel(frequencies=[\"B\", \"W\", \"M\"])"
   ]
  },
  {
   "cell_type": "code",
   "execution_count": null,
   "id": "0c8e13fd",
   "metadata": {},
   "outputs": [],
   "source": [
    "plotter.plot_performance(\n",
    "    mode=\"all_available\",\n",
    "    target_volatility=0.05,\n",
    "    resample_rule=\"B\",\n",
    "    plot_cumulative_returns_kwargs={\"mode\": \"log\"},\n",
    ")"
   ]
  },
  {
   "cell_type": "code",
   "execution_count": null,
   "id": "9608d41b",
   "metadata": {},
   "outputs": [],
   "source": [
    "pnl, pos, stats = evaluator.aggregate_models(mode=\"all_available\", target_volatility=0.05)"
   ]
  },
  {
   "cell_type": "markdown",
   "id": "5b0cd683",
   "metadata": {},
   "source": [
    "# Calculate ES returns (as a proxy for SPY)"
   ]
  },
  {
   "cell_type": "code",
   "execution_count": null,
   "id": "ce3f009e",
   "metadata": {},
   "outputs": [],
   "source": [
    "rb = dlfrp.ReturnsBuilder()"
   ]
  },
  {
   "cell_type": "code",
   "execution_count": null,
   "id": "21e8d5ab",
   "metadata": {},
   "outputs": [],
   "source": [
    "config = rb.get_config_template()"
   ]
  },
  {
   "cell_type": "code",
   "execution_count": null,
   "id": "7180c82b",
   "metadata": {},
   "outputs": [],
   "source": [
    "config[\"rets/read_data\", \"source_node_kwargs\", \"symbol\"] = \"ES\""
   ]
  },
  {
   "cell_type": "code",
   "execution_count": null,
   "id": "c3c95764",
   "metadata": {},
   "outputs": [],
   "source": [
    "config[\"rets/read_data\", \"source_node_kwargs\", \"end_date\"] = None"
   ]
  },
  {
   "cell_type": "code",
   "execution_count": null,
   "id": "0933cc56",
   "metadata": {},
   "outputs": [],
   "source": [
    "config"
   ]
  },
  {
   "cell_type": "code",
   "execution_count": null,
   "id": "5e02bac2",
   "metadata": {},
   "outputs": [],
   "source": [
    "dag = rb.get_dag(config, mode=\"loose\")"
   ]
  },
  {
   "cell_type": "code",
   "execution_count": null,
   "id": "c811e8ec",
   "metadata": {},
   "outputs": [],
   "source": [
    "es_rets = dag.run_leq_node(\"rets/clip\", \"fit\")[\"df_out\"]"
   ]
  },
  {
   "cell_type": "code",
   "execution_count": null,
   "id": "a7a2bead",
   "metadata": {},
   "outputs": [],
   "source": [
    "dag.dag.nodes"
   ]
  },
  {
   "cell_type": "code",
   "execution_count": null,
   "id": "7137962e",
   "metadata": {},
   "outputs": [],
   "source": [
    "es_rets.head()"
   ]
  },
  {
   "cell_type": "code",
   "execution_count": null,
   "id": "6d40b864",
   "metadata": {},
   "outputs": [],
   "source": [
    "es_twap_rets = cfina.resample_time_bars(es_rets, \"B\", return_cols=[\"twap_ret_0\"])[\"twap_ret_0\"]"
   ]
  },
  {
   "cell_type": "code",
   "execution_count": null,
   "id": "4d61115c",
   "metadata": {},
   "outputs": [],
   "source": [
    "es_twap_rets.head()"
   ]
  },
  {
   "cell_type": "code",
   "execution_count": null,
   "id": "1485457f",
   "metadata": {},
   "outputs": [],
   "source": [
    "es_twap = es_twap_rets.cumsum()"
   ]
  },
  {
   "cell_type": "code",
   "execution_count": null,
   "id": "3e7f754c",
   "metadata": {},
   "outputs": [],
   "source": [
    "es_twap.plot()"
   ]
  },
  {
   "cell_type": "markdown",
   "id": "a7a7bf7c",
   "metadata": {},
   "source": [
    "# Calculate correlation of portfolio with ES"
   ]
  },
  {
   "cell_type": "code",
   "execution_count": null,
   "id": "46f86cec",
   "metadata": {},
   "outputs": [],
   "source": [
    "pnl_srs = pnl.resample(\"B\").sum(min_count=1)"
   ]
  },
  {
   "cell_type": "code",
   "execution_count": null,
   "id": "a0da5b32",
   "metadata": {},
   "outputs": [],
   "source": [
    "pnl_srs.head()"
   ]
  },
  {
   "cell_type": "code",
   "execution_count": null,
   "id": "c700d63d",
   "metadata": {},
   "outputs": [],
   "source": [
    "{shift: es_twap_rets.corr(pnl_srs.shift(shift)) for shift in list(range(-7, 8, 1))}"
   ]
  },
  {
   "cell_type": "code",
   "execution_count": null,
   "id": "e3bcefef",
   "metadata": {},
   "outputs": [],
   "source": [
    "pnl_srs.shift(-2)"
   ]
  },
  {
   "cell_type": "code",
   "execution_count": null,
   "id": "fa9fdabf",
   "metadata": {},
   "outputs": [],
   "source": [
    "pnl_srs.cumsum().plot()"
   ]
  },
  {
   "cell_type": "code",
   "execution_count": null,
   "id": "bfc81e71",
   "metadata": {},
   "outputs": [],
   "source": [
    "es_twap_rets.corr(pnl_srs)"
   ]
  },
  {
   "cell_type": "code",
   "execution_count": null,
   "id": "613874f3",
   "metadata": {},
   "outputs": [],
   "source": [
    "plot.plot_rolling_correlation(\n",
    "    srs1=es_twap_rets,\n",
    "    srs2=pnl_srs.shift(0),\n",
    "    demean=False,\n",
    "    tau=365,\n",
    "    min_periods=90,\n",
    "    min_depth=2,\n",
    "    max_depth=3,\n",
    "    ylim=\"fixed\")"
   ]
  },
  {
   "cell_type": "code",
   "execution_count": null,
   "id": "7af0162c",
   "metadata": {},
   "outputs": [],
   "source": [
    "plot.plot_rolling_correlation(\n",
    "    srs1=es_twap_rets,\n",
    "    srs2=pnl_srs.shift(0),\n",
    "    demean=False,\n",
    "    tau=365,\n",
    "    min_periods=90,\n",
    "    min_depth=2,\n",
    "    max_depth=3,\n",
    ")"
   ]
  },
  {
   "cell_type": "code",
   "execution_count": null,
   "id": "55654a82",
   "metadata": {},
   "outputs": [],
   "source": [
    "plot.plot_rolling_correlation(\n",
    "    srs1=es_twap_rets,\n",
    "    srs2=pnl_srs.shift(-2),\n",
    "    demean=False,\n",
    "    tau=365/4,\n",
    "    min_periods=90,\n",
    "    min_depth=2,\n",
    "    max_depth=3,\n",
    "    ylim=\"fixed\"\n",
    ")"
   ]
  },
  {
   "cell_type": "code",
   "execution_count": null,
   "id": "a0361b25",
   "metadata": {},
   "outputs": [],
   "source": [
    "csigna.compute_rolling_corr(\n",
    "    es_twap_rets,\n",
    "    pnl_srs,\n",
    "    tau=10\n",
    ").dropna()"
   ]
  },
  {
   "cell_type": "markdown",
   "id": "65b76fab",
   "metadata": {},
   "source": [
    "# Analyze portfolio exposure"
   ]
  },
  {
   "cell_type": "code",
   "execution_count": null,
   "id": "3da39feb",
   "metadata": {},
   "outputs": [],
   "source": [
    "pnl, pos, stats = evaluator.aggregate_models(mode=\"all_available\")"
   ]
  },
  {
   "cell_type": "code",
   "execution_count": null,
   "id": "602b6dda",
   "metadata": {},
   "outputs": [],
   "source": [
    "pos.resample(\"B\").sum(min_count=1).plot()"
   ]
  },
  {
   "cell_type": "code",
   "execution_count": null,
   "id": "634c0643",
   "metadata": {},
   "outputs": [],
   "source": [
    "preds_daily = {k: preds[k].resample(\"B\").sum(min_count=1) for k in preds.keys()}"
   ]
  },
  {
   "cell_type": "code",
   "execution_count": null,
   "id": "7d81de60",
   "metadata": {},
   "outputs": [],
   "source": [
    "df = pd.DataFrame.from_dict(preds_daily)"
   ]
  },
  {
   "cell_type": "code",
   "execution_count": null,
   "id": "7a4eb720",
   "metadata": {},
   "outputs": [],
   "source": [
    "## Weights in proportion to signal strength, equally weighted across equities"
   ]
  },
  {
   "cell_type": "code",
   "execution_count": null,
   "id": "d6610572",
   "metadata": {},
   "outputs": [],
   "source": [
    "df.mean(axis=1).max()"
   ]
  },
  {
   "cell_type": "code",
   "execution_count": null,
   "id": "13f5bb24",
   "metadata": {},
   "outputs": [],
   "source": [
    "df.mean(axis=1).abs().mean()"
   ]
  },
  {
   "cell_type": "code",
   "execution_count": null,
   "id": "620c68b3",
   "metadata": {},
   "outputs": [],
   "source": [
    "df.mean(axis=1).mean()"
   ]
  },
  {
   "cell_type": "code",
   "execution_count": null,
   "id": "8fd79fcb",
   "metadata": {},
   "outputs": [],
   "source": [
    "df.mean(axis=1).min()"
   ]
  },
  {
   "cell_type": "code",
   "execution_count": null,
   "id": "c9f7ddff",
   "metadata": {},
   "outputs": [],
   "source": [
    "df.mean(axis=1).abs().hist(bins=101)"
   ]
  },
  {
   "cell_type": "code",
   "execution_count": null,
   "id": "1cd41b08",
   "metadata": {},
   "outputs": [],
   "source": [
    "df.mean(axis=1).hist(bins=101)"
   ]
  },
  {
   "cell_type": "code",
   "execution_count": null,
   "id": "aaecc090",
   "metadata": {},
   "outputs": [],
   "source": [
    "## Weight equally by equity, but ignore signal strength"
   ]
  },
  {
   "cell_type": "code",
   "execution_count": null,
   "id": "c523f3d7",
   "metadata": {},
   "outputs": [],
   "source": [
    "df_pos = (df > 0).astype(int)"
   ]
  },
  {
   "cell_type": "code",
   "execution_count": null,
   "id": "09a19d95",
   "metadata": {},
   "outputs": [],
   "source": [
    "df_neg = -1*(df < 0).astype(int)"
   ]
  },
  {
   "cell_type": "code",
   "execution_count": null,
   "id": "c0078033",
   "metadata": {},
   "outputs": [],
   "source": [
    "df_preds = df_pos + df_neg"
   ]
  },
  {
   "cell_type": "code",
   "execution_count": null,
   "id": "e63184db",
   "metadata": {},
   "outputs": [],
   "source": [
    "df_preds.head()"
   ]
  },
  {
   "cell_type": "code",
   "execution_count": null,
   "id": "1809e47b",
   "metadata": {},
   "outputs": [],
   "source": [
    "signed_bets = df_preds.sum(axis=1)"
   ]
  },
  {
   "cell_type": "code",
   "execution_count": null,
   "id": "a7b5adc8",
   "metadata": {},
   "outputs": [],
   "source": [
    "signed_bets.head()"
   ]
  },
  {
   "cell_type": "code",
   "execution_count": null,
   "id": "d18db96c",
   "metadata": {},
   "outputs": [],
   "source": [
    "bets = df_preds.apply(abs).sum(axis=1)"
   ]
  },
  {
   "cell_type": "code",
   "execution_count": null,
   "id": "e4baca03",
   "metadata": {},
   "outputs": [],
   "source": [
    "bets.head()"
   ]
  },
  {
   "cell_type": "code",
   "execution_count": null,
   "id": "b54c4f13",
   "metadata": {},
   "outputs": [],
   "source": [
    "(signed_bets / bets).plot()"
   ]
  },
  {
   "cell_type": "code",
   "execution_count": null,
   "id": "8add30fe",
   "metadata": {},
   "outputs": [],
   "source": [
    "(signed_bets / bets).hist(bins=10)"
   ]
  },
  {
   "cell_type": "code",
   "execution_count": null,
   "id": "0a74e4e9",
   "metadata": {},
   "outputs": [],
   "source": []
  }
 ],
 "metadata": {
  "jupytext": {
   "text_representation": {
    "extension": ".py",
    "format_name": "percent",
    "format_version": "1.3",
    "jupytext_version": "1.4.2"
   }
  },
  "kernelspec": {
   "display_name": "Python [conda env:.conda-p1_develop] *",
   "language": "python",
   "name": "conda-env-.conda-p1_develop-py"
  },
  "language_info": {
   "codemirror_mode": {
    "name": "ipython",
    "version": 3
   },
   "file_extension": ".py",
   "mimetype": "text/x-python",
   "name": "python",
   "nbconvert_exporter": "python",
   "pygments_lexer": "ipython3"
  },
  "toc": {
   "base_numbering": 1,
   "nav_menu": {},
   "number_sections": true,
   "sideBar": true,
   "skip_h1_title": false,
   "title_cell": "Table of Contents",
   "title_sidebar": "Contents",
   "toc_cell": false,
   "toc_position": {},
   "toc_section_display": true,
   "toc_window_display": false
  }
 },
 "nbformat": 4,
 "nbformat_minor": 5
}
