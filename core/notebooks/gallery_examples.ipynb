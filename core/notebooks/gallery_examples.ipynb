{
 "cells": [
  {
   "cell_type": "markdown",
   "metadata": {},
   "source": [
    "## Imports"
   ]
  },
  {
   "cell_type": "code",
   "execution_count": null,
   "metadata": {},
   "outputs": [],
   "source": [
    "import numpy as np\n",
    "import pandas as pd\n",
    "\n",
    "import core.explore as exp\n",
    "\n",
    "%load_ext autoreload\n",
    "%autoreload 2"
   ]
  },
  {
   "cell_type": "markdown",
   "metadata": {},
   "source": [
    "# exp.display_df"
   ]
  },
  {
   "cell_type": "code",
   "execution_count": null,
   "metadata": {},
   "outputs": [],
   "source": [
    "np.random.seed(100)\n",
    "\n",
    "x = 5 * np.random.randn(100)\n",
    "y = x + np.random.randn(*x.shape)\n",
    "df = pd.DataFrame()\n",
    "df[\"x\"] = x\n",
    "df[\"y\"] = y\n",
    "\n",
    "exp.display_df(df)"
   ]
  },
  {
   "cell_type": "markdown",
   "metadata": {},
   "source": [
    "# exp.ols_regress_series"
   ]
  },
  {
   "cell_type": "code",
   "execution_count": null,
   "metadata": {},
   "outputs": [],
   "source": [
    "np.random.seed(100)\n",
    "\n",
    "x = 5 * np.random.randn(100)\n",
    "y = x + np.random.randn(*x.shape)\n",
    "df = pd.DataFrame()\n",
    "df[\"x\"] = x\n",
    "df[\"y\"] = y\n",
    "\n",
    "exp.ols_regress_series(df[\"x\"], df[\"y\"], intercept=True)"
   ]
  },
  {
   "cell_type": "markdown",
   "metadata": {},
   "source": [
    "# Qgrid"
   ]
  },
  {
   "cell_type": "code",
   "execution_count": null,
   "metadata": {},
   "outputs": [],
   "source": [
    "import qgrid\n",
    "import pandas as pd\n",
    "print(pd.__version__)\n",
    "print(qgrid.__version__)"
   ]
  },
  {
   "cell_type": "code",
   "execution_count": null,
   "metadata": {},
   "outputs": [],
   "source": [
    "df = pd.DataFrame(\n",
    "    {\n",
    "        'num_legs': [2, 4, 8, 0],\n",
    "        'num_wings': [2, 0, 0, 0],\n",
    "        'num_specimen_seen': [10, 2, 1, 8]\n",
    "    },\n",
    "    index=['falcon', 'dog', 'spider', 'fish'])\n",
    "\n",
    "df"
   ]
  },
  {
   "cell_type": "code",
   "execution_count": null,
   "metadata": {},
   "outputs": [],
   "source": [
    "exp.to_qgrid(df)"
   ]
  },
  {
   "cell_type": "code",
   "execution_count": null,
   "metadata": {},
   "outputs": [],
   "source": [
    "import numpy as np\n",
    "import pandas as pd\n",
    "import qgrid\n",
    "randn = np.random.randn\n",
    "df_types = pd.DataFrame({\n",
    "    'A':\n",
    "    pd.Series([\n",
    "        '2013-01-01', '2013-01-02', '2013-01-03', '2013-01-04', '2013-01-05',\n",
    "        '2013-01-06', '2013-01-07', '2013-01-08', '2013-01-09'\n",
    "    ],\n",
    "              index=list(range(9)),\n",
    "              dtype='datetime64[ns]'),\n",
    "    'B':\n",
    "    pd.Series(randn(9), index=list(range(9)), dtype='float32'),\n",
    "    'C':\n",
    "    pd.Categorical([\n",
    "        \"washington\", \"adams\", \"washington\", \"madison\", \"lincoln\", \"jefferson\",\n",
    "        \"hamilton\", \"roosevelt\", \"kennedy\"\n",
    "    ]),\n",
    "    'D':\n",
    "    [\"foo\", \"bar\", \"buzz\", \"bippity\", \"boppity\", \"foo\", \"foo\", \"bar\", \"zoo\"]\n",
    "})\n",
    "df_types['E'] = df_types['D'] == 'foo'\n",
    "qgrid_widget = qgrid.show_grid(df_types, show_toolbar=True)\n",
    "qgrid_widget"
   ]
  }
 ],
 "metadata": {
  "jupytext": {
   "text_representation": {
    "extension": ".py",
    "format_name": "percent",
    "format_version": "1.3",
    "jupytext_version": "1.3.4"
   }
  },
  "kernelspec": {
   "display_name": "Python 3",
   "language": "python",
   "name": "python3"
  },
  "language_info": {
   "codemirror_mode": {
    "name": "ipython",
    "version": 3
   },
   "file_extension": ".py",
   "mimetype": "text/x-python",
   "name": "python",
   "nbconvert_exporter": "python",
   "pygments_lexer": "ipython3"
  },
  "toc": {
   "base_numbering": 1,
   "nav_menu": {},
   "number_sections": true,
   "sideBar": true,
   "skip_h1_title": false,
   "title_cell": "Table of Contents",
   "title_sidebar": "Contents",
   "toc_cell": false,
   "toc_position": {},
   "toc_section_display": true,
   "toc_window_display": true
  }
 },
 "nbformat": 4,
 "nbformat_minor": 2
}
