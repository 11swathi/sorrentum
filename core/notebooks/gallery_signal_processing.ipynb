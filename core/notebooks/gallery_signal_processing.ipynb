{
 "cells": [
  {
   "cell_type": "markdown",
   "metadata": {},
   "source": [
    "## Import"
   ]
  },
  {
   "cell_type": "code",
   "execution_count": null,
   "metadata": {},
   "outputs": [],
   "source": [
    "%load_ext autoreload\n",
    "%autoreload 2\n",
    "%matplotlib inline\n",
    "\n",
    "import collections\n",
    "import pprint\n",
    "\n",
    "import matplotlib.pyplot as plt\n",
    "import numpy as np\n",
    "import pandas as pd\n",
    "\n",
    "import core.artificial_signal_generators as sig_gen\n",
    "import core.signal_processing as sigp"
   ]
  },
  {
   "cell_type": "markdown",
   "metadata": {},
   "source": [
    "# Generate signal"
   ]
  },
  {
   "cell_type": "code",
   "execution_count": null,
   "metadata": {},
   "outputs": [],
   "source": [
    "prices = sig_gen.get_gaussian_walk(0, 0.01, 4 * 252, seed=20)"
   ]
  },
  {
   "cell_type": "code",
   "execution_count": null,
   "metadata": {},
   "outputs": [],
   "source": [
    "prices.plot()"
   ]
  },
  {
   "cell_type": "code",
   "execution_count": null,
   "metadata": {},
   "outputs": [],
   "source": [
    "rets = (np.log(prices) - np.log(prices.shift(1))).dropna()"
   ]
  },
  {
   "cell_type": "code",
   "execution_count": null,
   "metadata": {},
   "outputs": [],
   "source": [
    "rets.plot()"
   ]
  },
  {
   "cell_type": "code",
   "execution_count": null,
   "metadata": {},
   "outputs": [],
   "source": [
    "# Data for example\n",
    "x = np.linspace(0, 1, num=2048)\n",
    "chirp_signal = np.sin(250 * np.pi * x ** 2)"
   ]
  },
  {
   "cell_type": "code",
   "execution_count": null,
   "metadata": {},
   "outputs": [],
   "source": [
    "pd.Series(chirp_signal).plot()"
   ]
  },
  {
   "cell_type": "markdown",
   "metadata": {},
   "source": [
    "# Time domain tools"
   ]
  },
  {
   "cell_type": "code",
   "execution_count": null,
   "metadata": {},
   "outputs": [],
   "source": [
    "sigp.plot_autocorrelation(chirp_signal)"
   ]
  },
  {
   "cell_type": "code",
   "execution_count": null,
   "metadata": {},
   "outputs": [],
   "source": [
    "sigp.plot_autocorrelation(rets)"
   ]
  },
  {
   "cell_type": "markdown",
   "metadata": {},
   "source": [
    "# Frequency domain tools"
   ]
  },
  {
   "cell_type": "code",
   "execution_count": null,
   "metadata": {},
   "outputs": [],
   "source": [
    "sigp.plot_power_spectral_density(chirp_signal)"
   ]
  },
  {
   "cell_type": "code",
   "execution_count": null,
   "metadata": {},
   "outputs": [],
   "source": [
    "sigp.plot_power_spectral_density(rets)"
   ]
  },
  {
   "cell_type": "code",
   "execution_count": null,
   "metadata": {},
   "outputs": [],
   "source": [
    "sigp.plot_spectrogram(chirp_signal)"
   ]
  },
  {
   "cell_type": "code",
   "execution_count": null,
   "metadata": {},
   "outputs": [],
   "source": [
    "sigp.plot_spectrogram(rets)"
   ]
  },
  {
   "cell_type": "markdown",
   "metadata": {},
   "source": [
    "# Multiresolution analysis tools"
   ]
  },
  {
   "cell_type": "code",
   "execution_count": null,
   "metadata": {},
   "outputs": [],
   "source": [
    "sigp.plot_wavelet_levels(chirp_signal, \"sym5\", 5)"
   ]
  },
  {
   "cell_type": "code",
   "execution_count": null,
   "metadata": {},
   "outputs": [],
   "source": [
    "sigp.plot_wavelet_levels(prices, \"db5\", 5)"
   ]
  },
  {
   "cell_type": "code",
   "execution_count": null,
   "metadata": {},
   "outputs": [],
   "source": [
    "sigp.plot_low_pass(pd.Series(chirp_signal), \"db8\", 2)"
   ]
  },
  {
   "cell_type": "code",
   "execution_count": null,
   "metadata": {},
   "outputs": [],
   "source": [
    "sigp.plot_low_pass(prices, \"db8\", 1)"
   ]
  },
  {
   "cell_type": "code",
   "execution_count": null,
   "metadata": {},
   "outputs": [],
   "source": [
    "sigp.plot_low_pass(rets, \"db8\", 0.2)"
   ]
  },
  {
   "cell_type": "code",
   "execution_count": null,
   "metadata": {},
   "outputs": [],
   "source": [
    "sigp.plot_scaleogram(prices, np.arange(1, 1024), \"morl\")"
   ]
  },
  {
   "cell_type": "markdown",
   "metadata": {},
   "source": [
    "# EMAs"
   ]
  },
  {
   "cell_type": "code",
   "execution_count": null,
   "metadata": {},
   "outputs": [],
   "source": [
    "impulse = sig_gen.get_impulse(-252, 3 * 252, tick=1)"
   ]
  },
  {
   "cell_type": "code",
   "execution_count": null,
   "metadata": {},
   "outputs": [],
   "source": [
    "impulse.plot()"
   ]
  },
  {
   "cell_type": "code",
   "execution_count": null,
   "metadata": {},
   "outputs": [],
   "source": [
    "for i in range(1, 6):\n",
    "    sigp.compute_ema(impulse, tau=40, min_periods=20, depth=i).plot()"
   ]
  },
  {
   "cell_type": "code",
   "execution_count": null,
   "metadata": {},
   "outputs": [],
   "source": [
    "for i in range(1, 6):\n",
    "    sigp.compute_smooth_moving_average(\n",
    "        impulse, tau=40, min_periods=20, min_depth=1, max_depth=i\n",
    "    ).plot()"
   ]
  },
  {
   "cell_type": "code",
   "execution_count": null,
   "metadata": {},
   "outputs": [],
   "source": [
    "for i in range(1, 6):\n",
    "    sigp.compute_smooth_moving_average(\n",
    "        impulse, tau=40, min_periods=20, min_depth=i, max_depth=5\n",
    "    ).plot()"
   ]
  },
  {
   "cell_type": "code",
   "execution_count": null,
   "metadata": {},
   "outputs": [],
   "source": [
    "for i in range(1, 6):\n",
    "    sigp.compute_rolling_norm(\n",
    "        impulse, tau=40, min_periods=20, min_depth=1, max_depth=i, p_moment=1\n",
    "    ).plot()"
   ]
  },
  {
   "cell_type": "code",
   "execution_count": null,
   "metadata": {},
   "outputs": [],
   "source": [
    "for i in np.arange(0.5, 4.5, 0.5):\n",
    "    sigp.compute_rolling_norm(\n",
    "        impulse, tau=40, min_periods=20, min_depth=1, max_depth=2, p_moment=i\n",
    "    ).plot()"
   ]
  },
  {
   "cell_type": "markdown",
   "metadata": {},
   "source": [
    "# Outliers handling"
   ]
  },
  {
   "cell_type": "code",
   "execution_count": null,
   "metadata": {},
   "outputs": [],
   "source": [
    "np.random.seed(100)\n",
    "n = 100000\n",
    "data = np.random.normal(loc=0.0, scale=1.0, size=n)\n",
    "print(data[:5])\n",
    "\n",
    "srs = pd.Series(data)\n",
    "srs.plot(kind=\"hist\")"
   ]
  },
  {
   "cell_type": "code",
   "execution_count": null,
   "metadata": {},
   "outputs": [],
   "source": [
    "def _analyze(srs):\n",
    "    print(np.isnan(srs).sum())\n",
    "    srs.plot(kind=\"hist\")\n",
    "    plt.show()\n",
    "    pprint.pprint(stats)"
   ]
  },
  {
   "cell_type": "code",
   "execution_count": null,
   "metadata": {},
   "outputs": [],
   "source": [
    "mode = \"winsorize\"\n",
    "lower_quantile = 0.01\n",
    "window = 1000\n",
    "min_periods = 10\n",
    "stats = collections.OrderedDict()\n",
    "srs_out = sigp.process_outliers(\n",
    "    srs, window, mode, lower_quantile, min_periods=min_periods, info=stats\n",
    ")\n",
    "#\n",
    "_analyze(srs_out)"
   ]
  },
  {
   "cell_type": "code",
   "execution_count": null,
   "metadata": {},
   "outputs": [],
   "source": [
    "mode = \"winsorize\"\n",
    "lower_quantile = 0.01\n",
    "upper_quantile = 0.90\n",
    "window = 1000\n",
    "min_periods = 10\n",
    "stats = collections.OrderedDict()\n",
    "srs_out = sigp.process_outliers(\n",
    "    srs,\n",
    "    window,\n",
    "    mode,\n",
    "    lower_quantile,\n",
    "    upper_quantile=upper_quantile,\n",
    "    min_periods=min_periods,\n",
    "    info=stats,\n",
    ")\n",
    "#\n",
    "_analyze(srs_out)"
   ]
  },
  {
   "cell_type": "code",
   "execution_count": null,
   "metadata": {},
   "outputs": [],
   "source": [
    "mode = \"set_to_nan\"\n",
    "lower_quantile = 0.01\n",
    "window = 1000\n",
    "min_periods = 10\n",
    "stats = collections.OrderedDict()\n",
    "srs_out = sigp.process_outliers(\n",
    "    srs, window, mode, lower_quantile, min_periods=min_periods, info=stats\n",
    ")\n",
    "#\n",
    "_analyze(srs_out)"
   ]
  },
  {
   "cell_type": "code",
   "execution_count": null,
   "metadata": {},
   "outputs": [],
   "source": [
    "mode = \"set_to_zero\"\n",
    "lower_quantile = 0.10\n",
    "window = 1000\n",
    "min_periods = 10\n",
    "stats = collections.OrderedDict()\n",
    "srs_out = sigp.process_outliers(\n",
    "    srs, window, mode, lower_quantile, min_periods=min_periods, info=stats\n",
    ")\n",
    "#\n",
    "_analyze(srs_out)"
   ]
  }
 ],
 "metadata": {
  "jupytext": {
   "text_representation": {
    "extension": ".py",
    "format_name": "percent",
    "format_version": "1.3",
    "jupytext_version": "1.3.4"
   }
  },
  "kernelspec": {
   "display_name": "Python 3",
   "language": "python",
   "name": "python3"
  },
  "language_info": {
   "codemirror_mode": {
    "name": "ipython",
    "version": 3
   },
   "file_extension": ".py",
   "mimetype": "text/x-python",
   "name": "python",
   "nbconvert_exporter": "python",
   "pygments_lexer": "ipython3"
  },
  "toc": {
   "base_numbering": 1,
   "nav_menu": {},
   "number_sections": true,
   "sideBar": true,
   "skip_h1_title": false,
   "title_cell": "Table of Contents",
   "title_sidebar": "Contents",
   "toc_cell": false,
   "toc_position": {},
   "toc_section_display": true,
   "toc_window_display": true
  }
 },
 "nbformat": 4,
 "nbformat_minor": 2
}
