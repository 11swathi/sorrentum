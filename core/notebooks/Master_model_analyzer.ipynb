{
 "cells": [
  {
   "cell_type": "markdown",
   "metadata": {},
   "source": [
    "# Description\n",
    "\n",
    "- Initialize with returns, predictions, target volatility, and oos start date\n",
    "- Evaluate portfolios generated from the predictions"
   ]
  },
  {
   "cell_type": "markdown",
   "metadata": {},
   "source": [
    "# Imports"
   ]
  },
  {
   "cell_type": "code",
   "execution_count": null,
   "metadata": {},
   "outputs": [],
   "source": [
    "%load_ext autoreload\n",
    "%autoreload 2\n",
    "\n",
    "import logging\n",
    "\n",
    "import numpy as np\n",
    "import pandas as pd\n",
    "\n",
    "import core.artificial_signal_generators as sig_gen\n",
    "import core.config as cfg\n",
    "import core.config_builders as cfgb\n",
    "import core.model_evaluator as modeval\n",
    "import core.model_plotter as modplot\n",
    "import core.statistics as stats\n",
    "import helpers.dbg as dbg\n",
    "import helpers.env as env\n",
    "import helpers.printing as prnt"
   ]
  },
  {
   "cell_type": "code",
   "execution_count": null,
   "metadata": {},
   "outputs": [],
   "source": [
    "dbg.init_logger(verbosity=logging.INFO)\n",
    "\n",
    "_LOG = logging.getLogger(__name__)\n",
    "\n",
    "_LOG.info(\"%s\", env.get_system_signature()[0])\n",
    "\n",
    "prnt.config_notebook()"
   ]
  },
  {
   "cell_type": "markdown",
   "metadata": {},
   "source": [
    "# Notebook config"
   ]
  },
  {
   "cell_type": "code",
   "execution_count": null,
   "metadata": {},
   "outputs": [],
   "source": [
    "eval_config = cfgb.get_config_from_nested_dict(\n",
    "    {\n",
    "        \"target_volatility\": 0.1,\n",
    "        \"oos_start\": \"2007-01-01\",\n",
    "        \"bh_adj_threshold\": 0.1,\n",
    "        \"resample_rule\": \"W\",\n",
    "        \"mode\": \"ins\"\n",
    "    }\n",
    ")"
   ]
  },
  {
   "cell_type": "markdown",
   "metadata": {},
   "source": [
    "# Generate mock returns and predictions\n",
    "\n",
    "- This is a placeholder\n",
    "- In practice, the user should supply `rets` and `preds`"
   ]
  },
  {
   "cell_type": "code",
   "execution_count": null,
   "metadata": {},
   "outputs": [],
   "source": [
    "# Generate synthetic returns.\n",
    "mn_process = sig_gen.MultivariateNormalProcess()\n",
    "mn_process.set_cov_from_inv_wishart_draw(dim=32, seed=0)\n",
    "realization = mn_process.generate_sample(\n",
    "    {\"start\": \"2000-01-01\", \"end\": \"2010-01-01\", \"freq\": \"B\"}, seed=0\n",
    ")\n",
    "rets = realization.to_dict(orient=\"series\")"
   ]
  },
  {
   "cell_type": "code",
   "execution_count": null,
   "metadata": {},
   "outputs": [],
   "source": [
    "# Generate fake predictions.\n",
    "noise = sig_gen.MultivariateNormalProcess(pd.Series(data=[0]*32), pd.DataFrame(np.identity(32)))\n",
    "noise_draw = noise.generate_sample(\n",
    "    {\"start\": \"2000-01-01\", \"end\": \"2010-01-01\", \"freq\": \"B\"}, seed=0\n",
    ")\n",
    "pred_df = 0.01*realization + 0.1*noise_draw\n",
    "# Adjust so that all models have positive SR.\n",
    "pred_df = stats.compute_annualized_sharpe_ratio(pred_df.multiply(realization)).apply(np.sign).multiply(pred_df)"
   ]
  },
  {
   "cell_type": "code",
   "execution_count": null,
   "metadata": {},
   "outputs": [],
   "source": [
    "preds = pred_df.to_dict(orient=\"series\")"
   ]
  },
  {
   "cell_type": "markdown",
   "metadata": {},
   "source": [
    "# Initialize ModelEvaluator and ModelPlotter"
   ]
  },
  {
   "cell_type": "code",
   "execution_count": null,
   "metadata": {},
   "outputs": [],
   "source": [
    "evaluator = modeval.ModelEvaluator(\n",
    "    returns=rets,\n",
    "    predictions=preds,\n",
    "    target_volatility=eval_config[\"target_volatility\"],\n",
    "    oos_start=eval_config[\"oos_start\"],\n",
    ")\n",
    "plotter = modplot.ModelPlotter(evaluator)"
   ]
  },
  {
   "cell_type": "code",
   "execution_count": null,
   "metadata": {},
   "outputs": [],
   "source": [
    "plotter.plot_multiple_tests_adjustment(threshold=eval_config[\"bh_adj_threshold\"],\n",
    "                                       mode=eval_config[\"mode\"])"
   ]
  },
  {
   "cell_type": "code",
   "execution_count": null,
   "metadata": {},
   "outputs": [],
   "source": [
    "pnl_stats = evaluator.calculate_stats(mode=eval_config[\"mode\"])\n",
    "pnl_stats"
   ]
  },
  {
   "cell_type": "code",
   "execution_count": null,
   "metadata": {},
   "outputs": [],
   "source": [
    "plotter.plot_correlation_matrix(series=\"pnls\",\n",
    "                                resample_rule=eval_config[\"resample_rule\"],\n",
    "                                mode=eval_config[\"mode\"])"
   ]
  },
  {
   "cell_type": "code",
   "execution_count": null,
   "metadata": {},
   "outputs": [],
   "source": [
    "plotter.plot_correlation_matrix(series=\"returns\",\n",
    "                                resample_rule=eval_config[\"resample_rule\"],\n",
    "                                mode=eval_config[\"mode\"])"
   ]
  },
  {
   "cell_type": "code",
   "execution_count": null,
   "metadata": {},
   "outputs": [],
   "source": [
    "col_mask = pnl_stats.loc[\"adj_pval\"] < eval_config[\"bh_adj_threshold\"]\n",
    "selected = pnl_stats.loc[:, col_mask].columns.to_list()"
   ]
  },
  {
   "cell_type": "code",
   "execution_count": null,
   "metadata": {},
   "outputs": [],
   "source": [
    "plotter.plot_multiple_pnls(keys=selected,\n",
    "                           resample_rule=eval_config[\"resample_rule\"],\n",
    "                           mode=eval_config[\"mode\"])"
   ]
  },
  {
   "cell_type": "code",
   "execution_count": null,
   "metadata": {},
   "outputs": [],
   "source": [
    "evaluator.aggregate_models(keys=selected,\n",
    "                           mode=eval_config[\"mode\"],\n",
    "                           target_volatility=eval_config[\"target_volatility\"])[2].to_frame()"
   ]
  },
  {
   "cell_type": "code",
   "execution_count": null,
   "metadata": {},
   "outputs": [],
   "source": [
    "plotter.plot_sharpe_ratio_panel(keys=selected,\n",
    "                                mode=eval_config[\"mode\"])"
   ]
  },
  {
   "cell_type": "code",
   "execution_count": null,
   "metadata": {},
   "outputs": [],
   "source": [
    "plotter.plot_rets_signal_analysis(keys=selected,\n",
    "                                  resample_rule=eval_config[\"resample_rule\"],\n",
    "                                  mode=eval_config[\"mode\"],\n",
    "                                  target_volatility=eval_config[\"target_volatility\"])"
   ]
  },
  {
   "cell_type": "code",
   "execution_count": null,
   "metadata": {},
   "outputs": [],
   "source": [
    "plotter.plot_performance(keys=selected,\n",
    "                         resample_rule=eval_config[\"resample_rule\"],\n",
    "                         mode=eval_config[\"mode\"],\n",
    "                         target_volatility=eval_config[\"target_volatility\"])"
   ]
  },
  {
   "cell_type": "code",
   "execution_count": null,
   "metadata": {},
   "outputs": [],
   "source": [
    "plotter.plot_rets_and_vol(selected,\n",
    "                          resample_rule=eval_config[\"resample_rule\"],\n",
    "                          mode=eval_config[\"mode\"],\n",
    "                          target_volatility=eval_config[\"target_volatility\"])"
   ]
  },
  {
   "cell_type": "code",
   "execution_count": null,
   "metadata": {},
   "outputs": [],
   "source": [
    "plotter.plot_positions(keys=selected,\n",
    "                       mode=eval_config[\"mode\"],\n",
    "                       target_volatility=eval_config[\"target_volatility\"])"
   ]
  },
  {
   "cell_type": "code",
   "execution_count": null,
   "metadata": {},
   "outputs": [],
   "source": [
    "plotter.plot_returns_and_predictions(keys=selected[:1],\n",
    "                                     resample_rule=eval_config[\"resample_rule\"],\n",
    "                                     mode=eval_config[\"mode\"])"
   ]
  },
  {
   "cell_type": "code",
   "execution_count": null,
   "metadata": {},
   "outputs": [],
   "source": []
  }
 ],
 "metadata": {
  "jupytext": {
   "text_representation": {
    "extension": ".py",
    "format_name": "percent",
    "format_version": "1.3",
    "jupytext_version": "1.4.2"
   }
  },
  "kernelspec": {
   "display_name": "Python [conda env:.conda-p1_develop] *",
   "language": "python",
   "name": "conda-env-.conda-p1_develop-py"
  },
  "language_info": {
   "codemirror_mode": {
    "name": "ipython",
    "version": 3
   },
   "file_extension": ".py",
   "mimetype": "text/x-python",
   "name": "python",
   "nbconvert_exporter": "python",
   "pygments_lexer": "ipython3"
  }
 },
 "nbformat": 4,
 "nbformat_minor": 4
}
