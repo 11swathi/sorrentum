{
 "cells": [
  {
   "cell_type": "markdown",
   "id": "6a0ea0f7",
   "metadata": {},
   "source": [
    "# Imports"
   ]
  },
  {
   "cell_type": "code",
   "execution_count": null,
   "id": "3f174cd9",
   "metadata": {},
   "outputs": [],
   "source": [
    "%load_ext autoreload\n",
    "%autoreload 2\n",
    "\n",
    "import ib_insync\n",
    "print(ib_insync.__all__)\n",
    "\n",
    "import helpers.dbg as dbg\n",
    "import helpers.printing as pri\n",
    "import core.explore as exp\n",
    "import vendors_amp.ib.data.extract.gateway.utils as ibutils"
   ]
  },
  {
   "cell_type": "markdown",
   "id": "520c02f9",
   "metadata": {},
   "source": [
    "# Connect"
   ]
  },
  {
   "cell_type": "code",
   "execution_count": null,
   "id": "3fc77803",
   "metadata": {},
   "outputs": [],
   "source": [
    "ib = ibutils.ib_connect(client_id=32, is_notebook=True)"
   ]
  },
  {
   "cell_type": "markdown",
   "id": "e78288b2",
   "metadata": {},
   "source": [
    "# Basic"
   ]
  },
  {
   "cell_type": "code",
   "execution_count": null,
   "id": "1fa63aed",
   "metadata": {},
   "outputs": [],
   "source": [
    "#print(pri.obj_to_str(ib, attr_mode=\"dir\", callable_mode=\"all\"))"
   ]
  },
  {
   "cell_type": "code",
   "execution_count": null,
   "id": "b1127201",
   "metadata": {},
   "outputs": [],
   "source": [
    "ib.positions()"
   ]
  },
  {
   "cell_type": "code",
   "execution_count": null,
   "id": "b1671fd0",
   "metadata": {},
   "outputs": [],
   "source": [
    "[v for v in ib.accountValues() if v.tag == 'NetLiquidationByCurrency' and v.currency == 'BASE']"
   ]
  },
  {
   "cell_type": "markdown",
   "id": "3adac8f7",
   "metadata": {},
   "source": [
    "## Equity"
   ]
  },
  {
   "cell_type": "code",
   "execution_count": null,
   "id": "8e0915d9",
   "metadata": {},
   "outputs": [],
   "source": [
    "# INTC\n",
    "contract = ib_insync.Contract(conId=270639)\n",
    "eq_contract = ibutils.to_contract_details(ib, contract)"
   ]
  },
  {
   "cell_type": "code",
   "execution_count": null,
   "id": "864c6aa6",
   "metadata": {},
   "outputs": [],
   "source": [
    "contract = ib_insync.Stock('AMD', 'SMART', 'USD')\n",
    "eq_contract = ibutils.to_contract_details(ib, contract)"
   ]
  },
  {
   "cell_type": "code",
   "execution_count": null,
   "id": "64c52110",
   "metadata": {},
   "outputs": [],
   "source": [
    "contract = ib_insync.Stock('INTC', 'SMART', 'USD', primaryExchange='NASDAQ')\n",
    "eq_contract = ibutils.to_contract_details(ib, contract)"
   ]
  },
  {
   "cell_type": "markdown",
   "id": "004ee831",
   "metadata": {},
   "source": [
    "## Forex"
   ]
  },
  {
   "cell_type": "code",
   "execution_count": null,
   "id": "dc99d7fc",
   "metadata": {},
   "outputs": [],
   "source": [
    "contract = ib_insync.Forex('EURUSD')\n",
    "forex_contract = ibutils.to_contract_details(ib, contract)"
   ]
  },
  {
   "cell_type": "code",
   "execution_count": null,
   "id": "d9805fca",
   "metadata": {},
   "outputs": [],
   "source": [
    "print(pri.diff_strings(eq_contract, forex_contract))"
   ]
  },
  {
   "cell_type": "markdown",
   "id": "f80d4bdc",
   "metadata": {},
   "source": [
    "## CFD (contract for difference)"
   ]
  },
  {
   "cell_type": "code",
   "execution_count": null,
   "id": "7c130123",
   "metadata": {},
   "outputs": [],
   "source": [
    "contract = ib_insync.CFD('IBUS30')\n",
    "cfd_contract = ibutils.to_contract_details(ib, contract)"
   ]
  },
  {
   "cell_type": "code",
   "execution_count": null,
   "id": "d4c84a87",
   "metadata": {},
   "outputs": [],
   "source": [
    "print(pri.diff_strings(eq_contract, cfd_contract))"
   ]
  },
  {
   "cell_type": "markdown",
   "id": "f2605f2c",
   "metadata": {},
   "source": [
    "## Futures"
   ]
  },
  {
   "cell_type": "code",
   "execution_count": null,
   "id": "f6c773b3",
   "metadata": {},
   "outputs": [],
   "source": [
    "contract = ib_insync.Future('ES', '202109', 'GLOBEX')\n",
    "fut_contract = ibutils.to_contract_details(ib, contract)"
   ]
  },
  {
   "cell_type": "code",
   "execution_count": null,
   "id": "4e83167c",
   "metadata": {},
   "outputs": [],
   "source": [
    "print(pri.diff_strings(eq_contract, fut_contract, \"eq\", \"fut\"))"
   ]
  },
  {
   "cell_type": "markdown",
   "id": "fe8eedea",
   "metadata": {},
   "source": [
    "## Continuous Futures"
   ]
  },
  {
   "cell_type": "code",
   "execution_count": null,
   "id": "6f408247",
   "metadata": {},
   "outputs": [],
   "source": [
    "#contract = ib_insync.ContFuture('ES', '202109', 'GLOBEX')\n",
    "#fut_contract = ibutils.to_contract_details(ib, contract)"
   ]
  },
  {
   "cell_type": "markdown",
   "id": "c976e831",
   "metadata": {},
   "source": [
    "## Option"
   ]
  },
  {
   "cell_type": "code",
   "execution_count": null,
   "id": "09bca538",
   "metadata": {},
   "outputs": [],
   "source": [
    "contract = ib_insync.Option('SPY', '202107', 240, 'C', 'SMART')\n",
    "opt_contract = ibutils.to_contract_details(ib, contract)"
   ]
  },
  {
   "cell_type": "markdown",
   "id": "f7c63789",
   "metadata": {},
   "source": [
    "## Bond"
   ]
  },
  {
   "cell_type": "code",
   "execution_count": null,
   "id": "a932aaf6",
   "metadata": {},
   "outputs": [],
   "source": [
    "contract = Bond(secIdType='ISIN', secId='US03076KAA60')\n",
    "bond_contract = ibutils.to_contract_details(ib, contract)"
   ]
  },
  {
   "cell_type": "markdown",
   "id": "c1d0be5d",
   "metadata": {},
   "source": [
    "# Contract details"
   ]
  },
  {
   "cell_type": "markdown",
   "id": "870d0afe",
   "metadata": {},
   "source": [
    "## Equities"
   ]
  },
  {
   "cell_type": "code",
   "execution_count": null,
   "id": "677c2a3f",
   "metadata": {},
   "outputs": [],
   "source": [
    "# Look for Stocks matching AMD.\n",
    "asset = ib_insync.Stock(\"AMD\")\n",
    "cds = ib.reqContractDetails(asset)\n",
    "print(\"num contracts=\", len(cds))\n",
    "print(cds[0])"
   ]
  },
  {
   "cell_type": "code",
   "execution_count": null,
   "id": "ef0bfc5c",
   "metadata": {},
   "outputs": [],
   "source": [
    "contracts = [cd.contract for cd in cds]\n",
    "print(contracts[0])\n",
    "\n",
    "ib_insync.util.df(contracts)"
   ]
  },
  {
   "cell_type": "code",
   "execution_count": null,
   "id": "7b58eccd",
   "metadata": {},
   "outputs": [],
   "source": [
    "# Show that there is a single AMD in US.\n",
    "asset = ib_insync.Stock(\"AMD\", \"SMART\", \"USD\")\n",
    "print(\"asset=\", asset)\n",
    "cds = ib.reqContractDetails(asset)\n",
    "print(\"num contracts=\", len(cds))\n",
    "dbg.dassert_eq(len(cds), 1)\n",
    "print(cds[0])"
   ]
  },
  {
   "cell_type": "code",
   "execution_count": null,
   "id": "63e43510",
   "metadata": {},
   "outputs": [],
   "source": [
    "ib.qualifyContracts(asset)"
   ]
  },
  {
   "cell_type": "code",
   "execution_count": null,
   "id": "c0e88658",
   "metadata": {},
   "outputs": [],
   "source": [
    "# Request stocks that match a pattern.\n",
    "matches = ib.reqMatchingSymbols(\"intc\")\n",
    "contracts = [m.contract for m in matches]\n",
    "ib_insync.util.df(contracts)"
   ]
  },
  {
   "cell_type": "markdown",
   "id": "ddc4cad6",
   "metadata": {},
   "source": [
    "## Futures"
   ]
  },
  {
   "cell_type": "code",
   "execution_count": null,
   "id": "2c60d516",
   "metadata": {},
   "outputs": [],
   "source": [
    "# Look for ES.\n",
    "\n",
    "asset = ib_insync.Future(\"ES\", includeExpired=True)\n",
    "ibutils.get_contract_details(ib, asset)"
   ]
  },
  {
   "cell_type": "code",
   "execution_count": null,
   "id": "c117b617",
   "metadata": {},
   "outputs": [],
   "source": [
    "cds = ib.reqContractDetails(asset)\n",
    "\n",
    "contracts = [cd.contract for cd in cds]\n",
    "\n",
    "ib_insync.util.df(contracts)"
   ]
  },
  {
   "cell_type": "markdown",
   "id": "6575f427",
   "metadata": {},
   "source": [
    "## Cont futures"
   ]
  },
  {
   "cell_type": "code",
   "execution_count": null,
   "id": "bef32f5a",
   "metadata": {},
   "outputs": [],
   "source": [
    "asset = ib_insync.ContFuture(\"ES\", \"Globex\", \"USD\")\n",
    "ibutils.get_contract_details(ib, asset)"
   ]
  },
  {
   "cell_type": "code",
   "execution_count": null,
   "id": "8102188a",
   "metadata": {},
   "outputs": [],
   "source": [
    "ibutils.get_end_timestamp(ib, contract, 'TRADES', useRTH=True)"
   ]
  },
  {
   "cell_type": "markdown",
   "id": "374fa5f1",
   "metadata": {},
   "source": [
    "# Option chain"
   ]
  },
  {
   "cell_type": "code",
   "execution_count": null,
   "id": "5ed1cae1",
   "metadata": {},
   "outputs": [],
   "source": [
    "# Options on SPX next 3 "
   ]
  },
  {
   "cell_type": "code",
   "execution_count": null,
   "id": "79edd876",
   "metadata": {},
   "outputs": [],
   "source": [
    "spx = ib_insync.Index('SPX', 'CBOE')\n",
    "print(\"type=%s %s\" % (type(spx), spx))\n",
    "\n",
    "ib.qualifyContracts(spx)"
   ]
  },
  {
   "cell_type": "code",
   "execution_count": null,
   "id": "2c0d3c6e",
   "metadata": {},
   "outputs": [],
   "source": [
    "# Use delayed data.\n",
    "ib.reqMarketDataType(4)\n",
    "tickers = ib.reqTickers(spx)\n",
    "assert len(tickers) == 1\n",
    "ticker = tickers[0]\n",
    "\n",
    "print(pri.type_obj_to_str(ticker))"
   ]
  },
  {
   "cell_type": "code",
   "execution_count": null,
   "id": "ce69d9a9",
   "metadata": {},
   "outputs": [],
   "source": [
    "spx_value = ticker.marketPrice()\n",
    "spx_value"
   ]
  },
  {
   "cell_type": "code",
   "execution_count": null,
   "id": "78e031d1",
   "metadata": {},
   "outputs": [],
   "source": [
    "# TODO: finish"
   ]
  },
  {
   "cell_type": "markdown",
   "id": "200ab1fa",
   "metadata": {},
   "source": [
    "# Historical data"
   ]
  },
  {
   "cell_type": "code",
   "execution_count": null,
   "id": "6f7ed915",
   "metadata": {},
   "outputs": [],
   "source": [
    "# 1 = Live\n",
    "# 2 = Frozen\n",
    "# 3 = Delayed\n",
    "# 4 = Delayed frozen\n",
    "ib.reqMarketDataType(4)\n",
    "\n",
    "if False:\n",
    "    contract = ib_insync.Stock('TSLA', 'SMART', 'USD')\n",
    "    whatToShow = 'TRADES'\n",
    "elif False:\n",
    "    contract = ib_insync.Future('ES', '202109', 'GLOBEX')\n",
    "    whatToShow = 'TRADES'\n",
    "elif False:\n",
    "    contract = ib_insync.ContFuture(\"ES\", \"GLOBEX\", \"USD\")\n",
    "    whatToShow = 'TRADES'\n",
    "else:\n",
    "    contract = ib_insync.Forex('EURUSD')\n",
    "    whatToShow = 'MIDPOINT'\n",
    "\n",
    "if False:\n",
    "    durationStr = '1 Y'\n",
    "    barSizeSetting = '1 day'\n",
    "    #barSizeSetting='1 hour'\n",
    "else:\n",
    "    durationStr = '1 D'\n",
    "    barSizeSetting = '1 hour'\n",
    "\n",
    "print(\"contract=\", contract)\n",
    "print(\"whatToShow=\", whatToShow)\n",
    "print(\"durationStr=\", durationStr)\n",
    "print(\"barSizeSetting=\", barSizeSetting)\n",
    "\n",
    "# Get the datetime of earliest available historical data for the contract.\n",
    "ts = ib.reqHeadTimeStamp(contract, whatToShow=whatToShow, useRTH=True)\n",
    "print(\"ts=\", ts)\n",
    "bars = ib.reqHistoricalData(\n",
    "    contract,\n",
    "    endDateTime='',\n",
    "    durationStr=durationStr,\n",
    "    barSizeSetting=barSizeSetting,\n",
    "    whatToShow=whatToShow,\n",
    "    useRTH=True,\n",
    "    formatDate=1)\n",
    "print(\"len(bars)=\", len(bars))\n",
    "print(ib_insync.util.df(bars))"
   ]
  },
  {
   "cell_type": "code",
   "execution_count": null,
   "id": "fd782558",
   "metadata": {},
   "outputs": [],
   "source": [
    "#icontract = ib_insync.Stock('TSLA', 'SMART', 'USD')\n",
    "contract = ib_insync.Forex('EURUSD')\n",
    "\n",
    "# Get the datetime of earliest available historical data for the contract.\n",
    "ib.reqHeadTimeStamp(contract, whatToShow='TRADES', useRTH=True)"
   ]
  },
  {
   "cell_type": "code",
   "execution_count": null,
   "id": "e4917479",
   "metadata": {},
   "outputs": [],
   "source": [
    "print(contract)\n",
    "ib.reqMarketDataType(4)\n",
    "bars = ib.reqHistoricalData(\n",
    "    contract,\n",
    "    endDateTime='20200101 01:01:01',\n",
    "    durationStr='60 D',\n",
    "    barSizeSetting='1 hour',\n",
    "    whatToShow='TRADES',\n",
    "    useRTH=True,\n",
    "    formatDate=1)"
   ]
  },
  {
   "cell_type": "code",
   "execution_count": null,
   "id": "605dfc2a",
   "metadata": {},
   "outputs": [],
   "source": [
    "print(bars[0])\n",
    "df = util.df(bars)\n",
    "\n",
    "display(df.head())\n",
    "display(df.tail())"
   ]
  },
  {
   "cell_type": "markdown",
   "id": "a2f94d8b",
   "metadata": {},
   "source": [
    "## Historical data with RT updates"
   ]
  },
  {
   "cell_type": "code",
   "execution_count": null,
   "id": "f719ed84",
   "metadata": {},
   "outputs": [],
   "source": [
    "ib.reqMarketDataType(1)\n",
    "contract = ib_insync.Forex('EURUSD')\n",
    "\n",
    "bars = ib.reqHistoricalData(\n",
    "        contract,\n",
    "        endDateTime='',\n",
    "        durationStr='900 S',\n",
    "        barSizeSetting='10 secs',\n",
    "        whatToShow='MIDPOINT',\n",
    "        useRTH=True,\n",
    "        formatDate=1,\n",
    "        keepUpToDate=True)\n",
    "\n",
    "print(bars[-1])"
   ]
  },
  {
   "cell_type": "code",
   "execution_count": null,
   "id": "23eb324e",
   "metadata": {},
   "outputs": [],
   "source": [
    "from IPython.display import display, clear_output\n",
    "import matplotlib.pyplot as plt\n",
    "\n",
    "def onBarUpdate(bars, hasNewBar):\n",
    "    plt.close()\n",
    "    plot = ib_insync.util.barplot(bars)\n",
    "    clear_output(wait=True)\n",
    "    display(plot)\n",
    "\n",
    "bars.updateEvent += onBarUpdate\n",
    "\n",
    "ib.sleep(10)\n",
    "ib.cancelHistoricalData(bars)"
   ]
  },
  {
   "cell_type": "markdown",
   "id": "2f2953e3",
   "metadata": {},
   "source": [
    "## Realtime bars"
   ]
  },
  {
   "cell_type": "code",
   "execution_count": null,
   "id": "979560d4",
   "metadata": {},
   "outputs": [],
   "source": [
    "def onBarUpdate(bars, hasNewBar):\n",
    "    print(bars[-1])"
   ]
  },
  {
   "cell_type": "code",
   "execution_count": null,
   "id": "bccd46a2",
   "metadata": {},
   "outputs": [],
   "source": [
    "bars = ib.reqRealTimeBars(contract, 5, 'MIDPOINT', False)\n",
    "bars.updateEvent += onBarUpdate"
   ]
  },
  {
   "cell_type": "code",
   "execution_count": null,
   "id": "13177e66",
   "metadata": {},
   "outputs": [],
   "source": [
    "ib.sleep(10)\n",
    "ib.cancelRealTimeBars(bars)"
   ]
  },
  {
   "cell_type": "markdown",
   "id": "4e325475",
   "metadata": {},
   "source": [
    "# Tick data"
   ]
  },
  {
   "cell_type": "markdown",
   "id": "827cfcc7",
   "metadata": {},
   "source": [
    "## Streaming tick data"
   ]
  },
  {
   "cell_type": "code",
   "execution_count": null,
   "id": "1273febd",
   "metadata": {},
   "outputs": [],
   "source": [
    "contracts = ('EURUSD', 'USDJPY', 'GBPUSD', 'USDCHF', 'USDCAD', 'AUDUSD')\n",
    "contracts = [ib_insync.Forex(p) for p in contracts]\n",
    "ib.qualifyContracts(*contracts)"
   ]
  },
  {
   "cell_type": "code",
   "execution_count": null,
   "id": "46605bd0",
   "metadata": {},
   "outputs": [],
   "source": [
    "# reqMktData: subscribe to tick data or request a snapshot.\n",
    "# https://interactivebrokers.github.io/tws-api/md_request.html\n",
    "\n",
    "for contract in contracts:\n",
    "    # https://ib-insync.readthedocs.io/api.html#ib_insync.ib.IB.reqMktData\n",
    "    genericTickList = ''\n",
    "    # Subscribe a stream of real time.\n",
    "    snapshot = False\n",
    "    # Request NBBO snapshot.\n",
    "    regulatory_snapshot = False\n",
    "    ib.reqMktData(contract, genericTickList, snapshot, regulatory_snapshot)"
   ]
  },
  {
   "cell_type": "code",
   "execution_count": null,
   "id": "8ea40da9",
   "metadata": {},
   "outputs": [],
   "source": [
    "eurusd = contracts[1]\n",
    "ticker = ib.ticker(eurusd)\n",
    "print(ticker)\n",
    "print(ticker.midpoint())"
   ]
  },
  {
   "cell_type": "code",
   "execution_count": null,
   "id": "757723c9",
   "metadata": {},
   "outputs": [],
   "source": [
    "#ticker.marketPrice()\n",
    "ticker.midpoint()"
   ]
  },
  {
   "cell_type": "code",
   "execution_count": null,
   "id": "39e3d06e",
   "metadata": {},
   "outputs": [],
   "source": [
    "from IPython.display import display, clear_output\n",
    "import pandas as pd\n",
    "\n",
    "df = pd.DataFrame(\n",
    "    index=[c.pair() for c in contracts],\n",
    "    columns=['bidSize', 'bid', 'ask', 'askSize', 'high', 'low', 'close'])\n",
    "\n",
    "def onPendingTickers(tickers):\n",
    "    for t in tickers:\n",
    "        df.loc[t.contract.pair()] = (\n",
    "            t.bidSize, t.bid, t.ask, t.askSize, t.high, t.low, t.close)\n",
    "        clear_output(wait=True)\n",
    "    display(df)        \n",
    "\n",
    "ib.pendingTickersEvent += onPendingTickers\n",
    "ib.sleep(10)\n",
    "ib.pendingTickersEvent -= onPendingTickers\n",
    "print(\"DONE\")"
   ]
  },
  {
   "cell_type": "code",
   "execution_count": null,
   "id": "dd7ccd4d",
   "metadata": {},
   "outputs": [],
   "source": [
    "# Stop the update.\n",
    "for contract in contracts:\n",
    "    ib.cancelMktData(contract)"
   ]
  },
  {
   "cell_type": "markdown",
   "id": "14544af3",
   "metadata": {},
   "source": [
    "## Tick by tick data"
   ]
  },
  {
   "cell_type": "code",
   "execution_count": null,
   "id": "cf55e04c",
   "metadata": {},
   "outputs": [],
   "source": [
    "# re\n",
    "# https://interactivebrokers.github.io/tws-api/tick_data.html"
   ]
  },
  {
   "cell_type": "code",
   "execution_count": null,
   "id": "51072850",
   "metadata": {},
   "outputs": [],
   "source": [
    "ticker = ib.reqTickByTickData(eurusd, 'BidAsk')\n",
    "ib.sleep(2)\n",
    "print(ticker)"
   ]
  },
  {
   "cell_type": "code",
   "execution_count": null,
   "id": "119f8677",
   "metadata": {},
   "outputs": [],
   "source": [
    "ticker = ib.reqTickByTickData(eurusd, 'BidAsk')\n",
    "ib.sleep(2)\n",
    "print(ticker)"
   ]
  },
  {
   "cell_type": "code",
   "execution_count": null,
   "id": "1e8bd0a6",
   "metadata": {},
   "outputs": [],
   "source": [
    "ib.cancelTickByTickData(ticker.contract, 'BidAsk')"
   ]
  },
  {
   "cell_type": "markdown",
   "id": "7b6ba726",
   "metadata": {},
   "source": [
    "## Historical tick data"
   ]
  },
  {
   "cell_type": "code",
   "execution_count": null,
   "id": "9b88761f",
   "metadata": {},
   "outputs": [],
   "source": [
    "# reqHistoricalTicks(contract, startDateTime, endDateTime,\n",
    "#    numberOfTicks, whatToShow, useRth, ignoreSize=False, miscOptions=[]\n",
    "# Request historical ticks. The time resolution of the ticks is one second.\n",
    "# This method is blocking.\n",
    "# https://interactivebrokers.github.io/tws-api/historical_time_and_sales.html"
   ]
  },
  {
   "cell_type": "code",
   "execution_count": null,
   "id": "43dfda04",
   "metadata": {},
   "outputs": [],
   "source": [
    "import datetime\n",
    "\n",
    "start = ''\n",
    "end = datetime.datetime.now()\n",
    "print(start, end)\n",
    "number_of_ticks = 1000\n",
    "what_to_show = \"BID_ASK\"\n",
    "useRTH = False\n",
    "ticks = ib.reqHistoricalTicks(eurusd, start, end, number_of_ticks, what_to_show, useRTH)\n",
    "\n",
    "print(len(ticks))\n",
    "df = ib_insync.util.df(ticks)\n",
    "df.drop(columns=\"tickAttribBidAsk\", inplace=True)\n",
    "#df.index = [t.time for t in ticks]\n",
    "\n",
    "df.head(5)"
   ]
  },
  {
   "cell_type": "code",
   "execution_count": null,
   "id": "3f0f1674",
   "metadata": {},
   "outputs": [],
   "source": [
    "print(str(ticks)[:1000])\n",
    "print(ticks[0].time, ticks[-1].time)"
   ]
  },
  {
   "cell_type": "markdown",
   "id": "0a408321",
   "metadata": {},
   "source": [
    "# Market depth (order book)"
   ]
  },
  {
   "cell_type": "markdown",
   "id": "1dd2cdbf",
   "metadata": {},
   "source": [
    "## Get exchange info"
   ]
  },
  {
   "cell_type": "code",
   "execution_count": null,
   "id": "240ffbfe",
   "metadata": {},
   "outputs": [],
   "source": [
    "l = ib.reqMktDepthExchanges()\n",
    "print(\"num exchanges with market depth=\", len(l))\n",
    "print(\"\\n\".join(map(str, l[:5])))"
   ]
  },
  {
   "cell_type": "code",
   "execution_count": null,
   "id": "c6c2ae48",
   "metadata": {},
   "outputs": [],
   "source": [
    "df = ib_insync.util.df(l)\n",
    "display(df.head(5))\n",
    "print(\"secType=\", df[\"secType\"].unique())\n",
    "df.sort_values(\"secType\")\n",
    "print(len(df))\n",
    "\n",
    "df_fut = df[df[\"secType\"] == \"FUT\"].sort_values(\"exchange\")\n",
    "print(len(df_fut))\n",
    "display(df_fut)"
   ]
  },
  {
   "cell_type": "markdown",
   "id": "92eb8c4f",
   "metadata": {},
   "source": [
    "## Get the book"
   ]
  },
  {
   "cell_type": "code",
   "execution_count": null,
   "id": "66e27a08",
   "metadata": {},
   "outputs": [],
   "source": [
    "contract = ib_insync.Forex('EURUSD')\n",
    "ib.qualifyContracts(contract)\n",
    "ticker = ib.reqMktDepth(contract)"
   ]
  },
  {
   "cell_type": "code",
   "execution_count": null,
   "id": "c08f2c72",
   "metadata": {},
   "outputs": [],
   "source": [
    "ticker"
   ]
  },
  {
   "cell_type": "code",
   "execution_count": null,
   "id": "7ebf1c8e",
   "metadata": {},
   "outputs": [],
   "source": [
    "from IPython.display import display, clear_output\n",
    "import pandas as pd\n",
    "\n",
    "df = pd.DataFrame(index=range(5),\n",
    "        columns='bidSize bidPrice askPrice askSize'.split())\n",
    "\n",
    "def onTickerUpdate(ticker):\n",
    "    bids = ticker.domBids\n",
    "    for i in range(5):\n",
    "        df.iloc[i, 0] = bids[i].size if i < len(bids) else 0\n",
    "        df.iloc[i, 1] = bids[i].price if i < len(bids) else 0\n",
    "    asks = ticker.domAsks\n",
    "    for i in range(5):\n",
    "        df.iloc[i, 2] = asks[i].price if i < len(asks) else 0\n",
    "        df.iloc[i, 3] = asks[i].size if i < len(asks) else 0\n",
    "    clear_output(wait=True)\n",
    "    display(df)\n",
    "\n",
    "ticker.updateEvent += onTickerUpdate\n",
    "\n",
    "ib_insync.IB.sleep(15);"
   ]
  },
  {
   "cell_type": "code",
   "execution_count": null,
   "id": "848b2d7d",
   "metadata": {},
   "outputs": [],
   "source": [
    "ib.cancelMktDepth(contract)"
   ]
  },
  {
   "cell_type": "code",
   "execution_count": null,
   "id": "6ccda141",
   "metadata": {},
   "outputs": [],
   "source": [
    "assert 0"
   ]
  },
  {
   "cell_type": "markdown",
   "id": "47fc0cdc",
   "metadata": {},
   "source": [
    "# Ordering"
   ]
  },
  {
   "cell_type": "markdown",
   "id": "7148d347",
   "metadata": {},
   "source": [
    "## Account info"
   ]
  },
  {
   "cell_type": "code",
   "execution_count": null,
   "id": "b0549b08",
   "metadata": {},
   "outputs": [],
   "source": [
    "# List of positions for a given account.\n",
    "print(\"positions=\\n\\t\", \"\\n\\t\".join(map(str, ib.positions())))\n",
    "\n",
    "## List of all orders in current session.\n",
    "print(\"orders=\", ib.orders())\n",
    "\n",
    "## List of trades in current session.\n",
    "print(\"trades=\", ib.trades())"
   ]
  },
  {
   "cell_type": "markdown",
   "id": "41a64ec6",
   "metadata": {},
   "source": [
    "## Order"
   ]
  },
  {
   "cell_type": "code",
   "execution_count": null,
   "id": "d5ebee2d",
   "metadata": {},
   "outputs": [],
   "source": [
    "if True:\n",
    "    contract = ib_insync.Forex(\"EURUSD\")\n",
    "    ib.qualifyContracts(contract)\n",
    "    print(\"contract=\", contract)\n",
    "    #\n",
    "    total_quantity = 2000\n",
    "    #total_quantity = 3900\n",
    "    limit_price = 1.1\n",
    "else:\n",
    "    contract = ib_insync.Future('ES', '202109', 'GLOBEX')\n",
    "    ib.qualifyContracts(contract)\n",
    "    print(\"contract=\", contract)\n",
    "    #\n",
    "    total_quantity = 2000\n",
    "    limit_price = 1.1"
   ]
  },
  {
   "cell_type": "code",
   "execution_count": null,
   "id": "27cbbb63",
   "metadata": {},
   "outputs": [],
   "source": []
  },
  {
   "cell_type": "code",
   "execution_count": null,
   "id": "fe4b20f8",
   "metadata": {},
   "outputs": [],
   "source": [
    "%%time\n",
    "total_quantity = 3900\n",
    "#limit_price = 1.1\n",
    "limit_price = 100\n",
    "order = ib_insync.LimitOrder(\"BUY\", total_quantity, limit_price)\n",
    "print(\"order=\", order)"
   ]
  },
  {
   "cell_type": "code",
   "execution_count": null,
   "id": "cb25a967",
   "metadata": {},
   "outputs": [],
   "source": [
    "def print_trade(trade):\n",
    "    #print(\"trade=\", trade)\n",
    "    print(\"trade.contract=\", trade.contract)\n",
    "    print(\"trade.order=\", trade.order)\n",
    "    print(\"trade.orderStatus=\", trade.orderStatus)\n",
    "    print(\"log=\\n\\t%s\" % \"\\n\\t\".join(map(str, trade.log)))"
   ]
  },
  {
   "cell_type": "code",
   "execution_count": null,
   "id": "3541f253",
   "metadata": {},
   "outputs": [],
   "source": [
    "trade = ib.placeOrder(contract, order)"
   ]
  },
  {
   "cell_type": "code",
   "execution_count": null,
   "id": "0a0f9b80",
   "metadata": {},
   "outputs": [],
   "source": [
    "print_trade(trade)"
   ]
  },
  {
   "cell_type": "code",
   "execution_count": null,
   "id": "5fa8d67c",
   "metadata": {},
   "outputs": [],
   "source": [
    "# The trade is in the trades.\n",
    "ib.trades()"
   ]
  },
  {
   "cell_type": "code",
   "execution_count": null,
   "id": "79789e00",
   "metadata": {},
   "outputs": [],
   "source": [
    "ib.orders()"
   ]
  },
  {
   "cell_type": "markdown",
   "id": "f6870a25",
   "metadata": {},
   "source": [
    "## Order can't be filled."
   ]
  },
  {
   "cell_type": "code",
   "execution_count": null,
   "id": "2702b14a",
   "metadata": {},
   "outputs": [],
   "source": [
    "total_quantity = 2000\n",
    "limit_price = 1.1\n",
    "order = ib_insync.LimitOrder(\"SELL\", total_quantity, limit_price)\n",
    "print(\"order=\", order)"
   ]
  },
  {
   "cell_type": "code",
   "execution_count": null,
   "id": "a1df4ebe",
   "metadata": {},
   "outputs": [],
   "source": [
    "# Create a buy order with an irrealistic limit price (too low).\n",
    "print(\"contract=\", contract)\n",
    "total_quantity = 2000\n",
    "price = 0.05\n",
    "order = ib_insync.LimitOrder(\"BUY\", total_quantity, price)\n",
    "# placeOrder is not blocking.\n",
    "trade = ib.placeOrder(contract, order)\n",
    "\n",
    "print_trade(trade)"
   ]
  },
  {
   "cell_type": "code",
   "execution_count": null,
   "id": "e5d4804b",
   "metadata": {},
   "outputs": [],
   "source": [
    "#print(ib.openTrades())\n",
    "print(trade.orderStatus.status)"
   ]
  },
  {
   "cell_type": "code",
   "execution_count": null,
   "id": "4b2fc6e4",
   "metadata": {},
   "outputs": [],
   "source": [
    "print(trade.orderStatus.status)\n",
    "ib.cancelOrder(order)\n",
    "print(trade.orderStatus.status)"
   ]
  },
  {
   "cell_type": "code",
   "execution_count": null,
   "id": "3b9d98c8",
   "metadata": {},
   "outputs": [],
   "source": [
    "trade.log"
   ]
  },
  {
   "cell_type": "code",
   "execution_count": null,
   "id": "2c84d335",
   "metadata": {},
   "outputs": [],
   "source": [
    "%%time\n",
    "order = ib_insync.MarketOrder(\"BUY\", 100)\n",
    "\n",
    "trade = ib.placeOrder(contract, order)\n",
    "while not trade.isDone():\n",
    "    print(\"status=\", trade.orderStatus.status)\n",
    "    ib.waitOnUpdate()"
   ]
  },
  {
   "cell_type": "code",
   "execution_count": null,
   "id": "c9223be9",
   "metadata": {},
   "outputs": [],
   "source": [
    "ib.positions()"
   ]
  },
  {
   "cell_type": "code",
   "execution_count": null,
   "id": "d1d39984",
   "metadata": {},
   "outputs": [],
   "source": [
    "tot_commission = sum(fill.commissionReport.commission for fill in ib.fills())\n",
    "print(tot_commission)"
   ]
  },
  {
   "cell_type": "code",
   "execution_count": null,
   "id": "6c636a3e",
   "metadata": {},
   "outputs": [],
   "source": [
    "# See commission and margin impact without sending order.\n",
    "order = ib_insync.MarketOrder('SELL', 20000)\n",
    "order_state = ib.whatIfOrder(contract, order)\n",
    "print(type(order_state))\n",
    "print(order_state)\n",
    "\n",
    "#str(order_state)"
   ]
  },
  {
   "cell_type": "code",
   "execution_count": null,
   "id": "31e7e847",
   "metadata": {},
   "outputs": [],
   "source": [
    "order_state.dict()"
   ]
  },
  {
   "cell_type": "markdown",
   "id": "649fed37",
   "metadata": {},
   "source": [
    "# News articles"
   ]
  },
  {
   "cell_type": "code",
   "execution_count": null,
   "id": "49238897",
   "metadata": {},
   "outputs": [],
   "source": [
    "newsProviders = ib.reqNewsProviders()\n",
    "print(\"newsProviders=\", newsProviders)\n",
    "codes = '+'.join(np.code for np in newsProviders)\n",
    "\n",
    "#\n",
    "contract = ib_insync.Stock('AMD', 'SMART', 'USD')\n",
    "#contract = ib_insync.Future('ES')\n",
    "ib.qualifyContracts(contract)\n",
    "\n",
    "# reqHistoricalNews(conId, providerCodes, startDateTime, endDateTime, totalResults, historicalNewsOptions=None)\n",
    "startDateTime = ''\n",
    "endDateTime = ''\n",
    "totalResults = 10\n",
    "headlines = ib.reqHistoricalNews(contract.conId, codes, startDateTime, endDateTime, totalResults)\n",
    "\n",
    "print(\"\\nlen(headlines)=\", len(headlines))\n",
    "latest = headlines[0]\n",
    "print(\"\\nheadline=\", latest)\n",
    "\n",
    "# Retrieve the article.\n",
    "article = ib.reqNewsArticle(latest.providerCode, latest.articleId)\n",
    "print(\"\\narticle=\", article)"
   ]
  },
  {
   "cell_type": "markdown",
   "id": "312f3dd5",
   "metadata": {},
   "source": [
    "# Scanner"
   ]
  },
  {
   "cell_type": "code",
   "execution_count": null,
   "id": "53b70607",
   "metadata": {},
   "outputs": [],
   "source": [
    "# TODO"
   ]
  },
  {
   "cell_type": "markdown",
   "id": "71034590",
   "metadata": {},
   "source": [
    "# Code recipes"
   ]
  },
  {
   "cell_type": "markdown",
   "id": "36963bee",
   "metadata": {},
   "source": [
    "## Fetching consecutive data"
   ]
  },
  {
   "cell_type": "code",
   "execution_count": null,
   "id": "f6347f34",
   "metadata": {},
   "outputs": [],
   "source": [
    "# 1 = Live\n",
    "# 2 = Frozen\n",
    "# 3 = Delayed\n",
    "# 4 = Delayed frozen\n",
    "ib.reqMarketDataType(4)\n",
    "\n",
    "if False:\n",
    "    durationStr = '1 Y'\n",
    "    barSizeSetting = '1 day'\n",
    "    #barSizeSetting='1 hour'\n",
    "else:\n",
    "    durationStr = '1 D'\n",
    "    barSizeSetting = '1 hour'\n",
    "\n",
    "if False:\n",
    "    contract = ib_insync.Stock('TSLA', 'SMART', 'USD')\n",
    "    whatToShow = 'TRADES'\n",
    "elif True:\n",
    "    contract = ib_insync.Future('ES', '202109', 'GLOBEX')\n",
    "    whatToShow = 'TRADES'\n",
    "else:\n",
    "    contract = ib_insync.Forex('EURUSD')\n",
    "    whatToShow = 'MIDPOINT'\n",
    "    \n",
    "print(\"contract=\", contract)\n",
    "print(\"whatToShow=\", whatToShow)\n",
    "print(\"durationStr=\", durationStr)\n",
    "print(\"barSizeSetting=\", barSizeSetting)\n",
    "\n",
    "# Get the datetime of earliest available historical data for the contract.\n",
    "ts = ib.reqHeadTimeStamp(contract, whatToShow=whatToShow, useRTH=True)\n",
    "print(\"ts=\", ts)\n",
    "bars = ib.reqHistoricalData(\n",
    "    contract,\n",
    "    endDateTime='',\n",
    "    durationStr=durationStr,\n",
    "    barSizeSetting=barSizeSetting,\n",
    "    whatToShow=whatToShow,\n",
    "    useRTH=True,\n",
    "    formatDate=1)\n",
    "print(\"len(bars)=\", len(bars))"
   ]
  },
  {
   "cell_type": "code",
   "execution_count": null,
   "id": "a82d02ad",
   "metadata": {},
   "outputs": [],
   "source": [
    "#contract = Stock('TSLA', 'SMART', 'USD')\n",
    "contract = ib_insync.Forex(\"EURUSD\")\n",
    "whatToShow = 'MIDPOINT'\n",
    "ts = ib.reqHeadTimeStamp(contract, whatToShow=whatToShow, useRTH=True)\n",
    "print(ts)\n",
    "#assert 0\n",
    "\n",
    "num_iter = 0\n",
    "max_iter = 5\n",
    "dt = ''\n",
    "barsList = []\n",
    "while True:\n",
    "    bars = ib.reqHistoricalData(\n",
    "        contract,\n",
    "        endDateTime=dt,\n",
    "        durationStr='10 D',\n",
    "        barSizeSetting='1 min',\n",
    "        whatToShow='MIDPOINT',\n",
    "        useRTH=False,\n",
    "        formatDate=1)\n",
    "    if not bars:\n",
    "        break\n",
    "    barsList.append(bars)\n",
    "    dt = bars[0].date\n",
    "    print(dt, len(bars))\n",
    "    num_iter += 1\n",
    "    if num_iter > max_iter:\n",
    "        break\n",
    "\n",
    "# save to CSV file\n",
    "allBars = [b for bars in reversed(barsList) for b in bars]\n",
    "df = util.df(allBars)\n",
    "#df.to_csv(contract.symbol + '.csv')"
   ]
  }
 ],
 "metadata": {
  "jupytext": {
   "text_representation": {
    "extension": ".py",
    "format_name": "percent",
    "format_version": "1.3",
    "jupytext_version": "1.4.2"
   }
  },
  "kernelspec": {
   "display_name": "Python 3",
   "language": "python",
   "name": "python3"
  },
  "language_info": {
   "codemirror_mode": {
    "name": "ipython",
    "version": 3
   },
   "file_extension": ".py",
   "mimetype": "text/x-python",
   "name": "python",
   "nbconvert_exporter": "python",
   "pygments_lexer": "ipython3"
  },
  "toc": {
   "base_numbering": 1,
   "nav_menu": {},
   "number_sections": true,
   "sideBar": true,
   "skip_h1_title": false,
   "title_cell": "Table of Contents",
   "title_sidebar": "Contents",
   "toc_cell": false,
   "toc_position": {
    "height": "calc(100% - 180px)",
    "left": "10px",
    "top": "150px",
    "width": "218.188px"
   },
   "toc_section_display": true,
   "toc_window_display": true
  }
 },
 "nbformat": 4,
 "nbformat_minor": 5
}
