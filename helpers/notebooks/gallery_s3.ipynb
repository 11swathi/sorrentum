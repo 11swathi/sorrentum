{
 "cells": [
  {
   "cell_type": "code",
   "execution_count": null,
   "id": "bdcaa67d",
   "metadata": {},
   "outputs": [],
   "source": [
    "# https://s3fs.readthedocs.io/en/latest/"
   ]
  },
  {
   "cell_type": "code",
   "execution_count": null,
   "id": "75307b21",
   "metadata": {},
   "outputs": [],
   "source": [
    "import s3fs\n",
    "\n",
    "import helpers.s3 as hs3"
   ]
  },
  {
   "cell_type": "code",
   "execution_count": null,
   "id": "bf4d1989",
   "metadata": {},
   "outputs": [],
   "source": [
    "profile = \"am\"\n",
    "aws_access_key_id, aws_secret_access_key, aws_region = hs3.get_aws_credentials(\n",
    "    profile=profile\n",
    ")"
   ]
  },
  {
   "cell_type": "code",
   "execution_count": null,
   "id": "49ffb56d",
   "metadata": {},
   "outputs": [],
   "source": [
    "s3 = s3fs.S3FileSystem(anon=False, key=aws_access_key_id, secret=aws_secret_access_key)"
   ]
  },
  {
   "cell_type": "code",
   "execution_count": null,
   "id": "989e040e",
   "metadata": {},
   "outputs": [],
   "source": [
    "bucket = hs3.get_bucket()\n",
    "print(\"bucket=%s\" % bucket)\n",
    "s3.ls(bucket)"
   ]
  }
 ],
 "metadata": {
  "jupytext": {
   "text_representation": {
    "extension": ".py",
    "format_name": "percent",
    "format_version": "1.3",
    "jupytext_version": "1.11.2"
   }
  },
  "kernelspec": {
   "display_name": "Python 3",
   "language": "python",
   "name": "python3"
  },
  "language_info": {
   "codemirror_mode": {
    "name": "ipython",
    "version": 3
   },
   "file_extension": ".py",
   "mimetype": "text/x-python",
   "name": "python",
   "nbconvert_exporter": "python",
   "pygments_lexer": "ipython3"
  },
  "toc": {
   "base_numbering": 1,
   "nav_menu": {},
   "number_sections": true,
   "sideBar": true,
   "skip_h1_title": false,
   "title_cell": "Table of Contents",
   "title_sidebar": "Contents",
   "toc_cell": false,
   "toc_position": {},
   "toc_section_display": true,
   "toc_window_display": false
  }
 },
 "nbformat": 4,
 "nbformat_minor": 5
}
