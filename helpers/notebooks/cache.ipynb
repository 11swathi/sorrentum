{
 "cells": [
  {
   "cell_type": "markdown",
   "metadata": {},
   "source": [
    "# Test Cache in Jupyter Notebook"
   ]
  },
  {
   "cell_type": "code",
   "execution_count": null,
   "metadata": {},
   "outputs": [],
   "source": [
    "import joblib\n",
    "\n",
    "print(joblib)\n",
    "\n",
    "import helpers.cache as hcac"
   ]
  },
  {
   "cell_type": "code",
   "execution_count": null,
   "metadata": {},
   "outputs": [],
   "source": [
    "import helpers.dbg as dbg"
   ]
  },
  {
   "cell_type": "markdown",
   "metadata": {},
   "source": [
    "# Define computation function\n",
    "\n",
    "This function will be subjected to cache."
   ]
  },
  {
   "cell_type": "code",
   "execution_count": null,
   "metadata": {},
   "outputs": [],
   "source": [
    "def computation_function(a, b):\n",
    "    out = a + b\n",
    "    print(\"Sum: %s + %s = %s\" % (a, b, out))\n",
    "    return out\n",
    "\n",
    "\n",
    "inputs = (1, 2)\n",
    "exp_output = 3\n",
    "\n",
    "computation_function(*inputs)"
   ]
  },
  {
   "cell_type": "code",
   "execution_count": null,
   "metadata": {},
   "outputs": [],
   "source": [
    "def computation_function(a, b):\n",
    "    # hello\n",
    "    # assert 0\n",
    "    out = a * b\n",
    "    print(\"Multiplication: %s * %s = %s\" % (a, b, out))\n",
    "    return out\n",
    "\n",
    "\n",
    "inputs = (1, 2)\n",
    "exp_output = 2\n",
    "\n",
    "computation_function(*inputs)"
   ]
  },
  {
   "cell_type": "markdown",
   "metadata": {},
   "source": [
    "## LRU Cache"
   ]
  },
  {
   "cell_type": "code",
   "execution_count": null,
   "metadata": {},
   "outputs": [],
   "source": [
    "def hello():\n",
    "    print(\"hello\")\n",
    "\n",
    "\n",
    "print(id(hello))"
   ]
  },
  {
   "cell_type": "code",
   "execution_count": null,
   "metadata": {},
   "outputs": [],
   "source": [
    "import functools\n",
    "\n",
    "mem_func = functools.lru_cache(maxsize=None)(hello)\n",
    "\n",
    "mem_func()"
   ]
  },
  {
   "cell_type": "code",
   "execution_count": null,
   "metadata": {},
   "outputs": [],
   "source": [
    "mem_func = functools.lru_cache(maxsize=None)(hello)\n",
    "\n",
    "mem_func()"
   ]
  },
  {
   "cell_type": "code",
   "execution_count": null,
   "metadata": {},
   "outputs": [],
   "source": [
    "def hello():\n",
    "    print(\"hello\")\n",
    "\n",
    "\n",
    "print(id(hello))"
   ]
  },
  {
   "cell_type": "code",
   "execution_count": null,
   "metadata": {},
   "outputs": [],
   "source": [
    "def hello():\n",
    "    assert 0\n",
    "    print(\"good bye\")\n",
    "\n",
    "\n",
    "print(id(hello))"
   ]
  },
  {
   "cell_type": "code",
   "execution_count": null,
   "metadata": {},
   "outputs": [],
   "source": [
    "# hello()\n",
    "print(id(hello))\n",
    "mem_func()"
   ]
  },
  {
   "cell_type": "code",
   "execution_count": null,
   "metadata": {},
   "outputs": [],
   "source": [
    "mem_func = functools.lru_cache(maxsize=None)(hello)\n",
    "\n",
    "mem_func()"
   ]
  },
  {
   "cell_type": "markdown",
   "metadata": {},
   "source": [
    "## Joblib cache"
   ]
  },
  {
   "cell_type": "code",
   "execution_count": null,
   "metadata": {},
   "outputs": [],
   "source": [
    "import joblib\n",
    "\n",
    "disk_cache = joblib.Memory(\"./joblib.cache\", verbose=0, compress=1)\n",
    "disk_cache.clear()"
   ]
  },
  {
   "cell_type": "code",
   "execution_count": null,
   "metadata": {},
   "outputs": [],
   "source": [
    "def hello():\n",
    "    print(\"hello\")\n",
    "\n",
    "\n",
    "print(id(hello))\n",
    "\n",
    "cached_hello = disk_cache.cache(hello)\n",
    "\n",
    "print(id(cached_hello))"
   ]
  },
  {
   "cell_type": "code",
   "execution_count": null,
   "metadata": {},
   "outputs": [],
   "source": [
    "cached_hello()"
   ]
  },
  {
   "cell_type": "code",
   "execution_count": null,
   "metadata": {},
   "outputs": [],
   "source": [
    "cached_hello()"
   ]
  },
  {
   "cell_type": "code",
   "execution_count": null,
   "metadata": {},
   "outputs": [],
   "source": [
    "def hello():\n",
    "    print(\"hello\")"
   ]
  },
  {
   "cell_type": "code",
   "execution_count": null,
   "metadata": {},
   "outputs": [],
   "source": [
    "cached_hello()"
   ]
  },
  {
   "cell_type": "code",
   "execution_count": null,
   "metadata": {},
   "outputs": [],
   "source": [
    "def hello():\n",
    "    print(\"good bye\")\n",
    "\n",
    "\n",
    "cached_hello = disk_cache.cache(hello)"
   ]
  },
  {
   "cell_type": "code",
   "execution_count": null,
   "metadata": {},
   "outputs": [],
   "source": [
    "cached_hello()"
   ]
  },
  {
   "cell_type": "code",
   "execution_count": null,
   "metadata": {},
   "outputs": [],
   "source": [
    "def hello():\n",
    "    print(\"good bye\")\n",
    "\n",
    "\n",
    "cached_hello = disk_cache.cache(hello)\n",
    "\n",
    "cached_hello()"
   ]
  },
  {
   "cell_type": "markdown",
   "metadata": {},
   "source": [
    "## Memory cache"
   ]
  },
  {
   "cell_type": "code",
   "execution_count": null,
   "metadata": {},
   "outputs": [],
   "source": [
    "def computation_function(a, b):\n",
    "    out = a + b\n",
    "    print(\"Sum: %s + %s = %s\" % (a, b, out))\n",
    "    return out\n",
    "\n",
    "\n",
    "inputs = (1, 2)\n",
    "exp_output = 3"
   ]
  },
  {
   "cell_type": "code",
   "execution_count": null,
   "metadata": {},
   "outputs": [],
   "source": [
    "memory_cached_computation = hcac.Cached(\n",
    "    computation_function, use_mem_cache=True, use_disk_cache=False\n",
    ")\n",
    "\n",
    "dbg.dassert_eq(memory_cached_computation(*inputs), exp_output)\n",
    "dbg.dassert_eq(memory_cached_computation.get_last_cache_accessed(), \"no_cache\")\n",
    "\n",
    "dbg.dassert_eq(memory_cached_computation(*inputs), exp_output)\n",
    "dbg.dassert_eq(memory_cached_computation.get_last_cache_accessed(), \"mem\")\n",
    "\n",
    "print(\"memory caching checks passed\")"
   ]
  },
  {
   "cell_type": "code",
   "execution_count": null,
   "metadata": {},
   "outputs": [],
   "source": [
    "def computation_function(a, b):\n",
    "    # hello\n",
    "    # assert 0\n",
    "    out = a * b\n",
    "    print(\"Multiplication: %s * %s = %s\" % (a, b, out))\n",
    "    return out\n",
    "\n",
    "\n",
    "inputs = (1, 2)\n",
    "exp_output = 2\n",
    "\n",
    "dbg.dassert_eq(memory_cached_computation(*inputs), exp_output)\n",
    "print(memory_cached_computation.get_last_cache_accessed())\n",
    "dbg.dassert_eq(memory_cached_computation.get_last_cache_accessed(), \"mem\")"
   ]
  },
  {
   "cell_type": "code",
   "execution_count": null,
   "metadata": {},
   "outputs": [],
   "source": [
    "memory_cached_computation._func.__code__\n",
    "memory_cached_computation._func.co_filename"
   ]
  },
  {
   "cell_type": "code",
   "execution_count": null,
   "metadata": {},
   "outputs": [],
   "source": [
    "computation_function.__code__"
   ]
  },
  {
   "cell_type": "markdown",
   "metadata": {},
   "source": [
    "## Disk cache"
   ]
  },
  {
   "cell_type": "code",
   "execution_count": null,
   "metadata": {},
   "outputs": [],
   "source": [
    "disk_cached_computation = hcac.Cached(\n",
    "    computation_function, use_mem_cache=False, use_disk_cache=True\n",
    ")\n",
    "\n",
    "disk_cached_computation.clear_cache(\"disk\")\n",
    "\n",
    "dbg.dassert_eq(disk_cached_computation(*inputs), exp_output)\n",
    "dbg.dassert_eq(disk_cached_computation.get_last_cache_accessed(), \"no_cache\")\n",
    "\n",
    "dbg.dassert_eq(disk_cached_computation(*inputs), exp_output)\n",
    "dbg.dassert_eq(disk_cached_computation.get_last_cache_accessed(), \"disk\")\n",
    "\n",
    "print(\"disk caching checks passed\")"
   ]
  },
  {
   "cell_type": "code",
   "execution_count": null,
   "metadata": {},
   "outputs": [],
   "source": [
    "print(disk_cached_computation._execute_func_from_disk_cache.func)\n",
    "\n",
    "from joblib.func_inspect import get_func_code\n",
    "\n",
    "print(\n",
    "    get_func_code(disk_cached_computation._execute_func_from_disk_cache.func)[0]\n",
    ")\n",
    "dbg.dassert_eq(disk_cached_computation(*inputs), exp_output)\n",
    "dbg.dassert_eq(disk_cached_computation.get_last_cache_accessed(), \"disk\")"
   ]
  },
  {
   "cell_type": "markdown",
   "metadata": {},
   "source": [
    "## Full cache"
   ]
  },
  {
   "cell_type": "code",
   "execution_count": null,
   "metadata": {},
   "outputs": [],
   "source": [
    "fully_cached_computation = hcac.Cached(\n",
    "    computation_function, use_mem_cache=True, use_disk_cache=True\n",
    ")\n",
    "\n",
    "fully_cached_computation.clear_cache(\"disk\")\n",
    "\n",
    "dbg.dassert_eq(fully_cached_computation(*inputs), exp_output)\n",
    "dbg.dassert_eq(fully_cached_computation.get_last_cache_accessed(), \"no_cache\")\n",
    "\n",
    "dbg.dassert_eq(fully_cached_computation(*inputs), exp_output)\n",
    "dbg.dassert_eq(fully_cached_computation.get_last_cache_accessed(), \"mem\")\n",
    "\n",
    "dbg.dassert_eq(fully_cached_computation(*inputs), exp_output)\n",
    "dbg.dassert_eq(fully_cached_computation.get_last_cache_accessed(), \"mem\")\n",
    "\n",
    "print(\"Clear mem cache\")\n",
    "fully_cached_computation.clear_cache(\"mem\")\n",
    "\n",
    "dbg.dassert_eq(fully_cached_computation(*inputs), exp_output)\n",
    "dbg.dassert_eq(fully_cached_computation.get_last_cache_accessed(), \"disk\")\n",
    "\n",
    "dbg.dassert_eq(fully_cached_computation(*inputs), exp_output)\n",
    "dbg.dassert_eq(fully_cached_computation.get_last_cache_accessed(), \"mem\")\n",
    "\n",
    "print(\"full caching checks passed\")"
   ]
  },
  {
   "cell_type": "code",
   "execution_count": null,
   "metadata": {},
   "outputs": [],
   "source": [
    "dbg.dassert_eq(fully_cached_computation(*inputs), exp_output)\n",
    "dbg.dassert_eq(fully_cached_computation.get_last_cache_accessed(), \"mem\")"
   ]
  },
  {
   "cell_type": "code",
   "execution_count": null,
   "metadata": {},
   "outputs": [],
   "source": [
    "# This should fail all the times, because we clear the memory cache.\n",
    "fully_cached_computation.clear_cache(\"mem\")\n",
    "dbg.dassert_eq(fully_cached_computation(*inputs), exp_output)\n",
    "dbg.dassert_eq(fully_cached_computation.get_last_cache_accessed(), \"mem\")"
   ]
  }
 ],
 "metadata": {
  "jupytext": {
   "formats": "ipynb,py:percent"
  },
  "kernelspec": {
   "display_name": "Python 3",
   "language": "python",
   "name": "python3"
  },
  "language_info": {
   "codemirror_mode": {
    "name": "ipython",
    "version": 3
   },
   "file_extension": ".py",
   "mimetype": "text/x-python",
   "name": "python",
   "nbconvert_exporter": "python",
   "pygments_lexer": "ipython3"
  },
  "toc": {
   "base_numbering": 1,
   "nav_menu": {},
   "number_sections": true,
   "sideBar": true,
   "skip_h1_title": false,
   "title_cell": "Table of Contents",
   "title_sidebar": "Contents",
   "toc_cell": false,
   "toc_position": {},
   "toc_section_display": true,
   "toc_window_display": true
  }
 },
 "nbformat": 4,
 "nbformat_minor": 1
}
