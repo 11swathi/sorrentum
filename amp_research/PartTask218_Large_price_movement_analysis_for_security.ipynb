{
 "cells": [
  {
   "cell_type": "markdown",
   "metadata": {},
   "source": [
    "# Imports"
   ]
  },
  {
   "cell_type": "code",
   "execution_count": null,
   "metadata": {},
   "outputs": [],
   "source": [
    "%load_ext autoreload\n",
    "%autoreload 2\n",
    "\n",
    "import logging\n",
    "import os\n",
    "\n",
    "import numpy as np\n",
    "import pandas as pd\n",
    "from matplotlib import pyplot as plt"
   ]
  },
  {
   "cell_type": "code",
   "execution_count": null,
   "metadata": {},
   "outputs": [],
   "source": [
    "from tqdm.autonotebook import tqdm\n",
    "\n",
    "import amp_research.price_movement_analysis as pma\n",
    "import helpers.dbg as dbg\n",
    "import helpers.env as env\n",
    "import helpers.printing as pri\n",
    "import helpers.s3 as hs3\n",
    "import vendors.cme.read as cmer\n",
    "import vendors.kibot.utils as kut"
   ]
  },
  {
   "cell_type": "code",
   "execution_count": null,
   "metadata": {},
   "outputs": [],
   "source": [
    "def get_top_100(series):\n",
    "    return series.sort_values(ascending=False).head(100)"
   ]
  },
  {
   "cell_type": "code",
   "execution_count": null,
   "metadata": {},
   "outputs": [],
   "source": [
    "print(env.get_system_signature())\n",
    "\n",
    "pri.config_notebook()\n",
    "\n",
    "dbg.init_logger(verb=logging.INFO)\n",
    "\n",
    "_LOG = logging.getLogger(__name__)"
   ]
  },
  {
   "cell_type": "code",
   "execution_count": null,
   "metadata": {},
   "outputs": [],
   "source": [
    "SYMBOL = 'CL'"
   ]
  },
  {
   "cell_type": "markdown",
   "metadata": {},
   "source": [
    "# Load daily and minutely data"
   ]
  },
  {
   "cell_type": "code",
   "execution_count": null,
   "metadata": {},
   "outputs": [],
   "source": [
    "s3_path = hs3.get_path()\n",
    "kibot_path = os.path.join(\n",
    "    s3_path, \"kibot/All_Futures_Continuous_Contracts_daily/%s.csv.gz\"\n",
    ")\n",
    "file_name = kibot_path % SYMBOL\n",
    "\n",
    "daily_prices = kut.read_data(\n",
    "    file_name, nrows=None\n",
    ")\n",
    "\n",
    "daily_prices.tail(2)"
   ]
  },
  {
   "cell_type": "code",
   "execution_count": null,
   "metadata": {},
   "outputs": [],
   "source": [
    "s3_path = hs3.get_path()\n",
    "kibot_path = os.path.join(\n",
    "    s3_path, \"kibot/All_Futures_Continuous_Contracts_1min/%s.csv.gz\"\n",
    ")\n",
    "file_name = kibot_path % SYMBOL\n",
    "minutely_prices = kut.read_data(\n",
    "    file_name, nrows=None\n",
    ")\n",
    "\n",
    "minutely_prices.tail(2)"
   ]
  },
  {
   "cell_type": "code",
   "execution_count": null,
   "metadata": {},
   "outputs": [],
   "source": [
    "five_min_prices = minutely_prices.resample(\"5Min\").last()"
   ]
  },
  {
   "cell_type": "code",
   "execution_count": null,
   "metadata": {},
   "outputs": [],
   "source": [
    "five_min_prices.head()"
   ]
  },
  {
   "cell_type": "markdown",
   "metadata": {},
   "source": [
    "# Daily price movements"
   ]
  },
  {
   "cell_type": "code",
   "execution_count": null,
   "metadata": {},
   "outputs": [],
   "source": [
    "zscored_rets = pma.get_zscored_returns(\n",
    "    daily_prices, \"daily\"\n",
    ")\n",
    "top_daily_movements = get_top_100(zscored_rets)"
   ]
  },
  {
   "cell_type": "code",
   "execution_count": null,
   "metadata": {},
   "outputs": [],
   "source": [
    "top_daily_movements.index.year.value_counts(sort=False).plot(kind=\"bar\")\n",
    "plt.title(\"How many of the top-100 price movements occured during each year\")\n",
    "plt.show()"
   ]
  },
  {
   "cell_type": "code",
   "execution_count": null,
   "metadata": {},
   "outputs": [],
   "source": [
    "top_daily_movements_by_year = zscored_rets.resample('Y').apply(get_top_100)\n",
    "top_daily_movements_by_year.head()"
   ]
  },
  {
   "cell_type": "code",
   "execution_count": null,
   "metadata": {},
   "outputs": [],
   "source": [
    "top_daily_movements_by_year.tail()"
   ]
  },
  {
   "cell_type": "markdown",
   "metadata": {},
   "source": [
    "# 1-min movements"
   ]
  },
  {
   "cell_type": "code",
   "execution_count": null,
   "metadata": {},
   "outputs": [],
   "source": [
    "zscored_1min_rets = pma.get_zscored_returns(\n",
    "    minutely_prices, \"minutely\"\n",
    ")\n",
    "top_1min_movements = get_top_100(zscored_1min_rets)"
   ]
  },
  {
   "cell_type": "code",
   "execution_count": null,
   "metadata": {},
   "outputs": [],
   "source": [
    "top_1min_movements.head()"
   ]
  },
  {
   "cell_type": "code",
   "execution_count": null,
   "metadata": {},
   "outputs": [],
   "source": [
    "top_1min_movements.plot(kind=\"bar\")\n",
    "plt.title(\n",
    "    f\"Largest price movements in a 1 min interval (in z-score space) for the {SYMBOL} symbol\"\n",
    ")\n",
    "plt.show()"
   ]
  },
  {
   "cell_type": "code",
   "execution_count": null,
   "metadata": {},
   "outputs": [],
   "source": [
    "top_1min_movements_by_year = zscored_1min_rets.resample('Y').apply(get_top_100)\n",
    "top_1min_movements_by_year.head()"
   ]
  },
  {
   "cell_type": "markdown",
   "metadata": {},
   "source": [
    "# 5-min movements"
   ]
  },
  {
   "cell_type": "code",
   "execution_count": null,
   "metadata": {},
   "outputs": [],
   "source": [
    "zscored_5min_rets = pma.get_zscored_returns(\n",
    "    five_min_prices, \"minutely\"\n",
    ")\n",
    "top_5min_movements = get_top_100(zscored_5min_rets)"
   ]
  },
  {
   "cell_type": "code",
   "execution_count": null,
   "metadata": {},
   "outputs": [],
   "source": [
    "top_5min_movements.head()"
   ]
  },
  {
   "cell_type": "code",
   "execution_count": null,
   "metadata": {},
   "outputs": [],
   "source": [
    "print(f\"Top 100 of the 5-min price movements for {SYMBOL} occur at the following time:\")\n",
    "print(pd.Series(top_5min_movements.index).dt.time.value_counts())"
   ]
  },
  {
   "cell_type": "code",
   "execution_count": null,
   "metadata": {},
   "outputs": [],
   "source": [
    "top_5min_movements_by_year = zscored_5min_rets.resample('Y').apply(get_top_100)\n",
    "top_5min_movements_by_year.head()"
   ]
  },
  {
   "cell_type": "code",
   "execution_count": null,
   "metadata": {},
   "outputs": [],
   "source": [
    "top_5min_movements_by_year.tail()"
   ]
  },
  {
   "cell_type": "code",
   "execution_count": null,
   "metadata": {},
   "outputs": [],
   "source": []
  }
 ],
 "metadata": {
  "jupytext": {
   "text_representation": {
    "extension": ".py",
    "format_name": "percent",
    "format_version": "1.2",
    "jupytext_version": "1.2.4"
   }
  },
  "kernelspec": {
   "display_name": "Python [conda env:.conda-p1_develop] *",
   "language": "python",
   "name": "conda-env-.conda-p1_develop-py"
  },
  "language_info": {
   "codemirror_mode": {
    "name": "ipython",
    "version": 3
   },
   "file_extension": ".py",
   "mimetype": "text/x-python",
   "name": "python",
   "nbconvert_exporter": "python",
   "pygments_lexer": "ipython3"
  },
  "toc": {
   "base_numbering": 1,
   "nav_menu": {},
   "number_sections": true,
   "sideBar": true,
   "skip_h1_title": false,
   "title_cell": "Table of Contents",
   "title_sidebar": "Contents",
   "toc_cell": false,
   "toc_position": {
    "height": "calc(100% - 180px)",
    "left": "10px",
    "top": "150px",
    "width": "206.016px"
   },
   "toc_section_display": true,
   "toc_window_display": true
  }
 },
 "nbformat": 4,
 "nbformat_minor": 2
}
