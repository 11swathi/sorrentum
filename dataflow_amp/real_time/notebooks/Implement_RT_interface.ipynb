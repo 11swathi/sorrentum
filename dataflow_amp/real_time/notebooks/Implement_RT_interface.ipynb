{
 "cells": [
  {
   "cell_type": "markdown",
   "id": "219d117c",
   "metadata": {},
   "source": [
    "## Imports"
   ]
  },
  {
   "cell_type": "code",
   "execution_count": null,
   "id": "9692caf7",
   "metadata": {},
   "outputs": [],
   "source": [
    "%load_ext autoreload\n",
    "%autoreload 2\n",
    "\n",
    "import datetime\n",
    "import logging\n",
    "import os\n",
    "\n",
    "import pandas as pd\n",
    "from pyarrow import parquet\n",
    "import s3fs\n",
    "\n",
    "import helpers.dbg as dbg\n",
    "import helpers.env as env\n",
    "import helpers.printing as prnt"
   ]
  },
  {
   "cell_type": "code",
   "execution_count": null,
   "id": "58a2b5f3",
   "metadata": {},
   "outputs": [],
   "source": [
    "prnt.config_notebook()\n",
    "\n",
    "# dbg.init_logger(verbosity=logging.DEBUG)\n",
    "dbg.init_logger(verbosity=logging.INFO)\n",
    "# dbg.test_logger()\n",
    "_LOG = logging.getLogger(__name__)"
   ]
  },
  {
   "cell_type": "code",
   "execution_count": null,
   "id": "c022db7a",
   "metadata": {},
   "outputs": [],
   "source": [
    "# def print_columns(df: pd.DataFrame) -> None:\n",
    "#     print(\"# Columns\")\n",
    "#     print(\"num_cols=%s\" % len(df.columns))\n",
    "#     print(\", \".join(df.columns.tolist()))"
   ]
  },
  {
   "cell_type": "markdown",
   "id": "4818beec",
   "metadata": {},
   "source": [
    "## Real-time node"
   ]
  },
  {
   "cell_type": "code",
   "execution_count": null,
   "id": "3f6fef91",
   "metadata": {},
   "outputs": [],
   "source": [
    "import time"
   ]
  },
  {
   "cell_type": "markdown",
   "id": "92b938da",
   "metadata": {},
   "source": [
    "## Test real-time node"
   ]
  },
  {
   "cell_type": "code",
   "execution_count": null,
   "id": "0498f761",
   "metadata": {},
   "outputs": [],
   "source": [
    "nid = \"rtds\"\n",
    "start_date = pd.Timestamp(\"2010-01-04 09:30:00\")\n",
    "end_date = pd.Timestamp(\"2010-01-10 09:30:00\")\n",
    "\n",
    "columns = [\"close\", \"volume\"]\n",
    "rtds = dartu.RealTimeDataSource(\"rtds\", columns start_date, end_date)\n",
    "\n",
    "now = pd.Timestamp(\"2010-01-04 09:35:00\")\n",
    "rtds.set_now_time(now)\n",
    "    \n",
    "rtds.fit()"
   ]
  },
  {
   "cell_type": "markdown",
   "id": "82274968",
   "metadata": {},
   "source": [
    "## Build pipeline"
   ]
  },
  {
   "cell_type": "code",
   "execution_count": null,
   "id": "3de9acfe",
   "metadata": {},
   "outputs": [],
   "source": [
    "import dataflow_amp.real_time.utils as dartu\n",
    "import dataflow_amp.returns.pipeline as darp\n",
    "import core.dataflow as cdataf\n",
    "import core.config as cconfig\n",
    "\n",
    "dag_builder = darp.ReturnsPipeline()\n",
    "config = dag_builder.get_config_template()\n",
    "\n",
    "# # Add the source node.\n",
    "# source_config = cconfig.get_config_from_nested_dict(\n",
    "#     {\n",
    "#         \"func\": cldns.load_single_instrument_data,\n",
    "#         \"func_kwargs\": {\n",
    "#             \"start_date\": datetime.date(2010, 6, 29),\n",
    "#             \"end_date\": datetime.date(2010, 7, 13),\n",
    "#         },\n",
    "#     }\n",
    "# )\n",
    "# config[\"load_prices\"] = source_config\n",
    "# config[\"resample_prices_to_1min\", \"func_kwargs\", \"volume_cols\"] = [\"volume\"]\n",
    "# config[\"compute_vwap\", \"func_kwargs\", \"rule\"] = \"15T\"\n",
    "# config[\"compute_vwap\", \"func_kwargs\", \"volume_col\"] = \"volume\"\n",
    "\n",
    "if False:\n",
    "    from im.kibot.data.config import S3_PREFIX\n",
    "\n",
    "    ticker = \"AAPL\"\n",
    "    file_path = os.path.join(S3_PREFIX, \"pq/sp_500_1min\", ticker + \".pq\")\n",
    "    source_node_kwargs = {\n",
    "        \"func\": cdataf.load_data_from_disk,\n",
    "        \"func_kwargs\": {\n",
    "            \"file_path\": file_path,\n",
    "            \"start_date\": pd.to_datetime(\"2010-01-04 9:30:00\"),\n",
    "            \"end_date\": pd.to_datetime(\"2010-01-04 16:05:00\"),\n",
    "        },\n",
    "    }\n",
    "    config[\"load_prices\"] = cconfig.get_config_from_nested_dict(\n",
    "        source_node_kwargs\n",
    "    )\n",
    "    \n",
    "else:\n",
    "    start_date = pd.Timestamp(\"2010-01-04 09:30:00\")\n",
    "    end_date = pd.Timestamp(\"2010-01-10 09:30:00\")\n",
    "    \n",
    "    source_node_kwargs = {\n",
    "        \"columns\": [\"close\", \"volume\"],\n",
    "        \"start_date\": start_date,\n",
    "        \"end_date\": end_date,\n",
    "    }\n",
    "    config[\"load_prices\"] = cconfig.get_config_from_nested_dict({\n",
    "        \"source_node_name\": \"real_time_synthetic\",\n",
    "        \"source_node_kwargs\": source_node_kwargs\n",
    "    })\n",
    "\n",
    "print(config)"
   ]
  },
  {
   "cell_type": "code",
   "execution_count": null,
   "id": "8529c472",
   "metadata": {},
   "outputs": [],
   "source": [
    "#config = config.copy()\n",
    "#dag_runner = cdataf.PredictionDagRunner(\n",
    "#    config, config[\"meta\"][\"dag_builder\"]\n",
    "#)"
   ]
  },
  {
   "cell_type": "code",
   "execution_count": null,
   "id": "eeb33177",
   "metadata": {},
   "outputs": [],
   "source": [
    "#nid = \"compute_ret_0\"\n",
    "nid = \"load_prices\"\n",
    "dag = dag_builder.get_dag(config)\n",
    "\n",
    "node = dag.get_node(\"load_prices\")\n",
    "node.set_now_time(pd.to_datetime(\"2010-01-04 9:30:00\"))\n",
    "\n",
    "dict_ = dag.run_leq_node(nid, \"fit\")\n",
    "\n",
    "print(dict_)"
   ]
  },
  {
   "cell_type": "code",
   "execution_count": null,
   "id": "12fa6dbb",
   "metadata": {},
   "outputs": [],
   "source": [
    "# import helpers.printing as hprint\n",
    "# df = cldns.load_db_example_data()\n",
    "# print(\"end_time=[%s, %s]\" % (min(df[\"end_time\"]), max(df[\"end_time\"])))\n",
    "# print(df.shape)\n",
    "\n",
    "\n",
    "# datetime_ = pd.Timestamp(\"2021-07-22 20:01:00-00:00\")\n",
    "# print(datetime_)\n",
    "# df = cldns.get_db_data(datetime_)\n",
    "# print(\"end_time=[%s, %s]\" % (min(df[\"end_time\"]), max(df[\"end_time\"])))\n",
    "# print(df.shape)\n",
    "\n",
    "# df.head()"
   ]
  },
  {
   "cell_type": "code",
   "execution_count": null,
   "id": "a401bb40",
   "metadata": {},
   "outputs": [],
   "source": [
    "#df[[\"start_time\", \"end_time\", \"timestamp_db\"]]"
   ]
  },
  {
   "cell_type": "code",
   "execution_count": null,
   "id": "03498404",
   "metadata": {},
   "outputs": [],
   "source": [
    "for now in dartu.get_now_time():\n",
    "    print(\"now=\", now)\n",
    "    execute = dartu.is_dag_to_execute(now)\n",
    "    if execute:\n",
    "        print(\"Time to execute the DAG\")\n",
    "        # Get the data from the DB.\n",
    "        df = dartu.get_db_data(now)\n",
    "        print(\"end_time=[%s, %s]\" % (min(df[\"end_time\"]), max(df[\"end_time\"])))\n",
    "        display(df.head(3))\n",
    "        print(df.shape)"
   ]
  }
 ],
 "metadata": {
  "jupytext": {
   "text_representation": {
    "extension": ".py",
    "format_name": "percent",
    "format_version": "1.3",
    "jupytext_version": "1.11.2"
   }
  },
  "kernelspec": {
   "display_name": "Python 3",
   "language": "python",
   "name": "python3"
  },
  "language_info": {
   "codemirror_mode": {
    "name": "ipython",
    "version": 3
   },
   "file_extension": ".py",
   "mimetype": "text/x-python",
   "name": "python",
   "nbconvert_exporter": "python",
   "pygments_lexer": "ipython3"
  },
  "toc": {
   "base_numbering": 1,
   "nav_menu": {},
   "number_sections": true,
   "sideBar": true,
   "skip_h1_title": false,
   "title_cell": "Table of Contents",
   "title_sidebar": "Contents",
   "toc_cell": false,
   "toc_position": {
    "height": "calc(100% - 180px)",
    "left": "10px",
    "top": "150px",
    "width": "165px"
   },
   "toc_section_display": true,
   "toc_window_display": true
  }
 },
 "nbformat": 4,
 "nbformat_minor": 5
}
