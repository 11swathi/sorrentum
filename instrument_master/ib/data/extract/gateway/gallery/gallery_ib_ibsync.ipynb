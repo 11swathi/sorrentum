{
 "cells": [
  {
   "cell_type": "markdown",
   "id": "fd9276f9",
   "metadata": {},
   "source": [
    "# Imports"
   ]
  },
  {
   "cell_type": "code",
   "execution_count": null,
   "id": "e0c2d912",
   "metadata": {},
   "outputs": [],
   "source": [
    "%load_ext autoreload\n",
    "%autoreload 2\n",
    "\n",
    "import ib_insync\n",
    "print(ib_insync.__all__)\n",
    "\n",
    "import helpers.dbg as dbg\n",
    "import helpers.printing as pri\n",
    "import core.explore as exp\n",
    "import instrument_master.ib.data.extract.gateway.utils as ibutils"
   ]
  },
  {
   "cell_type": "markdown",
   "id": "7ba57b6a",
   "metadata": {},
   "source": [
    "# Connect"
   ]
  },
  {
   "cell_type": "code",
   "execution_count": null,
   "id": "e4d02a0e",
   "metadata": {},
   "outputs": [],
   "source": [
    "ib = ibutils.ib_connect(client_id=32, is_notebook=True)"
   ]
  },
  {
   "cell_type": "markdown",
   "id": "c92c7fb5",
   "metadata": {},
   "source": [
    "# Basic"
   ]
  },
  {
   "cell_type": "code",
   "execution_count": null,
   "id": "898f292d",
   "metadata": {},
   "outputs": [],
   "source": [
    "#print(pri.obj_to_str(ib, attr_mode=\"dir\", callable_mode=\"all\"))"
   ]
  },
  {
   "cell_type": "code",
   "execution_count": null,
   "id": "ff83b16a",
   "metadata": {},
   "outputs": [],
   "source": [
    "ib.positions()"
   ]
  },
  {
   "cell_type": "code",
   "execution_count": null,
   "id": "487c5dcc",
   "metadata": {},
   "outputs": [],
   "source": [
    "[v for v in ib.accountValues() if v.tag == 'NetLiquidationByCurrency' and v.currency == 'BASE']"
   ]
  },
  {
   "cell_type": "markdown",
   "id": "53042922",
   "metadata": {},
   "source": [
    "## Equity"
   ]
  },
  {
   "cell_type": "code",
   "execution_count": null,
   "id": "b9888c07",
   "metadata": {},
   "outputs": [],
   "source": [
    "# INTC\n",
    "contract = ib_insync.Contract(conId=270639)\n",
    "eq_contract = ibutils.to_contract_details(ib, contract)"
   ]
  },
  {
   "cell_type": "code",
   "execution_count": null,
   "id": "2d6fd138",
   "metadata": {},
   "outputs": [],
   "source": [
    "contract = ib_insync.Stock('AMD', 'SMART', 'USD')\n",
    "eq_contract = ibutils.to_contract_details(ib, contract)"
   ]
  },
  {
   "cell_type": "code",
   "execution_count": null,
   "id": "13ae6da6",
   "metadata": {},
   "outputs": [],
   "source": [
    "contract = ib_insync.Stock('INTC', 'SMART', 'USD', primaryExchange='NASDAQ')\n",
    "eq_contract = ibutils.to_contract_details(ib, contract)"
   ]
  },
  {
   "cell_type": "markdown",
   "id": "f7221f3f",
   "metadata": {},
   "source": [
    "## Forex"
   ]
  },
  {
   "cell_type": "code",
   "execution_count": null,
   "id": "80aec53c",
   "metadata": {},
   "outputs": [],
   "source": [
    "contract = ib_insync.Forex('EURUSD')\n",
    "forex_contract = ibutils.to_contract_details(ib, contract)"
   ]
  },
  {
   "cell_type": "code",
   "execution_count": null,
   "id": "3e1bbc72",
   "metadata": {},
   "outputs": [],
   "source": [
    "print(pri.diff_strings(eq_contract, forex_contract))"
   ]
  },
  {
   "cell_type": "markdown",
   "id": "94469ff7",
   "metadata": {},
   "source": [
    "## CFD (contract for difference)"
   ]
  },
  {
   "cell_type": "code",
   "execution_count": null,
   "id": "e9d699cb",
   "metadata": {},
   "outputs": [],
   "source": [
    "contract = ib_insync.CFD('IBUS30')\n",
    "cfd_contract = ibutils.to_contract_details(ib, contract)"
   ]
  },
  {
   "cell_type": "code",
   "execution_count": null,
   "id": "a0b854d0",
   "metadata": {},
   "outputs": [],
   "source": [
    "print(pri.diff_strings(eq_contract, cfd_contract))"
   ]
  },
  {
   "cell_type": "markdown",
   "id": "6548a543",
   "metadata": {},
   "source": [
    "## Futures"
   ]
  },
  {
   "cell_type": "code",
   "execution_count": null,
   "id": "1250d786",
   "metadata": {},
   "outputs": [],
   "source": [
    "contract = ib_insync.Future('ES', '202109', 'GLOBEX')\n",
    "fut_contract = ibutils.to_contract_details(ib, contract)"
   ]
  },
  {
   "cell_type": "code",
   "execution_count": null,
   "id": "c5cb0cda",
   "metadata": {},
   "outputs": [],
   "source": [
    "print(pri.diff_strings(eq_contract, fut_contract, \"eq\", \"fut\"))"
   ]
  },
  {
   "cell_type": "markdown",
   "id": "45ff1e94",
   "metadata": {},
   "source": [
    "## Continuous Futures"
   ]
  },
  {
   "cell_type": "code",
   "execution_count": null,
   "id": "f4ef53ee",
   "metadata": {},
   "outputs": [],
   "source": [
    "#contract = ib_insync.ContFuture('ES', '202109', 'GLOBEX')\n",
    "#fut_contract = ibutils.to_contract_details(ib, contract)"
   ]
  },
  {
   "cell_type": "markdown",
   "id": "2ddc6713",
   "metadata": {},
   "source": [
    "## Option"
   ]
  },
  {
   "cell_type": "code",
   "execution_count": null,
   "id": "74652b30",
   "metadata": {},
   "outputs": [],
   "source": [
    "contract = ib_insync.Option('SPY', '202107', 240, 'C', 'SMART')\n",
    "opt_contract = ibutils.to_contract_details(ib, contract)"
   ]
  },
  {
   "cell_type": "markdown",
   "id": "d4fcd4be",
   "metadata": {},
   "source": [
    "## Bond"
   ]
  },
  {
   "cell_type": "code",
   "execution_count": null,
   "id": "f7f04d16",
   "metadata": {},
   "outputs": [],
   "source": [
    "contract = Bond(secIdType='ISIN', secId='US03076KAA60')\n",
    "bond_contract = ibutils.to_contract_details(ib, contract)"
   ]
  },
  {
   "cell_type": "markdown",
   "id": "4fa681e5",
   "metadata": {},
   "source": [
    "# Contract details"
   ]
  },
  {
   "cell_type": "markdown",
   "id": "695443e7",
   "metadata": {},
   "source": [
    "## Equities"
   ]
  },
  {
   "cell_type": "code",
   "execution_count": null,
   "id": "26665f4f",
   "metadata": {},
   "outputs": [],
   "source": [
    "# Look for Stocks matching AMD.\n",
    "asset = ib_insync.Stock(\"AMD\")\n",
    "cds = ib.reqContractDetails(asset)\n",
    "print(\"num contracts=\", len(cds))\n",
    "print(cds[0])"
   ]
  },
  {
   "cell_type": "code",
   "execution_count": null,
   "id": "bbad7ef4",
   "metadata": {},
   "outputs": [],
   "source": [
    "contracts = [cd.contract for cd in cds]\n",
    "print(contracts[0])\n",
    "\n",
    "ib_insync.util.df(contracts)"
   ]
  },
  {
   "cell_type": "code",
   "execution_count": null,
   "id": "dd79fc85",
   "metadata": {},
   "outputs": [],
   "source": [
    "# Show that there is a single AMD in US.\n",
    "asset = ib_insync.Stock(\"AMD\", \"SMART\", \"USD\")\n",
    "print(\"asset=\", asset)\n",
    "cds = ib.reqContractDetails(asset)\n",
    "print(\"num contracts=\", len(cds))\n",
    "dbg.dassert_eq(len(cds), 1)\n",
    "print(cds[0])"
   ]
  },
  {
   "cell_type": "code",
   "execution_count": null,
   "id": "cdeda9f3",
   "metadata": {},
   "outputs": [],
   "source": [
    "ib.qualifyContracts(asset)"
   ]
  },
  {
   "cell_type": "code",
   "execution_count": null,
   "id": "97470fc3",
   "metadata": {},
   "outputs": [],
   "source": [
    "# Request stocks that match a pattern.\n",
    "matches = ib.reqMatchingSymbols(\"intc\")\n",
    "contracts = [m.contract for m in matches]\n",
    "ib_insync.util.df(contracts)"
   ]
  },
  {
   "cell_type": "markdown",
   "id": "3bf8c6c3",
   "metadata": {},
   "source": [
    "## Futures"
   ]
  },
  {
   "cell_type": "code",
   "execution_count": null,
   "id": "1fbb1999",
   "metadata": {},
   "outputs": [],
   "source": [
    "# Look for ES.\n",
    "\n",
    "asset = ib_insync.Future(\"ES\", includeExpired=True)\n",
    "ibutils.get_contract_details(ib, asset)"
   ]
  },
  {
   "cell_type": "code",
   "execution_count": null,
   "id": "a140b756",
   "metadata": {},
   "outputs": [],
   "source": [
    "cds = ib.reqContractDetails(asset)\n",
    "\n",
    "contracts = [cd.contract for cd in cds]\n",
    "\n",
    "ib_insync.util.df(contracts)"
   ]
  },
  {
   "cell_type": "markdown",
   "id": "69dcee11",
   "metadata": {},
   "source": [
    "## Cont futures"
   ]
  },
  {
   "cell_type": "code",
   "execution_count": null,
   "id": "cdee27dc",
   "metadata": {},
   "outputs": [],
   "source": [
    "asset = ib_insync.ContFuture(\"ES\", \"Globex\", \"USD\")\n",
    "ibutils.get_contract_details(ib, asset)"
   ]
  },
  {
   "cell_type": "code",
   "execution_count": null,
   "id": "f28e0c5b",
   "metadata": {},
   "outputs": [],
   "source": [
    "ibutils.get_end_timestamp(ib, contract, 'TRADES', useRTH=True)"
   ]
  },
  {
   "cell_type": "markdown",
   "id": "4f130e88",
   "metadata": {},
   "source": [
    "# Option chain"
   ]
  },
  {
   "cell_type": "code",
   "execution_count": null,
   "id": "d1447cdb",
   "metadata": {},
   "outputs": [],
   "source": [
    "# Options on SPX next 3 "
   ]
  },
  {
   "cell_type": "code",
   "execution_count": null,
   "id": "1e9730fd",
   "metadata": {},
   "outputs": [],
   "source": [
    "spx = ib_insync.Index('SPX', 'CBOE')\n",
    "print(\"type=%s %s\" % (type(spx), spx))\n",
    "\n",
    "ib.qualifyContracts(spx)"
   ]
  },
  {
   "cell_type": "code",
   "execution_count": null,
   "id": "fcd577f8",
   "metadata": {},
   "outputs": [],
   "source": [
    "# Use delayed data.\n",
    "ib.reqMarketDataType(4)\n",
    "tickers = ib.reqTickers(spx)\n",
    "assert len(tickers) == 1\n",
    "ticker = tickers[0]\n",
    "\n",
    "print(pri.type_obj_to_str(ticker))"
   ]
  },
  {
   "cell_type": "code",
   "execution_count": null,
   "id": "ba7f3a0c",
   "metadata": {},
   "outputs": [],
   "source": [
    "spx_value = ticker.marketPrice()\n",
    "spx_value"
   ]
  },
  {
   "cell_type": "code",
   "execution_count": null,
   "id": "05571078",
   "metadata": {},
   "outputs": [],
   "source": [
    "# TODO: finish"
   ]
  },
  {
   "cell_type": "markdown",
   "id": "e09b442b",
   "metadata": {},
   "source": [
    "# Historical data"
   ]
  },
  {
   "cell_type": "code",
   "execution_count": null,
   "id": "557eb911",
   "metadata": {},
   "outputs": [],
   "source": [
    "# 1 = Live\n",
    "# 2 = Frozen\n",
    "# 3 = Delayed\n",
    "# 4 = Delayed frozen\n",
    "ib.reqMarketDataType(4)\n",
    "\n",
    "if False:\n",
    "    contract = ib_insync.Stock('TSLA', 'SMART', 'USD')\n",
    "    whatToShow = 'TRADES'\n",
    "elif False:\n",
    "    contract = ib_insync.Future('ES', '202109', 'GLOBEX')\n",
    "    whatToShow = 'TRADES'\n",
    "elif False:\n",
    "    contract = ib_insync.ContFuture(\"ES\", \"GLOBEX\", \"USD\")\n",
    "    whatToShow = 'TRADES'\n",
    "else:\n",
    "    contract = ib_insync.Forex('EURUSD')\n",
    "    whatToShow = 'MIDPOINT'\n",
    "\n",
    "if False:\n",
    "    durationStr = '1 Y'\n",
    "    barSizeSetting = '1 day'\n",
    "    #barSizeSetting='1 hour'\n",
    "else:\n",
    "    durationStr = '1 D'\n",
    "    barSizeSetting = '1 hour'\n",
    "\n",
    "print(\"contract=\", contract)\n",
    "print(\"whatToShow=\", whatToShow)\n",
    "print(\"durationStr=\", durationStr)\n",
    "print(\"barSizeSetting=\", barSizeSetting)\n",
    "\n",
    "# Get the datetime of earliest available historical data for the contract.\n",
    "ts = ib.reqHeadTimeStamp(contract, whatToShow=whatToShow, useRTH=True)\n",
    "print(\"ts=\", ts)\n",
    "bars = ib.reqHistoricalData(\n",
    "    contract,\n",
    "    endDateTime='',\n",
    "    durationStr=durationStr,\n",
    "    barSizeSetting=barSizeSetting,\n",
    "    whatToShow=whatToShow,\n",
    "    useRTH=True,\n",
    "    formatDate=1)\n",
    "print(\"len(bars)=\", len(bars))\n",
    "print(ib_insync.util.df(bars))"
   ]
  },
  {
   "cell_type": "code",
   "execution_count": null,
   "id": "e69c5e20",
   "metadata": {},
   "outputs": [],
   "source": [
    "#icontract = ib_insync.Stock('TSLA', 'SMART', 'USD')\n",
    "contract = ib_insync.Forex('EURUSD')\n",
    "\n",
    "# Get the datetime of earliest available historical data for the contract.\n",
    "ib.reqHeadTimeStamp(contract, whatToShow='TRADES', useRTH=True)"
   ]
  },
  {
   "cell_type": "code",
   "execution_count": null,
   "id": "d284d33e",
   "metadata": {},
   "outputs": [],
   "source": [
    "print(contract)\n",
    "ib.reqMarketDataType(4)\n",
    "bars = ib.reqHistoricalData(\n",
    "    contract,\n",
    "    endDateTime='20200101 01:01:01',\n",
    "    durationStr='60 D',\n",
    "    barSizeSetting='1 hour',\n",
    "    whatToShow='TRADES',\n",
    "    useRTH=True,\n",
    "    formatDate=1)"
   ]
  },
  {
   "cell_type": "code",
   "execution_count": null,
   "id": "798683d9",
   "metadata": {},
   "outputs": [],
   "source": [
    "print(bars[0])\n",
    "df = util.df(bars)\n",
    "\n",
    "display(df.head())\n",
    "display(df.tail())"
   ]
  },
  {
   "cell_type": "markdown",
   "id": "8b1787c4",
   "metadata": {},
   "source": [
    "## Historical data with RT updates"
   ]
  },
  {
   "cell_type": "code",
   "execution_count": null,
   "id": "d25d407e",
   "metadata": {},
   "outputs": [],
   "source": [
    "ib.reqMarketDataType(1)\n",
    "contract = ib_insync.Forex('EURUSD')\n",
    "\n",
    "bars = ib.reqHistoricalData(\n",
    "        contract,\n",
    "        endDateTime='',\n",
    "        durationStr='900 S',\n",
    "        barSizeSetting='10 secs',\n",
    "        whatToShow='MIDPOINT',\n",
    "        useRTH=True,\n",
    "        formatDate=1,\n",
    "        keepUpToDate=True)\n",
    "\n",
    "print(bars[-1])"
   ]
  },
  {
   "cell_type": "code",
   "execution_count": null,
   "id": "5c6276ec",
   "metadata": {},
   "outputs": [],
   "source": [
    "from IPython.display import display, clear_output\n",
    "import matplotlib.pyplot as plt\n",
    "\n",
    "def onBarUpdate(bars, hasNewBar):\n",
    "    plt.close()\n",
    "    plot = ib_insync.util.barplot(bars)\n",
    "    clear_output(wait=True)\n",
    "    display(plot)\n",
    "\n",
    "bars.updateEvent += onBarUpdate\n",
    "\n",
    "ib.sleep(10)\n",
    "ib.cancelHistoricalData(bars)"
   ]
  },
  {
   "cell_type": "markdown",
   "id": "d29e0ae5",
   "metadata": {},
   "source": [
    "## Realtime bars"
   ]
  },
  {
   "cell_type": "code",
   "execution_count": null,
   "id": "e8d5ce02",
   "metadata": {},
   "outputs": [],
   "source": [
    "def onBarUpdate(bars, hasNewBar):\n",
    "    print(bars[-1])"
   ]
  },
  {
   "cell_type": "code",
   "execution_count": null,
   "id": "69936b24",
   "metadata": {},
   "outputs": [],
   "source": [
    "bars = ib.reqRealTimeBars(contract, 5, 'MIDPOINT', False)\n",
    "bars.updateEvent += onBarUpdate"
   ]
  },
  {
   "cell_type": "code",
   "execution_count": null,
   "id": "1d4382bb",
   "metadata": {},
   "outputs": [],
   "source": [
    "ib.sleep(10)\n",
    "ib.cancelRealTimeBars(bars)"
   ]
  },
  {
   "cell_type": "markdown",
   "id": "1a43d349",
   "metadata": {},
   "source": [
    "# Tick data"
   ]
  },
  {
   "cell_type": "markdown",
   "id": "c4a6f192",
   "metadata": {},
   "source": [
    "## Streaming tick data"
   ]
  },
  {
   "cell_type": "code",
   "execution_count": null,
   "id": "48481ccf",
   "metadata": {},
   "outputs": [],
   "source": [
    "contracts = ('EURUSD', 'USDJPY', 'GBPUSD', 'USDCHF', 'USDCAD', 'AUDUSD')\n",
    "contracts = [ib_insync.Forex(p) for p in contracts]\n",
    "ib.qualifyContracts(*contracts)"
   ]
  },
  {
   "cell_type": "code",
   "execution_count": null,
   "id": "6eefdab2",
   "metadata": {},
   "outputs": [],
   "source": [
    "# reqMktData: subscribe to tick data or request a snapshot.\n",
    "# https://interactivebrokers.github.io/tws-api/md_request.html\n",
    "\n",
    "for contract in contracts:\n",
    "    # https://ib-insync.readthedocs.io/api.html#ib_insync.ib.IB.reqMktData\n",
    "    genericTickList = ''\n",
    "    # Subscribe a stream of real time.\n",
    "    snapshot = False\n",
    "    # Request NBBO snapshot.\n",
    "    regulatory_snapshot = False\n",
    "    ib.reqMktData(contract, genericTickList, snapshot, regulatory_snapshot)"
   ]
  },
  {
   "cell_type": "code",
   "execution_count": null,
   "id": "39e5f386",
   "metadata": {},
   "outputs": [],
   "source": [
    "eurusd = contracts[1]\n",
    "ticker = ib.ticker(eurusd)\n",
    "print(ticker)\n",
    "print(ticker.midpoint())"
   ]
  },
  {
   "cell_type": "code",
   "execution_count": null,
   "id": "d9dc647d",
   "metadata": {},
   "outputs": [],
   "source": [
    "#ticker.marketPrice()\n",
    "ticker.midpoint()"
   ]
  },
  {
   "cell_type": "code",
   "execution_count": null,
   "id": "372238f7",
   "metadata": {},
   "outputs": [],
   "source": [
    "from IPython.display import display, clear_output\n",
    "import pandas as pd\n",
    "\n",
    "df = pd.DataFrame(\n",
    "    index=[c.pair() for c in contracts],\n",
    "    columns=['bidSize', 'bid', 'ask', 'askSize', 'high', 'low', 'close'])\n",
    "\n",
    "def onPendingTickers(tickers):\n",
    "    for t in tickers:\n",
    "        df.loc[t.contract.pair()] = (\n",
    "            t.bidSize, t.bid, t.ask, t.askSize, t.high, t.low, t.close)\n",
    "        clear_output(wait=True)\n",
    "    display(df)        \n",
    "\n",
    "ib.pendingTickersEvent += onPendingTickers\n",
    "ib.sleep(10)\n",
    "ib.pendingTickersEvent -= onPendingTickers\n",
    "print(\"DONE\")"
   ]
  },
  {
   "cell_type": "code",
   "execution_count": null,
   "id": "c582b098",
   "metadata": {},
   "outputs": [],
   "source": [
    "# Stop the update.\n",
    "for contract in contracts:\n",
    "    ib.cancelMktData(contract)"
   ]
  },
  {
   "cell_type": "markdown",
   "id": "74ccd67b",
   "metadata": {},
   "source": [
    "## Tick by tick data"
   ]
  },
  {
   "cell_type": "code",
   "execution_count": null,
   "id": "8f95ca05",
   "metadata": {},
   "outputs": [],
   "source": [
    "# re\n",
    "# https://interactivebrokers.github.io/tws-api/tick_data.html"
   ]
  },
  {
   "cell_type": "code",
   "execution_count": null,
   "id": "1ffeb238",
   "metadata": {},
   "outputs": [],
   "source": [
    "ticker = ib.reqTickByTickData(eurusd, 'BidAsk')\n",
    "ib.sleep(2)\n",
    "print(ticker)"
   ]
  },
  {
   "cell_type": "code",
   "execution_count": null,
   "id": "9c7fcb5c",
   "metadata": {},
   "outputs": [],
   "source": [
    "ticker = ib.reqTickByTickData(eurusd, 'BidAsk')\n",
    "ib.sleep(2)\n",
    "print(ticker)"
   ]
  },
  {
   "cell_type": "code",
   "execution_count": null,
   "id": "ce9807c6",
   "metadata": {},
   "outputs": [],
   "source": [
    "ib.cancelTickByTickData(ticker.contract, 'BidAsk')"
   ]
  },
  {
   "cell_type": "markdown",
   "id": "c4fe2380",
   "metadata": {},
   "source": [
    "## Historical tick data"
   ]
  },
  {
   "cell_type": "code",
   "execution_count": null,
   "id": "834eb4de",
   "metadata": {},
   "outputs": [],
   "source": [
    "# reqHistoricalTicks(contract, startDateTime, endDateTime,\n",
    "#    numberOfTicks, whatToShow, useRth, ignoreSize=False, miscOptions=[]\n",
    "# Request historical ticks. The time resolution of the ticks is one second.\n",
    "# This method is blocking.\n",
    "# https://interactivebrokers.github.io/tws-api/historical_time_and_sales.html"
   ]
  },
  {
   "cell_type": "code",
   "execution_count": null,
   "id": "4b43cb28",
   "metadata": {},
   "outputs": [],
   "source": [
    "import datetime\n",
    "\n",
    "start = ''\n",
    "end = datetime.datetime.now()\n",
    "print(start, end)\n",
    "number_of_ticks = 1000\n",
    "what_to_show = \"BID_ASK\"\n",
    "useRTH = False\n",
    "ticks = ib.reqHistoricalTicks(eurusd, start, end, number_of_ticks, what_to_show, useRTH)\n",
    "\n",
    "print(len(ticks))\n",
    "df = ib_insync.util.df(ticks)\n",
    "df.drop(columns=\"tickAttribBidAsk\", inplace=True)\n",
    "#df.index = [t.time for t in ticks]\n",
    "\n",
    "df.head(5)"
   ]
  },
  {
   "cell_type": "code",
   "execution_count": null,
   "id": "37e95d90",
   "metadata": {},
   "outputs": [],
   "source": [
    "print(str(ticks)[:1000])\n",
    "print(ticks[0].time, ticks[-1].time)"
   ]
  },
  {
   "cell_type": "markdown",
   "id": "ff706b31",
   "metadata": {},
   "source": [
    "# Market depth (order book)"
   ]
  },
  {
   "cell_type": "markdown",
   "id": "c292b710",
   "metadata": {},
   "source": [
    "## Get exchange info"
   ]
  },
  {
   "cell_type": "code",
   "execution_count": null,
   "id": "bd25416a",
   "metadata": {},
   "outputs": [],
   "source": [
    "l = ib.reqMktDepthExchanges()\n",
    "print(\"num exchanges with market depth=\", len(l))\n",
    "print(\"\\n\".join(map(str, l[:5])))"
   ]
  },
  {
   "cell_type": "code",
   "execution_count": null,
   "id": "ef4ec4ff",
   "metadata": {},
   "outputs": [],
   "source": [
    "df = ib_insync.util.df(l)\n",
    "display(df.head(5))\n",
    "print(\"secType=\", df[\"secType\"].unique())\n",
    "df.sort_values(\"secType\")\n",
    "print(len(df))\n",
    "\n",
    "df_fut = df[df[\"secType\"] == \"FUT\"].sort_values(\"exchange\")\n",
    "print(len(df_fut))\n",
    "display(df_fut)"
   ]
  },
  {
   "cell_type": "markdown",
   "id": "67f701b9",
   "metadata": {},
   "source": [
    "## Get the book"
   ]
  },
  {
   "cell_type": "code",
   "execution_count": null,
   "id": "f29177a7",
   "metadata": {},
   "outputs": [],
   "source": [
    "contract = ib_insync.Forex('EURUSD')\n",
    "ib.qualifyContracts(contract)\n",
    "ticker = ib.reqMktDepth(contract)"
   ]
  },
  {
   "cell_type": "code",
   "execution_count": null,
   "id": "fe8a91a0",
   "metadata": {},
   "outputs": [],
   "source": [
    "ticker"
   ]
  },
  {
   "cell_type": "code",
   "execution_count": null,
   "id": "bd6fc863",
   "metadata": {},
   "outputs": [],
   "source": [
    "from IPython.display import display, clear_output\n",
    "import pandas as pd\n",
    "\n",
    "df = pd.DataFrame(index=range(5),\n",
    "        columns='bidSize bidPrice askPrice askSize'.split())\n",
    "\n",
    "def onTickerUpdate(ticker):\n",
    "    bids = ticker.domBids\n",
    "    for i in range(5):\n",
    "        df.iloc[i, 0] = bids[i].size if i < len(bids) else 0\n",
    "        df.iloc[i, 1] = bids[i].price if i < len(bids) else 0\n",
    "    asks = ticker.domAsks\n",
    "    for i in range(5):\n",
    "        df.iloc[i, 2] = asks[i].price if i < len(asks) else 0\n",
    "        df.iloc[i, 3] = asks[i].size if i < len(asks) else 0\n",
    "    clear_output(wait=True)\n",
    "    display(df)\n",
    "\n",
    "ticker.updateEvent += onTickerUpdate\n",
    "\n",
    "ib_insync.IB.sleep(15);"
   ]
  },
  {
   "cell_type": "code",
   "execution_count": null,
   "id": "47dacd62",
   "metadata": {},
   "outputs": [],
   "source": [
    "ib.cancelMktDepth(contract)"
   ]
  },
  {
   "cell_type": "code",
   "execution_count": null,
   "id": "c904972d",
   "metadata": {},
   "outputs": [],
   "source": [
    "assert 0"
   ]
  },
  {
   "cell_type": "markdown",
   "id": "de01f011",
   "metadata": {},
   "source": [
    "# Ordering"
   ]
  },
  {
   "cell_type": "markdown",
   "id": "29c5b78e",
   "metadata": {},
   "source": [
    "## Account info"
   ]
  },
  {
   "cell_type": "code",
   "execution_count": null,
   "id": "9ee2a076",
   "metadata": {},
   "outputs": [],
   "source": [
    "# List of positions for a given account.\n",
    "print(\"positions=\\n\\t\", \"\\n\\t\".join(map(str, ib.positions())))\n",
    "\n",
    "## List of all orders in current session.\n",
    "print(\"orders=\", ib.orders())\n",
    "\n",
    "## List of trades in current session.\n",
    "print(\"trades=\", ib.trades())"
   ]
  },
  {
   "cell_type": "markdown",
   "id": "8ada2084",
   "metadata": {},
   "source": [
    "## Order"
   ]
  },
  {
   "cell_type": "code",
   "execution_count": null,
   "id": "f7af7f5d",
   "metadata": {},
   "outputs": [],
   "source": [
    "if True:\n",
    "    contract = ib_insync.Forex(\"EURUSD\")\n",
    "    ib.qualifyContracts(contract)\n",
    "    print(\"contract=\", contract)\n",
    "    #\n",
    "    total_quantity = 2000\n",
    "    #total_quantity = 3900\n",
    "    limit_price = 1.1\n",
    "else:\n",
    "    contract = ib_insync.Future('ES', '202109', 'GLOBEX')\n",
    "    ib.qualifyContracts(contract)\n",
    "    print(\"contract=\", contract)\n",
    "    #\n",
    "    total_quantity = 2000\n",
    "    limit_price = 1.1"
   ]
  },
  {
   "cell_type": "code",
   "execution_count": null,
   "id": "5c2f9da3",
   "metadata": {},
   "outputs": [],
   "source": []
  },
  {
   "cell_type": "code",
   "execution_count": null,
   "id": "1243035c",
   "metadata": {},
   "outputs": [],
   "source": [
    "%%time\n",
    "total_quantity = 3900\n",
    "#limit_price = 1.1\n",
    "limit_price = 100\n",
    "order = ib_insync.LimitOrder(\"BUY\", total_quantity, limit_price)\n",
    "print(\"order=\", order)"
   ]
  },
  {
   "cell_type": "code",
   "execution_count": null,
   "id": "1d74e12f",
   "metadata": {},
   "outputs": [],
   "source": [
    "def print_trade(trade):\n",
    "    #print(\"trade=\", trade)\n",
    "    print(\"trade.contract=\", trade.contract)\n",
    "    print(\"trade.order=\", trade.order)\n",
    "    print(\"trade.orderStatus=\", trade.orderStatus)\n",
    "    print(\"log=\\n\\t%s\" % \"\\n\\t\".join(map(str, trade.log)))"
   ]
  },
  {
   "cell_type": "code",
   "execution_count": null,
   "id": "a0ff4b35",
   "metadata": {},
   "outputs": [],
   "source": [
    "trade = ib.placeOrder(contract, order)"
   ]
  },
  {
   "cell_type": "code",
   "execution_count": null,
   "id": "2215371c",
   "metadata": {},
   "outputs": [],
   "source": [
    "print_trade(trade)"
   ]
  },
  {
   "cell_type": "code",
   "execution_count": null,
   "id": "f1805449",
   "metadata": {},
   "outputs": [],
   "source": [
    "# The trade is in the trades.\n",
    "ib.trades()"
   ]
  },
  {
   "cell_type": "code",
   "execution_count": null,
   "id": "b0465901",
   "metadata": {},
   "outputs": [],
   "source": [
    "ib.orders()"
   ]
  },
  {
   "cell_type": "markdown",
   "id": "e6700ffd",
   "metadata": {},
   "source": [
    "## Order can't be filled."
   ]
  },
  {
   "cell_type": "code",
   "execution_count": null,
   "id": "36fcb755",
   "metadata": {},
   "outputs": [],
   "source": [
    "total_quantity = 2000\n",
    "limit_price = 1.1\n",
    "order = ib_insync.LimitOrder(\"SELL\", total_quantity, limit_price)\n",
    "print(\"order=\", order)"
   ]
  },
  {
   "cell_type": "code",
   "execution_count": null,
   "id": "5a6912b7",
   "metadata": {},
   "outputs": [],
   "source": [
    "# Create a buy order with an irrealistic limit price (too low).\n",
    "print(\"contract=\", contract)\n",
    "total_quantity = 2000\n",
    "price = 0.05\n",
    "order = ib_insync.LimitOrder(\"BUY\", total_quantity, price)\n",
    "# placeOrder is not blocking.\n",
    "trade = ib.placeOrder(contract, order)\n",
    "\n",
    "print_trade(trade)"
   ]
  },
  {
   "cell_type": "code",
   "execution_count": null,
   "id": "2c78bdd2",
   "metadata": {},
   "outputs": [],
   "source": [
    "#print(ib.openTrades())\n",
    "print(trade.orderStatus.status)"
   ]
  },
  {
   "cell_type": "code",
   "execution_count": null,
   "id": "637f4324",
   "metadata": {},
   "outputs": [],
   "source": [
    "print(trade.orderStatus.status)\n",
    "ib.cancelOrder(order)\n",
    "print(trade.orderStatus.status)"
   ]
  },
  {
   "cell_type": "code",
   "execution_count": null,
   "id": "39de8eaf",
   "metadata": {},
   "outputs": [],
   "source": [
    "trade.log"
   ]
  },
  {
   "cell_type": "code",
   "execution_count": null,
   "id": "2b77f2ee",
   "metadata": {},
   "outputs": [],
   "source": [
    "%%time\n",
    "order = ib_insync.MarketOrder(\"BUY\", 100)\n",
    "\n",
    "trade = ib.placeOrder(contract, order)\n",
    "while not trade.isDone():\n",
    "    print(\"status=\", trade.orderStatus.status)\n",
    "    ib.waitOnUpdate()"
   ]
  },
  {
   "cell_type": "code",
   "execution_count": null,
   "id": "4428f5ea",
   "metadata": {},
   "outputs": [],
   "source": [
    "ib.positions()"
   ]
  },
  {
   "cell_type": "code",
   "execution_count": null,
   "id": "0090cfe2",
   "metadata": {},
   "outputs": [],
   "source": [
    "tot_commission = sum(fill.commissionReport.commission for fill in ib.fills())\n",
    "print(tot_commission)"
   ]
  },
  {
   "cell_type": "code",
   "execution_count": null,
   "id": "9fb29557",
   "metadata": {},
   "outputs": [],
   "source": [
    "# See commission and margin impact without sending order.\n",
    "order = ib_insync.MarketOrder('SELL', 20000)\n",
    "order_state = ib.whatIfOrder(contract, order)\n",
    "print(type(order_state))\n",
    "print(order_state)\n",
    "\n",
    "#str(order_state)"
   ]
  },
  {
   "cell_type": "code",
   "execution_count": null,
   "id": "4f8b70bb",
   "metadata": {},
   "outputs": [],
   "source": [
    "order_state.dict()"
   ]
  },
  {
   "cell_type": "markdown",
   "id": "6e528695",
   "metadata": {},
   "source": [
    "# News articles"
   ]
  },
  {
   "cell_type": "code",
   "execution_count": null,
   "id": "1454c9af",
   "metadata": {},
   "outputs": [],
   "source": [
    "newsProviders = ib.reqNewsProviders()\n",
    "print(\"newsProviders=\", newsProviders)\n",
    "codes = '+'.join(np.code for np in newsProviders)\n",
    "\n",
    "#\n",
    "contract = ib_insync.Stock('AMD', 'SMART', 'USD')\n",
    "#contract = ib_insync.Future('ES')\n",
    "ib.qualifyContracts(contract)\n",
    "\n",
    "# reqHistoricalNews(conId, providerCodes, startDateTime, endDateTime, totalResults, historicalNewsOptions=None)\n",
    "startDateTime = ''\n",
    "endDateTime = ''\n",
    "totalResults = 10\n",
    "headlines = ib.reqHistoricalNews(contract.conId, codes, startDateTime, endDateTime, totalResults)\n",
    "\n",
    "print(\"\\nlen(headlines)=\", len(headlines))\n",
    "latest = headlines[0]\n",
    "print(\"\\nheadline=\", latest)\n",
    "\n",
    "# Retrieve the article.\n",
    "article = ib.reqNewsArticle(latest.providerCode, latest.articleId)\n",
    "print(\"\\narticle=\", article)"
   ]
  },
  {
   "cell_type": "markdown",
   "id": "82de9b53",
   "metadata": {},
   "source": [
    "# Scanner"
   ]
  },
  {
   "cell_type": "code",
   "execution_count": null,
   "id": "f43ff155",
   "metadata": {},
   "outputs": [],
   "source": [
    "# TODO"
   ]
  },
  {
   "cell_type": "markdown",
   "id": "c067fec5",
   "metadata": {},
   "source": [
    "# Code recipes"
   ]
  },
  {
   "cell_type": "markdown",
   "id": "32e9f199",
   "metadata": {},
   "source": [
    "## Fetching consecutive data"
   ]
  },
  {
   "cell_type": "code",
   "execution_count": null,
   "id": "867fc82b",
   "metadata": {},
   "outputs": [],
   "source": [
    "# 1 = Live\n",
    "# 2 = Frozen\n",
    "# 3 = Delayed\n",
    "# 4 = Delayed frozen\n",
    "ib.reqMarketDataType(4)\n",
    "\n",
    "if False:\n",
    "    durationStr = '1 Y'\n",
    "    barSizeSetting = '1 day'\n",
    "    #barSizeSetting='1 hour'\n",
    "else:\n",
    "    durationStr = '1 D'\n",
    "    barSizeSetting = '1 hour'\n",
    "\n",
    "if False:\n",
    "    contract = ib_insync.Stock('TSLA', 'SMART', 'USD')\n",
    "    whatToShow = 'TRADES'\n",
    "elif True:\n",
    "    contract = ib_insync.Future('ES', '202109', 'GLOBEX')\n",
    "    whatToShow = 'TRADES'\n",
    "else:\n",
    "    contract = ib_insync.Forex('EURUSD')\n",
    "    whatToShow = 'MIDPOINT'\n",
    "    \n",
    "print(\"contract=\", contract)\n",
    "print(\"whatToShow=\", whatToShow)\n",
    "print(\"durationStr=\", durationStr)\n",
    "print(\"barSizeSetting=\", barSizeSetting)\n",
    "\n",
    "# Get the datetime of earliest available historical data for the contract.\n",
    "ts = ib.reqHeadTimeStamp(contract, whatToShow=whatToShow, useRTH=True)\n",
    "print(\"ts=\", ts)\n",
    "bars = ib.reqHistoricalData(\n",
    "    contract,\n",
    "    endDateTime='',\n",
    "    durationStr=durationStr,\n",
    "    barSizeSetting=barSizeSetting,\n",
    "    whatToShow=whatToShow,\n",
    "    useRTH=True,\n",
    "    formatDate=1)\n",
    "print(\"len(bars)=\", len(bars))"
   ]
  },
  {
   "cell_type": "code",
   "execution_count": null,
   "id": "fc4d4991",
   "metadata": {},
   "outputs": [],
   "source": [
    "#contract = Stock('TSLA', 'SMART', 'USD')\n",
    "contract = ib_insync.Forex(\"EURUSD\")\n",
    "whatToShow = 'MIDPOINT'\n",
    "ts = ib.reqHeadTimeStamp(contract, whatToShow=whatToShow, useRTH=True)\n",
    "print(ts)\n",
    "#assert 0\n",
    "\n",
    "num_iter = 0\n",
    "max_iter = 5\n",
    "dt = ''\n",
    "barsList = []\n",
    "while True:\n",
    "    bars = ib.reqHistoricalData(\n",
    "        contract,\n",
    "        endDateTime=dt,\n",
    "        durationStr='10 D',\n",
    "        barSizeSetting='1 min',\n",
    "        whatToShow='MIDPOINT',\n",
    "        useRTH=False,\n",
    "        formatDate=1)\n",
    "    if not bars:\n",
    "        break\n",
    "    barsList.append(bars)\n",
    "    dt = bars[0].date\n",
    "    print(dt, len(bars))\n",
    "    num_iter += 1\n",
    "    if num_iter > max_iter:\n",
    "        break\n",
    "\n",
    "# save to CSV file\n",
    "allBars = [b for bars in reversed(barsList) for b in bars]\n",
    "df = util.df(allBars)\n",
    "#df.to_csv(contract.symbol + '.csv')"
   ]
  }
 ],
 "metadata": {
  "jupytext": {
   "text_representation": {
    "extension": ".py",
    "format_name": "percent",
    "format_version": "1.3",
    "jupytext_version": "1.4.2"
   }
  },
  "kernelspec": {
   "display_name": "Python 3",
   "language": "python",
   "name": "python3"
  },
  "language_info": {
   "codemirror_mode": {
    "name": "ipython",
    "version": 3
   },
   "file_extension": ".py",
   "mimetype": "text/x-python",
   "name": "python",
   "nbconvert_exporter": "python",
   "pygments_lexer": "ipython3"
  },
  "toc": {
   "base_numbering": 1,
   "nav_menu": {},
   "number_sections": true,
   "sideBar": true,
   "skip_h1_title": false,
   "title_cell": "Table of Contents",
   "title_sidebar": "Contents",
   "toc_cell": false,
   "toc_position": {
    "height": "calc(100% - 180px)",
    "left": "10px",
    "top": "150px",
    "width": "218.188px"
   },
   "toc_section_display": true,
   "toc_window_display": true
  }
 },
 "nbformat": 4,
 "nbformat_minor": 5
}
